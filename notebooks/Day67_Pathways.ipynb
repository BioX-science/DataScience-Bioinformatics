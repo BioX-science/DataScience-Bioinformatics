{
 "cells": [
  {
   "cell_type": "code",
   "execution_count": 260,
   "metadata": {},
   "outputs": [],
   "source": [
    "# imports\n",
    "import pandas as pandas\n",
    "import scipy.stats as stats\n",
    "import numpy as np\n",
    "\n",
    "import copy\n",
    "import random\n",
    "\n",
    "from Bio import SeqIO\n",
    "from Bio.KEGG.REST import *\n",
    "from Bio.KEGG.KGML import KGML_parser\n",
    "from Bio.Graphics.KGML_vis import KGMLCanvas\n",
    "from Bio.Graphics.ColorSpiral import ColorSpiral\n",
    "from IPython.display import Image, HTML"
   ]
  },
  {
   "cell_type": "code",
   "execution_count": 5,
   "metadata": {},
   "outputs": [],
   "source": [
    "# copied from \n",
    "\n",
    "# A bit of code that will help us display the PDF output\n",
    "def PDF(filename):\n",
    "    return HTML('<iframe src=%s width=700 height=350></iframe>' % filename)\n",
    "\n",
    "# A bit of helper code to shorten long text\n",
    "def head(text, lines=10):\n",
    "    \"\"\" Print the first lines lines of the passed text.\n",
    "    \"\"\"\n",
    "    print('\\n'.join(text.split('\\n')[:lines] + ['[...]']))"
   ]
  },
  {
   "cell_type": "markdown",
   "metadata": {},
   "source": [
    "## Task 1: KEGG and gene id mapping"
   ]
  },
  {
   "cell_type": "markdown",
   "metadata": {},
   "source": [
    "Familiarize yourself with the KEGG Rest interface and how to access it with Biopyhton:\n",
    "\n",
    "http://www.genome.jp/kegg/rest/keggapi.html\n",
    "\n",
    "http://nbviewer.jupyter.org/github/widdowquinn/notebooks/blob/master/Biopython_KGML_intro.ipynb"
   ]
  },
  {
   "cell_type": "markdown",
   "metadata": {},
   "source": [
    "### Subtask 1.1 Extract gene lists for all (mouse) KEGG pathways and store them in a suitable Python data structure"
   ]
  },
  {
   "cell_type": "code",
   "execution_count": 123,
   "metadata": {},
   "outputs": [],
   "source": [
    "# download mus musculus pathways\n",
    "mus_musculus_pathways = kegg_list(\"pathway\", \"mmu\").read()\n",
    "\n",
    "# convert into DataFrame\n",
    "# pathway line format:\n",
    "# path:<id>\\t<description>\\n\n",
    "df = pandas.DataFrame([line.replace(':', '\\t', 1).split('\\t') for line in mus_musculus_pathways.split('\\n')], columns = ['Org', 'ID', 'Description'])\n",
    "\n",
    "# remove last row containing 'NaN'\n",
    "df = df[:-1]\n",
    "\n",
    "# set index\n",
    "df.set_index('ID', inplace=True)\n",
    "\n"
   ]
  },
  {
   "cell_type": "code",
   "execution_count": 124,
   "metadata": {},
   "outputs": [
    {
     "data": {
      "text/html": [
       "<div>\n",
       "<style scoped>\n",
       "    .dataframe tbody tr th:only-of-type {\n",
       "        vertical-align: middle;\n",
       "    }\n",
       "\n",
       "    .dataframe tbody tr th {\n",
       "        vertical-align: top;\n",
       "    }\n",
       "\n",
       "    .dataframe thead th {\n",
       "        text-align: right;\n",
       "    }\n",
       "</style>\n",
       "<table border=\"1\" class=\"dataframe\">\n",
       "  <thead>\n",
       "    <tr style=\"text-align: right;\">\n",
       "      <th></th>\n",
       "      <th>Org</th>\n",
       "      <th>Description</th>\n",
       "    </tr>\n",
       "    <tr>\n",
       "      <th>ID</th>\n",
       "      <th></th>\n",
       "      <th></th>\n",
       "    </tr>\n",
       "  </thead>\n",
       "  <tbody>\n",
       "    <tr>\n",
       "      <th>mmu00010</th>\n",
       "      <td>path</td>\n",
       "      <td>Glycolysis / Gluconeogenesis - Mus musculus (m...</td>\n",
       "    </tr>\n",
       "    <tr>\n",
       "      <th>mmu00020</th>\n",
       "      <td>path</td>\n",
       "      <td>Citrate cycle (TCA cycle) - Mus musculus (mouse)</td>\n",
       "    </tr>\n",
       "    <tr>\n",
       "      <th>mmu00030</th>\n",
       "      <td>path</td>\n",
       "      <td>Pentose phosphate pathway - Mus musculus (mouse)</td>\n",
       "    </tr>\n",
       "    <tr>\n",
       "      <th>mmu00040</th>\n",
       "      <td>path</td>\n",
       "      <td>Pentose and glucuronate interconversions - Mus...</td>\n",
       "    </tr>\n",
       "    <tr>\n",
       "      <th>mmu00051</th>\n",
       "      <td>path</td>\n",
       "      <td>Fructose and mannose metabolism - Mus musculus...</td>\n",
       "    </tr>\n",
       "  </tbody>\n",
       "</table>\n",
       "</div>"
      ],
      "text/plain": [
       "           Org                                        Description\n",
       "ID                                                               \n",
       "mmu00010  path  Glycolysis / Gluconeogenesis - Mus musculus (m...\n",
       "mmu00020  path   Citrate cycle (TCA cycle) - Mus musculus (mouse)\n",
       "mmu00030  path   Pentose phosphate pathway - Mus musculus (mouse)\n",
       "mmu00040  path  Pentose and glucuronate interconversions - Mus...\n",
       "mmu00051  path  Fructose and mannose metabolism - Mus musculus..."
      ]
     },
     "execution_count": 124,
     "metadata": {},
     "output_type": "execute_result"
    }
   ],
   "source": [
    "df.head()"
   ]
  },
  {
   "cell_type": "code",
   "execution_count": 189,
   "metadata": {},
   "outputs": [],
   "source": [
    "# get genes of its corresponding pathway\n",
    "\n",
    "def getGenes(entry):\n",
    "    \"\"\"\n",
    "    Parses a KEGG database entry and returns all genes in this entry\n",
    "    as a list.\n",
    "    \"\"\"\n",
    "    \n",
    "    # gene list is parsed or not\n",
    "    readGenes = False\n",
    "    \n",
    "    # list of genes correspond to pathway\n",
    "    genes = []\n",
    "\n",
    "    for line in entry.split('\\n'):\n",
    "        if line.startswith('GENE'):\n",
    "            readGenes=True\n",
    "        if line.startswith('COMPOUND'):\n",
    "            # all genes parsed\n",
    "            readGenes=False\n",
    "        if readGenes:\n",
    "            '''\n",
    "            Every line in GENES has the format\n",
    "            \n",
    "            <id number>    <gene symbol>;  <anything else>\n",
    "            \n",
    "            For the first line the identifier GENE has to be removed. Then for every line\n",
    "            remove the ';' delimiter, split the line at whitespaces and, if the length of\n",
    "            the resulting list is > 2 (i.e. contains genes), take the second entry (gene symbol).\n",
    "            '''\n",
    "            \n",
    "            # while gene entry is parsed, split entries and get gene id\n",
    "            entries_list = line.replace('GENE', '').replace(';', '').split()\n",
    "            if len(entries_list) > 2:\n",
    "                genes.append(entries_list[1])\n",
    "    \n",
    "    return genes"
   ]
  },
  {
   "cell_type": "code",
   "execution_count": 236,
   "metadata": {},
   "outputs": [
    {
     "ename": "KeyboardInterrupt",
     "evalue": "",
     "output_type": "error",
     "traceback": [
      "\u001b[0;31m---------------------------------------------------------------------------\u001b[0m",
      "\u001b[0;31mKeyboardInterrupt\u001b[0m                         Traceback (most recent call last)",
      "\u001b[0;32m<ipython-input-236-e699b357f24b>\u001b[0m in \u001b[0;36m<module>\u001b[0;34m()\u001b[0m\n\u001b[1;32m      1\u001b[0m \u001b[0;31m# get dict of all genes to its corresponding pathway\u001b[0m\u001b[0;34m\u001b[0m\u001b[0;34m\u001b[0m\u001b[0m\n\u001b[0;32m----> 2\u001b[0;31m \u001b[0mgene_set\u001b[0m \u001b[0;34m=\u001b[0m \u001b[0;34m{\u001b[0m\u001b[0mpathway\u001b[0m\u001b[0;34m:\u001b[0m\u001b[0mgetGenes\u001b[0m\u001b[0;34m(\u001b[0m\u001b[0mkegg_get\u001b[0m\u001b[0;34m(\u001b[0m\u001b[0mpathway\u001b[0m\u001b[0;34m)\u001b[0m\u001b[0;34m.\u001b[0m\u001b[0mread\u001b[0m\u001b[0;34m(\u001b[0m\u001b[0;34m)\u001b[0m\u001b[0;34m)\u001b[0m \u001b[0;32mfor\u001b[0m \u001b[0mpathway\u001b[0m \u001b[0;32min\u001b[0m \u001b[0mdf\u001b[0m\u001b[0;34m.\u001b[0m\u001b[0mindex\u001b[0m\u001b[0;34m}\u001b[0m\u001b[0;34m\u001b[0m\u001b[0m\n\u001b[0m\u001b[1;32m      3\u001b[0m \u001b[0;34m\u001b[0m\u001b[0m\n\u001b[1;32m      4\u001b[0m \u001b[0mgene_set\u001b[0m\u001b[0;34m\u001b[0m\u001b[0m\n",
      "\u001b[0;32m<ipython-input-236-e699b357f24b>\u001b[0m in \u001b[0;36m<dictcomp>\u001b[0;34m(.0)\u001b[0m\n\u001b[1;32m      1\u001b[0m \u001b[0;31m# get dict of all genes to its corresponding pathway\u001b[0m\u001b[0;34m\u001b[0m\u001b[0;34m\u001b[0m\u001b[0m\n\u001b[0;32m----> 2\u001b[0;31m \u001b[0mgene_set\u001b[0m \u001b[0;34m=\u001b[0m \u001b[0;34m{\u001b[0m\u001b[0mpathway\u001b[0m\u001b[0;34m:\u001b[0m\u001b[0mgetGenes\u001b[0m\u001b[0;34m(\u001b[0m\u001b[0mkegg_get\u001b[0m\u001b[0;34m(\u001b[0m\u001b[0mpathway\u001b[0m\u001b[0;34m)\u001b[0m\u001b[0;34m.\u001b[0m\u001b[0mread\u001b[0m\u001b[0;34m(\u001b[0m\u001b[0;34m)\u001b[0m\u001b[0;34m)\u001b[0m \u001b[0;32mfor\u001b[0m \u001b[0mpathway\u001b[0m \u001b[0;32min\u001b[0m \u001b[0mdf\u001b[0m\u001b[0;34m.\u001b[0m\u001b[0mindex\u001b[0m\u001b[0;34m}\u001b[0m\u001b[0;34m\u001b[0m\u001b[0m\n\u001b[0m\u001b[1;32m      3\u001b[0m \u001b[0;34m\u001b[0m\u001b[0m\n\u001b[1;32m      4\u001b[0m \u001b[0mgene_set\u001b[0m\u001b[0;34m\u001b[0m\u001b[0m\n",
      "\u001b[0;32m/anaconda3/lib/python3.6/site-packages/Bio/KEGG/REST.py\u001b[0m in \u001b[0;36mkegg_get\u001b[0;34m(dbentries, option)\u001b[0m\n\u001b[1;32m    195\u001b[0m         \u001b[0;32mraise\u001b[0m \u001b[0mException\u001b[0m\u001b[0;34m(\u001b[0m\u001b[0;34m\"Invalid option arg for kegg get request.\"\u001b[0m\u001b[0;34m)\u001b[0m\u001b[0;34m\u001b[0m\u001b[0m\n\u001b[1;32m    196\u001b[0m     \u001b[0;32melse\u001b[0m\u001b[0;34m:\u001b[0m\u001b[0;34m\u001b[0m\u001b[0m\n\u001b[0;32m--> 197\u001b[0;31m         \u001b[0mresp\u001b[0m \u001b[0;34m=\u001b[0m \u001b[0m_q\u001b[0m\u001b[0;34m(\u001b[0m\u001b[0;34m\"get\"\u001b[0m\u001b[0;34m,\u001b[0m \u001b[0mdbentries\u001b[0m\u001b[0;34m)\u001b[0m\u001b[0;34m\u001b[0m\u001b[0m\n\u001b[0m\u001b[1;32m    198\u001b[0m \u001b[0;34m\u001b[0m\u001b[0m\n\u001b[1;32m    199\u001b[0m     \u001b[0;32mreturn\u001b[0m \u001b[0mresp\u001b[0m\u001b[0;34m\u001b[0m\u001b[0m\n",
      "\u001b[0;32m/anaconda3/lib/python3.6/site-packages/Bio/KEGG/REST.py\u001b[0m in \u001b[0;36m_q\u001b[0;34m(op, arg1, arg2, arg3)\u001b[0m\n\u001b[1;32m     40\u001b[0m     \u001b[0;32melse\u001b[0m\u001b[0;34m:\u001b[0m\u001b[0;34m\u001b[0m\u001b[0m\n\u001b[1;32m     41\u001b[0m         \u001b[0margs\u001b[0m \u001b[0;34m=\u001b[0m \u001b[0;34m\"%s/%s\"\u001b[0m \u001b[0;34m%\u001b[0m \u001b[0;34m(\u001b[0m\u001b[0mop\u001b[0m\u001b[0;34m,\u001b[0m \u001b[0marg1\u001b[0m\u001b[0;34m)\u001b[0m\u001b[0;34m\u001b[0m\u001b[0m\n\u001b[0;32m---> 42\u001b[0;31m     \u001b[0mresp\u001b[0m \u001b[0;34m=\u001b[0m \u001b[0m_urlopen\u001b[0m\u001b[0;34m(\u001b[0m\u001b[0mURL\u001b[0m \u001b[0;34m%\u001b[0m \u001b[0;34m(\u001b[0m\u001b[0margs\u001b[0m\u001b[0;34m)\u001b[0m\u001b[0;34m)\u001b[0m\u001b[0;34m\u001b[0m\u001b[0m\n\u001b[0m\u001b[1;32m     43\u001b[0m \u001b[0;34m\u001b[0m\u001b[0m\n\u001b[1;32m     44\u001b[0m     \u001b[0;32mif\u001b[0m \u001b[0;34m\"image\"\u001b[0m \u001b[0;34m==\u001b[0m \u001b[0marg2\u001b[0m\u001b[0;34m:\u001b[0m\u001b[0;34m\u001b[0m\u001b[0m\n",
      "\u001b[0;32m/anaconda3/lib/python3.6/urllib/request.py\u001b[0m in \u001b[0;36murlopen\u001b[0;34m(url, data, timeout, cafile, capath, cadefault, context)\u001b[0m\n\u001b[1;32m    221\u001b[0m     \u001b[0;32melse\u001b[0m\u001b[0;34m:\u001b[0m\u001b[0;34m\u001b[0m\u001b[0m\n\u001b[1;32m    222\u001b[0m         \u001b[0mopener\u001b[0m \u001b[0;34m=\u001b[0m \u001b[0m_opener\u001b[0m\u001b[0;34m\u001b[0m\u001b[0m\n\u001b[0;32m--> 223\u001b[0;31m     \u001b[0;32mreturn\u001b[0m \u001b[0mopener\u001b[0m\u001b[0;34m.\u001b[0m\u001b[0mopen\u001b[0m\u001b[0;34m(\u001b[0m\u001b[0murl\u001b[0m\u001b[0;34m,\u001b[0m \u001b[0mdata\u001b[0m\u001b[0;34m,\u001b[0m \u001b[0mtimeout\u001b[0m\u001b[0;34m)\u001b[0m\u001b[0;34m\u001b[0m\u001b[0m\n\u001b[0m\u001b[1;32m    224\u001b[0m \u001b[0;34m\u001b[0m\u001b[0m\n\u001b[1;32m    225\u001b[0m \u001b[0;32mdef\u001b[0m \u001b[0minstall_opener\u001b[0m\u001b[0;34m(\u001b[0m\u001b[0mopener\u001b[0m\u001b[0;34m)\u001b[0m\u001b[0;34m:\u001b[0m\u001b[0;34m\u001b[0m\u001b[0m\n",
      "\u001b[0;32m/anaconda3/lib/python3.6/urllib/request.py\u001b[0m in \u001b[0;36mopen\u001b[0;34m(self, fullurl, data, timeout)\u001b[0m\n\u001b[1;32m    524\u001b[0m             \u001b[0mreq\u001b[0m \u001b[0;34m=\u001b[0m \u001b[0mmeth\u001b[0m\u001b[0;34m(\u001b[0m\u001b[0mreq\u001b[0m\u001b[0;34m)\u001b[0m\u001b[0;34m\u001b[0m\u001b[0m\n\u001b[1;32m    525\u001b[0m \u001b[0;34m\u001b[0m\u001b[0m\n\u001b[0;32m--> 526\u001b[0;31m         \u001b[0mresponse\u001b[0m \u001b[0;34m=\u001b[0m \u001b[0mself\u001b[0m\u001b[0;34m.\u001b[0m\u001b[0m_open\u001b[0m\u001b[0;34m(\u001b[0m\u001b[0mreq\u001b[0m\u001b[0;34m,\u001b[0m \u001b[0mdata\u001b[0m\u001b[0;34m)\u001b[0m\u001b[0;34m\u001b[0m\u001b[0m\n\u001b[0m\u001b[1;32m    527\u001b[0m \u001b[0;34m\u001b[0m\u001b[0m\n\u001b[1;32m    528\u001b[0m         \u001b[0;31m# post-process response\u001b[0m\u001b[0;34m\u001b[0m\u001b[0;34m\u001b[0m\u001b[0m\n",
      "\u001b[0;32m/anaconda3/lib/python3.6/urllib/request.py\u001b[0m in \u001b[0;36m_open\u001b[0;34m(self, req, data)\u001b[0m\n\u001b[1;32m    542\u001b[0m         \u001b[0mprotocol\u001b[0m \u001b[0;34m=\u001b[0m \u001b[0mreq\u001b[0m\u001b[0;34m.\u001b[0m\u001b[0mtype\u001b[0m\u001b[0;34m\u001b[0m\u001b[0m\n\u001b[1;32m    543\u001b[0m         result = self._call_chain(self.handle_open, protocol, protocol +\n\u001b[0;32m--> 544\u001b[0;31m                                   '_open', req)\n\u001b[0m\u001b[1;32m    545\u001b[0m         \u001b[0;32mif\u001b[0m \u001b[0mresult\u001b[0m\u001b[0;34m:\u001b[0m\u001b[0;34m\u001b[0m\u001b[0m\n\u001b[1;32m    546\u001b[0m             \u001b[0;32mreturn\u001b[0m \u001b[0mresult\u001b[0m\u001b[0;34m\u001b[0m\u001b[0m\n",
      "\u001b[0;32m/anaconda3/lib/python3.6/urllib/request.py\u001b[0m in \u001b[0;36m_call_chain\u001b[0;34m(self, chain, kind, meth_name, *args)\u001b[0m\n\u001b[1;32m    502\u001b[0m         \u001b[0;32mfor\u001b[0m \u001b[0mhandler\u001b[0m \u001b[0;32min\u001b[0m \u001b[0mhandlers\u001b[0m\u001b[0;34m:\u001b[0m\u001b[0;34m\u001b[0m\u001b[0m\n\u001b[1;32m    503\u001b[0m             \u001b[0mfunc\u001b[0m \u001b[0;34m=\u001b[0m \u001b[0mgetattr\u001b[0m\u001b[0;34m(\u001b[0m\u001b[0mhandler\u001b[0m\u001b[0;34m,\u001b[0m \u001b[0mmeth_name\u001b[0m\u001b[0;34m)\u001b[0m\u001b[0;34m\u001b[0m\u001b[0m\n\u001b[0;32m--> 504\u001b[0;31m             \u001b[0mresult\u001b[0m \u001b[0;34m=\u001b[0m \u001b[0mfunc\u001b[0m\u001b[0;34m(\u001b[0m\u001b[0;34m*\u001b[0m\u001b[0margs\u001b[0m\u001b[0;34m)\u001b[0m\u001b[0;34m\u001b[0m\u001b[0m\n\u001b[0m\u001b[1;32m    505\u001b[0m             \u001b[0;32mif\u001b[0m \u001b[0mresult\u001b[0m \u001b[0;32mis\u001b[0m \u001b[0;32mnot\u001b[0m \u001b[0;32mNone\u001b[0m\u001b[0;34m:\u001b[0m\u001b[0;34m\u001b[0m\u001b[0m\n\u001b[1;32m    506\u001b[0m                 \u001b[0;32mreturn\u001b[0m \u001b[0mresult\u001b[0m\u001b[0;34m\u001b[0m\u001b[0m\n",
      "\u001b[0;32m/anaconda3/lib/python3.6/urllib/request.py\u001b[0m in \u001b[0;36mhttp_open\u001b[0;34m(self, req)\u001b[0m\n\u001b[1;32m   1344\u001b[0m \u001b[0;34m\u001b[0m\u001b[0m\n\u001b[1;32m   1345\u001b[0m     \u001b[0;32mdef\u001b[0m \u001b[0mhttp_open\u001b[0m\u001b[0;34m(\u001b[0m\u001b[0mself\u001b[0m\u001b[0;34m,\u001b[0m \u001b[0mreq\u001b[0m\u001b[0;34m)\u001b[0m\u001b[0;34m:\u001b[0m\u001b[0;34m\u001b[0m\u001b[0m\n\u001b[0;32m-> 1346\u001b[0;31m         \u001b[0;32mreturn\u001b[0m \u001b[0mself\u001b[0m\u001b[0;34m.\u001b[0m\u001b[0mdo_open\u001b[0m\u001b[0;34m(\u001b[0m\u001b[0mhttp\u001b[0m\u001b[0;34m.\u001b[0m\u001b[0mclient\u001b[0m\u001b[0;34m.\u001b[0m\u001b[0mHTTPConnection\u001b[0m\u001b[0;34m,\u001b[0m \u001b[0mreq\u001b[0m\u001b[0;34m)\u001b[0m\u001b[0;34m\u001b[0m\u001b[0m\n\u001b[0m\u001b[1;32m   1347\u001b[0m \u001b[0;34m\u001b[0m\u001b[0m\n\u001b[1;32m   1348\u001b[0m     \u001b[0mhttp_request\u001b[0m \u001b[0;34m=\u001b[0m \u001b[0mAbstractHTTPHandler\u001b[0m\u001b[0;34m.\u001b[0m\u001b[0mdo_request_\u001b[0m\u001b[0;34m\u001b[0m\u001b[0m\n",
      "\u001b[0;32m/anaconda3/lib/python3.6/urllib/request.py\u001b[0m in \u001b[0;36mdo_open\u001b[0;34m(self, http_class, req, **http_conn_args)\u001b[0m\n\u001b[1;32m   1319\u001b[0m             \u001b[0;32mexcept\u001b[0m \u001b[0mOSError\u001b[0m \u001b[0;32mas\u001b[0m \u001b[0merr\u001b[0m\u001b[0;34m:\u001b[0m \u001b[0;31m# timeout error\u001b[0m\u001b[0;34m\u001b[0m\u001b[0m\n\u001b[1;32m   1320\u001b[0m                 \u001b[0;32mraise\u001b[0m \u001b[0mURLError\u001b[0m\u001b[0;34m(\u001b[0m\u001b[0merr\u001b[0m\u001b[0;34m)\u001b[0m\u001b[0;34m\u001b[0m\u001b[0m\n\u001b[0;32m-> 1321\u001b[0;31m             \u001b[0mr\u001b[0m \u001b[0;34m=\u001b[0m \u001b[0mh\u001b[0m\u001b[0;34m.\u001b[0m\u001b[0mgetresponse\u001b[0m\u001b[0;34m(\u001b[0m\u001b[0;34m)\u001b[0m\u001b[0;34m\u001b[0m\u001b[0m\n\u001b[0m\u001b[1;32m   1322\u001b[0m         \u001b[0;32mexcept\u001b[0m\u001b[0;34m:\u001b[0m\u001b[0;34m\u001b[0m\u001b[0m\n\u001b[1;32m   1323\u001b[0m             \u001b[0mh\u001b[0m\u001b[0;34m.\u001b[0m\u001b[0mclose\u001b[0m\u001b[0;34m(\u001b[0m\u001b[0;34m)\u001b[0m\u001b[0;34m\u001b[0m\u001b[0m\n",
      "\u001b[0;32m/anaconda3/lib/python3.6/http/client.py\u001b[0m in \u001b[0;36mgetresponse\u001b[0;34m(self)\u001b[0m\n\u001b[1;32m   1329\u001b[0m         \u001b[0;32mtry\u001b[0m\u001b[0;34m:\u001b[0m\u001b[0;34m\u001b[0m\u001b[0m\n\u001b[1;32m   1330\u001b[0m             \u001b[0;32mtry\u001b[0m\u001b[0;34m:\u001b[0m\u001b[0;34m\u001b[0m\u001b[0m\n\u001b[0;32m-> 1331\u001b[0;31m                 \u001b[0mresponse\u001b[0m\u001b[0;34m.\u001b[0m\u001b[0mbegin\u001b[0m\u001b[0;34m(\u001b[0m\u001b[0;34m)\u001b[0m\u001b[0;34m\u001b[0m\u001b[0m\n\u001b[0m\u001b[1;32m   1332\u001b[0m             \u001b[0;32mexcept\u001b[0m \u001b[0mConnectionError\u001b[0m\u001b[0;34m:\u001b[0m\u001b[0;34m\u001b[0m\u001b[0m\n\u001b[1;32m   1333\u001b[0m                 \u001b[0mself\u001b[0m\u001b[0;34m.\u001b[0m\u001b[0mclose\u001b[0m\u001b[0;34m(\u001b[0m\u001b[0;34m)\u001b[0m\u001b[0;34m\u001b[0m\u001b[0m\n",
      "\u001b[0;32m/anaconda3/lib/python3.6/http/client.py\u001b[0m in \u001b[0;36mbegin\u001b[0;34m(self)\u001b[0m\n\u001b[1;32m    295\u001b[0m         \u001b[0;31m# read until we get a non-100 response\u001b[0m\u001b[0;34m\u001b[0m\u001b[0;34m\u001b[0m\u001b[0m\n\u001b[1;32m    296\u001b[0m         \u001b[0;32mwhile\u001b[0m \u001b[0;32mTrue\u001b[0m\u001b[0;34m:\u001b[0m\u001b[0;34m\u001b[0m\u001b[0m\n\u001b[0;32m--> 297\u001b[0;31m             \u001b[0mversion\u001b[0m\u001b[0;34m,\u001b[0m \u001b[0mstatus\u001b[0m\u001b[0;34m,\u001b[0m \u001b[0mreason\u001b[0m \u001b[0;34m=\u001b[0m \u001b[0mself\u001b[0m\u001b[0;34m.\u001b[0m\u001b[0m_read_status\u001b[0m\u001b[0;34m(\u001b[0m\u001b[0;34m)\u001b[0m\u001b[0;34m\u001b[0m\u001b[0m\n\u001b[0m\u001b[1;32m    298\u001b[0m             \u001b[0;32mif\u001b[0m \u001b[0mstatus\u001b[0m \u001b[0;34m!=\u001b[0m \u001b[0mCONTINUE\u001b[0m\u001b[0;34m:\u001b[0m\u001b[0;34m\u001b[0m\u001b[0m\n\u001b[1;32m    299\u001b[0m                 \u001b[0;32mbreak\u001b[0m\u001b[0;34m\u001b[0m\u001b[0m\n",
      "\u001b[0;32m/anaconda3/lib/python3.6/http/client.py\u001b[0m in \u001b[0;36m_read_status\u001b[0;34m(self)\u001b[0m\n\u001b[1;32m    256\u001b[0m \u001b[0;34m\u001b[0m\u001b[0m\n\u001b[1;32m    257\u001b[0m     \u001b[0;32mdef\u001b[0m \u001b[0m_read_status\u001b[0m\u001b[0;34m(\u001b[0m\u001b[0mself\u001b[0m\u001b[0;34m)\u001b[0m\u001b[0;34m:\u001b[0m\u001b[0;34m\u001b[0m\u001b[0m\n\u001b[0;32m--> 258\u001b[0;31m         \u001b[0mline\u001b[0m \u001b[0;34m=\u001b[0m \u001b[0mstr\u001b[0m\u001b[0;34m(\u001b[0m\u001b[0mself\u001b[0m\u001b[0;34m.\u001b[0m\u001b[0mfp\u001b[0m\u001b[0;34m.\u001b[0m\u001b[0mreadline\u001b[0m\u001b[0;34m(\u001b[0m\u001b[0m_MAXLINE\u001b[0m \u001b[0;34m+\u001b[0m \u001b[0;36m1\u001b[0m\u001b[0;34m)\u001b[0m\u001b[0;34m,\u001b[0m \u001b[0;34m\"iso-8859-1\"\u001b[0m\u001b[0;34m)\u001b[0m\u001b[0;34m\u001b[0m\u001b[0m\n\u001b[0m\u001b[1;32m    259\u001b[0m         \u001b[0;32mif\u001b[0m \u001b[0mlen\u001b[0m\u001b[0;34m(\u001b[0m\u001b[0mline\u001b[0m\u001b[0;34m)\u001b[0m \u001b[0;34m>\u001b[0m \u001b[0m_MAXLINE\u001b[0m\u001b[0;34m:\u001b[0m\u001b[0;34m\u001b[0m\u001b[0m\n\u001b[1;32m    260\u001b[0m             \u001b[0;32mraise\u001b[0m \u001b[0mLineTooLong\u001b[0m\u001b[0;34m(\u001b[0m\u001b[0;34m\"status line\"\u001b[0m\u001b[0;34m)\u001b[0m\u001b[0;34m\u001b[0m\u001b[0m\n",
      "\u001b[0;32m/anaconda3/lib/python3.6/socket.py\u001b[0m in \u001b[0;36mreadinto\u001b[0;34m(self, b)\u001b[0m\n\u001b[1;32m    584\u001b[0m         \u001b[0;32mwhile\u001b[0m \u001b[0;32mTrue\u001b[0m\u001b[0;34m:\u001b[0m\u001b[0;34m\u001b[0m\u001b[0m\n\u001b[1;32m    585\u001b[0m             \u001b[0;32mtry\u001b[0m\u001b[0;34m:\u001b[0m\u001b[0;34m\u001b[0m\u001b[0m\n\u001b[0;32m--> 586\u001b[0;31m                 \u001b[0;32mreturn\u001b[0m \u001b[0mself\u001b[0m\u001b[0;34m.\u001b[0m\u001b[0m_sock\u001b[0m\u001b[0;34m.\u001b[0m\u001b[0mrecv_into\u001b[0m\u001b[0;34m(\u001b[0m\u001b[0mb\u001b[0m\u001b[0;34m)\u001b[0m\u001b[0;34m\u001b[0m\u001b[0m\n\u001b[0m\u001b[1;32m    587\u001b[0m             \u001b[0;32mexcept\u001b[0m \u001b[0mtimeout\u001b[0m\u001b[0;34m:\u001b[0m\u001b[0;34m\u001b[0m\u001b[0m\n\u001b[1;32m    588\u001b[0m                 \u001b[0mself\u001b[0m\u001b[0;34m.\u001b[0m\u001b[0m_timeout_occurred\u001b[0m \u001b[0;34m=\u001b[0m \u001b[0;32mTrue\u001b[0m\u001b[0;34m\u001b[0m\u001b[0m\n",
      "\u001b[0;31mKeyboardInterrupt\u001b[0m: "
     ]
    }
   ],
   "source": [
    "# get dict of all genes to its corresponding pathway\n",
    "gene_set = {pathway:getGenes(kegg_get(pathway).read()) for pathway in df.index}\n",
    "\n",
    "# gene_set is now a dictionary with following entries:\n",
    "# {'mmu00010': ['Hk2', 'Hk3', 'Hk1', 'Hkdc1', 'Gck', ...], 'mmu00020':[...], ...}"
   ]
  },
  {
   "cell_type": "markdown",
   "metadata": {},
   "source": [
    "### Subtask 1.2: Save the KEGG gene sets as a gmt file after you made sure they have the proper gene ids with respect to your DE analysis"
   ]
  },
  {
   "cell_type": "markdown",
   "metadata": {},
   "source": [
    "hints: \n",
    "\n",
    "http://www.broadinstitute.org/cancer/software/gsea/wiki/index.php/Data_formats"
   ]
  },
  {
   "cell_type": "code",
   "execution_count": 261,
   "metadata": {},
   "outputs": [
    {
     "data": {
      "text/html": [
       "<div>\n",
       "<style scoped>\n",
       "    .dataframe tbody tr th:only-of-type {\n",
       "        vertical-align: middle;\n",
       "    }\n",
       "\n",
       "    .dataframe tbody tr th {\n",
       "        vertical-align: top;\n",
       "    }\n",
       "\n",
       "    .dataframe thead th {\n",
       "        text-align: right;\n",
       "    }\n",
       "</style>\n",
       "<table border=\"1\" class=\"dataframe\">\n",
       "  <thead>\n",
       "    <tr style=\"text-align: right;\">\n",
       "      <th></th>\n",
       "      <th>0</th>\n",
       "      <th>1</th>\n",
       "      <th>2</th>\n",
       "      <th>3</th>\n",
       "      <th>4</th>\n",
       "      <th>5</th>\n",
       "      <th>6</th>\n",
       "      <th>7</th>\n",
       "      <th>8</th>\n",
       "      <th>9</th>\n",
       "      <th>...</th>\n",
       "      <th>1114</th>\n",
       "      <th>1115</th>\n",
       "      <th>1116</th>\n",
       "      <th>1117</th>\n",
       "      <th>1118</th>\n",
       "      <th>1119</th>\n",
       "      <th>1120</th>\n",
       "      <th>1121</th>\n",
       "      <th>1122</th>\n",
       "      <th>1123</th>\n",
       "    </tr>\n",
       "  </thead>\n",
       "  <tbody>\n",
       "    <tr>\n",
       "      <th>mmu00010</th>\n",
       "      <td>path</td>\n",
       "      <td>Glycolysis / Gluconeogenesis - Mus musculus (m...</td>\n",
       "      <td>Hk2</td>\n",
       "      <td>Hk3</td>\n",
       "      <td>Hk1</td>\n",
       "      <td>Hkdc1</td>\n",
       "      <td>Gck</td>\n",
       "      <td>Gpi1</td>\n",
       "      <td>Pfkl</td>\n",
       "      <td>Pfkm</td>\n",
       "      <td>...</td>\n",
       "      <td>None</td>\n",
       "      <td>None</td>\n",
       "      <td>None</td>\n",
       "      <td>None</td>\n",
       "      <td>None</td>\n",
       "      <td>None</td>\n",
       "      <td>None</td>\n",
       "      <td>None</td>\n",
       "      <td>None</td>\n",
       "      <td>None</td>\n",
       "    </tr>\n",
       "    <tr>\n",
       "      <th>mmu00020</th>\n",
       "      <td>path</td>\n",
       "      <td>Citrate cycle (TCA cycle) - Mus musculus (mouse)</td>\n",
       "      <td>Cs</td>\n",
       "      <td>Csl</td>\n",
       "      <td>Acly</td>\n",
       "      <td>Aco2</td>\n",
       "      <td>Aco1</td>\n",
       "      <td>Idh1</td>\n",
       "      <td>Idh2</td>\n",
       "      <td>Idh3g</td>\n",
       "      <td>...</td>\n",
       "      <td>None</td>\n",
       "      <td>None</td>\n",
       "      <td>None</td>\n",
       "      <td>None</td>\n",
       "      <td>None</td>\n",
       "      <td>None</td>\n",
       "      <td>None</td>\n",
       "      <td>None</td>\n",
       "      <td>None</td>\n",
       "      <td>None</td>\n",
       "    </tr>\n",
       "    <tr>\n",
       "      <th>mmu00030</th>\n",
       "      <td>path</td>\n",
       "      <td>Pentose phosphate pathway - Mus musculus (mouse)</td>\n",
       "      <td>Gpi1</td>\n",
       "      <td>G6pd2</td>\n",
       "      <td>G6pdx</td>\n",
       "      <td>Pgls</td>\n",
       "      <td>H6pd</td>\n",
       "      <td>Pgd</td>\n",
       "      <td>Rpe</td>\n",
       "      <td>Tkt</td>\n",
       "      <td>...</td>\n",
       "      <td>None</td>\n",
       "      <td>None</td>\n",
       "      <td>None</td>\n",
       "      <td>None</td>\n",
       "      <td>None</td>\n",
       "      <td>None</td>\n",
       "      <td>None</td>\n",
       "      <td>None</td>\n",
       "      <td>None</td>\n",
       "      <td>None</td>\n",
       "    </tr>\n",
       "    <tr>\n",
       "      <th>mmu00040</th>\n",
       "      <td>path</td>\n",
       "      <td>Pentose and glucuronate interconversions - Mus...</td>\n",
       "      <td>Gusb</td>\n",
       "      <td>Kl</td>\n",
       "      <td>Ugt2b5</td>\n",
       "      <td>Ugt1a2</td>\n",
       "      <td>Ugt1a6a</td>\n",
       "      <td>Ugt2a1</td>\n",
       "      <td>Ugt1a9</td>\n",
       "      <td>Ugt1a10</td>\n",
       "      <td>...</td>\n",
       "      <td>None</td>\n",
       "      <td>None</td>\n",
       "      <td>None</td>\n",
       "      <td>None</td>\n",
       "      <td>None</td>\n",
       "      <td>None</td>\n",
       "      <td>None</td>\n",
       "      <td>None</td>\n",
       "      <td>None</td>\n",
       "      <td>None</td>\n",
       "    </tr>\n",
       "    <tr>\n",
       "      <th>mmu00051</th>\n",
       "      <td>path</td>\n",
       "      <td>Fructose and mannose metabolism - Mus musculus...</td>\n",
       "      <td>Mpi</td>\n",
       "      <td>Pmm2</td>\n",
       "      <td>Pmm1</td>\n",
       "      <td>Gmppb</td>\n",
       "      <td>Gmppa</td>\n",
       "      <td>Gmds</td>\n",
       "      <td>Tsta3</td>\n",
       "      <td>Fpgt</td>\n",
       "      <td>...</td>\n",
       "      <td>None</td>\n",
       "      <td>None</td>\n",
       "      <td>None</td>\n",
       "      <td>None</td>\n",
       "      <td>None</td>\n",
       "      <td>None</td>\n",
       "      <td>None</td>\n",
       "      <td>None</td>\n",
       "      <td>None</td>\n",
       "      <td>None</td>\n",
       "    </tr>\n",
       "  </tbody>\n",
       "</table>\n",
       "<p>5 rows × 1124 columns</p>\n",
       "</div>"
      ],
      "text/plain": [
       "          0                                                  1     2     \\\n",
       "mmu00010  path  Glycolysis / Gluconeogenesis - Mus musculus (m...   Hk2   \n",
       "mmu00020  path   Citrate cycle (TCA cycle) - Mus musculus (mouse)    Cs   \n",
       "mmu00030  path   Pentose phosphate pathway - Mus musculus (mouse)  Gpi1   \n",
       "mmu00040  path  Pentose and glucuronate interconversions - Mus...  Gusb   \n",
       "mmu00051  path  Fructose and mannose metabolism - Mus musculus...   Mpi   \n",
       "\n",
       "           3       4       5        6       7       8        9     ...   1114  \\\n",
       "mmu00010    Hk3     Hk1   Hkdc1      Gck    Gpi1    Pfkl     Pfkm  ...   None   \n",
       "mmu00020    Csl    Acly    Aco2     Aco1    Idh1    Idh2    Idh3g  ...   None   \n",
       "mmu00030  G6pd2   G6pdx    Pgls     H6pd     Pgd     Rpe      Tkt  ...   None   \n",
       "mmu00040     Kl  Ugt2b5  Ugt1a2  Ugt1a6a  Ugt2a1  Ugt1a9  Ugt1a10  ...   None   \n",
       "mmu00051   Pmm2    Pmm1   Gmppb    Gmppa    Gmds   Tsta3     Fpgt  ...   None   \n",
       "\n",
       "          1115  1116  1117  1118  1119  1120  1121  1122  1123  \n",
       "mmu00010  None  None  None  None  None  None  None  None  None  \n",
       "mmu00020  None  None  None  None  None  None  None  None  None  \n",
       "mmu00030  None  None  None  None  None  None  None  None  None  \n",
       "mmu00040  None  None  None  None  None  None  None  None  None  \n",
       "mmu00051  None  None  None  None  None  None  None  None  None  \n",
       "\n",
       "[5 rows x 1124 columns]"
      ]
     },
     "execution_count": 261,
     "metadata": {},
     "output_type": "execute_result"
    }
   ],
   "source": [
    "# safe copy of the gene_set to avoid re-creating gene list during debugging\n",
    "genes_copy = copy.deepcopy(gene_set)\n",
    "\n",
    "# add Org and Description entry to dictionary\n",
    "for entry in genes_copy:\n",
    "    genes_copy[entry].insert(0, df.loc[entry]['Org'])\n",
    "    genes_copy[entry].insert(1, df.loc[entry]['Description'])\n",
    "\n",
    "# genes_copy is now a dictionary with following entries:\n",
    "# {'mmu00010': ['<Org>', '<description>', Hk2', 'Hk3', 'Hk1', 'Hkdc1', 'Gck', ...], 'mmu00020':[...], ...}\n",
    "\n",
    "# safe dictionary as DataFrame to make export to GMT easier\n",
    "full_df = pandas.DataFrame.from_dict(genes_copy, orient='index')\n",
    "\n",
    "# export as gmt\n",
    "full_df.to_csv('pathwayOutput/KEGG_genes.gmt')\n",
    "# as well as csv to verify correct output format using Excel\n",
    "full_df.to_csv('pathwayOutput/KEGG_genes.csv')\n",
    "\n",
    "full_df.head()"
   ]
  },
  {
   "cell_type": "markdown",
   "metadata": {},
   "source": [
    "## Task 2: Gene Set Enrichment"
   ]
  },
  {
   "cell_type": "markdown",
   "metadata": {},
   "source": [
    "### Subtask 2.1: Read in the csv file you produced during the Differential Expression module, extract a gene list (as a python list of gene symbols) from your favorite multiple correction column (and store it in a variable)"
   ]
  },
  {
   "cell_type": "code",
   "execution_count": 259,
   "metadata": {},
   "outputs": [
    {
     "data": {
      "text/html": [
       "<div>\n",
       "<style scoped>\n",
       "    .dataframe tbody tr th:only-of-type {\n",
       "        vertical-align: middle;\n",
       "    }\n",
       "\n",
       "    .dataframe tbody tr th {\n",
       "        vertical-align: top;\n",
       "    }\n",
       "\n",
       "    .dataframe thead th {\n",
       "        text-align: right;\n",
       "    }\n",
       "</style>\n",
       "<table border=\"1\" class=\"dataframe\">\n",
       "  <thead>\n",
       "    <tr style=\"text-align: right;\">\n",
       "      <th></th>\n",
       "      <th>mannwhitneyu pvalue</th>\n",
       "      <th>sidak</th>\n",
       "      <th>holm-sidak</th>\n",
       "      <th>holm</th>\n",
       "      <th>simes-hochberg</th>\n",
       "      <th>hommel</th>\n",
       "      <th>fdr_bh</th>\n",
       "      <th>fdr_by</th>\n",
       "      <th>fdr_tsbh</th>\n",
       "      <th>fdr_tsbky</th>\n",
       "      <th>l2fc</th>\n",
       "    </tr>\n",
       "    <tr>\n",
       "      <th>Gene</th>\n",
       "      <th></th>\n",
       "      <th></th>\n",
       "      <th></th>\n",
       "      <th></th>\n",
       "      <th></th>\n",
       "      <th></th>\n",
       "      <th></th>\n",
       "      <th></th>\n",
       "      <th></th>\n",
       "      <th></th>\n",
       "      <th></th>\n",
       "    </tr>\n",
       "  </thead>\n",
       "  <tbody>\n",
       "    <tr>\n",
       "      <th>Zzz3</th>\n",
       "      <td>0.000002</td>\n",
       "      <td>0.034391</td>\n",
       "      <td>0.029761</td>\n",
       "      <td>0.030213</td>\n",
       "      <td>0.030213</td>\n",
       "      <td>0.023989</td>\n",
       "      <td>0.000012</td>\n",
       "      <td>0.000124</td>\n",
       "      <td>0.000005</td>\n",
       "      <td>0.000005</td>\n",
       "      <td>0.142215</td>\n",
       "    </tr>\n",
       "    <tr>\n",
       "      <th>a</th>\n",
       "      <td>0.077554</td>\n",
       "      <td>1.000000</td>\n",
       "      <td>1.000000</td>\n",
       "      <td>1.000000</td>\n",
       "      <td>0.500000</td>\n",
       "      <td>0.500000</td>\n",
       "      <td>0.116936</td>\n",
       "      <td>1.000000</td>\n",
       "      <td>0.051345</td>\n",
       "      <td>0.054565</td>\n",
       "      <td>-0.074572</td>\n",
       "    </tr>\n",
       "    <tr>\n",
       "      <th>l7Rn6</th>\n",
       "      <td>0.014377</td>\n",
       "      <td>1.000000</td>\n",
       "      <td>1.000000</td>\n",
       "      <td>1.000000</td>\n",
       "      <td>0.500000</td>\n",
       "      <td>0.500000</td>\n",
       "      <td>0.028579</td>\n",
       "      <td>0.302032</td>\n",
       "      <td>0.012548</td>\n",
       "      <td>0.013335</td>\n",
       "      <td>-0.111329</td>\n",
       "    </tr>\n",
       "    <tr>\n",
       "      <th>mCG_21548</th>\n",
       "      <td>0.152689</td>\n",
       "      <td>1.000000</td>\n",
       "      <td>1.000000</td>\n",
       "      <td>1.000000</td>\n",
       "      <td>0.500000</td>\n",
       "      <td>0.500000</td>\n",
       "      <td>0.201806</td>\n",
       "      <td>1.000000</td>\n",
       "      <td>0.088610</td>\n",
       "      <td>0.094167</td>\n",
       "      <td>-0.043389</td>\n",
       "    </tr>\n",
       "    <tr>\n",
       "      <th>rp9</th>\n",
       "      <td>0.021855</td>\n",
       "      <td>1.000000</td>\n",
       "      <td>1.000000</td>\n",
       "      <td>1.000000</td>\n",
       "      <td>0.500000</td>\n",
       "      <td>0.500000</td>\n",
       "      <td>0.040614</td>\n",
       "      <td>0.429228</td>\n",
       "      <td>0.017833</td>\n",
       "      <td>0.018951</td>\n",
       "      <td>0.040655</td>\n",
       "    </tr>\n",
       "  </tbody>\n",
       "</table>\n",
       "</div>"
      ],
      "text/plain": [
       "           mannwhitneyu pvalue     sidak  holm-sidak      holm  \\\n",
       "Gene                                                             \n",
       "Zzz3                  0.000002  0.034391    0.029761  0.030213   \n",
       "a                     0.077554  1.000000    1.000000  1.000000   \n",
       "l7Rn6                 0.014377  1.000000    1.000000  1.000000   \n",
       "mCG_21548             0.152689  1.000000    1.000000  1.000000   \n",
       "rp9                   0.021855  1.000000    1.000000  1.000000   \n",
       "\n",
       "           simes-hochberg    hommel    fdr_bh    fdr_by  fdr_tsbh  fdr_tsbky  \\\n",
       "Gene                                                                           \n",
       "Zzz3             0.030213  0.023989  0.000012  0.000124  0.000005   0.000005   \n",
       "a                0.500000  0.500000  0.116936  1.000000  0.051345   0.054565   \n",
       "l7Rn6            0.500000  0.500000  0.028579  0.302032  0.012548   0.013335   \n",
       "mCG_21548        0.500000  0.500000  0.201806  1.000000  0.088610   0.094167   \n",
       "rp9              0.500000  0.500000  0.040614  0.429228  0.017833   0.018951   \n",
       "\n",
       "               l2fc  \n",
       "Gene                 \n",
       "Zzz3       0.142215  \n",
       "a         -0.074572  \n",
       "l7Rn6     -0.111329  \n",
       "mCG_21548 -0.043389  \n",
       "rp9        0.040655  "
      ]
     },
     "execution_count": 259,
     "metadata": {},
     "output_type": "execute_result"
    }
   ],
   "source": [
    "mc_file = pandas.read_csv('outputFiles/MultipleCorrectionWithFoldChange.csv')\n",
    "mc_file = mc_file.set_index('Gene')\n",
    "\n",
    "diff_expr_genes_simes_hochberg = list(mc_file['simes-hochberg'])\n",
    "\n",
    "mc_file.tail()"
   ]
  },
  {
   "cell_type": "markdown",
   "metadata": {},
   "source": [
    "### Subtask 2.2: Perform gene set enrichment (Fisher's exact test or an hypergeometric test will do for our purposes) with the KEGG gene sets you extracted in Task 1 (you may want to store the results in a pandas dataframe and write them to csv)"
   ]
  },
  {
   "cell_type": "markdown",
   "metadata": {},
   "source": [
    "hint:\n",
    "\n",
    "https://genetrail2.bioinf.uni-sb.de/help?topic=set_level_statistics"
   ]
  },
  {
   "cell_type": "code",
   "execution_count": 301,
   "metadata": {},
   "outputs": [
    {
     "name": "stdout",
     "output_type": "stream",
     "text": [
      "{'Antinore', 'Spdye4b', 'Serpinb9d', 'Olfr605', 'P2rx5', 'Tdg-ps', 'Tbc1d4', 'Olfr728', 'Olfr357', 'Npffr1', 'Tnfrsf10b', 'Ppp1r1a', 'Ndufb7', 'Lasi', 'Sorbs1', 'Spta1', 'Crls1', 'Olfr1322', 'Fkbp4', 'Arrb1', 'Olfr1109', 'Rpl37a', 'Kcnmb3', 'Mgll', 'Galnt14', 'Pluripotent', 'Atp5h', 'Olfr616', 'Pfkp', 'Impact', 'Olfr129', 'Ndufa2', 'Olfr878', 'Zheng', 'Abca7', 'Nfatc3', 'Sugt1', 'Peg12', 'Ouyang', 'Abraxas1', 'Hmgcs2', 'Naip5', 'Cers2', 'Olfr1388', 'Strober', 'Olfr1298', 'Hinz', 'Etnppl', 'Naip7', 'Hspd1', 'Npy6r', 'Olfr1200', 'Best2', 'Nkx3-1', 'Olfr324', 'Mtr', 'Wimberly', 'Avpr2', 'Snca', 'Olfr262', 'Nakatogawa', 'Nceh1', 'Npc1', 'Yars', 'Nfasc', 'Flnc', 'Ndufa3', 'Olfr73', 'Cyp4a12b', 'Serpina1a', 'Nras', 'Adcy2', 'When', 'Abcg4', 'Hist1h2bg', 'Ppp2r5d', 'Tlr7', 'Ggt7', 'Biochim', 'Gm7030', 'Dio2', 'MYCN', 'Plcd1', 'Kumar-Sinha', 'Cdc42', 'Fabp2', 'Olfr541', 'Rhoa', 'Actb', 'Olfr214', 'U2af1l4', 'Mir7-2', 'Epo', 'Setd1b', 'Nt5c', 'Snap29', 'Csnk1g1', 'Olfr273', 'Mlh3', 'Stat5b', 'Koelle', 'Wee1', 'Gsto1', 'Gsk3a', 'Nup133', 'Cd3e', 'Stip1', 'H2-M10.4', 'H2al2c', 'Long', 'Olfr1370', 'Olfr687', 'Map1lc3b', 'n-R5s128', 'Olfr520', 'Terc', 'Olfr1277', 'Slc34a2', 'Ppp1r3c', 'Hsd3b5', 'Polr3h', 'Mrpl35', 'Sh3kbp1', 'Rps23', 'Olfr412', 'Toxicology', 'Chrm1', 'Olfr510', 'Mirlet7a-2', 'Snrpa1', 'Pltp', 'Pigz', 'Irak1', 'Abe', 'Linking', 'Gpat4', 'Mrpl9', 'Nedd4l', 'Slc26a3', 'Mapk7', 'Vim', 'Hydra,', 'Santoro', 'Fbxw11', 'Olfr98', 'Lum', 'St6galnac5', 'Ambra1', 'Ap2a1', 'Olfr140', 'Zhao', 'P4ha2', 'Skap1', 'Olfr213', 'Olfr224', 'Mrps2', '4930415L06Rik', 'Fgf2', 'Dusp10', 'Ckb', 'Leukocyte-endothelial-cell', 'Plxnb1', 'Mrpl2', 'Ppara', 'D-type', 'Ppip5k2', 'Trpv1', 'Olfr1508', 'Olfr67', 'Nlrp6', 'Ehmt1', 'Pak2', 'Herc1', 'Hck', 'Diaph1', 'Mrpl33', 'Pkn3', 'Gdf9', 'Adora1', 'Gm21953', 'Olfr1129', 'Olfr156', 'Cyp2c40', '1700009N14Rik', 'Differential', 'Mir135a-2', 'Olfr668', 'Tst', 'Gpsm1', 'Ciruna', 'Nefl', 'Olfr1294', 'Spr', 'Pgam5', 'Slc9a3r1', 'Whamm', 'Mayr', 'Ubqln2', 'Pdgfa', 'Sfrp1', 'Olfr477', 'Napepld', '5430419D17Rik', 'Hdc', 'Olfr974', 'Il12rb2', 'Sstr1', 'Insl3', 'Mir26a-1', 'Olfr51', 'Cherp', 'Klk1b3', 'Smarcd2', '[E2', 'Fcgr4', 'Ak4', 'Taf13', 'Gnmt', 'Pbx3', 'Olfr100', 'Mgat4a', 'Cdc37', 'Brip1', 'Mmp9', 'Orc4', 'Il2', 'Hrh2', 'Olfr785', 'Tead4', 'Olfr1497', 'Wdr75', 'Cox4i1', 'Cyp2c65', 'Arpc2', 'Dpagt1', 'Aaas', 'H2-M10.2', 'Dtx1', 'Ppp3cb', 'beta1,3-N-Acetylglucosaminyltransferase-7', 'Olfr313', 'Mrpl12', 'Pth2r', 'Mrps12', 'Impdh1', 'C5ar1', 'Hipk3', 'Olfr902', 'Glyctk', 'Dgkh', 'Galt', 'Dnah10', 'Tas2r136', 'Cnga1', 'Ifi202b', 'Pou2f3', 'C1d', 'E2f1', 'Kat2a', 'Gcnt2', 'Galnt16', 'Mgat4c', 'Olfr461', 'Dalbey', 'Olfr577', 'Atp6v1a', 'Rpp21', 'Immunopathogenesis', 'Guk1', 'Ptprc', 'APMIS', 'Vps26a', 'Olfr1362', 'Cyp2c39', 'Il23r', 'Olfr1367', 'Medvedev', 'Tnnc1', 'Antxr2', 'Rsl24d1', 'Bcl2', 'Nkx2-2', 'Ppp1r3a', 'Itgb1', 'Espl1', 'Atg4b', 'Alpdogan', 'Rnaseh2b', 'Histochem', 'Qrsl1', 'Ip6k2', 'Hk3', 'Gatm', 'Car1', 'Natural', 'Keap1', 'Acer1', 'Olfr20', 'Smad1', 'Chin', 'Gstm5', 'Scnn1b', 'Hnrnpul1', 'HBx-dependent', 'Ugcg', 'Rpl39l', 'Shi', 'Map4k4', 'Rab14', 'Hist1h3e', 'Xrcc5', 'Gm21948', 'Creb3l4', 'Slc19a3', 'Acy1', 'Hmga2', 'Prickle1', 'Ndufa8', 'Rpe', 'Olfr585', 'Ash2l', 'Mir124a-3', 'Dnah9', 'Urm1', 'Taar8c', 'Spectrin', 'Tcof1', 'Gm4943', 'Sars2', 'Olfr469', 'Cancer', 'Dhodh', 'Ppa2', 'Usp39', 'Olfr399', 'Olfr493', 'Prex1', 'Hamada', 'Tnfsf18', 'Fzd4', 'Lck', 'Rpl24', 'Insr', 'Olfr996', 'Grin2d', 'Flt1', 'Sirpb1a', 'Cacna1e', 'Mir206', 'Cndp1', 'Ifna13', 'Tshr', 'Ccl27a', 'Eif4g1', 'Med4', 'Nhp2', 'Fbll1', 'Glrb', 'Olfr608', 'Strap', 'n-R5s110', 'Wnt2b', 'Efna4', 'Cd14', 'Nr3c1', 'Hipk2', 'Kizuka', 'Dsp', 'Asgr1', 'Levine', 'Chst12', 'Abca3', 'Rps6kb2', 'Atp2b4', 'Olfr370', 'Novel', 'Snrnp70', 'Col14a1', 'Il12rb1', 'Kcnmb4', 'Ptgdr', 'Boxus', 'Acta', 'Cstf2t', 'Olfr385', 'Chst11', 'Olfr802', 'Pira6', 'Col11a2', 'Nxf3', 'Kmt5b', 'Nme6', 'Fancc', 'Cdc16', 'Fcgr1', 'Tubb5', 'Arid2', 'Ppcs', 'Bace1', 'Gpx1', 'Tfap4', 'Mrpl10', 'Rgs14', 'Htr3b', 'Psmc6', 'Lrrc4b', 'Pank1', 'Bub3', 'Fhl2', 'Johnson', 'Paladino', 'Thoc7', 'Chromosomal', 'Lafont', 'Clcn2', 'Grm4', 'Olfr50', 'Activation', 'Aspdh', 'Rps6ka6', 'CCL2', 'Rpl23', 'Olfr810', 'Phlpp2', 'Cdc34', 'Rpl7a', 'Actn2', 'H2afb1', 'Mir215', 'Nsd3', 'Bag2', 'Camk4', 'Klra4', 'Olfr55', 'Rexo2', 'Pex26', 'Hal', 'Mpv17', 'Creb1', 'Ppp2r2d', 'Lsp1', 'Barclay', 'Prickle3', 'Olfr304', 'Arch', 'Pigp', 'Psma2', 'Ube2k', 'Krt27', 'Coa3', 'Mrpl4', 'Tlx3', 'Eulalio', 'Ada', 'Ppp1cb', 'Laptm5', 'Mep1a', 'Martinez', 'Spdye4a', 'Ltb4r1', 'Pde1a', 'Tradd', 'Fzd2', 'Ctsh', 'Ndufs1', 'Fmo5', 'TrnQ', 'Mir26b', 'Olfr872', 'Brd7', 'Primary', 'Azran', 'Igbp1', 'Ube2j2', 'Olfr876', 'Ndst2', 'Cellular', 'Ballow', 'Mcu', 'Cyp4f14', 'Olfr945', 'Bdh2', 'Blvra', 'Man1a2', 'Olfr470', 'Mrps14', 'Pias4', 'Olfr1202', 'B3gat2', 'Rothenberg', 'Snrpd3', 'Hk2', 'Mnx1', 'Slc12a7', 'Etv6', 'Bex3', 'Vps26b', 'Hsd17b1', 'Olfr889', 'Olfr743', 'Olfr392', 'Ces2g', 'Plin1', 'Rnaseh1', 'Adcy1', 'Ralgds', 'Sh2d1b1', 'Fabp3', 'Il13ra1', 'Ube2s', 'Olfr1143', 'Taylor', 'Ntf3', 'Tas2r120', 'Wdr33', 'Topbp1', 'Apc', 'Plcd3', 'Olfr1137', 'Bmp4', 'Lsm8', 'Xiap', 'Map4k2', 'Bauer', '4930438A08Rik', 'Rbm28', 'Cir1', 'Sgcg', 'Chrna4', 'Slc9a4', 'Olfr1463', 'Olfr871', 'Pdss1', 'Cd19', 'Asl', 'Ptafr', 'Tuba3b', 'Rap1b', 'Rps6kb1', 'Il18', 'Olfr481', 'Oxt', 'Pgk2', 'Circulation', 'Dapk1', 'Prpf19', 'Itga9', 'Tubb2a', 'Vegfd', 'Abcb9', 'Ptgds', 'Mir10b', 'Tlr8', 'Mir30c-1', 'Psapl1', 'Pcgf2', 'Ccnt1', 'Cfd', 'Itgal', 'Maekawa', 'Rufy1', 'Tam', 'Chuk', 'Col6a1', 'Myh15', 'Olfr1358', 'Mgea5', 'Gdpd1', 'Dpm2', 'Olfr665', 'Slc25a5', 'Bmpr2', 'Meis1', 'Cnot7', 'Chek1', 'Cacng7', 'Als2', 'Aldh3b1', 'Lig4', 'Diehl', 'Jund', 'Olfr358', 'Concise', 'Olfr1238', 'Olfr310', 'Plxna1', 'Atp6v1e2', 'Prom1', 'Olfr427', 'Trp53inp2', 'Olfr572', 'FEMS', 'Suv39h2', 'Rnf41', 'Ppil2', 'Atf4', 'Cryaa', 'Atg2a', 'Dctn5', 'Mrps11', 'Lrpap1', 'Aoc1', 'Olfr1447', 'Massague', '14-3-3', 'Prps1l1', 'Signalling', 'Plin5', 'Ssu72', 'Il20', 'Snrpb', 'Olfr1230', 'Olfr434', 'Mef2d', 'Olfr815', 'Dnah2', 'Clca1', 'Cd74', 'Olfr986', 'Hoxa10', 'Aip', 'Spopl', 'Bnip3', 'Ctnnbl1', 'Gabra2', 'Zfpm2', 'Cpa1', 'Tubb2b', 'Cebpb', 'Olfr1256', 'Fbxo6', 'Il17re', 'Nrp1', 'Spg21', 'Lyz2', 'Stx3', 'Rpl10', 'HBX', 'Mlst8', 'Dusp9', 'Pde8a', 'Kisseleva', 'Zp3r', 'Pla1a', 'IUBMB', 'Ero1l', 'Bhartiya', 'Ak3', 'Ctrb1', 'Olfr1434', 'Amrani', 'Rab3d', 'Lars2', 'Rad51c', 'Selenoi', 'Furin', 'Ctss', 'Polr3k', 'Gbp2', 'Kiss1r', 'Ncr1', 'Ube2u', 'Hbb-bs', 'Ung', 'Ppp3ca', 'Mrpl19', 'Dse', 'Slc19a1', 'Pmm2', 'Adk', 'Cd36', 'Pdha1', 'Gpd2', 'Polb', 'Mirlet7a-1', 'Dgkb', 'Ltb4r2', 'Krt26', 'Pdcd1', 'P2ry10b', 'Sms', 'Olfr1371', 'Olfr243', 'Utp18', 'Fer', 'Thop1', 'Olfr164', 'Mpzl1', 'Txnl4a', 'Olfr1342', 'Epha2', 'Mir483', 'Hist2h2aa2', 'Olfr1286', 'Izumo1r', 'Gennery', 'Col1a1', 'Slc26a6', 'Taf9', 'Cyth1', 'Krt40', 'Olfr203', 'Shh', 'Taf7l', 'Ifna11', 'Wyman', 'Aanat', 'Ctps', 'Nprl3', 'Tas2r135', 'Rab5a', 'Olfr767', 'Sjogren', 'Wnt4', '[Recombination', 'Psd3', 'Ube2d1', 'Condon', 'McGhie', 'Pofut2', 'Acp5', 'Lep', 'Skp1a', 'Muc5b', 'Ecsit', 'Anapc13', 'Ndufa6', 'Olfr603', 'Gstp1', 'Map3k7', 'Cav3', 'Fkbp5', 'Oncogene', 'Slc15a1', 'Dsg1c', 'Wipf1', 'Cyp46a1', 'Prdx1', 'Sharkhuu', 'Tuba1a', 'Ppm1b', 'Map2k4', 'Clock', 'Trim37', 'Idh2', 'Pex13', 'Stk10', 'Palb2', 'Development', 'Uqcr11', 'Casp7', 'Shc2', 'Olfr1084', 'Mechanism,', 'Herc2', 'Servitja', 'Pabpc2', 'Rps15', 'Ube2n', 'Olfr559', 'H2al1e', 'Srd5a2', 'Mpdz', 'Recurrent', 'Sec23a', 'Pemt', 'Characteristic', 'Rnps1', 'Eea1', 'Plk2', 'Cdc23', 'Clec4b2', 'Fxyd4', 'Hsp90ab1', 'Olfr993', 'Liver', 'H2afz', 'Mdm2', 'Slit3', 'Sco2', 'Arhgap35', 'Pla2g4a', 'Rnd1', 'Acer3', 'Cyp3a13', 'Taar7b', 'Slc25a4', 'Olfr1040', 'Neurod1', 'Adcy6', 'Fzd10', 'Ado', 'Esr1', 'Igbp1b', 'Seron', 'Snap23', 'Apoh', 'Unc5a', 'Ephb2', 'Pex5l', 'Smarce1', 'Hspa1a', 'Pikfyve', 'Agpat3', 'Gjd2', 'Rassf2', 'Hist1h2ba', 'Ppil1', 'Enpp1', 'Rps13', 'Tbpl1', 'Olfr958', 'Olfr208', 'Pira11', 'Klc3', 'Ptcra', 'Atg12', 'Txk', 'Evc2', 'Olfr239', 'Pik3ca', 'Lrp5', 'Il13ra2', 'Gm13769', 'Mir92-2', 'Csl', 'Cnot4', 'Kcnj14', 'Uqcrb', 'Ncf4', 'Gp5', 'Gm22109', 'Carpousis', 'Periodontol', 'Rpp30', 'Roizman', 'Prmt1', 'Sycp3', 'Tpp1', 'Rn5s', 'Plg', 'Sgk1', 'Polr1a', 'Gast', 'Rab3a', 'Clta', 'Aga', 'Camk2d', 'Try4', 'Pdpk1', 'Olfr980', 'Auh', 'Ercc2', 'Glaunsinger', 'Psph', 'Grik3', 'Sharpe', 'Olfr178', 'Eci1', 'Olfr1445', 'Negr1', 'Cdk5r1', 'Dync1li2', 'Arhgef6', 'Pccb', 'Mir1a-2', 'Nfyb', 'Park2', 'Ctnnbip1', 'Abi2', 'Cfp', 'Ikbkb', 'Tas2r104', 'Fancb', 'Naglu', 'Msmo1', 'Inhbe', 'Olfr263', 'Cysltr1', 'Olfr283', 'Olfr765', 'Olfr772', 'Mgat3', 'Hnrnpk', 'Igtp', 'Ewing', 'Biology', 'Cyp4f18', 'Olfr1330', 'Olfr1090', 'Nfatc2', 'Acadm', 'Pan3', 'Olfr681', 'Orc1', 'Klk1b5', 'Abhd6', 'Ppp4r3b', 'McCormick', 'Bnip1', 'Dnm3', 'Srp54b', 'Dhx38', 'Kaposi', 'Ccl21b', 'Pomk', 'Pip4k2b', 'Ezr', 'Echs1', 'Prkcz', 'Rack1', 'Fst', 'Gbgt1', 'Olfr26', 'Olfr177', 'S100g', 'Ciita', 'Hrk', 'Rpl22', 'Ifne', 'Hist1h2bn', 'Interleukin-10', 'Mirlet7f-2', 'Spdye4c', 'Olfr96', 'Igf1', 'Abele', 'Nfkbie', 'Lpar5', 'Rpl35a', 'Gga3', 'Olfr1113', 'Mostowy', 'Arf1', 'Dnajc1', 'Ap4b1', 'Schulze', 'Prkacb', 'Ywhab', 'Olfr1408', 'Itga2b', 'Nprl2', 'Osbpl5', 'Plxnb3', 'Cldn3', 'Steegmaier', 'Mef2a', 'Gbf1', 'Stag2', 'Rras', 'Ube2h', 'Ces1c', 'Slc16a2', 'Drd3', 'Kcne2', 'Plin4', 'Epha4', 'Rpl7', 'Aderem', 'Kalland', 'Pappu', 'Tspan7', 'Serpinb9', 'Ptprb', 'Olfr642', 'Preferential', 'Ctbp2', 'Birc7', 'Olfr619', 'Nsmaf', 'Ces1f', 'Mol', 'Nudt12', 'Olfr444', 'Sema5b', 'Car12', 'Mir19a', 'Pde1c', 'Olfr890', 'Preb', 'Slc7a8', 'Olfr419', 'Tyr', 'Egr1', 'Olfr373', 'Slc25a10', 'P2rx2', 'Olfr1242', 'Yamagata', 'Uxs1', 'Olfr130', 'H2afx', 'Kcne3', 'Olfr1018', 'Slc26a9', 'Olfr683', 'Iqsec1', 'Olfr697', 'Pck2', 'Itga8', 'Pla2g2f', 'Hbb-b2', 'Smurf1', 'Ercc6', 'Nutr', 'Slc52a3', 'Htr3a', 'Msn', 'Cdc7-Dbf4', 'Wee2', 'Nalepa', 'Ptpn1', 'Cytostatic', 'Hpn', 'Ube2i', 'Cebpe', 'Olfr613', 'Jarviluoma', 'Serpina5', 'Arid1b', 'Gria1', 'Olfr301', 'St6galnac1', 'Functional', 'Olfr1273-ps', 'Hassani', 'Sftpd', 'Vcam1', 'Cacna2d1', 'Uck1', 'Sesn1', 'Olfr1402', 'Med13', 'Man2b1', 'Bid', 'Trp53', 'Olfr1047', 'Tbc1d17', 'Mgst3', 'Flt3', 'Subversion', 'Rhoq', 'Ube2c', 'Sugano', 'Sec63', 'Eda2r', 'Txn1', 'Ash1l', 'Br', 'Olfr1061', 'Ivns1abp', 'Eif4ebp2', 'Olfr1411', 'Plch1', 'CAK-Cyclin-dependent', 'Plod1', 'Gmds', 'Myocarditis', 'Cyp21a1', 'Scd2', 'Rasa1', 'Cyp2j9', 'St6gal2', 'Dis3l', 'Hist2h3c1', 'Olfr446', 'Slc5a6', 'Dync1li1', 'Seikagaku', 'Olfr1057', 'Il22ra1', 'Mob1b', 'Yugawa', 'Iqgap3', 'Ubqln1', 'Dgat1', 'Olfr556', 'Olfr282', 'Acat1', 'Vps4b', 'Magohb', 'Cox7c', 'Mirlet7d', 'Adra2a', 'TrnR', 'Olfr922', 'n-R5s121', 'Fnip2', 'Olfr371', 'Rpl36a', 'Glra3', 'Adam17', 'Sandri-Goldin', 'S100a8', 'Dusp8', 'Crem', 'Ugt2a2', 'Inpp5b', 'Dnah11', 'Sult1a1', 'Low', 'Pak7', 'Olfr27', 'Dmd', 'Shimasaki', 'Cdkn1c', 'Vamp5', 'Rad50', 'Suclg1', 'de', 'Olfr1199', 'Kif3a', 'Toll-like', 'Yamamoto', 'Mapping', 'Mir29b-1', 'olfactory', 'Mmp1b', 'Iapp', 'Rad52', 'Fzd8', 'Olfr1351', 'Hist2h4', 'Azi2', 'Usp1', 'Rps18', 'H2-M10.1', 'Tdo2', 'Socs4', 'Maml2', 'Neil2', 'Multiple', 'Apoe', 'Ptdss2', 'Galnt15', 'Mir126a', 'Taar2', 'Cpa2', 'Targeting', 'Gnat2', 'RET/PTC', 'HCV', 'Cndp2', 'Sel1l', 'Nudt16l1', 'Olfr1344', 'Kcnj12', 'Dhdds', 'Atp6ap1', 'n-R5s104', 'ICP0,', 'Pgm1', 'Lamtor5', 'Csnk1a1', 'Tas1r1', 'Acot3', 'Dlg2', 'Sptan1', 'Mknk1', 'Cd209g', 'Ochiai', 'Pde2a', 'Usp25', 'Olfr1133', 'Surfing', 'Myd88', 'Westermark', 'Olfr53', 'Can', 'Rpl12', 'Psma3', 'Zbtb16', 'H2-L', 'Abl2', 'Trpm2', 'Sec13', 'Hsd17b10', 'Hist1h3h', 'Olfr1437', 'Arap2', 'Olfr796', 'Tas2r134', 'Csad', 'Ndufb5', 'Ccr5', 'Aspscr1', 'Klrd1', 'Rs5-8s1', 'Tbc1d15', 'Adaptors,', 'TGF-beta', 'Rln3', 'H2-Q8', 'Rdh9', 'Ercc3', 'Prcc', 'Klf2', 'Dct', 'Sike1', 'Rps6', 'Olfr593', 'Ppia', 'Olfr981', 'Eogt', 'Uqcr10', 'Srsf4', 'Pkd1l3', 'Mir23a', 'Olfr1420', 'Nudt7', 'Plxnc1', 'Gck', 'Kawai', 'Olfr430', 'Gm9839', 'Panteva', 'Man2a2', 'Alk', 'Olfr883', 'Gottlob', 'Atp6v1f', 'H2al1n', 'Foxm1', 'Lipa', 'Sdha', 'Gabrq', 'Tbc1d7', 'Klc2', 'Map3k14', 'Nrg3', 'Gpr119', 'Hsd3b2', 'Sv2a', 'Cln5', 'Archaeal', 'Nup210', 'Pax8', 'Cldn9', 'Cyp2b9', 'Mir107', 'Gab2', 'Hist1h4d', 'Tfam', 'Olfr1449', 'Mapk13', 'Rpl14', 'Faah', 'Itpr3', 'Olfr1033', 'Olfr731', 'Fxyd2', 'Gtf2a1', 'Geha', 'Il21r', 'Ticam2', 'Hrh1', 'Rab2a', 'Olfr699', 'Musashi:', 'Wfs1', 'Kif5c', 'Olfr1424', 'C1rb', 'Gsk3b', 'Sema6c', 'Brcc3', 'Olfr519', 'Pdx1', 'Fpgt', 'Pofut1', 'Cacnb4', 'Gemin4', 'Cyp2c70', 'Sv2c', 'Creb3l3', 'Efnb1', 'Gaa', 'Mapkap1', 'Sox9', 'Trrap', 'Pak1', 'Lman2', 'Cai', 'MMSET', 'Lgmn', 'Scn1b', 'Fbxo32', 'Cav2', 'Adcy7', 'Sik2', 'Olfr1128', 'Mapk8ip1', 'Hist1h2ai', 'Avp', 'Tails', 'Hist1h4k', 'Mir31', 'Hspg2', 'Lilra5', 'Arnt2', 'B4galt3', 'Hist2h3c2', 'Sf3b1', 'Lrp6', 'Cers4', 'Yang', 'Olfr525', 'B4gat1', 'Mir199a-2', 'Elovl5', 'Rpa1', 'Cds1', 'Magi1', 'Stim2', 'Tnn', 'Sgms1', 'Cyp24a1', 'Perp', 'Nakhaei', 'Hey1', 'Gsr', 'Lipf', 'Olfr45', 'Translocations', 'Idnk', 'Upb1', 'Chrnb1', 'Herpes', 'Callahan', 'Il1b', 'Hist1h3g', 'Chmp2a', 'Fbl', 'Olfr1026', 'Vesicle-associated', 'Cadm3', 'Rela', 'C1galt1', 'Cebpg', 'Nrxn2', 'Nmrk2', 'Slc39a4', 'Olfr223', 'Bin1', 'Ephb6', 'Hexb', 'Rplp1', 'Nfkb1', 'ETV1', 'Olfr1426', 'Transcriptional', 'Ppp2r3d', 'Olfr1495', 'Cyp2e1', 'Vps29', 'Labbe', 'Psmc4', 'Coa6', 'Lin54', 'Hkdc1', 'Olfr975', 'Tnfsf4', 'Ncstn', 'Olfr1507', 'Rpsa', 'Olfr1065', 'Cbr1', 'Edem1', 'Olfr1123', 'Bag4', 'Riggi', 'Int', 'Chst13', 'Pla2g4c', 'Crkl', 'Ccl21a', 'Msi2', 'Arpc5', 'Gm10705', 'Slc19a2', 'Lhb', 'Street', 'Sema4f', 'Rpl3l', 'Biol', 'Mllt1', 'Sec24b', 'Rasgrp2', 'Ezh2', 'Nedd4', 'Sec24a', 'Got2', 'Architecture', 'Tas2r144', 'Nguyen', 'Hif1a', 'Sgpp1', 'Fanca', 'Hist1h2ap', 'Silencing', 'Serpinb2', 'Tpm4', 'Serpina1b', 'Cdc20', 'Olfr132', 'Glra2', 'Ap1b1', 'Birc2', 'Epn1', 'Cth', 'Npbwr1', 'Fadd', 'Nkd2', 'Dnm1', 'Acsm5', 'H6pd', 'Srsf6', 'Sf3b4', 'Mir26a-2', 'Olfr888', 'Pigo', 'Eif2b2', 'Sh3bp2', 'Ccna1', 'Rpl35', 'Pttg1', 'Mir29c', 'Glo1', 'Mcm5', 'Wwtr1', 'Cyb5r1', 'Tgfbr1', 'Olfr739', 'Apip', 'P2ry6', 'Ap2m1', 'Olfr1111', 'Psmd7', 'Mdm4', 'Wnt8a', 'Sartor', 'Gtpbp4', 'Wasf2', 'Fzd1', 'Lpar2', 'Olfr1454', 'TrnL1', 'Mutyh', 'H2-Q7', 'Ldhc', 'Nlrp1a', 'Novak', 'Pxmp2', 'Usp8', 'Olfr651', 'Lman1l', 'Nup85', 'Olfr809', 'Olfr351', 'Os9', 'Olfr1164', 'Cept1', 'Ggcx', 'Adrm1', 'Trib3', 'Ohno', 'Scn1a', 'Olfr1250', 'Olfr564', 'Prf1', 'Hadha', 'Fancl', 'Olfr1126', 'Mech', 'Sag', 'Ift57', 'Enpp7', 'Gains', 'Cox8a', 'Rab9', '[Cross-talk', 'Tcerg1', 'Ptger2', 'Sstr3', 'H2-M3', 'Olfr180', 'Olfr460', 'Klrb1c', 'Mthfr', 'Ppm1d', 'Neo1', 'H2-T-ps', 'Hartung', 'Taar8a', 'Unc13b', 'Smpd1', 'Tabakin-Fix', 'Tsc1', 'Olfr1031', 'Comt', 'Hdac1', 'Rock1', 'Nelson', 'Map4k1', 'Mcpt4', 'Taf4', 'Sdsl', 'mt-Rnr1', 'Tmsb4x', 'Pde9a', 'Micall2', 'Hervas-Stubbs', 'Art2b', 'A3galt2', 'Olfr1467', 'Olfr1313', 'Vsig4', 'Psma6', 'Papolb', 'Ip6k1', 'McWhirter', 'Hccs', 'Olfr1116', 'Cbr3', 'Car5a', 'Eci2', 'Cox11', 'Tnfsf11', 'Olfr685', 'Dync2h1', 'M6pr', 'C1qb', 'Depdc5', 'Hbegf', 'Csnk2b', 'Cubn', 'Gabrb2', 'Serpina1d', 'Gns', 'Serpinb1a', 'Coq6', 'Pigs', 'Huwe1', 'Arhgdig', 'Moore', 'Burri', 'Neu1', 'Alg11', 'Slc17a8', 'Oxct2a', 'Olfr18', 'P2ry1', 'Hist1h3i', 'Cd164', 'Gabrb3', 'Sercarz', 'Gata3', 'Jun', 'B3galnt1', 'H2al1c', 'Olfr837', 'Mir146', 'Ccr4', 'Dilcher', 'Ddx23', 'Fmo9', 'Ldlrap1', 'n-R5s122', 'Pias2', 'Lipg', 'Edn1', 'Dnah14', 'Sf3b5', 'Mtfmt', 'Dvl2', 'St6galnac4', 'Extracellular', 'Mir125a', 'Pax7', 'Jak2', 'Aldh1l2', 'Itga3', 'Apex1', 'Soat1', 'Ctsk', 'Npy2r', 'Alg10b', 'Prkci', 'Pla2g12b', 'Making', 'Chst4', 'Academic', 'Gnaz', 'Camkk2', 'Map3k6', 'Lommel', 'Ube2b', 'Tbx21', 'Olfr1107', 'Eif4e', 'Gm10499', 'Ggt6', 'Junb', 'Eif1', 'Exosc7', 'Nmbr', 'Bves', 'Olfr1197', 'Ritchie', 'Mboat1', 'Glt28d2', 'Olfr770', 'Sf3b6', 'Dpf1', 'Two', 'Kleinman', 'Rpl30', 'Olfr811', 'Pancreas', 'Lrat', 'Adra1b', 'Fev', 'Thomas', 'Myl4', 'Ptprr', 'Rag2', 'Mmp7', 'Olfr68', 'Semin', 'Dynll1', 'Sars', 'Olfr828', 'McCance', 'Rras2', 'Pim1', 'Sept6', 'Galntl6', 'Casp1', 'Pfkfb4', 'Il23a', 'Colec12', 'Olfr960', 'H2al1m', 'Cox4i2', 'Pigw', 'Entpd3', 'Aqp5', 'Nppc', 'Smn1', 'G6pc', 'Coa5', 'Olfr160', 'Stam2', 'Olfr1148', 'Ndufs7', 'Ache', 'Cldn5', 'Gnb2', 'Itgb2', 'Arap1', 'Mapk12', 'Association', 'Ube3a', 'Abca9', 'Cyp4a14', 'Ifit1bl1', 'Olfr165', 'Kan', 'Garzon', 'Mirlet7e', 'Syt1', 'Cox18', 'Mir30a', 'Olfr1016', 'Zeng', 'Hcn4', 'Rars2', 'Sst', 'Olfr6', 'Ctsc', 'Pdxk', 'Olfr1', 'Pcyt1a', 'Mandel', 'Ksr2', 'Olfr720', 'Parp1', 'Amy2b', 'B4galt6', 'St8sia5', 'Olfr987', 'Rgs3', 'Cd24a', 'Rxfp4', 'Scn7a', 'Nsd2', 'Ugt1a6a', 'Sp1', 'Olfr598', 'Tnnt2', 'Clcnkb', 'Card11', 'Pcna', 'Wipf2', 'Olfr1254', 'Bard1', 'Limd1', 'Olfr594', 'Tmprss13', 'TrnY', 'Myh7', 'Hs3st3a1', 'Srp54a', 'Ppp4r3c-ps', 'Parp3', 'Grik1', 'Mep1b', 'Runx3', 'Olfr812', 'Adcy4', 'Diaph2', 'Gpr83', 'Arf5', 'EBV-encoded', 'Carter', 'Dnah7c', 'Ccdc6', 'H2-Ea-ps', 'Muniandy', 'Hdac5', 'Exosc6', 'Bmpr1a', 'ND4L', 'Prpf40b', 'Nme7', 'Sf3b2', 'Ezh1', 'Eml4', 'Clemens', 'Egr2', 'De', 'Elovl3', 'IRFs:', 'Olfr285', 'Eif2b3', 'Olfr498', 'Birc6', 'Umps', 'Circ', 'Hdac3', 'D1Pas1', 'Olfr970', 'Babam2', 'Arbibe', 'Pnpo', 'Hepatology', 'Msh3', 'Olfr381', 'Tas2r110', 'Vamp8', 'Cd37', 'Agap2', 'Hoxd10', 'Pietrek', 'Olfr1462', 'Socs6', 'Olfr1459', 'B4galt4', 'Mir103-1', 'Ackr1', 'Olfr658', 'Ercc1', 'Hspa2', 'MicroRNAs:', 'Fn1', 'Olfr9', 'Npc1l1', 'Ctsa', 'Abcb8', 'Folr2', 'Gm45929', 'Lamc1', 'Ggh', '4933425L06Rik', 'Olfr734', 'Dgkk', 'Ak5', '[Biogenesis', 'Divorcing', 'Olfr1120', 'Fli1', 'Robo1', 'F2rl2', 'Olfr1317', 'Klkb1', 'Gm22291', 'Cox6b1', 'Cd8b1', 'Atp6v0b', 'Olfr1045', 'Acadl', 'Adora2b', 'Olfr862', 'Wtip', 'Plau', 'Olfr1436', '40S', 'Olfr513', 'Rpl3', 'Rpl18a', 'Npc2', 'Lilrb4a', 'Vegfb', 'H2-M1', 'Adipor2', 'Med27', 'Efnb2', 'Gpam', 'Olfr1354', 'Abcc3', 'Rbx1', 'Cyb5r4', 'Cxcl13', 'Galnt4', 'Lmo7', 'Psmb5', 'Taok3', 'Olfr893', 'Slc2a1', 'Cgn', 'Mvd', 'Endocrinology', 'Fabp6', 'Cyp2c38', 'H2al1b', 'Ugt8a', 'Gstk1', 'Cltc', 'Vasp', 'Med17', 'Shapiro-Shelef', 'Slc6a13', 'Mrpl17', 'Wnt5a', 'Enpp6', 'Gabrg2', 'Taf8', 'Olfr1100', 'Coro1a', 'Nfya', 'Mrps17', 'Gm11127', 'Ndufa7', 'Gm13305', 'Mtmr1', 'Nlrp12', 'Olfr860', 'Mapk6', 'Naip1', 'Stub1', 'Nectin1', 'Dkc1', 'Olfr907', 'Psmd14', 'Olfr834', 'Gm5415', 'Stk3', 'Slco1a5', 'Ctu1', 'Cela3b', 'Lsm6', 'Cyp3a44', 'Cat', 'n-R5s141', 'Zfp516', 'Olfr1094', 'Olfr279', 'Bckdha', 'Mir449a', 'Olfr527', 'Pou5f1', 'Rbl2', 'Tk2', 'Cars', 'Ppt2', 'Fgf10', 'Mir155', 'Rassf5', 'Nsf', 'Acyp2', 'Gp9', 'Masp1', 'Cd79b', 'Rps17', 'p120', 'Olfr173', 'Stem', 'Elob', 'Flower', 'Atp6v0a4', 'Atg13', 'Fish', 'Adcy8', 'Uba2', 'Olfr1215', 'Dhcr24', 'Tigar', 'Sstr5', 'Eprs', 'Gnb3', 'Fut7', 'Rfc2', 'Immunity', 'Nt5c3', 'Rps27rt', 'Olfr1135', 'Acacb', 'Sephs1', 'Olfr139', 'Ivanov', 'Btg3', 'Adgrb1', 'Msx1', 'Wysocka', 'Ppih', 'Polr2l', 'Plb1', 'Bpnt1', 'Klk1b26', 'Xrn1', 'Chst1', 'Ube2w', 'Kuppers', 'Edem3', 'Grm8', 'Olfr881', 'ND5', 'Rpp25', 'Gapdh', 'Carcinogenesis', 'Ampd3', 'Casp8', 'Pnpla7', 'Olfr738', 'Ucp1', 'Olfr429', 'Olfr1079', 'Self', 'Il6ra', 'Wnt9b', 'Rps6ka2', 'Hes7', 'Pik3r4', 'Setdb2', 'Ndufa11', 'Olfr517', 'Lama2', 'Axin2', 'Ppp2r1b', 'Chung', 'Socs2', 'Olfr275', 'Jarid2', 'Card9', 'Ugt2b38', 'P2rx1', 'Psma5', 'Ap2a2', 'Olfr1316', 'Syk', 'Dhx8', 'Chmp1a', 'Hcls1', 'Tubb4b', 'Cyb5rl', 'Mylk4', 'Boc', 'Olfr846', 'Gtf2h1', 'Dhrs3', 'Farsa', 'Defending', 'Kcnj11', 'Dot1l', 'Etv5', 'Fabp4', 'Olfr854', 'Nck1', 'Pla2g16', 'Mpp5', 'Grin1', 'Iwakura', 'Eps15l1', 'Olfr866', 'Choi', 'Transcription', 'Do', 'Cyp2d10', 'Olfr1010', 'Tpi1', 'Gm2002', 'Gu', 'Kcnj10', 'Olfr195', 'Olfr791', 'c-Myc', 'Alcalay', 'Olfr536', 'Tsta3', 'Pigk', 'X-ray', 'Fgf4', 'Eif3c', 'Cldn16', 'Dtx4', 'Irf3', 'Olfr675', 'Ikbke', 'Mvb12b', 'Ppp2r5e', 'Olfr1356', 'Four', 'Slc51a', 'Alas1', 'Arima', 'Tlr3', 'Myc', 'Pole3', 'Olfr1220', 'Ctsl', 'Olfr630', 'Reith', 'Olfr362', 'Prep', 'Map3k13', 'Jam2', 'Cd28', 'Wdr36', 'Pold4', 'Mvk', 'Brito', 'Mir29b-2', 'Gucy1a1', 'Olfr1028', 'Capza3', 'Vps37d', 'Gastroenterology', 'Galm', 'Slc27a1', 'Tlr1', 'Cacna1i', 'Nt5c3b', 'Mir133a-1', 'Ppp1r3d', 'Olfr707', 'Rora', 'Chad', 'Thoc5', 'Arap3', 'Stx5a', 'Slc12a2', 'Prpf18', 'Tfdp2', 'Car15', 'COX1', 'Rps4x', 'Dok1', 'Liu', 'Rfc3', 'Htr1b', 'Cytokine', 'Rdh11', 'Car13', 'Adpgk', 'Scn4b', 'Olfr917', 'Olfr745', 'Mir194-2', 'Vps28', 'Pla2g2c', 'Utp6', 'Glce', 'Maml3', 'Tbpl2', 'Lamc3', 'Gsta2', 'Ubiquitylation', 'Skiv2l', 'Nanog', 'Mir1a-1', 'Trpc6', 'Majumder', 'Cox7b2', 'Brca2', 'Sec22b', 'Sod1', 'Il13', 'Agrp', 'Olfr116', 'Olfr1213', 'Pecam1', 'Phospho1', 'Hes5', 'Car7', 'Cebpa', 'Pgls', 'Enpp4', 'Cbl', 'Gpr50', 'Taz', 'Aasdhppt', 'Olfr596', 'Npy1r', 'B4galt5', 'Mcrs1', 'Grin2b', 'Nfkb2', 'Ercc5', 'Polr3c', 'Diabetologia', 'Ndufaf3', 'Srr', 'Fgd3', 'Schlegelmilch', 'Cngb3', 'Utp14b', 'Stegmeier', 'Olfr482', 'Sell', 'Menin,', 'Coq3', 'B3gat1', 'Olfr330', 'Hspa1l', 'MiRNA', 'Grk6', 'Tgif2', 'Hsd17b6', 'F2', 'S1pr3', 'Notch', 'Bacterial', 'Derl3', 'Amy2a4', 'Olfr771', 'Cwc15', 'Olfr353', 'Yokota', 'Psd', 'Olfr299', 'Pcbd2', 'Rad9a', 'F11r', 'Cyp2a4', 'Structural', 'Chit1', 'Amy2a5', 'Mhc-guided', 'Ist1', 'Dmbt1', 'Ntpcr', 'Nhlrc1', 'Tnfaip3', 'Ppp1r3b', 'Hand1', 'B3galt6', 'Olfr566', 'Slc44a4', 'Ces2a', 'Plin2', 'Olfr899', 'Mir96', 'Ptpn13', 'Pdgfc', 'Cga', 'Ppip5k1', 'Means', 'Stx2', 'Htr1a', 'Clca2', 'Ces2c', '[Cullin-based', 'Benhenda', 'Lias', 'Sayed', 'Tert', 'Mirlet7c-2', 'Apoa5', 'Ikeda', 'Vwf', \"Kaposi's\", 'Stx19', 'Shih', 'Creb5', 'Chrna5', 'Mag', 'n-R5s117', 'Rasal3', 'Rpl37', 'Nrcam', 'Bnip3l', 'Fgr', 'Psme2b', 'H2-Aa', 'Modulation', 'Hbs1l', 'Olfr395', 'Ppox', 'Ctnna3', 'Dsg1a', 'Abeliovich', 'Sox17', 'Ccnd3', 'Hs6st2', 'Sumo3', 'Tomt', 'Bcl2a1b', 'Raet1e', 'Fgf17', 'Kmt2a', 'Nup210l', 'Spp1', 'Sele', 'Fat4', 'Pigv', 'Nakanishi', 'Ddx6', 'Atp5l', 'Slc27a6', 'Trp73', 'Snrpe', 'Olfr998', 'Cma1', 'Mttp', 'Rfx5', 'Dnmt1', 'Mecr', 'Rps9', 'Ppp2r2b', 'Wars2', 'Tgfb1', 'Pik3cg', 'Arfgap1', 'Nadsyn1', 'Ppp2cb', 'Olfr610', 'Olfr954', 'Cryl1', 'Gm21586', 'Tacr3', 'Orc6', 'Clca3a2', 'P2ry13', 'Hsd17b3', 'Aqr', 'Nans', 'Slc25a31', 'Mtmr14', 'B3glct', 'Scarb2', 'Taf7', 'Herc3', 'Aars', 'Psmd1', 'Bmp5', 'Slc39a8', 'Uba7', 'Funderburgh', 'Pde7b', 'Bok', 'Mgat5', 'H2-D1', 'Krt18', 'Med1', 'Ptger3', 'Gmpr', 'Dnaja1', 'Ptpn7', 'Ndufa4l2', 'Usp15', 'Rab11fip5', 'Nup205', 'Atp4a', 'Rpl27', 'Nectin3', 'Avpr1b', 'Gucy1a2', 'Thpo', 'Di', 'Hsf1', 'Ebp', 'Robo3', 'Mefv', 'Eif2s2', 'Prnp', 'Pla2g6', 'Fancg', 'Rab11fip2', 'Dhx16', 'Aqp2', 'Epigenetic', 'Olfr746', 'Col22a1', 'Cd200r1', 'Polr2e', 'Olfr293', 'Olfr887', 'Pank2', 'Psmd11', 'Pgam1', 'Dgki', 'Mef2c', 'Ishida', 'Erc1', 'Dnali1', 'Fgf15', 'Pecr', 'Fmr1', 'Sh3gl2', 'Zeb2', 'Arhgef12', 'Trombetta', 'Ctbp1', 'Vdac1', 'Nlrp1b', 'Derl1', 'Rif1', 'Deans', 'Tacr2', 'Srp68', 'Xcl1', 'Olfr1241', 'Azin2', 'Olfr554', 'Col4a2', 'Igf1r', 'Wnt10b', 'Taf6', 'Tlr5', 'Fdft1', 'Krt39', 'Xrcc2', 'Serpinb6c', 'Jag2', 'Rpl11', 'Unc13a', 'No', 'Mir203', 'Ets1', 'Hcn2', 'Npl', 'Olfr368', 'Pigg', 'Poln', 'Fut9', 'Ubb', 'Olfr394', 'Chee', '60S', 'Inppl1', 'Cul3', 'Loniewski', 'Cxcl11', 'Npr2', 'Nbr1', 'Olfr1038-ps', 'Dntt', 'Ppp1ca', 'Olfr133', 'Psmb2', 'Vnn1', 'Olfr1039', 'Hmgcr', 'Aman', 'In', 'Srsf9', 'Rottensteiner', 'Akap8l', 'Atrip', 'Nxf1', 'Adh7', 'Spliceosome', 'Ampd2', 'Cdk5', 'Gcsh', 'Gnptab', 'Alg9', 'Pde4a', 'Acp1', 'Nos2', 'Becker', 'Olfr1160', 'Sh2d1a', 'Pnpla6', 'Eef2k', 'Olfr1214', 'Cp', 'Fnta', 'Fech', 'Prss2', 'Sema4a', 'Ultraviolet', 'Rxrb', 'Mthfd2', 'COX2', 'Mylk2', 'Olfr1348', 'Fbp1', 'Retinoid-related', 'Wendler', 'Dpp4', 'Hpd', 'Nup188', 'Vdr', 'Rpl13a', 'Dars', 'Stx8', 'Hist1h2ad', 'H3f3c', 'Enpep', 'Olfr1157', 'Dbt', 'Olfr780', 'Olfr857', 'Rps12', 'Hilman', 'Hist3h2ba', 'Fosl1', 'Cd244', 'Scd3', 'Washc2', 'Sp100', 'Colgalt1', 'Nmnat3', 'Mukherji', 'Neu4', 'Prune1', 'Crh', 'Cckbr', 'Ak7', 'Sept5', 'Olfr561', 'CYTB', 'Odc1', 'Nop53', 'Acvr1b', 'VAMP-7', 'Baumgart', 'Olfr287', 'Prkab2', 'Olfr281', 'Benn', 'Olfr558', 'Tbkbp1', 'Calm1', 'Snx12', 'Wbscr17', 'Gut', 'Hus1', 'Tnfrsf13c', 'Physiology', 'Slc7a1', 'Ashizawa', 'H2-Bl', 'Krt20', 'Cycs', 'Calm5', 'Regulatory', 'Cpeb1', 'Trpc5', 'Leuk', 'Olfr1048', 'Slco1b2', 'Bckdhb', 'Girault', 'zur', 'Grap2', 'Um', 'Taf11', 'Cpsf7', 'Il21', 'Ube3b', 'Car8', 'Olfr1008', 'Ifnar1', 'Ghr', 'Sgms2', 'Olfr535', 'Cldn10', 'Gad1', 'Beta', 'Agps', 'Hbb-b1', 'Olfr90', 'Lef1', 'Itch', 'Ssh1', 'Il6', 'Arhgap5', 'Ikbkg', 'Aox3', 'Telo2', 'Cd40', 'Tbp', 'Chrna7', 'Rhobtb2', 'Ramp3', 'Upf2', 'Cel', 'Arg1', 'Olfr341', 'Gimm', 'Plpp1', 'Aldh7a1', 'Arsb', 'Aldh18a1', 'Nog', 'Dunican', 'Dera', 'Gata4', 'Cyp4f13', 'You', 'Smarcc2', 'Psmb6', 'Sui', 'Ube2o', 'Dao', 'Abcd3', 'Inhbb', 'Rps2', 'Salmonella', 'Chrnd', 'Cox8b', 'Elovl7', 'TrnV', 'Inmt', 'Kraemer', 'Ins1', 'Olfr1302', 'E2f3', 'Olfr311', 'Immunological', 'Aurka', 'Riok2', 'Role', 'Lancet', 'Htra2', 'Cfi', 'Rfc5', 'Uap1l1', 'Pira1', 'Scly', 'Ctso', 'Olfr1046', 'Klc1', 'Mrpl3', 'Acad8', 'Olfr157', 'Olfr325', 'Olfr819', 'Kcnd2', 'Acot2', 'Darwin', 'Alox5ap', 'Dsg1b', 'Hnf1a', 'Olfr649', 'Olfr1163', 'Olfr748', 'Hippo', 'Ggt5', 'n-R5s144', 'Ugt1a7c', 'Psmb10', 'Klhl13', 'Tead1', 'Olfr378', 'Smad7', 'Lizee', 'Lig3', 'Gss', 'Rpa3', 'Olfr1206', 'Rapoport', 'Mir133a-2', 'Hes6', 'Irf4', 'Tgif1', 'Erbb2', 'Genetic', 'Fzd3', 'St6galnac3', 'Far2', 'Heterozygous', 'Prodh', 'Ptprj', 'Serpinb6b', 'Nup160', 'Onecut1', 'Olfr1353', 'Olfr669', 'Slc22a5', 'Mrpl1', 'Sumo1', 'Hao1', 'Early', 'Phax', 'Spang', 'Mullock', 'Cfh', 'Klk1b22', 'Clec4e', 'Olfr1386', 'Sat2', 'Dock1', 'Ces1e', 'Slc3a2', 'Stx4a', 'Hotz', 'Olfr114', 'Honey', 'Amotl2', 'Tas2r139', 'Fmo2', 'Wnt11', 'Olfr1288', 'ICP22', 'Mob1a', 'Systematic', 'Cyp26a1', 'Camk2a', 'Aox4', 'Abca6', 'Mcm7', 'Patl1', 'Saldivar', 'Olfr641', 'Nhej1', 'Rcan1', 'Col3a1', 'Olfr583', 'Smg6', 'Map3k4', 'Ppp2r5c', 'Reiter', 'Npffr2', 'Prkcsh', 'Olfr332', 'Uracil-DNA', 'Olfr146', 'Sec61g', 'Fzd6', 'Dnajb11', 'Gulo', 'Ugt1a9', 'Ndufa9', 'Med8', 'Hofseth', 'Pabpc4', 'Pak4', 'Il6st', 'Mir181a-2', 'InTech', 'Hum', 'Mir7b', 'Ddb1', 'Coyne', 'Ppp1r17', 'Balint', 'Spn', 'Gsdmd', 'Slack', 'Slc37a4', 'Bellmunt', 'Acaa2', 'Complex', 'Camkk1', 'Adra2b', 'Slc6a19', 'Cxcr2', 'Iqsec3', 'Ido2', 'Olfr1440', 'Tpmt', 'Tas2r129', 'Murata', 'Ak8', 'Pln', 'Gps2', 'Olfr125', 'Jacquemont', 'Chrm5', 'Tomm40l', 'Stat4', 'Xcr1', 'Mir199a-1', 'Ngf', 'Rehemtulla', 'Pharmacol', 'Akr1b8', 'Gm29376', 'Klk1b8', 'Snx4', 'Pcgf6', 'Rab11fip1', 'Slc22a1', 'Crot', 'Zmat3', 'Olfr1265', 'Chang', 'Z', 'Maoa', 'Csf2rb', 'Tubal3', 'Mir34a', 'Nnmt', 'Mir128-2', 'Cyp2r1', 'Klra8', 'Camk2g', 'Irf7', 'Trpa1', 'Olfr794', 'P4ha1', 'Cysltr2', 'Olfr691', 'Adv', 'Il18r1', 'Tcf3', 'Olfr948', 'Bond', 'Snai2', 'Atp6v0c', 'Rbl1', 'Ube2a', 'Sticky', 'Olfr1178', 'Dlg1', 'Sf3a3', 'Trends', 'Gm7020', 'Ppcdc', 'Mpp4', 'Srgap2', 'Irf8', 'Pde3a', 'Sf3a1', 'Tab3', 'Olfr1357', 'Map2k3', 'Fshr', 'Hnrnpu', 'Live', 'Olfr530', 'Smurf2', 'Verma', 'Mir223', 'Ndufs6', 'Rin1', 'Houseley', 'Olfr259', 'Ap1g1', 'Mir18', 'Fbxw7', 'Itgb4', 'Muc2', 'Grk4', 'Olfr61', 'Pdcd4', 'Rev3l', 'Calcr', 'Htr5b', 'Dcps', 'Pklr', 'Mak', 'Csgalnact2', 'Siu', 'Sod2', 'Akt3', 'Rag1', 'Cxcl14', 'Epn3', 'Plat', 'Ugt1a6b', 'Sar1a', 'Igf2r', 'Ddb2', 'Eif2b1', 'Olfr352', 'Idi2', 'Ppp5c', 'Olfr1423', 'Cytokines', 'Wt1', 'Olfr1337', 'Alg6', 'Ihh', 'Rmi2', 'Olfr1444', 'Slc18a2', 'Ldha', 'Lypla2', 'Yars2', 'P2ry2', 'Antxr1', 'Ghrhr', 'Lmna', 'H2afb3', 'Olfr710', 'Pycr1', 'Grk5', 'Slc17a5', 'Prkch', 'Itgb5', 'Klb', 'Gch1', 'FEBS', 'Nr4a2', 'Vapa', 'Mutations', 'Abcd2', 'Map3k1', 'Recent', 'Olfr601', 'Olfr1226', 'Diaph3', 'Holthuis', 'Welch', 'Apoc1', 'Hdac8', 'ATP6', 'Dusp5', 'Olfr654', 'Top3b', 'RIG-I-like', 'Mpo', 'Ifnk', 'Adcy9', 'Ssh3', 'Map2k2', 'Gm4340', 'interleukin-11', 'Traf2', 'Olfr995', 'Stt3b', 'Hoxa9', 'Epor', 'Acsf3', 'Chemokines:', 'Acvr1c', 'Polr3a', 'Mlxipl', 'Atp6v1d', 'Nat2', 'Man1b1', 'Dunn', 'Ctse', 'Nol6', 'Papss1', 'Cckar', 'Slc27a5', 'Dusp16', 'Gabarapl1', 'H2al1a', 'Olfr1381', 'Ext1', 'Hacd1', 'Ret', 'Trpm6', 'Lepr', 'Litaf', 'Angptl4', 'CD226', 'Tm7sf2', 'Tk1', 'Olfr1469', 'Sqstm1', 'Angst', 'Olfr266', 'Kcnn4', 'Ap4e1', 'Enoph1', 'Itga7', 'Schroeder', 'Ap1m2', 'Relt', 'Mrpl27', 'Interferon', 'Rgl1', 'Dld', 'Olfr853', 'Rap1a', 'Cacnb1', 'Fau', 'Tnfsf12', 'Krt42', 'Hauck', 'Ifna12', 'Pycr2', 'Epha8', 'Prdm4', 'Mir30b', 'Man1a', 'Ito', 'Mir27b', 'Eif2ak1', 'Ccl21c', 'Olfr1155', 'Cd27', 'An', 'Sil1', 'Olfr172', 'Fuca2', 'Olfr803', 'Smpd4', 'Gadd45g', 'Myl6', 'Olfr1284', 'Ifnl3', 'Mini', 'Hgs', 'Fga', 'Spam1', 'St6gal1', 'Tlr9', 'Mir125b-2', 'Olfr944', 'Dkk1', 'Cyp2d9', 'Cul7', 'Olfr367-ps', 'Fgf3', 'H2-T9', 'Alg12', 'Siah1a', 'Kcnj15', 'Gabra4', 'Trove2', 'Parp4', 'Rab33b', 'Lang', 'Sgcb', 'Sec31b', 'Lutterbach', 'Hyal1', 'Gabrr3', 'Inpp5a', 'Olfr1245', 'Hist1h2bb', 'Driving', 'Ppp1r3e', 'Olfr1233', 'Aox1', 'Olfr123', 'Actl6b', 'Eif3b', 'Actn1', 'Ntng1', 'Morita', 'Polh', 'Ogdh', 'Wong', 'Lyz1', 'Pard6g', 'Gspt2', 'Il9r', 'Bet1', 'Gm5136', 'Aldoa', 'Foxp3', 'Olfr344', 'Olfr523', 'Cmas', 'Kcnk5', 'Plcg1', 'Sci', 'Upf1', 'Anapc2', 'Cldn34c4', 'Pnpla3', 'Cdo1', 'Ap3b1', 'Gm10681', 'Pqbp1', 'Olfr1383', 'Qdpr', 'Iqsec2', 'Afp', '[Overview:', 'Nupr1', 'Goransson', 'Vtn', 'Pwp2', 'Olfr750', 'Gpx3', 'Lefty2', 'Zfp36l2', 'Gp1ba', 'Me3', 'Signaling', 'Rdh16', 'Mostov', 'Mrpl22', 'Olfr3', 'Olfr836', 'Lpcat3', 'Cyp1a1', 'Agxt2', 'Adrb1', 'Mir15b', 'Rpn1', 'Mir101a', 'Ramp2', 'Trp53inp1', 'Slc23a1', 'Cacna1f', 'Pomgnt1', 'Srsf5', 'Soat2', 'Slc24a4', 'Hist1h2ae', 'Cyp2b23', 'Olfr553', 'Agmat', 'Iwai', 'Roles', 'TatC', 'Bcr', '1810009J06Rik', '[Mechanism', 'Mcm4', 'Abcb5', 'Rdh5', 'Olfr122', 'Il3', 'Lamtor2', 'Ido1', 'Antiviral', 'Nakagawa', 'Hgd', 'Olfr11', 'Orai3', 'Olfr1118', 'Pdyn', 'Lap3', 'B3gnt4', 'Severe', 'Coasy', 'Mrps18b', 'Mir494', 'Eif6', 'Ddx42', 'Mc3r', 'Arfgef2', 'Ccnb3', 'Olfr187', 'Olfr524', 'Spender', 'Plk3', 'Rorc', 'Abcc2', 'Mc1r', 'Cd22', 'Sqle', 'Ncam1', 'Abl1', 'Vav3', 'Bcl10', 'Setd3', 'Ap3b2', 'Nfkbiz', 'Ndufa5', 'Nln', 'Ccl1', 'Erg', 'Tnfsf13b', 'Raet1d', 'Mrc1', 'Hk1', 'Icos', 'Nectin2', 'Itgb7', 'Esfandiarei', 'Aldh3b3', 'Hspbp1', 'Lig1', 'Olfr209', 'Plod3', 'Ndufc2', 'Chst5', 'Npy5r', 'Chrna2', 'Sptlc3', 'NHP2-like', 'Olfr10', 'Kif5a', 'Tas2r107', 'Ccnd2', 'Olfr433', 'Ube2l6', 'Ephb4', 'Olfr8', 'Gm10591', 'Clemons', 'Smug1', 'Olfr799', 'Ndufa1', 'Gzmb', 'NPSN11', 'Lsm5', 'Oxtr', 'Top3a', 'Pdha2', 'Anapc1', 'Olfr1392', 'Watts', 'Cnot6l', 'Mir99a', 'JAKSTAT', 'Gpd1l', 'Hermeking', 'Ugt2b34', 'Krt33b', 'Rab1a', 'Msx2', 'Snx3', 'Olfr1418', 'Olfr670', 'Pex2', 'Olfr789', 'Chrna9', 'Nt5e', 'Eif4e1b', 'Rps27a', 'Ccl11', 'Prkar2a', 'Cpsf6', 'Uimc1', 'Oxsm', 'Hlcs', 'Atg4c', 'Olfr435', 'Gabra1', 'Fcgr2b', 'Kcnq5', 'Nme1', 'Sema3f', 'Olfr514', 'Flot2', 'Olfr1489', 'Yu', 'SNARE', 'Mapk3', 'Map3k12', 'Ngef', 'Cyp7a1', 'Cxadr', 'Casp3', 'Irak3', 'Acsl6', 'Rangap1', 'Mgat5b', 'Exosc3', 'Bax', 'Gm5741', 'Amacr', 'Ahcy', 'Minireview:', 'Asah2', 'H2-T10', 'Rpl19', 'Ajuba', 'Elovl2', 'Mgat1', 'Polr3gl', 'Gm12260', 'Xpo1', 'Tcf7l2', 'Myxoid', 'Ddc', 'Rraga', 'Rdh8', 'Phka2', 'Yod1', 'Mir16-2', 'Sept8', 'Cdc45', 'Psmb11', 'Sfn', 'Etv4', 'Pip4k2c', 'Asic2', 'Endobrevin,', 'Tpo', 'Cd33', 'Itga2', 'Chrnb3', 'Olfr744', 'Ids', 'Nonstructural', 'Vars2', 'Nefh', 'Harada', 'Elmo1', 'Plekhm2', 'Olfr145', 'Olfr16', 'Olfr402', 'Csf2rb2', 'Tkfc', 'Ssr3', 'Fabp1', 'Olfr286', 'Cmpk2', 'Olfr1243', 'Manba', 'Ccr8', 'Alas2', 'Abcb1a', 'Sdc4', 'Gfap', 'Chst7', 'Matsuoka', 'Fpgs', 'Cd209a', 'Apoptosis,', 'Chsy3', 'Ppargc1a', 'Olfr725', 'Olfr1225', 'Ocrl', 'Olfr1448', 'Fip1l1', 'Olfr251', 'Lao1', 'Amd1', 'Rnf7', 'Kawabata', 'Trpm8', 'Ndst1', 'Alox5', 'Mc5r', 'Olfr1471', 'Kobelt', 'Reddi', 'Xpot', 'Cstf3', 'Zoranovic', 'Slc38a2', 'Olfr824', 'Ripk1', 'Frs2', 'Eif4b', 'Cdc25a', 'Homologous', 'Waga', 'Atf6', 'Olfr211', 'Atp1b4', 'Oncogenic', 'Efl1', 'Nudt9', 'Dgkq', 'Kcnma1', 'Lta4h', 'Eef1d', 'Future', 'Txnip', 'Olfr806', 'Tlr2', 'Nrf1', 'Cd209d', 'Prekeris', 'Pabpn1l', 'Coa4', 'Ppp2ca', 'Krt35', 'Olfr1153', 'Aldh1b1', 'Pgm2', 'Fgf22', 'Olfr611', 'Stx1a', 'Ttr', 'Rps6ka1', 'Cyp2d34', 'Pcsk9', 'Gcdh', 'Cldn4', 'Ddost', 'Pex11g', 'Etf1', 'Vdac3', 'Serpinb9e', 'Rfc4', 'Olfr312', 'Med12', 'B3gnt3', 'Olfr161', 'Rmrp', 'Upf3a', 'Creb3', 'Olfr782', 'Olfr655', 'Maturation', 'Ube2d2a', 'Alcam', 'Pnpt1', 'Olfr1179', 'Pik3c2b', 'Mnat1', 'Snrpg', 'Gnl2', 'Slc38a9', 'Mir30c-2', 'Trpv6', 'Jacobs', 'Rac2', 'Rcan2', 'Tcf7', 'Smpd3', 'Star', 'C2', 'Olfr25', 'Olfr741', 'Naip6', 'Cnga3', 'Pias1', 'H2-Q6', 'Olfr644', 'Nrg1', 'Cd274', 'Caly', 'Entpd2', 'Foxo1', 'Wdr24', 'Vps37a', 'Rrm1', 'Ccnt2', 'Dbh', 'Olfr142', 'Olfr97', 'Olfr1259', 'Mirlet7c-1', 'Ppp2r5a', 'Nt5c1b', 'Olfr1036', 'X', 'Anapc5', 'Cd7', 'Olfr1359', 'Kwun', 'Sap18b', 'Mapk8', 'Smc1b', 'Cd34', 'Olfr92', 'Man2b2', 'St3gal1', 'Grk3', 'Olfr421-ps1', 'Impa1', 'Uqcrh', 'Anapc7', 'Krt24', 'Hc', 'Tfpi', 'Blood', 'Cyp3a25', 'Shisa5', 'Notum', 'Hes1', 'Psd4', 'Dlg4', 'Rice', 'Integrating', 'Cacna1b', 'Rhod', 'Olfr1427', 'Thbd', 'Galr1', 'Inhbc', 'Ifna5', 'Cdh1', 'Stx6', 'Prpf31', 'Sptlc2', 'Cxcr6', 'Olfr575', 'Atp2a1', 'Pigu', 'Klrk1', 'Mbl1', 'Olfr111', 'Borowski', 'Actr3', 'Wipi1', 'Tnfrsf13b', 'Susp4', 'Polr3e', 'Acin1', 'Psap', 'Max', 'H2-Q4', 'Uba1', 'Olfr934', 'Olfr629', 'Tubb4a', 'Rps15a', 'Nfkbib', 'Olfr1184', 'Rbbp5', 'Transformation', 'Fpr2', 'Grhpr', 'Cacna1s', 'Inaba', 'Tln2', 'Slc1a2', 'Grk1', 'Ccng2', 'Rpl31-ps12', 'Olfr574', 'Wnt16', 'Sheu', 'Uchl1', 'Acsm1', 'Arena', 'Htr2a', 'Olfr488', 'Kashanchi', 'Cooper', 'Olfr905', 'Hist1h2ac', 'Olfr194', 'Chrm2', 'Holowaty', 'Ndufaf7', 'Optn', 'Robo2', 'Nars2', 'MicroRNAs', 'Xrcc6', 'Acaca', 'Mir181b-2', 'Olfr5', 'Itpa', 'Gbe1', 'Wwp1', 'Rars', 'Itgae', 'Olfr449', 'Lyl1', '1700061G19Rik', 'Pld2', 'B4galnt1', 'F7', 'Olfr197', 'Xrcc3', 'Olfr1504', 'Cul1', 'Kcnk10', 'Aacs', 'Hmgn1', 'Col4a3', 'Twist2', 'Sec61a1', 'Tpm3', 'Clca3a1', 'A2m', 'Krt23', 'Mrc2', 'Cldn17', 'Tob2', 'Chrna10', 'A', 'Cd2ap', 'Structure-function', 'Mir25', 'Hepatol', 'Eif3h', 'Olfr1279', 'Cks2', 'Olfr292', 'Car4', '[Structure', 'Methods', 'Washc1', 'Sobrinho-Simoes', 'Cst3', 'Zeisig', 'Atp5k', 'Kcna4', 'Seh1l', 'Btc', 'Ckmt1', 'Tmem5', 'Cd226', 'Fshb', 'Olfr1311', 'Bace2', 'Ndufab1', 'Idua', 'Vav1', 'Psme4', 'Nfyc', 'Camk1g', 'Ddx46', 'Map3k3', 'Col2a1', 'Tcl1b4', 'Arhgef1', 'Fbxw8', 'Ccl5', 'Egf', 'Prkdc', 'Olfr1173', 'Slc38a5', 'Raft', 'Prkaa2', 'Araf', 'TrnD', 'Adra2c', 'Psmc5', 'Dhx58', 'Pathways', 'Olfr339', 'Mut', 'Mapk1', 'Kng1', 'Gne', 'Atp6v1b1', 'Dbi', 'Gm38481', 'Epb41l4b', 'Strunk', 'Dey', 'Twist1', 'Olfr297', 'Olfr937', 'Tap1', 'Takeuchi', 'Olfr1122', 'Olfr70', 'Stx12', 'Ereg', 'Gm25212', 'N-MYC', 'Fosb', 'Core', 'Olfr222', 'Gdf7', 'Entpd5', 'Il11ra1', 'Klk1b9', 'Atg10', 'Kif5b', 'Olfr350', 'Defa3', 'T-bet', 'Olfr76', 'Strada', 'Olfr1246', 'Amhr2', 'Anpep', 'Olfr1425', 'Olfr201', 'Rexo5', 'Lcn2', 'Lamb3', 'Kiu', 'Plcg2', 'Olfr1176', 'Cyfip2', 'Summary', 'Olfr690', 'Tfeb', 'Ces2e', 'Cant1', 'Ptgis', 'Sgo1', 'Asap1', 'Dio3', 'Slc51b', 'Eno4', 'ND4', 'Prkcb', 'Rpl38', 'Olfr693', 'Leib', 'Pomt1', 'Cyld', 'Marcks', 'Kcnq4', 'Olfr319', 'Pomerantz', 'Abcg1', 'Il17a', 'Insrr', 'Rubcn', 'Olfr204', 'SNAREs', 'Olfr267', 'Ppp1r14a', 'Olfr1019', 'Iqgap2', 'Mrpl21', 'Gng5', 'Vps25', 'Dpm3', 'Cacna1h', 'Rasal2', 'Cpb1', 'Tsc2', 'Ran', 'Olfr813', 'Col11a1', 'Cyp2d12', 'Bcl2l13', 'Olfr127', 'Olfr607', 'Mbtps2', 'Ccl7', 'TrnF', 'Harcourt', 'Gadd45a', 'Mapk8ip3', '[Atlas', 'Abca12', 'Cdkn2c', 'Lamp2', 'Annu', 'Cox8c', 'Lhpp', 'Smndc1', 'F5', 'Rplp0', 'Chdh', 'Mir221', 'Herc4', 'Olfr578', 'Slc26a7', 'Ndufv2', 'Kat2b', 'E2f2', 'Olfr875', 'Ccr1', 'Procr', 'Knight', 'H2-T24', 'Lrp1', 'Xpo5', 'Ywhaz', 'Cyp2j11', 'Ywhaq', 'Cgnl1', 'Tha1', 'Acsm2', 'Olfr1295', 'Pcbp1', 'Olfr1251', 'Nlk', 'Myh13', 'Olfr1378', 'Mir7j', 'Hirata', 'Sec1', 'ND2', 'Olr1', 'Gene', 'Zelent', 'Cab39l', 'Tusc3', 'Fuca1', 'Ugdh', 'Pigr', 'Ednrb', 'Nupl2', 'Rasal1', 'Thorley-Lawson', 'Mir16-1', 'Aberrant', 'Adipoq', 'Gnpda1', 'Bbc3', 'Nos1ap', 'Supt20', 'Spop', 'Atp6v0e2', 'Arhgef11', 'Cacna2d2', 'Olfr193', 'Rho', 'Fcer1g', 'Tcl1b1', 'Tas2r138', 'Rbck1', 'Nat8f6', 'Mapkapk5', 'Glp1r', 'Nlgn2', 'Slx1b', 'Acta2', 'Huang', 'Gtf2h5', 'Ufd1', 'Pld3', 'Dnal4', 'Ltbr', 'Hsd11b2', 'Olfr108', 'Snrpf', 'Nmnat2', 'Mrps16', 'Mpg', 'Ppp4c', 'Clin', 'TNF', 'Flt4', 'Hoga1', 'Tanigaki', 'Olfr1049', 'Gli1', 'Hes2', 'Map3k20', 'Cmpk1', 'Nampt', 'Arfgef1', 'Cyth2', 'Hsd17b7', 'Mir9-1', 'Olfr582', 'Salzer', 'HBV', 'Rapgef2', 'Des', 'Cfb', 'Olfr93', 'Jiricny', 'Gpt2', 'Vhl', 'Synj1', 'Casc3', 'Olfr1170', 'Olfr374', 'Nat8f1', 'Spata2', 'Olfr138', 'Eno1', 'Ep300', 'Bmi1', 'Six4', 'Arhgef26', 'Sf3a2', 'Olfr921', 'Olfr1186', 'Traffic', 'Chmp4b', 'Slc22a8', 'Mpv17l2', 'Olfr963', 'Reg4', 'Cd40lg', 'Atf3', 'Olfr938', 'Ace2', 'Morris', 'Gm10334', 'Olfr1390', 'Phf10', 'Dgkz', 'Secretion', 'Clpb', 'Olfr538', 'B3gat3', 'Lrrc4c', 'Olfr303', 'Tas2r115', 'Cldn15', 'Kcnu1', 'Cited2', 'Olfr455', 'Matk', 'Rxrg', 'Sds', 'Tbxas1', 'Ptges2', 'Olfr1152', 'Arfgap2', '2610002M06Rik', 'Olfr643', 'Arbuthnot', 'Adh5', 'Map3k5', 'Nars', 'Ifnb1', 'Oxct1', 'Dync1h1', 'Direct', 'Acsm4', 'Cryab', 'Gpat2', 'Olfr808', 'Nxt1', 'Olfr826', 'Daam2', 'Slc7a5', 'Cardiovasc', 'Fgfr1', 'Pla2g2a', 'Olfr153', 'Babam1', 'Hrh3', 'Thomson', 'Pidd1', 'Rce1', 'Olfr348', 'B4galt2', 'Romero', 'Gapdhs', 'Ndufa10', 'TrnC', 'Muller', 'Pla2g3', 'Gabra6', 'Fhit', 'Apbb1', 'Epha5', 'Potter', 'Dpysl2', 'Drd4', 'Spata5', 'Try5', 'Olfr389', 'Cstf2', 'Fos', 'Cyp3a41a', 'Nop10', 'Ap3s2', 'Hist1h2bj', 'Imp3', 'Immp2l', 'Col18a1', 'Elovl6', 'Kyat1', 'Pomp', 'Cldn1', 'Gm26391', 'Rab11b', 'Olfr237-ps1', 'Narisawa-Saito', 'Bcl6', 'Nodal', 'Htr4', 'Shank3', 'Fcer2a', 'Olfr33', 'Lamp1', 'Gucy2e', 'Serpina1e', 'Olfr1389', 'Btg1', 'Olfr205', 'Olfr657', 'Itga5', 'Kcnk9', 'Pex16', 'Gp6', 'Renbp', 'Awat2', 'Nat8l', 'Grpr', 'Grid1', 'Gnai3', 'RNA', 'Serpinf1', 'Cldn11', 'Rfk', 'Parn', 'Rnf185', 'Evolution', 'Olfr181', 'Ndufb8', 'Krt12', 'Stillman', 'Dual', 'Car9', 'Pclo', 'Establishment', 'Cox6c', 'Nr4a1', 'Eif3g', 'SNARE-mediated', 'Ndufb9', 'Hdac6', 'Egln2', 'Ndst3', 'Plch2', 'Cd2', 'App', 'Dcp2', 'Entpd8', 'Gspt1', 'Cav1', 'Olfr978', 'Ispd', 'Mirlet7b', 'Pex1', 'Tmem55a', 'Kdm6a', 'Abcc8', 'Olfr884', 'Ifna9', 'Microbial', 'Cd47', 'Slc16a3', 'Multi-protein', 'Tap2', 'Martin', 'Gfpt1', 'Sem1', 'Slx4', 'Siegel', 'Adcyap1', 'Schang', 'Sgsh', 'Microbiology', 'Drd1', 'Nmur1', 'Abca8b', 'Ccnb2', 'Rab22a', 'Olfr1183', 'Ccl3', 'Nf2', 'Parvb', 'Mir363', 'Cyp4a32', 'Tgm2', 'Hist3h2a', 'Ccl8', 'Ephb3', 'Tmem55b', 'Nqo1', 'Olfr192', 'Slc31a1', 'Saini', 'Olfr1312', 'Dctn4', 'Pck1', 'Nsfl1c', 'Psmb3', 'Dnajb2', 'Olfr1115', 'Bmf', 'Ap1g2', 'Cunningham-Rundles', 'Atp6v0a2', 'Sfrp4', 'Pde4c', 'Eif4ebp3', 'Fgf16', 'Ozaki', 'Mir193b', 'Dapp1', 'Lhx5', 'St6galnac6', 'Gli2', 'Magi2', 'n-R5s100', 'Ifna15', 'Kidins220', 'Krit1', 'Lalba', 'Arpc1a', 'Hist2h2aa1', 'Ndufaf4', 'Ifna7', 'Nadk2', 'Mapk8ip2', 'Dancing', 'Lin', 'Fbxo5', 'Olfr1134', 'Flnb', 'Mrpl30', 'Rab10', 'Mtm1', 'Olfr935', 'Adrb2', 'Urah', 'Cxcl5', 'Peroxisomal', 'Gna13', 'Mlf1', 'Hyal3', 'Adcy10', 'Olfr983', 'Tars', 'Gba', 'Olfr1218', 'Chst14', 'Tdg', 'Molecular', 'Rassf4', 'TRADD', 'Coe', 'Olfr1112', 'Polr2a', 'Olfr1262', 'Mir17', 'Olfr1020', 'Slc27a2', 'Crnkl1', 'Immunol', 'Carnmt1', '1300017J02Rik', 'Ubr4', 'Prkd2', '[DNA', 'Slamf1', 'Tan', 'Aoc2', 'Mgst2', 'Olfr380', 'Dck', 'Grid2', 'Olfr15', 'Iars', 'Olfr775', 'Olfr453', 'Bcap31', 'Olfr1052', 'Atp5a1', 'Slc25a20', 'Oxa1l', 'Crtc2', 'Tnfrsf25', 'Itk', 'Asic1', 'Itgax', 'Mc2r', 'Cdc14b', 'Olfr390', 'Msr1', 'Cstf1', 'Connecting', 'Rpl28', 'Atp1b1', 'Abca8a', 'Ank3', 'Hist1h4a', 'Ifi204', 'Src', 'Mrps15', 'Sec61a2', 'Cacng2', 'Kcnk2', 'Il7r', 'Olfr923', 'Schulz', 'Bergmann', 'Kcnj13', 'Gys2', 'Agxt', 'Tmprss4', 'Txn2', 'Human', 'Madcam1', 'Gdf6', 'Olfr342', 'Olfr1013', 'Paetzel', 'Mycn', 'Grb10', 'Cdkn2a', 'Nme4', 'Mfsd8', 'Skiv2l2', 'Snap25', 'PMID:16922408', 'Pla2g2d', 'Nlgn3', 'Ctsb', 'Cyp4a12a', 'Folh1', 'Olfr689', 'Olfr1320', 'Nat8', 'Ding', 'Sh3gl1', 'Pde3b', 'Ptger4', 'Chrna1', 'Rpl23a', 'Dgka', 'n-R5s111', 'Cps1', 'Pxn', 'Snupn', 'Fis1', 'Ccl26', 'Cyp4x1', 'Executioners', 'Braf', 'Pms2', 'Erbb3', 'Cacng6', 'Acads', 'Cers6', 'Cldn19', 'Dnmt3b', 'Rps5', 'Tas2r119', 'Fgd1', 'Gm4737', 'Mir451a', 'Olfr136', 'Coa7', 'Ikejima', 'Maquat', 'MHC', 'Mrpl34', 'Vam7p,', 'Fmo4', 'Gabrr2', 'Farp2', 'n-R5s138', 'Gif', 'Mef2b', 'Ccl9', 'Kmt2c', 'Jedlicka', 'Olfr1240', 'Tas2r137', 'Ppp3r1', 'Fmo1', 'Ykt6', 'Olfr676', 'Hspb1', 'Hist1h2an', 'Rps20', 'Lpcat1', 'Trpv3', 'Lipt2', 'Glycobiology', 'Mmp1a', 'Ghrl', 'Washc4', 'Plod2', 'Paics', 'Itgb2l', 'Cyth4', 'Irak2', 'Gsta3', 'Gcgr', 'Adssl1', 'Nfe2l2', 'Olfr1198', 'Olfr1054', 'Ssh2', 'Kcnj16', 'Subramaniam', 'Dnmt3a', 'Cd209e', 'Rps24', 'Prdm16', 'Babashah', 'Alpl', 'Olfr1278', 'Olfr969', 'Mir23b', 'Sv2b', 'Ifi207', 'Agt', 'Olfr441', 'Kat5', 'Eif3a', 'Ears2', 'Kressler', 'Arpc1b', 'Tuba4a', 'Wnt8b', 'TrnM', 'Eme2', 'Adora2a', 'Grik5', 'Olfr1289', 'Gipr', 'Plpp4', 'Prim1', 'Col9a2', 'Notch3', 'Axin1', 'Llgl1', 'Mir20a', 'Mme', 'Olfr623', 'Olfr356', 'Smc3', 'Agl', 'B.C.Decker', 'Large2', 'Rec8', 'Lmo2', 'Mpst', 'Galns', 'Rrm2', 'Chrng', 'Harhaj', 'Olfr1290', 'Tas1r2', 'Gaffen', 'Slc27a4', 'Vitam', 'Olfr552', 'Fgf23', 'Capn2', 'Gm13304', 'Ptprf', 'Got1', 'Msh2', 'c-C', 'Socs7', 'Mapk11', 'Canx', 'Rala', 'Sema4g', 'Angpt1', 'Pla2g5', 'Epn2', 'Cd276', 'Th', 'Atp6v1g1', 'Naga', 'Uba52', 'Crat', 'Ager', 'Agk', 'Turn-off,', 'Olfr354', 'Zabolotneva', 'Lpo', 'Clns1a', 'Fars2', 'Hist1h4i', 'Pathophysiology', 'Olfr820', 'Ceredig', 'Gucy2f', 'Laptm4b', 'Gm9733', 'Rictor', 'Acly', 'Olfr318', 'Aldh9a1', 'Tas2r116', 'Nt5c2', 'Il33', 'Pabpc6', 'Olfr1412', 'Ncbp2', 'Olfr307', 'Sik1', 'Ptgfr', 'Olfr346', 'Proteasomes', 'Med13l', 'Trpc3', 'Rad54:', 'Atp5o', 'Eif4g2', 'Gurtsevitch', 'Trpc1', 'Daglb', 'Mir29a', 'Chem', 'Pisd', 'Colec11', 'Tpcn2', 'Rxfp3', 'Pom121l2', 'Slc44a1', 'Fbp2', 'Pik3c2a', 'PMID:16922367', 'Hhip', 'Myf5', 'Sumf1', 'Akt1s1', 'Gmps', 'Growth', 'Ntn4', 'Cd82', 'Capza2', 'Tuba1b', 'Olfr74', 'Olfr666', 'Olfr1015', 'Ralb', 'Cldn13', 'Hist1h3c', 'Wnt5b', 'Piedra', 'Wnt10a', 'Kasprzak', 'Cyp2d22', 'Lee', 'Olfr198', 'Acadsb', 'Olfr570', 'Waris', 'Psen1', 'Pcca', 'Srp19', 'Olfr65', 'H2-T22', 'Pde6b', 'Uty', 'Abca14', 'Thoc1', 'Cross-presentation', 'Ifitm1', 'Taldo1', 'Slc46a1', 'Atp6v1h', 'Bmp7', 'Coxsackievirus', 'small', 'Rad9b', 'Raf-1', 'Atp6v1e1', 'F2r', 'Ranbp1', 'Abcc10', 'IL-7', 'Olfr340', 'Ntrk1', 'Gm2a', 'Zyx', 'Aco1', 'Kdr', 'Rpl27a', 'Prpf8', 'Acot8', 'Gm2023', 'Rcvrn', 'Olfr550', 'Dhh', 'Olfr877', 'Rragb', 'Nudt2', 'Cacna1c', 'Ackr3', 'Fhl1', 'Mir106b', 'Cntnap2', 'Olfr91', 'Amd2', 'Gm21596', 'Olfr965', 'G6pc2', 'Olfr1446', 'Olfr895', 'Csf1r', 'Ube2g2', 'Slit1', 'Gbp3', 'Ifng', 'Enteroviral', 'Rel', 'Lamtor4', 'Cnot9', 'U2af1', 'Olfr1181', 'Olfr1318', 'Gm45935', 'Olfr722', 'Olfr723', 'Grassmann', 'Blnk', 'Taf6l', 'Psmd3', 'Thoc3', 'Spi1', 'Ssbp1', 'Atg9a', 'Nup43', 'Duoxa2', 'Vcl', 'Eukaryotic', 'Panx1', 'Dicer1', 'Pdia3', 'Rapgef3', 'Polr2f', 'Rasgrp4', 'Cd3d', 'Stradb', 'Ptch2', 'Polr3b', 'Cyp19a1', 'Ccl22', 'Pabpc1l2b-ps', 'Prkar1b', 'Grin3b', 'Hist2h2ab', 'Gna14', 'Hist1h2bl', 'Olfr1051', 'Eno1b', 'Lats1', 'B3gnt5', 'Notch4', 'Olfr1352', 'Ling', 'Pla2g2e', 'H3f3a', 'Msh6', 'Ubr5', 'Ntrk2', 'Brca1', 'Atg16l2', 'Olfr825', 'Sec31a', 'Mir28c', 'Olfr347', 'Atp6v1g3', 'Gnat1', 'Fgf21', 'Xpnpep2', 'Tnfrsf9', 'Gng8', 'Phosphorylation', 'Olfr1167', 'Afmid', 'Olfr847', 'Zfp110', 'Bhlhe41', 'Olfr447', 'Id3', 'Card10', 'Rasmussen', 'Smart', 'Il24', 'Dkk4', 'Olfr295', 'TrnW', 'Cxcl1', 'Dnajb1', 'Alox8', 'Rpn2', 'Acsl1', 'Me1', 'Heph', 'St3gal3', 'Grik2', 'Hist1h4b', 'Olfr800', 'Mitra', 'Dtx2', 'Nr0b2', 'Olfr732', 'Nkd1', 'Sdhc', 'Coq5', 'Psmd8', 'Olfr43', 'Hspa4l', 'Lhcgr', 'Rtn4', 'Tnfsf8', 'Gm23284', 'Casp12', 'Slc44a2', 'Saeki', 'Pex7', 'Rbm8a', 'Cldn2', 'Gucy1b1', 'Il25', 'Cadm1', 'Olfr24', 'Cyp26b1', 'Pgam2', 'Ptger1', 'Olfr914', 'Nlrc4', 'Gm14548', 'Olfr700', 'Klra7', 'Armc5', 'Mb21d1', 'S1pr4', 'Joza', 'Smad5', 'Autoregulation', 'Wnt9a', 'Olfr586', 'Trip10', 'Pmm1', 'Kdm1a', 'Kdsr', 'Rgl2', 'Macrophages', 'Mir7k', 'Olfr704', 'Rab1b', 'Ttn', 'Cdkn2b', 'Olfr776', 'Mapt', 'Itpka', 'Grk2', 'Col7a1', 'Tslp', 'Gyg', 'Olfr463', 'Ccr3', 'Pigt', 'Kcnmb2', 'Bettelli', 'H2-Q1', 'Tnfrsf12a', 'Nagpa', 'Olfr328', 'Bcl3', 'Pop7', 'Kcnj5', 'Rbpj', 'Klra1', 'Bagneris', 'Nfatc4', 'Hmgcll1', 'Glra1', 'Angpt2', 'Nox1', 'Abcc9', 'Lpgat1', 'Farsb', 'Sucla2', 'Dpyd', 'Ddx5', 'Olfr103', 'Ptpn2', 'Krt33a', 'Cnr1', 'Wahl', 'Olfr705', 'Gad2', 'Ruvbl1', 'Synj2', 'Numb', 'Gemin2', 'Yamano', 'Polr1d', 'Hpse', 'Upk3a', 'Pcgf3', 'Exoc2', 'Il17b', 'Ntn3', 'Apoc2', 'Amdhd2', 'Akp3', 'Nt5c1a', 'Cd81', 'Olfr257', 'Olfr171', 'Olfr790', 'Mir126b', 'Sh3gl3', 'Grewal', 'Srp72', 'Olfr1385', 'Hansson', 'Hsd3b6', 'Jongbloed', 'Olfr818', 'Mirlet7f-1', 'Cyp2a5', 'Olfr1222', 'Terradillos', 'Acap3', 'Nrxn3', 'C8g', 'Thbs4', 'Pgs1', 'Hcst', 'Ablim1', 'Wanders', 'Cd8a', 'Gosr2', 'Cx3cr1', 'Tspo', 'Atg16l1', 'Abo', 'Hs3st2', 'Chek2', 'Ryr3', 'Pygb', 'Hyal4', 'Transforming', 'Mfng', 'Olfr1301', 'Nlrx1', 'Tyrobp', 'Pirb', 'Prmt5', 'Col6a2', 'RIG-I-mediated', 'Mat2a', 'Jag1', 'Pafah1b2', 'Olfr1156', 'Olfr1281', 'Krt28', 'Cldn7', 'Mad2l2', 'Fbxo2', 'Song', 'Rnf152', 'Rpl6', 'Mylk', 'Mfn2', 'Ppp1r12c', 'Cacng8', 'Zfp36l1', 'Membrane', 'Cyp3a41b', 'Pitx2', 'Olfr473', 'Atg101', 'Tnfrsf1a', 'Uba3', 'Maloisel', 'Ppif', 'Hist1h3b', 'Dhrs9', 'Pga5', 'Clec2h', 'Mir100', 'Thoc2', 'Krt13', 'Tfdp1', 'Dvl3', 'Ugt1a5', 'Olfr155', 'Olfr1087', 'Pde4b', 'Urad', 'Ftcd', 'Marveld3', 'Fktn', 'Yoshizawa', 'Ndc1', 'Mccc2', 'Olfr1130', 'Cacng3', 'Ddit3', 'Mad1l1', 'Col24a1', 'Capza1', 'Cacna2d3', 'Uematsu', 'Nudt19', 'Adprm', 'Adra1a', 'Haltiwanger', 'Shank1', 'Pgp', 'n-R5s136', 'Vamp1', 'Cntn2', 'Sipa1', 'Cd59a', 'Olfr1500', 'Fgfr2', 'n-R5s103', 'Eif4a3', 'Sugasawa', 'Olfr646', 'Mboat2', 'Cblc', 'Neurath', 'Mrpl24', 'Shmt2', 'Cyp2f2', 'Nmrk1', 'Mchr1', 'Oasl1', 'Psmc2', 'Yoshida', 'Olfr1204', 'Gusb', 'Med14', 'Hmgb1', 'Nckap1l', 'Il10rb', 'Neil1', 'Sf3b3', 'Olfr1477', 'Cyba', 'Ube2d2b', 'Olfr910', 'Mid1', 'Olfr398', 'Pdgfrb', 'MicroRNAs,', 'Pex6', 'Socs3', 'Homer1', 'Tacr1', 'Cox5b', 'Dll3', 'Loh', 'Fes', 'Arpc5l', 'Ephx2', 'Ccl25', 'Olfr924', 'Trim32', 'Fausti', 'Dhx15', 'Cyp1a2', 'Ms4a1', 'Olfr1260', 'Olfr168', 'Signal', 'Olfr868', 'Prpf38b', 'Epx', 'Piga', 'Il1r1', 'Uqcrq', 'Smad2', 'Bco1', 'Gbp2b', 'Moustakas', 'Taok1', 'Socs1', 'Phyh', 'Olfr242', 'Olfr507', 'Feng', 'Olfr361', 'Sfrp5', 'Hmmr', 'Hsieh', 'Aph1b', 'Fbxo25', 'Oppenheim', 'Slc44a5', 'Eif3d', 'Pan2', 'Heyl', 'Urol', 'Aox2', 'Stx18', 'Mtmr2', 'Olfr1280', 'Li', 'Ap2b1', 'Angptl3', 'P2rx6', 'Degs2', 'Irs4', 'Klrc2', 'Olfr365', 'Maob', 'Boccardo', 'Olfr1030', 'Pickrell', 'Ffar1', 'Cyp2j8', 'Lyn', 'Mgat4d', 'Olfr502', 'Csnk2a1', 'Krt32', 'Ncf2', 'Pankuweit', 'Acadvl', 'Gabrd', 'Frat1', 'Gadl1', 'Olfr547', 'Pmvk', 'ALK4', 'Wasf3', 'Htt', 'Klrc3', 'Three', 'Olfr1124', 'Becn1', 'Arntl', 'Serpinb3b', 'Rae1', 'Acmsd', 'Curr', 'Tjp1', 'Hyal6', 'Bud31', 'Olfr959', 'Abcb7', 'Mras', 'Ces2b', 'Npnt', 'Pgd', 'Fosl2', 'Olfr101', 'Nakai-Futatsugi', 'Fundc1', 'Vps37b', 'Sept9', 'Uckl1', 'Controlling', 'Smarca2', 'Iyd', 'Pank3', 'Erk', 'Olfr175-ps1', 'Itgad', 'Crb1', 'Dctn6', 'Hist1h2ab', 'Phkg1', 'H2al1f', 'Enpp3', 'Olfr1099', 'Gpr37', 'Abca1', 'Gja1', 'Slc27a3', 'Olfr955', 'Hist2h2bb', 'Oas1a', 'Ugt1a1', 'Sstr4', 'Amy2a3', 'Atp1b2', 'Faf1', 'Rps8', 'Ptgs2', 'Hnrnpa1', 'Montoya', 'Chrm4', 'Drd5', 'Olfr1229', 'Psmb8', 'Recombination', 'Itgb8', 'Papd5', 'Rnasel', 'Olfr994', 'Rdh1', 'Hip1', 'Psmc1', 'Degradation', 'Olfr512', 'Olfr885', 'Gng5-ps', 'Olfr77', 'Magi3', 'Wbp11', 'Gm8994', 'Gabrg3', 'Atg4d', 'Kcnk3', 'Slc2a5', 'Nop58', 'Olfr113', 'Ldhal6b', 'Sptlc1', 'Medendorp', 'L2hgdh', 'Olfr618', 'Hcrtr2', 'Desvaux', 'Mrpl36', 'Amy1', 'Srsf10', 'Agfg1', 'Gemin6', 'Hist1h2ah', 'Gpd1', 'Cldn18', 'Eno2', 'Rnaseh2a', 'Olfr13', 'Dystrophin', 'Usp30', 'Olfr52', 'Olfr591', 'Myh8', 'Anapc4', 'Vkorc1l1', 'Lipc', 'Mir192', 'Ren2', 'Sdhd', 'Olfr411', 'Atp5c1', 'Cftr', 'Olfr78', 'Phkg2', 'Apbb1ip', 'Ugt1a10', 'Olfr486', 'Matsumoto', 'Cyp2c23', 'Tnfrsf8', 'Il3ra', 'Cyp2j6', 'Casp2', 'Lolli', 'Clec1b', 'Ugt2b35', 'Mus81', 'Polr1c', 'Tremblay', 'Mapkapk3', 'Icosl', 'Raet1b', 'Psmb4', 'Mrpl32', 'Cdon', 'Olfr17', 'Ndufb11', 'Gnpda2', 'Zika', 'Snrpd2', 'Dctpp1', 'Ctnnb1', 'Il10', 'Slc38a3', 'Crtc3', 'Olfr702', 'Txnrd2', 'Kif7', 'Dchs1', 'Tomm7', 'Efna5', 'Uqcrc2', 'Krt36', 'Gstm2', 'Fanci', 'Mphosph6', 'Sufu', 'Identification', 'Prpf3', 'Ddx20', 'Olfr119', 'Skp2', 'Ctf1', 'IL-17', 'Gao', 'Mlx', 'Chao', 'Atp6v1c2', 'Sncaip', 'Tshb', 'Csn2', 'Sh3glb2', 'Col10a1', 'Ppp1r3f', 'Malik', 'Idh1', 'P4hb', 'Pla2g4d', 'Ica1', 'Col27a1', 'Il12a', 'Bell', 'Eda', 'Idh3a', 'Mir101b', 'Cxcl3', 'Hay', 'F9', 'Olfr972', 'Pnmt', 'Crhr1', 'Elmo2', 'Pex14', 'Cyp2b10', 'Galli', 'Tdh', 'Raet1c', 'Dguok', 'Otc', 'Acvr1', 'Atp1a4', 'Rock2', 'Ptges', 'Rfx6', 'Asah1', 'Olfr1360', 'Olfr698', 'Ms4a2', 'Hdac10', 'Olfr270', 'Hnf4a', 'Hist1h3a', 'Cd5', 'Plcb1', 'Virol', 'Bmp2k', 'Srpk1', 'Sar1b', 'Cdk4', 'Vegfc', 'Pex12', 'Rane', 'Bhlhe40', 'Degs1', 'Atox1', 'Pstk', 'Ces2h', 'Pold3', 'Olfr1366', 'Olfr462', 'Cd44', 'Lcat', 'Agpat2', 'Marti', 'FANCM', 'Asic5', 'Trhr', 'Fzr1', 'Niwa', 'Clca4a', 'Extl2', 'Olfr1564', 'Echdc1', 'Mechanisms', 'Uros', 'Olfr247', 'Bcl2l1', 'Sos2', 'Mir181d', 'Cenpx', 'Mrpl14', 'Xrn2', 'Srrm1', 'Olfr1491', 'Gabrr1', 'Nupl1', 'Cdk2', 'Ccl12', 'Olfr968', 'Tti1', 'Hist2h2be', 'Slu7', 'Atp1a2', 'Olfr1324', 'Nox4', 'Isyna1', 'Coq2', 'Sin3a', 'Mir342', 'Neu3', 'Rpe65', 'Hexa', 'Shc3', 'Gna11', 'Dnm2', 'Slc17a7', 'Mybpc3', 'Nags', 'Fbxo43', 'Galnt3', 'Lif', 'Bruni', 'Teng', 'Pole4', 'Olfr506', 'Mir200c', 'Steap2', 'Exosc2', 'Esrrb', 'Mas1', 'Jaenisch', 'Atp1b3', 'Grik4', 'Olfr322', 'Myl7', 'Slc2a4', 'Rxfp1', 'L3hypdh', 'Aire', 'Vti1b', 'Wasl', 'Ndst4', 'Gys1', 'Gnb4', 'Sherr', 'Rasa2', 'Birc5', 'Eef2', 'Transduction', 'Thy1', 'Pnliprp1', 'Sema3b', 'Schadler', 'Tob1', 'Mavs', 'Reynolds', 'Sharpin', 'Tumor', 'B3gnt2', 'Col6a4', 'Olfr891', 'Mcat', 'Hcar1', 'Paox', 'Abcd1', 'Myl12b', 'Eif1ax', 'Mtmr6', 'Ap4m1', 'Vps45', 'Rad1', 'Dll1', 'Olfr1132', 'Bene', 'Cpa3', 'Oas1g', 'Chpf2', 'Ndufb6', 'Cul5', 'S1pr1', 'Ilk', 'Gmpr2', 'Plpp2', 'Slc26a4', 'Olfr1211', 'Ap1s3', 'Map4k3', 'Hist1h2bk', 'Sphk2', 'Dffb', 'Tbc1d1', 'Inpp5j', 'Olfr653', 'Rdx', 'Olfr1336', 'Myh1', 'Rb1cc1', 'C9', 'Olfr706', 'Olfr1258', 'Rps25', 'Frat2', 'Bcat2', 'Phospho2', 'Nissen', 'Umbach', 'DNA-directed', 'Mmp2', 'Aco2', 'Tln1', 'Ncam2', 'Clu', 'Kars', 'Notch2', 'Oprm1', 'PDX-1', 'Sart1', 'Arhgef7', 'Hnf4g', 'Lipe', 'F8', 'Adcy3', 'Ppie', 'Cdh3', 'Rpl39', 'Aoki', 'Tsukumo', 'Greenow', 'Adh4', 'Iraci', 'Olfr66', 'Translocated', 'Olfr309', 'Nup62', 'Olfr490', 'Pcyox1', 'Psmd13', 'Ercc4', 'Okano', 'F3', 'Olfr1002', 'Angptl8', 'Elavl1', 'Nus1', 'Pigl', 'Lpin3', 'Mirlet7i', 'A4galt', 'Kif22', 'Gtf2f2', 'Arid1a', 'Ptprm', 'Olfr845', 'Bcl11b', 'Casr', 'P2ry4', 'Per2', 'Das', 'Raf1', 'Scales', 'Olfr1415', 'Acer2', 'Dnaja2', 'Snai1', 'Cldn20', 'Stag3', 'Olfr814', 'Glycam1', 'Rad54b', 'Kyat3', 'Gstt4', 'Actc1', 'Hist1h2af', 'Chst15', 'Olfr1305', 'Lrp2', 'Art2a-ps', 'Olfr798', 'Hibch', 'Steap3', 'Ap4s1', 'Olfr1461', 'Prlr', 'Prkcd', 'Ccl4', 'Prkcg', 'Rac3', 'Dlgap1', 'Ugt1a2', 'Gas1', 'Inpp1', 'Ercc8', 'Genes', 'Aph1a', 'Hist1h2bq', 'Pdxp', 'Prg2', 'Taf1', 'Ugt2a3', 'Epha6', 'Sstr2', 'Kashuba', 'Sema3e', 'Prensner', 'Cyp2d40', 'Stx17', 'Rosdahl', 'Sema3c', 'Traf5', 'Ern1', 'Olfr631', 'Olfr1154', 'Galnt1', 'Pomgnt2', 'Ptges3', 'Cyp2d11', 'Actr3b', 'Cpsf4', 'C1galt1c1', 'Gmppb', 'B3gnt6', 'Cox7a2', 'Cflar', 'Fermt3', 'Gsn', 'Cda', 'Acsl3', 'Nfkbia', 'STAT3', 'Olfr154', 'Nat1', 'Cldn22', 'Olfr1373', 'Tnnc2', 'Hmgcs1', 'Srp9', 'Nob1', 'Olfr1196', 'Clec4n', 'Tph1', 'Neuroscience', 'Mthfd1l', 'Ngly1', 'Aldoc', 'Gabrp', 'H2afv', 'Olfr196', 'Olfr549', 'Col4a1', 'Runx1', 'Uap1', 'Fgf7', 'Per3', 'Il18rap', 'Polr2j', 'Olfr452', 'Tubb1', 'Gnai1', 'Hnmt', 'Mrps7', 'Hist1h3d', 'Oasl2', 'Mitochondrially', 'Sftpa1', 'Vet', 'Ghsr', 'Pira2', 'Gstp2', 'Ubqln4', 'Wnt7a', 'Shoc2', 'Inpp5f', 'Hs3st1', 'Spear', 'Slc22a2', 'Ss18', 'Armstrong', 'Hsd11b1', 'Tas2r143', 'Entpd4b', 'Rps6ka4', 'Lifr', 'Fzd9', 'Buttitta', 'Olfr464', 'Diablo', 'Gng2', 'Abca5', 'Olfr272', 'J', 'Rasl2-9', 'Berezutskaya', 'Abcd4', 'Mir32', 'Gatb', 'Pelham', 'Lpl', 'Zcchc7', 'Cnot8', 'Hba-a1', 'Olfr632', 'Slc12a5', 'Cox10', 'Pan', 'H2-Eb1', 'Nanp', 'Zfyve9', 'Sema3d', 'Mars2', 'Trpc4', 'Sdhb', 'Ccs', 'Atg9b', 'Mocs1', 'Atp4b', 'Buckley', 'Berks', 'Vipr1', 'Gapdh-ps15', 'Pabpc1l', 'Ubox5', 'Pipox', 'Sephs2', 'Alg3', 'Mylpf', 'Elac2', 'Hoxb1', 'Gal3st1', 'Pigb', 'Rhog', 'Musacchio', 'Badouel', 'Irf5', 'Inhibition', 'Hist1h3f', 'Vangl1', 'Mtmr7', 'Aqp4', 'Ube2e3', 'Gpr35', 'Elac1', 'Unc5d', 'Supt3', 'Adss', 'Galr3', 'Ncald', 'Olfr1328', 'Gm5431', 'Oas3', 'Rpl4', 'Atp2a3', 'Interleukin-17', 'Fut4', 'Sult2a3', 'Cyp7b1', 'Ndufaf1', 'Slc8a2', 'Gnpnat1', 'Kcnj6', 'Nup214', 'Cpsf2', 'Olfr1022', 'Cldn24', 'Olfr1307', 'Qadri', 'Cer1', 'Olfr131', 'Olfr1410', 'Best', 'Bodmer', 'Vta1', 'Ctrl', 'Slc16a10', 'Eif4e2', 'Efna3', 'Olfr715b', 'Itgam', 'Cyp2c54', 'Trim25', 'Lipt1', 'Interaction', 'Sema6b', 'Olfr920', 'Olfr827', '9130409I23Rik', 'Hcfc1', 'Rimkla', 'Clip1', 'Rpl10a', 'Mogat1', 'TrnH', 'H2-DMb1', 'Tnfsf14', 'Atg5', 'Knockout', 'Cdc27', 'Olfr830', 'Rbsn', 'Adora3', 'Adam10', 'Alox15', 'Rp9', 'Olfr410', 'Rpl22l1', 'Gm15266', 'Try10', 'Olfr71', 'Csgalnact1', 'Mitotic', 'Olfr711', 'Ndufb10', 'Polr1b', 'Olfr382', 'Mapk9', 'Abcc5', 'Naip2', 'Uox', 'Wdr3', 'Mikkelsen', 'Olfr1006', 'Dnaja3', 'Baiap3', 'Snu13', 'Elk4', 'Dnah12', 'Cd1d1', 'Smarca4', 'Cd209c', 'Il27ra', 'Cpt2', 'Tax1bp1', 'Eif2s3y', 'Olfr1097', 'Olfr1080', 'Olfr1145', 'Ets2', 'Olfr749', 'Olfr1333', 'Ogt', 'Inpp5k', 'Castellano', 'Ggt1', 'Krwawicz', 'Lats2', 'Jam3', 'Ampd1', 'Gnrh1', 'Eif3f', 'Protection', 'Olfr151', 'Jing', 'Ifih1', 'Arhgap10', 'Oas2', 'Trnt1', 'Rpl36', 'Ncf1', 'Hist1h2aa', 'Inpp5e', 'Cox7a1', 'Pigyl', 'Tpr', 'Olfr1512', 'Alg8', 'Gm4952', 'Olfr467', 'St8sia1', 'Slc40a1', 'Mir615', 'Pfn1', 'Neth', 'Chkb', 'Mrpl11', 'Lsm4', 'Dsc2', 'Eif2ak3', 'Aldh3a2', 'Rpl9', 'Folr1', 'Vav2', 'Nr5a2', 'Trex1', 'Mir183', 'Mgat2', 'Abca13', 'Men1', 'Pym1', 'Eef1a2', 'Col4a5', 'Doing', 'Gngt2', 'Rpl15', 'Yoshimoto', 'Cdk9', 'Actl6a', 'Nme3', 'Ripk3', 'Olfr308', 'Hsu', 'Cyc1', 'Acsl4', 'Rabep1', 'Eif5b', 'Aph1c', 'Fmo3', 'Snf8', 'Fntb', 'Olfr32', 'Grm5', 'Yan', 'Rpl21', 'Egr3', 'Pik3r3', 'Smad-dependent', 'Cldn14', 'Pstpip1', 'Akr1d1', 'C1ra', 'Olfr95', 'Qprt', 'Abcb6', 'Mir210', 'Olfr904', 'Cpeb3', 'Mueller', 'Stim1', 'Zenobia', 'Dreijerink', 'Foxg1', 'Sympk', 'Sec61b', 'Olfr47', 'Dnase2b', 'Mat1a', 'Okita', 'Pira4', 'Dctn2', 'Kir3dl1', 'Olfr615', 'Cyp51', 'Lama4', 'Olfr805', 'Irgm1', 'Rad51b', 'Grm7', 'Arpc4', 'P2ry12', 'Fth1', 'Ugt2b1', 'ATP8', 'Prpf6', 'Ppp2r2a', 'Camp', 'Olfr1231', 'Cox16', 'Urothelial', 'Pgap1', 'Klf4', 'Uvrag', 'Jmjd1c', 'Csnk1g2', 'Snd1', 'Cdh15', 'Liang', 'Ppp1cc', 'Mtnr1b', 'Pelo', 'Acsbg1', 'Tbk1', 'Twomey', 'Htr1f', 'Pde6c', 'Sept3', 'Hist1h2ag', 'Xdh', 'Nr1d1', 'Lpar4', 'Hcrtr1', 'Dio1', 'Rpa2', 'Agtr1a', 'Olfr543', 'Olfr152', 'Olfr736', 'Clp1', 'Cox6b2', 'Uqcrc1', 'Arf6', 'Olfr740', 'Lpcat2', 'Nup98', 'Dpysl5', 'Lct', 'Olfr478', 'F13a1', 'Clps', 'Virus-induced', 'Gk2', 'Leshem', 'Fgg', 'Fancd2', 'Dusp1', 'Ube3c', 'Mir128-1', 'Psmb1', 'Il2ra', 'Atm', 'Nmnat1', 'Mrps18c', 'P2rx4', 'Pigx', 'Fut1', 'Hipk1', 'Nr1h2', 'Polr2d', 'Car5b', 'Nup88', 'Olfr30', 'Arf3', 'Tang', 'Crhr2', 'Cxcr4', 'Tollip', 'Olfr1032', 'Olfr724', 'Close', 'Olfr859', 'Ntrk3', 'Hexdc', 'Btd', 'Epha1', 'Pax6', 'Ncoa2', 'Scandura', 'G6pc3', 'Stt3a', 'H2al2b', 'Ng', 'Marco', 'Enpp2', 'Gria2', 'Olfr99', 'Hist1h2ak', 'Chrna6', 'Olfr345', 'Plxnb2', 'Wnt6', 'H2-Oa', 'Dnal1', 'Nt5m', 'Wars', 'Tnfrsf4', 'Olfr1158', 'Prb1', 'Pfn2', 'Olfr1361', 'Neuropathol', 'Rragd', 'Btk', 'Olfr417', 'Atg4a', 'Lsm1', 'Mrps5', 'Olfr120', 'Lmbrd1', 'Grin2a', 'Pde6g', 'Heatr1', 'Trf', 'Pierotti', 'Hbb-bt', 'Snrpd1', 'Washc3', 'Sato', 'Cd209b', 'Wipi2', 'Olfr521', 'Ssr2', 'Psen2', 'Hs6st1', 'Olfr735', 'Deptor', 'Wen', 'Rps6ka5', 'Hist1h2bh', 'Atp6v1b2', 'n-R5s108', 'mt-Rnr2', 'F2rl1', 'Colony-stimulating', 'Car6', 'Bcl2a1a', 'Itga4', 'Olfr971', 'Hhex', 'Slc4a2', 'Olfr414', 'Diet,', 'Uqcrfs1', 'Ifna14', 'Pathogenetic', 'Them4', 'Hsp90b1', 'Aldh1a1', 'Localization,', 'Overexpression', 'Unusual', 'Ccl20', 'Motoyama', 'Esam', 'Scnn1a', 'Slc22a7', 'Saunders', 'Csnk1d', 'Cltb', 'Olfr1505', 'Olfr801', 'New', 'Gba2', 'Nlrp3', 'Olfr1270', 'Cldn8', 'Olfr1209', 'Snx1', 'Dolpp1', 'Ochsner', 'Plaur', 'Dffa', 'Ube2e2', 'Wang', 'Smad9', 'Exoc7', 'Arxes2', 'Paip1', 'Zfyve16', 'Mir150', 'Kpna2', 'Oprl1', 'Arhgdia', 'Potential', 'Ehd2', 'Gtf2a1l', 'Ccl27b', 'Ctnnd1', 'Olfr109', 'Core-binding', 'Olfr952', 'Chmp7', 'Synpo', 'Gm20878', 'Acsl5', 'Snrnp200', 'Ramos', 'Cdc25b', 'He', 'Ctu2', 'Chrnb4', 'Galnt11', 'Utp4', 'Olfr1395', 'Gh', 'Ppm1a', 'FGF', 'Kmt2d', 'Naprt', 'Phkb', 'Pbx1', 'Aldh1a3', 'Ndufa13', 'Shuh', 'Use1', 'Pxmp4', 'Gm1987', 'Krishna', 'Irie', 'Dnajc5g', 'Olfr1024', 'Polr3d', 'C3ar1', 'Gna12', 'Ethe1', 'Spcs3', 'Haruta-Takahashi', 'Ccr7', 'H2al1h', 'Gm13306', 'Olfr1216', 'Sirt6', 'Psma1', 'Isy1', 'Nmur2', 'Lypla1', 'Sgcd', 'Rassf1', 'Ndufb4', 'Slc25a29', 'Ltb', 'Gngt1', 'Ip6k3', 'Eif4g3', 'Cdh5', 'Csf3', 'Xeroderma', 'B4galt1', 'Thra', 'Erbb4', 'Yeast', 'Hatsuzawa', 'Gtf2e1', 'Gm25018', 'Maml1', 'Olfr694', 'Itga6', 'Cacng5', 'Olfr1029', 'Prap1', 'Idh3b', 'Sort1', 'Pigh', 'Lamb2', 'Sema4d', 'Comp', 'Olfr1037', 'Ciccia', 'Akt2', 'Olfr1387', 'Gclc', 'Dusp3', 'Rab27b', 'Nudt16', 'Glb1', 'Pkm', 'Myl6b', 'Cds2', 'Cxcr3', 'Sctr', 'Olfr911-ps1', 'Poglut1', 'Xylb', 'Eif2s1', 'Cry2', 'Mammalian', 'Il17rb', 'Eif4ebp1', 'Vamp3', 'Convergence', 'BMC', 'Tfe3', 'Gls', 'Exosc8', 'Tsg101', 'Cpt1a', 'Abcb1b', 'Blm', 'Olfr1406', 'Fasl', 'Gabrb1', 'H2afb2', 'Ap3m2', 'n-R5s133', 'Il22ra2', 'Imp4', 'Xbp1', 'Tnxb', 'Hist1h2bc', 'Syf2', 'Slc18a3', 'Mafa', 'Rad54l', 'Eif3e', 'Cnot10', 'H2al1k', 'Olfr1535', 'Mrpl15', 'Spata13', 'Med12l', 'Pcf11', 'Pigq', 'Daam1', 'Olfr516', 'Olfr305', 'Nppb', 'Dysregulation', 'Mir10a', 'Cdc14a', 'Gpx2', 'St3gal6', 'Slc5a1', 'Koo', 'Galr2', 'Tnfrsf17', 'Atp7a', 'Slc38a1', 'Receptor-mediated', 'Inagaki', 'Insl5', 'Olfr539', 'Vangl2', 'Ctsg', 'Olfr424', 'Aplnr', 'Mir181a-1', 'Ndufs5', 'Riok1', 'TrnS1', 'Tbx3', 'Map2k5', 'G6pdx', 'Arsa', 'Olfr56', 'Jak3', 'Ar', 'Tcf7l1', 'Rb1', 'Tbl1x', 'Olfr576', 'Gabre', 'Trhr2', 'Cnot2', 'Grin2c', 'Bao', 'Olfr701', 'Fads2', 'Zlotnik', 'Acot4', 'Olfr1053', 'Cd3g', 'Entpd6', 'Elk1', 'Taf2', 'Rpl37rt', 'Rab11fip3', 'Lysosomal', 'Bub1', 'Olfr1431', 'Olfr1012', 'Bdh1', 'Il17d', 'Plpp5', 'Nbl1', 'Bmp15', 'Olfr137', 'Papolg', 'Sav1', 'Abcg3', 'Herpud1', 'Khk', 'Mir133b', 'Hcfc2', 'Slc39a14', 'Arhgdib', 'Olfr1310', 'Siah1b', 'Yoneyama', 'ND3', 'Olfr788', 'Antigen', 'Prr5', 'Olfr366', 'Michallet', 'Gabrg1', 'Pex11b', 'H2-Q10', 'Young', 'Taf3', 'Prkaca', 'Pattle', 'Rnf5', 'Eps15', 'Galnt10', 'Biochemistry', 'Lamtor3', 'Cyp11a1', 'Olfr54', 'Rab4a', 'Nup155', 'Dusp4', 'Serpinb9f', 'Serpinb6a', 'Atp1a3', 'Willems', 'Olfr912', 'Spcs1', 'Itpk1', 'Slc7a11', 'Col6a6', 'Srsf2', 'Hurt', 'Heim', 'Atp6v0a1', 'Apoa1', 'Ntsr2', 'Expert', 'Sipa1l1', 'Cnr2', 'Klk1b11', 'p53:', 'Olfr678', 'Apoc3', 'Mccc1', 'Rimklb', 'Ddit4', 'Aldh4a1', 'Hmox1', 'F11', 'Ahcyl1', 'Slc6a3', 'Ttf1', 'Martinez-Garcia', 'Rest', 'Slc10a2', 'Nup93', 'Dhx36', 'Saito', 'Zfhx3', 'Selp', 'Cyp2c55', 'Rps28', 'Cox5a', 'Pietenpol', 'Man2a1', 'Ttf2', 'Olfr1257', 'St14', 'Akira', 'Ube2l3', 'Seven', 'Gm3873', 'F13b', 'Flad1', 'Ipmk', 'Pfkl', 'Pabpc4l', 'Phykpl', 'Onichtchouk', 'Puf60', 'Orai1', 'SLIM', 'ND6', 'n-R5s105', 'Tnr', 'Dpf3', 'Mir214', 'Atp12a', 'Olfr617', 'Ifna4', 'Ckap4', 'Olfr992', 'Requirement', 'Pnp2', 'Hspa9', 'Olfr225', 'Cyp2s1', 'Gatc', 'Srsf3', 'Scarb1', 'DCAFs,', 'Thbs2', 'Mmp3', 'Olfr606', 'Glg1', 'Lsm2', 'Nck2', 'Olfr39', 'Olfr1314', 'Zap70', 'Rpl34', 'Radtke', 'Itga1', 'Hipk4', 'Eif4a2', 'Kondo', 'Hist1h4j', \"Walker's\", 'Olfr149', 'Slit2', 'Nr5a1', 'Galntl5', 'Amy2a2', 'Olfr231', 'Pfkfb1', 'Cplx3', 'Eno3', 'Csnk1e', 'Serpinb1c', 'Prokaryotic', 'Constitutive', 'Pdgfra', 'Ftmt', 'Serpind1', 'Protein', '4930544G11Rik', 'Napsa', 'Akr1a1', 'Polr3f', 'Dcp1a', 'Mir324', 'Vkorc1', 'Rpl31', 'Apoa2', 'Ahcyl2', 'Gsta4', 'Olfr1223', 'Lbp', 'Prkar1a', 'Blvrb', 'Nonsense-mediated', 'Olfr898', 'Slc1a1', 'Oxct2b', 'Derynck', 'Tab1', 'Abhd5', 'Itpkb', 'Hspa8', 'Leukemia', 'Ryk', 'Olfr913', 'NF-kappaB', 'LMP1', 'Hist2h3b', 'Adcy5', 'Ehd4', 'Ugt2b37', 'Scin', 'Gpc3', 'Eif1b', 'Glp2r', 'Boyer', 'Park', 'Evc', 'Olfr727', 'Stat6', 'Tnfrsf18', 'Rab9b', 'Bdkrb1', 'Cyp2j13', 'Irs1', 'Nup35', 'Olfr432', 'Krt34', 'St3gal4', 'Cyp2u1', 'Nfatc1', 'Wnt7b', 'Tpm1', 'Gnas', 'Nrg2', 'Apob', 'Lin37', 'Gm21541', 'Cry1', 'Olfr901', 'H2-Ob', 'Six1', 'Impad1', 'Shc4', 'Kinome', 'Olfr747', 'Mir143', 'Gcnt1', 'Ccl17', 'Pla2g4e', 'Rpl18', 'Ccne2', 'Olfr1339', 'Trp63', 'Zmpste24', 'Arxes1', 'Sh2b2', 'Physiol', 'Slc5a7', 'Icmt', 'Hnf1b', 'Olfr518', 'Thrb', 'Ccdc12', 'Aprt', 'Cerk', 'Gm2446', 'Defb4', 'Hrasovec', 'Srgap3', 'Gamt', 'Pip5k1a', 'Stx1b', 'C1s1', 'TRAF6-dependent', 'Prkca', 'Hacd2', 'Taf12', 'Iars2', 'Ak6', 'Vogelstein', 'Setd7', 'Abca4', 'Gm2506', 'Sh3glb1', 'Gm11397', 'Mir181c', 'Acss3', 'Hepatitis', 'Polr2i', 'Olfr492', 'Virology', 'Iorio', 'Rpp25l', 'Nr3c2', 'Tada3', 'Cdkn1b', 'Ntsr1', 'Clement', 'Aldh1a7', 'Ext2', 'Olfr206', 'Alg2', 'Itgav', 'Olfr1364', 'Drug', 'Limk2', 'Olfr638', 'Actr2', 'P2ry10', 'Nup37', 'Stx16', 'Grm1', 'Tkt', 'Mir27a', 'Bst1', 'Akr1b7', 'Rad51', 'Mcoln1', 'Adsl', 'Gnl3l', 'Olfr31', 'Selenos', 'Olfr1208', 'Mrap', 'Atp6v1g2', 'Gng12', 'Olfr1384', 'Cfl2', 'Ntn1', 'Srf', 'Ano2', 'Cacnb2', 'Pdgfd', 'Rps6ka3', 'Mtnr1a', 'Areg', 'Usp21', 'Olfr984', 'Ptpn5', 'Olfr44', 'Btg4', 'Pla2g4f', 'Kcnn2', 'CVB', 'Dna2', 'Valdez', 'Ncbp1', 'Review', 'Ctns', 'Inhba', 'Ctnna2', 'Ryr1', 'Cpsf1', 'Itpr1', 'Rtn3', 'Olfr821', 'Olfr661', 'Trpv4', 'Structure', 'Faap24', 'Virchows', 'Il2rg', 'Nckap1', 'Zwerschke', 'Agap3', 'Mthfd1', 'Yoo', 'Ltbp1', 'Slc10a1', 'Dab2', 'IL-17/IL-17', 'Olfr60', 'Cldn23', 'Pbrm1', 'Nxf2', 'E2f4', 'Mir145a', 'Myh10', 'Asns', 'Cldn34d', 'Myh7b', 'Olfr1340', 'Abcg2', 'Aldh1a2', 'Wnt3', 'Prkg1', 'Tead2', 'Cnga2', 'Minpp1', 'Acp2', 'Il4', 'Scheper', 'Sh2b1', 'Pak6', 'Rgn', 'Cplx1', 'Chan', 'Uhlmann', 'Mlh1', 'Reconstitution', 'Shc1', 'Rpl41', 'Tg', 'Lamp3', 'Marcksl1', 'Frizzled', 'Daxx', 'Barral', 'Cyp2d26', 'Olfr479', 'Olfr1494', 'Olfr926', 'Kmt5a', 'Dapk2', 'Olfr1247', 'Chmp2b', 'Fan1', 'Aifm1', 'Pomt2', 'Siglec1', 'Pde4d', 'Chat', 'Ak9', 'Ak2', 'Olfr1217', 'Olfr1417', 'Mthfs', 'Hyal2', 'Taar3', 'Orc3', 'Mtor', 'Tas2r131', 'Tas2r106', 'Alox12b', 'Olfr742', 'Dazap1', 'Cyb5r3', 'Pgm3', 'Sdc2', 'Rbm17', 'H2-T18', 'Cxcl15', 'Fgf9', 'Ban', 'Oas1b', 'Gm34653', 'Nvl', 'Ablim2', 'Mirlet7g', 'ferritin', 'Srd5a1', 'Ech1', 'Scrib', 'Olfr976', 'Rab7b', 'Ivanenkov', 'Prlhr', 'Gla', 'Olfr448', 'Acaa1b', 'Gadd45b', 'H2al1o', 'Olfr1085', 'Pla2g4b', 'Lnpep', 'Pathogen', 'H2-K1', 'Olfr715', 'Ap1s1', 'Card6', 'Gnb1', 'Wasf1', 'Cdc6', 'Olfr568', 'Polr3g', 'Lcp2', 'Serpinb1b', 'Tnc', 'PLoS', 'Tas2r140', 'Fyb', 'Nectin4', 'Isg15', 'Ide', 'Slc4a1', 'Ube2t', 'Tas2r118', 'Gda', 'Ldhb', 'How', 'Olfr1303', 'Olfr1076', 'Syngap1', 'Hprt', 'Eif2b5', 'Cd79a', 'Peng', 'Sgk3', 'Slc44a3', 'Olfr786', 'Olfr1106', 'Olfr1253', 'Cntfr', 'Tcl1', 'Olfr338', 'Pgr', 'Bhmt2', 'Kdm3b', 'Fuk', 'Tpm2', 'Stxbp1', 'Sanderfoot', 'Olfr215', 'Antiapoptotic', 'Rezaee', 'Stat2', 'Hatakeyama', 'Drd2', 'Asmt', 'Olfr1341', 'Gip', 'Riz', 'Almeida', 'Wdr5b', 'Rasa3', 'Upf3b', 'Ube4b', 'Gbp7', 'Cox7b', 'Camk1', 'Kng2', 'Pcgf1', 'Chst2', 'IGF1', 'Mir331', 'Olfr918', 'Nrbf2', 'Mir30d', 'Nup54', 'Ttc37', 'Hist1h2bm', 'Slc8a1', 'Olfr943', 'Gnpat', 'Ndufc1', 'Cold', 'Nploc4', 'Biphasic', 'Senp2', 'Ppp4r3a', 'Tnni3', 'Aqp8', 'Mir199b', 'C1qbp', 'Acsbg2', 'Bpgm', 'Itgb6', 'Asgr2', 'Dnajc5b', 'Foxo3', 'Glyat', 'Kawaguchi', 'Nucl', 'Ocln', 'Olfr609', 'Slc6a1', 'Cyp2c68', 'Slc22a21', 'Pathol', 'Olfr38', 'Nicholson', 'Approaching', 'Col4a6', 'Zmat2', 'Viruses', 'TrnA', 'Fance', 'Vps37c', 'Nishida', 'Map3k2', 'Rims1', 'Hyi', 'Rps27l', 'Olfr1335', 'Capzb', 'Mlycd', 'Glycogen', 'Atp5j', 'Nefm', 'Anapc10', 'Cacna1a', 'Orc5', 'Clca3b', 'Ctgf', 'Cpsf3', 'Olfr597', 'Dnah6', 'Pdgfb', 'TrnI', 'Hur', 'Otud5', 'Gpx8', 'Pard3', 'Ppt1', 'Prps1l3', 'Paxillin', 'Rpl5', 'Slc6a4', 'Oplah', 'Cadherin-based', 'Nmd3', 'Mrps9', 'Neuron', 'S100a9', 'Ccnh', 'Syntaxin', 'Hist1h4h', 'Htr2c', 'Dardalhon', 'Sept12', 'Nr1h3', 'Dad1', 'Gnao1', 'Pign', 'Il20ra', 'MDA5/RIG-I', 'Olfr1089', 'Olfr1355', 'Slc36a1', 'Serpinb9g', 'Amfr', 'Fut2', 'Sae1', 'Olfr126', 'Agpat4', 'Taok2', 'Olfr1394', 'Filion', 'Bcas2', 'Mdn1', 'Cdc26', 'Marcaida', 'Guenther', 'Proteomic', 'Cx3cl1', 'Tbl1xr1', 'Acot12', 'Olfr1350', 'Olfr656', 'Hdac7', 'Lin52', 'Ube2g1', 'Slc22a3', 'Snrpa', 'Fxn', 'Olfr1141', 'Hagh', 'Olfr829', 'Aldoart1', 'Esx1', 'Atp5j2', 'Cyfip1', 'Olfr639', 'Proc', 'Sec62', 'Lilra6', 'Adra1d', 'Caspase', 'Frmd6', 'Cd48', 'Ripk2', 'Pitcher', 'Cpb2', 'Ethell', 'Cd80', 'Ndufaf2', 'Casp9', 'Wif1', 'Galnt5', 'Olfr900', 'Mpv17l', 'Galk1', 'Myl10', 'Freed', 'Hist1h4f', 'Plcb2', 'Mapk14', 'Col17a1', 'Cyp2a12', 'Il2rb', 'Olfr555', 'Suox', 'Plant', 'Extracting', 'Xylt2', 'Olfr894', 'Ank2', 'Spits', 'Moody', 'Zbtb17', 'Olfr1419', 'Ppp2r1a', 'Fuchs', 'Ptgs1', 'Koschmieder', 'Nudt5', 'Acox1', 'Lman1', 'Pigc', 'Rad23b', 'C1qa', 'Cxcl16', 'Bock', 'Taar7a', 'Birc3', 'Buttner', 'Malt1', 'Olfr169', 'Translocation', 'Olfr1110', 'Mmab', 'Gng11', 'Pex3', 'Olfr497', 'Wnt3a', 'Casp6', 'Prickle2', 'Crb2', '2210010C04Rik', 'Scp2', 'Sec24d', 'Gpi1', 'Olfr843', 'Zfyve1', 'Stmn1', 'Serpinb3d', 'Itga10', 'Pak3', 'Atp2b3', 'Col6a5', 'Rfc1', 'H2afy2', 'Amh', 'Mcm6', 'Taar7d', 'Rab35', 'Polr2c', 'Bcar1', 'Mir122', 'Aoc3', 'Klrc1', 'Rps16', 'Abca2', 'Map3k11', 'Col15a1', 'Hyal5', 'Wdr43', 'Nup107', 'Dock4', 'Prkag2', 'Pdcd1lg2', 'Tcirg1', 'Varelas', 'Nat10', 'Entpd4', 'Kras', 'Eloc', 'Calml3', 'Sema4b', 'Calm2', 'Mgst1', 'Olfr509', 'E2f5', 'Clca4b', 'Myo10', 'Olfr688', 'Olfr850', 'Tlr6', 'Medici', 'Kcnn3', 'Abcb10', 'TrnL2', 'Cdk7', 'Ccr1l1', 'Habener', 'Ugp2', 'Nucleotide', 'Uggt2', 'Mir124a-2', 'Tmlhe', 'Snrpb2', 'Edar', 'Papillomaviruses', 'Carns1', 'Sos1', '4930444G20Rik', 'Rnaseh2c', 'Map2k6', 'Arsg', 'Pros1', 'Cd9', 'Lrrk2', 'Pex5', 'Vps35', 'Rsad2', 'Crk', 'Calcrl', 'Egfr', 'Hacd3', 'Mir222', 'Fdps', 'Abca17', 'Olfr1101', 'Vamp7', 'Mat2b', 'Ehd3', 'Tgfa', 'Olfr320', 'Mir205', 'Agpat5', 'Dcn', 'Ungureanu', 'Atp6v0d2', 'Olfr397', 'Il15', 'Abcc12', 'Idi1', 'Mx2', 'Olfr117', 'Pop5', 'Olfr1347', 'Hsd17b12', 'Srm', 'Aicda', 'Gm725', 'Thyroid', 'Cdk1', 'Pdhb', 'Groettrup', 'Cox19', 'Gng7', 'Chsy1', 'Pik3r1', 'Pabpc1', 'F10', 'Man1c1', 'Fxyd1', 'Gng13', 'Mylk3', 'Ccng1', 'Use1p', 'MacEwan', 'Etnk2', 'Nos1', 'Principles', 'Icam1', 'Mrps18a', 'Fxr2', 'Slc9a6', 'Mir129-1', 'Ubqln3', 'Calm4', 'Llgl2', 'Cyp27a1', 'Fcer1a', 'Cd55', 'Slc1a3', '[Molecular', 'Mrpl28', 'Helgeson', 'Polr1e', 'Olfr659', 'Col6a3', 'Dlx5', 'Olfr599', 'Urod', 'Acap1', 'Ndufaf6', 'Melmed', 'Functions', 'Atp5g1', 'Alg14', 'Mtcp1', 'Ticam1', 'Ube2ql1', 'Gnrhr', 'Rragc', 'H2-Ke6', 'Slco1a4', 'Exosc9', 'Unc5c', 'TrnK', 'Zfp36', 'Olfr474', 'Nod1', 'Orc2', 'Suv39h1', 'P2rx3', '4933416C03Rik', 'Prpf4', 'Chmp4c', 'H2-T3', 'Psmf1', 'Marthiens', 'Ccr10', 'Nit2', 'Olfr1283', 'Olfr985', 'Rrm2b', 'Exo1', 'Kcnq3', 'Olfr1102', 'Olfr1396', 'Olfr1042', 'Atg3', '[Diversity', 'Ccna2', 'Trak2', 'Cd247', 'Cd99', 'Olfr1490', 'Gnl3', 'Hirano', 'Olfr202', 'Rab5c', 'Serpinb3c', 'Abcb4', 'Prodh2', 'Cpeb4', 'Olfr648', 'Pah', 'Chmp1b', 'Rilp', 'Bak1', 'Taf5l', 'Ak1', 'Rps3a1', 'Gnptg', 'Olfr69', 'Williams', 'U2af2', 'Sept11', 'Ank1', 'Apc2', 'Olfr781', 'Vnn3', 'Fbxo4', 'Keratan', 'Cyp4a31', 'Mir9-3', 'Olfr159', 'Apoptosis', 'Creb3l1', 'Rpl34-ps1', 'Atg2b', 'Marodi', 'Aqp3', 'Pmaip1', 'H2-M10.3', 'Nxt2', 'Bmp8b', 'Vipr2', 'Olfr102', 'Halder', 'Pip5kl1', 'Richard', 'Ctsz', 'Lat', 'Trem2', 'Gcnt4', 'Dcc', 'Anapc11', 'Uts2r', 'Ppargc1b', 'Plxna2', 'Serping1', 'Taar7f', 'Dhdh', 'Tjp3', 'Olfr1034', 'Olfr1453', 'Jahn', 'Dnajc3', 'Lefty1', 'Htr5a', 'Olfr768', 'Olfr1380', 'B3galt4', 'Perez-Fernandez', 'Smpd2', 'Grm6', 'Galnt18', 'Clec4b1', 'Mechanism', 'Arfgap3', 'Ccl24', 'Plcz1', 'Asic4', 'Rab7', 'Gpaa1', 'Mrpl13', 'Slco1a6', 'Tnfsf9', 'Znrd1', 'Ifit1', 'Olfr1276', 'Upp1', 'Oat', 'Mason', 'CRP55H', 'Napa', 'H2al1d', 'Eif5', 'Prps1', 'Dctn1', 'Ap1m1', 'Serpinf2', 'Hist1h2bf', 'Dnah7b', 'Nsdhl', 'Cyth3', 'Arpc3', 'Tas2r102', 'Kaufmann', 'Front', 'Faap100', 'Unc13c', 'Olfr418', 'Gsta1', 'Ckmt2', 'Casp4', 'Runx2', 'Bub1b', 'Pla2r1', 'Olfr1306', 'Laptm4a', 'Pax5', 'Btg1-ps2', 'Spg20', 'Olfr315', 'Cetn2', 'Pkn2', 'Serpinb3a', 'Olfr667', 'C-C', 'Olfr1413', 'Nature', 'Galnt2', 'Bcl2a1c', 'Kcnj9', 'Olfr1058', 'Olfr248', 'Mrps6', 'Nup50', 'Coscoy', 'Mir21a', 'Snx32', 'Fukuma', 'Traf3ip2', 'Benson', 'Taar6', 'Atp6v0d1', 'Sult1e1', 'Ppat', 'Thoc6', 'Tas2r121', 'Acap2', 'Olfr1416', 'Glud1', 'Cpt1b', 'Advani', 'Weller', 'Ppp2r5b', 'Papss2', 'Pycrl', 'Pop1', 'Olfr584', 'Colgalt2', 'Wexler', 'Zweidler-McKay', 'H3f3b', 'Pigm', 'Rptor', 'Mir181b-1', 'Emd', 'Selplg', 'Tyk2', 'Elane', 'Rapgef5', 'Olfr372', 'Wap', 'Serpinb13', 'Sawinska', 'Hsd17b4', 'Cdc25c', 'Nfx1', 'Unc5b', 'Dpys', 'Ordonez', 'Fut8', 'Mri1', 'Rev1', 'Csnk2a2', 'Ei24', 'Tas2r108', 'Smox', 'Mapk15', 'Mmachc', 'Cpox', 'EMBO', 'Prdx5', 'Ndufs3', 'Nae1', 'Lmnb1', 'Ccne1', 'Sumoylation', 'Adar', 'Camk1d', 'Ppp1r12b', 'Dnajc6', 'Hist4h4', 'Pik3ap1', 'Alad', 'Olfr1274-ps', 'Seko', 'Rbmxl2', 'Olfr624', 'Gstm6', 'Mt2', 'Dglucy', 'Olfr855', 'Stard3', 'Olfr218', 'Slc9a1', 'Krt16', 'Ramp1', 'Utp15', '[Base', 'Wade', 'Vamp4', 'Cironi', 'Abcc1', 'B3galt5', 'Mcee', 'Olfr1501', 'Map1lc3a', 'Mgat4b', 'Bouchard', 'Mrpl23', 'Galnt12', 'Olfr777', 'Sesn2', 'Them5', 'Prpf38a', 'Guca1a', 'Cacng1', 'Gtf2e2', 'Myh3', 'Tomm40', 'Mthfsl', 'Taar4', 'Pira7', 'Agnello', 'Slc3a1', 'Lfng', 'Viral', 'Gtf2ird1', 'Pde5a', 'Lsm7', 'Chu', 'Pml', 'Adrb3', 'Ctsm', 'Foxo6', 'Olfr221', 'Agtr1b', 'Ogdhl', 'Polm', 'Olfr713', 'Dhfr', 'Serpinb9b', 'Mbl2', 'Cyp4a30b', 'Srd5a3', 'Rplp2', 'Arrb2', 'Olfr1475', 'Mir200a', 'Olfr1098', 'Magoh', 'Taf5', 'Psme1', 'Kim', 'World', 'Kcnn1', 'Hgf', 'Ube2e1', 'Invs', 'Erbin', 'Petersen', 'Cyp11b1', 'Krt10', 'Olfr551', 'Pfkfb3', 'Snx5', 'Qian', 'Afkarian', 'Kmo', 'Hspa1b', 'Olfr979', 'Smap2', 'Klf3', 'Immp1l', 'Prkcq', 'Fgf8', 'Rexo1', 'Sdc3', 'Rassf6', 'Stk4', 'Mmp14', 'Dhrs4', 'Olfr1325', 'Per1', 'Tas2r109', 'Elf5', 'Acvr2a', 'Alb', 'Pfkm', 'Mboat7', 'Wnt1', 'Rorb', 'Olfr930', 'Mir423', 'Traf1', 'Lpar3', 'Olfr1451', 'Pde6d', 'Poli', '4932429P05Rik', 'Gcnt3', 'Mrps21', 'Ap3s1', 'Bioessays', 'Tigit', 'Cd59b', 'Shank2', 'Cnga4', 'Dnah1', 'Dtx3', 'Mir19b-1', 'Serpinb5', 'Granneman', 'Hgsnat', 'Olfr483', 'Washc5', 'Fas', 'Olfr1442', 'Gng10', 'Mbtps1', 'Prkag1', 'Prdm9', 'Chka', 'Olfr873', 'Pigf', 'Il22', 'Camk2b', 'Suclg2', 'Am', 'Atr', 'Rad23a', 'Dnaic2', 'Zic3', 'Smad6', 'Thymidine', 'Cxcl12', 'Trip12', 'Ifngr1', 'C8b', 'Gpx6', 'Srsf1', 'Olfr329-ps', 'Limk1', 'Cenps', 'Olfr1261', 'Ccl6', 'Thtpa', 'COX3', 'Mlkl', 'Atp5b', 'Cell', 'Olfr63', 'Rap2c', 'Tgfbr2', 'Pnp', 'Prps2', 'Decr2', 'Hs6st3', 'Plcb3', 'Gtf2h2', 'Ubxn6', 'Prkd1', 'Sox2', 'Edem2', 'Rab5b', 'Fgfr4', 'Rcor1', 'Gucy2c', 'Fgf18', 'Il17ra', 'Hoxa11', 'P2ry14', 'Dandri', 'Pias3', 'Slc30a1', 'Steinberg', 'Spint1', 'Linardic', 'Olfr1095', 'Pcx', 'MicroRNA', 'Col5a2', 'Ccr9', 'Slc25a17', 'Vmp1', 'Apaf1', 'Caron', 'H2-DMb2', 'HBx', 'Keg1', 'Uggt1', 'Wdr82', 'Olfr1272', 'Ltc4s', 'Cxxc4', 'Gpt', 'Roumier', 'Chromosome', 'Bcat1', 'Tas2r113', 'Pld4', 'H60a', 'Klc4', 'Ybx3', 'Mir19b-2', 'Olfr1161', 'Cooray', 'B3galt1', 'Hadhb', 'Olfr695', 'Olfr1346', 'Olfr170', 'Sema7a', 'Uroc1', 'March6', 'Sucnr1', 'Lmnb2', 'Clec4d', 'Ddx39b', 'Myl12a', 'Tank', 'Ppa1', 'Sema3g', 'Mbd4', 'H2al1g', 'Arhgef4', 'Plxna3', 'Tas2r124', 'Cobrinik', 'Olfr121', 'Siglech', 'Atp5g2', 'Plce1', 'Snw1', 'Cdh2', 'Olfr1308', 'Atp2a2', 'Cxcr1', 'Amot', 'Kuijk', 'Ivd', 'Was', 'Reck', 'Olfr640', 'Gpx4', 'Hist1h2br', 'Cox14', 'Rdh7', 'C4b', 'Cd86', 'Relb', 'Dgkg', 'Gabarapl2', 'Olfr1450', 'Vtcn1', 'Tlr11', 'Dclre1c', 'Kcne1', 'Tbxa2r', 'Gar1', 'Tmem173', 'Klein', 'Olfr207', 'Herz', 'Rhot1', 'Abcg5', 'Tnfrsf21', 'Ednra', 'Acsm3', 'Aff1', 'Tnf', 'Pik3cb', 'Prkce', 'Ulk1', 'Park7', 'Lineage', 'Hpse2', 'Lpcat4', 'Dapk3', 'Olfr1104', 'Ubc', 'Abcc4', 'n-R5s134', 'Ptpa', 'Rps21', 'Mauviel', 'Wdr5', 'Nos3', 'Pomc', 'Lama5', 'Pik3r2', 'Psmb9', 'Pex19', '4933405O20Rik', 'Chrna3', 'Mocs2', 'Sema3a', 'Ribosome', 'Sipa1l3', 'Pth1r', 'Patj', 'Beierle', 'Scn3a', 'Lss', 'Boutros', 'Ccl2', 'Pde7a', 'Rps19', 'Mapkapk2', 'Disruption', 'Pde6a', 'Gga2', 'Il1r2', 'Slc4a5', 'Gper1', 'Zuzel', 'Dnajb12', 'Exosc1', 'Zachary', 'Wwp2', 'Gbp5', 'Thbs1', 'Olfr458', 'Actn3', 'Lpcat2b', 'Gprc6a', 'Gabra5', 'Kobe', 'Specificity', 'Snx2', 'Olfr714', 'Olfr494', 'Myh11', 'Sept1', 'Eya1', 'Rrbp1', 'Miox', 'Pld1', 'Il5', 'Olfr1323', 'signal-regulatory', 'Irf1', 'Npy', 'Mrpl20', 'Fischer', 'Pik3r5', 'Flot1', 'Yes-associated', 'Ndufa12', 'Phka1', 'Olfr57', 'Cacng4', 'Olfr1086', 'Ap1s2', 'Agap1', 'Olfr1269', 'Brs3', 'Ube2q2', 'Slc11a1', 'Dnaic1', 'Bmpr1b', 'Pgk1', 'Csf2', 'Crystal', 'Git1', 'Tff1', 'Hes3', 'Gpc4', 'Iqgap1', 'Cxcl9', 'Schlee', 'Large-', 'Smarcd1', 'Fgfr3', 'Olfr167', 'Olfr420', 'Gria3', 'Gpld1', 'Col13a1', 'Nkx6-1', 'Parvg', 'Ace', 'DNA', 'Induction', 'Rpp40', 'Ppp3r2', 'Hdac4', 'Pdia6', 'Pygl', 'Engase', 'Impdh2', 'Inpp4b', 'Vcan', 'Gogl', 'Pold1', 'Ganc', 'Comprehensive', 'Eif1a', 'Fgb', 'Rngtt', 'Zeb1', 'Alg1', 'Nod2', 'Atg14', 'Akr1b10', 'St3gal2', 'Stk11', 'Scd1', 'Mir30e', 'Olfr1466', 'Akr7a5', 'Endog', 'Olfr1221', 'Gurunathan', 'Actg1', 'Kamura', 'Htr2b', 'Olfr522', 'Tnfrsf11a', 'Dcxr', 'Rock', 'Ldb1', 'Putative', 'Pycard', 'Lsg1', 'Tra2a', 'Ssr4', 'Olfr1338', 'Mgam', 'Rfxank', 'Cd72', 'Pola1', 'Wnt2', 'Kir3dl2', 'Edc3', '1700024P04Rik', 'Knowlton', 'Olfr1166', 'Alyref', 'Igsf5', 'Acss2', 'Sec11a', 'Dpm1', 'Scnn1g', 'Cr2', 'Crlf2', 'Akr1c18', 'Mir129-2', 'Ace3', 'Olfr220', 'The', 'Olfr652', 'Rdh10', 'Actn4', 'Tra2b', 'Rasa4', 'Cldn6', 'Ppard', 'Eif3j2', 'Gxylt2', 'Mocos', 'Olfr376', 'Psmd4', 'Cntn1', 'H2al1i', 'Olfr1234', 'Atp5d', 'Vapb', 'Taar9', 'Rps27', 'Doyle', 'Olfr491', 'Xrcc4', 'Pcyt1b', 'Rn28s1', 'Plcb4', 'Prkab1', 'Il19', 'Emerging', 'St3gal5', 'Pla2g7', 'MLL', 'Ggta1', 'Rpl26', 'Man2c1', 'Intracellular', 'Ftl1', 'Gumienny', 'Gxylt1', 'Cytoskeleton', 'Gemin5', 'Ube2d3', 'Olfr1195', 'Zhu', 'Ctsf', 'Gcg', 'Grm2', 'Cbs', 'Kpnb1', 'Cald1', 'Olfr1480', 'Ren1', 'n-R5s139', 'Msi1', 'Kit', 'Pip5k1c', 'Kl', 'Gnaq', 'Kcnmb1', 'Gtse1', 'Klk1b24', 'Agtr2', 'Uck2', 'Pnldc1', 'Ahr', 'Krt19', 'Ero1lb', 'Eliopoulos', 'Arc', 'Olfr784', 'Csnk1g3', 'Clk1', 'Uemura', 'Ifnlr1', 'Cad', 'Sult2b1', 'Hao2', 'Apln', 'Olfr531', 'Ganab', 'Slc17a6', 'Olfr166', 'Uba6', 'Olfr459', 'Med16', 'Olfr1189', 'Atp6v0e', 'Lamc2', 'Cyp2c50', 'Numbl', 'Martinez-Martin', 'Irak4', 'TrnE', 'Hnrnpc', 'Maf', 'Vps36', 'Sepsecs', 'Neurog1', 'Phgdh', 'Adh1', 'Ccl19', 'Ifi47', 'a', 'Kpna1', 'Olfr1321', 'Cers3', 'Lewis', 'Hey2', 'Coordinating', 'Dnah3', 'Fusion', 'Type', 'Ndufaf5', 'Cul2', 'Lrrc4', 'Pom121', 'B2m', 'Fkrp', 'Immune', 'Pola2', 'Stambp', 'Ppp3cc', 'H2-M10.5', 'Cntnap1', 'Arhgef2', 'Nppa', 'Ndufv1', 'Xab2', 'Honda', 'Rpl32', 'Lilien', 'Nat8f7', 'Dtymk', 'Klk1', 'Acox2', 'Eif2s3x', 'Pdia4', 'Slc33a1', 'Chia1', 'Mir28a', 'Ephx1', 'N', 'Pafah2', 'Prl', 'Olfr1496', 'Biochem', 'Tirap', 'Hdac2', 'Polr2g', 'Edc4', 'Olfr1136', 'Dnah5', 'Socs5', 'Far1', 'Dnase2a', 'Pvr', 'Dolk', 'Nbn', 'Ifnar2', 'Haao', 'Mpl', 'Cox17', 'Hadh', 'Gm853', 'Nadk', 'Klra3', 'Muc5ac', 'Cyp2j12', 'Rnf31', 'Fzd5', 'Hsph1', 'Cnot6', 'Olfr294', None, 'Tas2r103', 'Il4ra', 'Bhagwat', 'Epha3', 'Ube2r2', 'Dnah7a', 'Parva', 'Smarcc1', 'Tjap1', 'Gng4', 'Gery', 'Trpv2', 'Olfr633', 'Olfr391-ps', 'Rpl17', 'Retrovirology', 'Tanpakushitsu', 'Slc1a5', 'Foxo4', 'Crb3', 'Olfr284', 'TrnG', 'Hars', 'Rps10', 'Olfr495', 'Tnfrsf19', 'C1qc', 'Pnpla2', 'Igf2', 'Smap1', 'Olfr1377', 'Trp53bp2', '[Transcription-coupled', 'Olfr622', 'Olfr250', 'Cd1d2', 'Strehl', 'Dusp6', 'Smc1a', 'Olfr851', 'Stat3', 'Pla2g1b', 'Hs3st5', 'TrnS2', 'Flcn', 'Cd4', 'Atp5g3', 'Sakurai', 'Pold2', 'Osm', 'Olfr323', 'Olfr314', 'Mir141', 'Prim2', 'Ndufs8', 'Schilders', 'Ccr6', 'Watashi', 'Uprt', 'Powering', 'Allc', 'Pdk1', 'Olfr134', 'Gstt3', 'Bmp2', 'Glimcher', 'Pnn', 'Rcl1', 'Eme1', 'Ssr1', 'Olfr774', 'Krauss', 'Zfp369', 'Elmo3', 'Myh6', 'B4galt7', 'Hap1', 'Phf5a', 'Banerjee', 'Il1rap', 'Moseley', 'Pla2g10', 'Utp14a', 'Etnk1', 'Amotl1', 'Olfr1263', 'Olfr19', 'Zhang', 'Yap1', 'Gng3', 'Pde1b', 'Rpl29', 'Olfr2', 'H2-M2', 'Ifi30', 'n-R5s124', 'Klra9', 'Cxcl10', 'Tnfsf15', 'Inpp4a', 'Mars', 'Txndc5', 'Ehmt2', 'Hu', 'Pik3c3', 'Eif2b4', 'Olfr1271', 'Col1a2', 'Plrg1', 'Hist2h2ac', 'Ntf5', 'Smarcb1', 'Setdb1', 'Mapk10', 'Sgk2', 'Dusp7', 'Cyp4a10', 'Gab1', 'Ssb', 'Irf9', 'Rapgef1', 'Myh14', 'Olfr199', 'Grb2', 'Hras', 'Rps3', 'Ulbp1', 'Ppp2r3a', 'Olfr128', 'von', 'Eci3', 'Virus', 'Fancm', 'Olfr730', 'Rab11fip4', 'Olfr915', 'Gm15448', 'Krt25', 'Amdhd1', 'Cresswell', 'Olfr612', 'Cnot1', 'Calml4', 'Cyp2j5', 'Rasd1', 'Sgpp2', 'Chrne', 'Dis3', 'Gabarap', 'Pfas', 'Mir195a', 'Gphn', 'Prpf40a', 'Lamtor1', 'Map2k7', 'Xu', 'H2-M5', 'Olfr508', 'Efna2', 'Tas2r123', 'Olfr822', 'Psma7', 'Stat5a', 'Gynecol', 'Olfr1205', 'Hspa5', 'Chmp6', 'Ppp1r15a', 'Otx1', 'Snrpc', 'Alox12', 'CDK', 'Mir375', 'Col9a3', 'Il1a', 'Krt9', 'Atp5e', 'Slc9a3', 'Tnfrsf1b', 'Rbpjl', 'Olfr229', 'Psmd2', 'Ogg1', 'Nlgn1', 'Tgfb3', 'Tas2r125', 'Badorff', 'Plekhg5', 'Sacm1l', 'Papd7', 'Mllt3', 'Ctsw', 'Htr6', 'TRAF6', 'Cd70', 'Nihonijishinhousya', 'Ablim3', 'Kif23', 'Cd38', 'Pla2g15', 'Npas2', 'n-R5s123', 'Nsd1', 'Gtf2f1', 'Olfr1264', 'Rrp7a', 'Pi4kb', 'Sept4', 'Fgf1', 'Trpm4', 'Amt', 'Id1', 'Cbr2', 'Itoh', 'Kcnj8', 'Pestka', 'Tfrc', 'Zfyve27', 'Olfr1093', 'Nr4a3', 'Pla2g12a', 'Serpina1c', 'Fgf5', 'Spcs2', 'Rab8a', 'Fnip1', 'Itga11', 'Acaa1a', 'Dnah17', 'Galnt7', 'Sesn3', 'Prph', 'Mrvi1', 'PAX3-FOXO1', 'Nonhomologous', 'F12', 'Igfbp3', 'Lpin1', 'Aldh3b2', 'Rpp38', 'Taf4b', 'Tec', 'Med30', 'Chrd', 'Hmgcl', 'Cttn', 'Rpl8', 'Ggps1', 'Tas2r130', 'Ncor2', 'Sel1l2', 'Sap18', 'Subunit', 'Htr7', 'Smarcad1', 'Map3k8', 'Hat1', 'Guca1b', 'Why', 'Pabpn1', 'Naude', 'Rprm', 'Chen', 'Kcnj4', 'Olfr480', 'Gerald', 'Mir92-1', 'Rac1', 'Olfr916', 'Olfr677', 'Afdn', 'Timp1', 'Ellermann-Eriksen', 'Olfr1131', 'Hspa4', 'Gdpd3', 'Psma4', 'Emg1', 'Srsf7', 'Angpt4', 'Olfr1168', 'Sirt3', 'Atf1', 'Alyref2', 'Olfr426', 'Olfr135', 'Mdh1', 'Cox20', 'Hagglund', 'Dut', 'Gars', 'Aqp1', 'Mir124a-1', 'Cdc7', 'Pdss2', 'Fgf6', 'Bcl2a1d', 'Det1', 'Dmgdh', 'Gmppa', 'Serpine1', 'Lara-Pezzi', 'Oscar', 'Olfr291', 'Ifngr2', 'Cab39', 'From', 'Hacd4', 'Olfr1219', 'Olfr628', 'Rchy1', 'Aldh2', 'Hist1h4c', 'Nrg4', 'Trip6', 'Cox6a2', 'Ppp2r3c', 'Olfr726', 'Aass', 'Hars2', 'Durcan', 'Mtap', 'Ddx58', 'Lpin2', 'Hykk', 'Notch1', 'Ch25h', 'Plk1', 'Cxcl2', 'Ttk', 'Cacna2d4', 'Ptdss1', 'Calcoco2', 'Dhx33', 'Pink1', 'Dsg2', 'Itgb3', 'Serpina7', 'Tas2r122', 'Serpinc1', 'Gnb5', 'Rev', 'Alppl2', 'Olfr1228', 'Ryr2', 'Olfr1484', 'Olfr560', 'Aldob', 'Ndufs4', 'Rivlin', 'Aqp7', 'Psat1', 'Sirpb1b', 'S1pr2', 'Ap2s1', 'Baiap2', 'Olfr59', 'Mitf', 'Srprb', 'Smg7', 'Hyou1', 'Ifnab', 'Kitl', 'Impa2', 'C6', 'Chd4', 'Arthritis', 'Beavon', 'Ywhae', 'Bcl2l2', 'Steap1', 'Sgpl1', 'Hsd3b4', 'Setd2', 'Mir224', 'Fen1', 'U2surp', 'Smad3', 'Olfr874', 'Dhcr7', 'P2rx7', 'Myb', 'Pafah1b1', 'Slc7a9', 'Mre11a', 'Lama1', 'Car3', 'Twistnb', 'Fcgr3', 'Rpia', 'Bambi', 'Traf3', 'Dock2', 'Large1', 'Dnajc10', 'Isl1', 'Olfr1151', 'Mtmr3', 'Sat1', 'Atp6ap2', 'Atp6v1c1', 'Parp2', 'Tjp2', 'Olfr1368', 'Fgf20', 'Il11ra2', 'Rhot2', 'Mir152', 'Gli3', 'Prkg2', 'Adipor1', 'Olfr1502', 'Acot5', 'Taar8b', 'Chiloeches', 'Atf6b', 'Eur', 'Olfr48', 'Bcl2l11', 'Olfr835', 'Chpt1', 'Mmp16', 'Rps29', 'Cdipt', 'Nucleic', 'Gnai2', 'Eftud2', 'Dync1i1', 'Psma8', 'Mad2l1', 'Shmt1', 'Zmasek', 'Regulators', 'Srgap1', 'Mfn1', 'Traf6', 'Cyp2b19', 'Cdh4', 'Tokunaga', 'Pip5k1b', 'Gabbr2', 'Dagla', 'Cortez', 'Mios', 'Pf4', 'Wu', 'Pabpc5', 'Pde6h', 'Gk', 'Serpinb10', 'Pfkfb2', 'Chmp5', 'Cplx2', 'Kcnq2', 'Git2', 'Postgrad', 'Fpr3', 'Rab11a', 'Gpx7', 'Wolff', 'Counteraction', 'Janus', 'Eif2ak2', 'Tas2r117', 'Ptprn2', 'Gcat', 'Plcd4', 'Stat1', 'Maged1', 'Pnliprp2', 'Hspb2', 'expressed', 'Olfr1082', 'Taf15', 'Il12b', 'Sumo2', 'Ppp1r1b', 'Dcp1b', 'Inflammatory', 'Tab2', 'Sgca', 'Tubg2', 'Neil3', 'Olfr729', 'Olfr686', 'Sec23b', 'Tram1', 'Rpp14', 'What', 'Sts', 'Pcbp2', 'Hist1h2bp', 'Small', 'Aim2', 'Olfr1188', 'Pkia', 'Atg7', 'EBNA3C', 'Runx1t1', 'Rab31', 'Ccnd1', 'Ass1', 'Vamp2', 'Mir9-2', 'Tnfsf13', 'Osborne', 'Efna1', 'Avpr1a', 'Galc', 'Gm2436', 'Ncoa1', 'Pts', 'Olfr1443', 'Foxa2', 'Gypa', 'Psd2', 'Kumar', 'Shirihai', 'Rbmx', 'Gpx5', 'Ngfr', 'Pde8b', 'Plpp3', 'Dell', 'Olfr466', 'Dvl1', 'Rapgef6', 'Crebbp', 'XPF-ERCC1', 'Gga1', 'Tas1r3', 'Cyct', 'On', 'Xylt1', 'Pard6a', 'Kmt2b', 'Sh2b3', 'Mir1b', 'Adcyap1r1', 'Tarsl2', 'Arhgef18', 'Gfpt2', 'Prkd3', 'Olfr823', 'Xrcc1', 'HSV', 'Grin3a', 'Ube2j1', 'Ndufb3', 'Aldh6a1', 'Olfr1056', 'Nudt21', 'TrnN', 'Ctsd', 'Prdm2', 'CDC25', 'Cler', 'Srp54c', 'C8a', 'Ppp2r2c', 'Cyp27b1', 'Suzuki', 'Pax3', 'Rln1', 'Hs3st3b1', 'Pdcd6ip', 'Mpi', 'Pkp2', 'Slc5a5', 'Olfr684', 'Asic3', 'Prog', 'Gpcpd1', 'Baat', 'Sphk1', 'Olfr1138', 'Col9a1', 'Iwasa', 'Heath', 'Chac2', 'Mir135a-1', 'Tiam1', 'Acat2', 'Npy4r', 'P', 'Alpi', 'Dtx3l', 'Chmp3', 'Dnm1l', 'Exosc5', 'Me2', 'Smad4', 'Homer3', 'Raet1a', 'Cyp3a16', 'Pcgf5', 'Aspa', 'Alox12e', 'Nf1', 'Ackerman', 'Hnrnpa3', 'Dgke', 'Olfr1309', 'Olfr1499', 'Vdac2', 'Gna15', 'Txnrd3', 'Pten', 'Arnt', 'Fh1', 'Ppp1r12a', 'Osmr', 'Olfr600', 'Gerrard', 'Mcm2', 'Sqor', 'Bag1', 'Cpt1c', 'Ralbp1', 'Mtmr4', 'Rps7', 'Bad', 'Mmp13', 'Cd55b', 'Ndufa4', 'Olfr1062', 'Epas1', 'Mogs', 'Tas2r105', 'Tpk1', 'Olfr1432', 'Homer2', 'Acot1', 'Masp2', 'Olfr290', 'Lan', 'Mgrn1', 'Capn1', 'Sun', 'Mir103-2', 'PMID:16922370', 'Fabp5', 'Acvr2b', 'Bdkrb2', 'Ehd1', 'Faustman', 'Olfr1275', 'Apoa4', 'Appl1', 'TrnT', 'Fancf', 'Phlpp1', 'Yamaguchi', 'Sensitivity', 'Peinado', 'Klk1b1', 'Cougot', 'Olfr1252', 'n-R5s113', 'Pnlip', 'Cyp3a11', 'Olfr1248', 'Krt17', 'Slc4a4', 'Icam2', 'Fah', 'Bdnf', 'Hsp90aa1', 'Dejana', 'H2-T23', 'B3galnt2', 'Slc32a1', 'Gm2457', 'Srpr', 'Oprd1', 'Prdm6', 'Olfr716', 'Olfr571', 'H2-DMa', 'L1cam', 'Tyms', 'F2rl3', 'Itpr2', 'Chac1', 'Mrpl18', 'Hs2st1', 'Expression', 'Upp2', 'Slc1a7', 'Ctsj', 'Ppbp', 'Cop1', 'Fus', 'Fyn', 'Rasgrf1', 'Pi4ka', 'Olfr1511', 'Sh2d2a', 'Jak1', 'Reln', 'Slco1c1', 'Krt14', 'Ube4a', 'Coq7', 'Cpe', 'Hba-a2', 'Lpar6', 'Adi1', 'Krt31', 'Brap', 'Olfr1044', 'Ube2m', 'Hpgds', 'Olfr1232', 'Tmprss2', 'Hesx1', 'Sost', 'Taf10', 'Il20rb', 'Kat6a', 'Olfr569', 'Aldh5a1', 'Gm4847', 'Ap3m1', 'Nagk', 'Chd8', 'Ddx3x', 'Pygm', \"O'Shea\", 'Eef1a1', 'Olfr1009', 'Hnrnpa1l2-ps2', 'Closing', 'Treh', 'Dev', 'Ffar2', 'Mc4r', 'Cyp2c37', 'Myl2', 'Tgfb2', 'Arg2', 'Aldh1l1', 'Tuba3a', 'Csf1', 'Olfr1180', 'Ifna1', 'Olfr1509', 'Ube2z', 'Maillard', 'Hibadh', 'Hist1h2be', 'Ifnl2', 'Atp2b2', 'Ncoa4', 'Psenen', 'Il7', 'Nnt', 'Mylip', 'Nakatsu', '1700080E11Rik', 'Card14', 'Col5a3', 'Msx3', 'Olfr957', 'Scd4', 'Smo', 'Shen', 'Plcl1', 'Sbds', 'Smg5', 'Lpar1', 'Isono', 'Tnfrsf11b', 'Plxna4', 'Lclat1', 'Cox6a1', 'Nfs1', 'Pop4', 'Ptpn6', 'Lars', 'Tlr4', 'Kmt5c', 'Olfr870', 'Rbp2', 'Slc11a2', 'Htr1d', 'Rps26', 'Gzma', 'Mcl1', 'Wisp1', 'Lama3', 'Cul4a', 'Wipf3', 'Olfr1121', 'Olfr1391', 'Papola', 'Taar7e', 'Gstt2', 'Chrm3', 'Psme2', 'Ann', 'Mlxip', 'Fam213b', 'Nxf7', 'Olfr906', 'Gtf2i', 'Olfr1441', 'Bryant', 'Dll4', 'Mrps10', 'G6pd2', 'Vti1a', 'Eif3i', 'Thbs3', 'Poll', 'Erp29', 'Gm5601', 'Zbp1', 'Vcp', 'Smg1', 'Gemin8', 'Bms1', 'Uba1y', 'Olfr1212', 'Ggct', 'Eif3j1', 'Olfr212', 'Mir125b-1', 'Sipa1l2', 'Dars2', 'Snrnp27', 'Herding', 'Wdr48', 'Mthfd2l', 'Sema5a', 'Id4', 'Tymp', 'Cybrd1', 'Psme3', 'Cela2a', 'Il5ra', 'Immunobiology', 'Olfr1414', 'Xia', 'Ifna2', 'Massimi', 'Erlec1', 'Tecr', 'Nup153', 'Mir330', 'Gypc', 'Gm44805', 'Gabbr1', 'Dlst', 'Gm4925', 'Cacna1d', 'Egln3', 'Interactions', 'Alg5', 'Mrgprd', 'Cdx2', 'Gldc', 'Newton', 'Dag1', 'Serpinb9c', 'Tars2', 'Ndufs2', 'Grm3', 'Gpr156', 'Ugt2a1', 'Sema4c', 'Olfr1023', 'Ssx2ip', 'Gpr161', 'Pcbd1', 'Pgf', 'Dync1i2', 'Ptprn', 'Gm3244', 'Psmd6', 'Calm3', 'Arroyo', 'Spdya', 'Aqp9', 'Cyp17a1', 'Cish', 'Ephb1', 'Acot7', 'Cyb5r2', 'Olfr635', 'Olfr183', 'Olfr703', 'Olfr107', 'Olfr143', 'Rpl36al', 'Myh2', 'Olfr1404', 'Olfr1201', 'Porcn', 'Rarb', 'Cxcr5', 'Ube2q1', 'Sardh', 'Rasgrf2', 'Abcg8', 'Xpc', 'Rb', 'Saha', 'Abcc6', 'Pkn1', 'Svip', 'Ranbp3', 'Il11', 'Olfr867', 'Cdkn1a', 'Drosha', 'Pkmyt1', 'Rap1gap', 'Tuba1c', 'Ptk2b', 'Tnfrsf14', 'Tead3', 'Rhobtb1', 'Polk', 'Cntf', 'Syvn1', 'Snrnp40', 'Roberts', 'Mecom', 'C4bp', 'Slc29a1', 'Slc9a3r2', 'Olfr1487', 'Tas2r114', 'Pafah1b3', 'Regulation', 'Tat', 'Ptk2', 'Plaa', 'Synaptic', 'Nr1h4', 'Ywhah', 'Cyp8b1', 'Camkmt', 'Clcf1', 'Genome', 'Hdac9', 'Pole2', 'Il10ra', 'Slc22a4', 'Olfr147', 'Hist1h2ao', 'Atp1a1', 'Krt15', 'Rnmt', 'Olfr1043', 'Olfr124', 'C1s2', 'Rbmxl1', 'H2afj', 'Olfr533', 'Prado', 'Dgkd', 'Myh9', 'Lsm3', 'Aars2', 'Atf2', 'Vegfa', 'Gucy2d', 'Pex11a', 'Science', 'Mir345', 'Ncoa3', 'Mrpl16', 'Advances', 'Snx6', 'Aldh3a1', 'Dufour', 'Olfr484', 'Mos', 'P4ha3', 'Exosc4', 'Elangbam', 'Ctps2', 'Olfr679', 'Jup', 'H2-Q2', 'Olfr150', 'Pde10a', 'Olfr384', 'Ibsp', 'Pfn3', 'Scn9a', 'Setmar', 'IL-12', 'Setd1a', 'Acox3', 'Basic', 'Mapk4', 'Olfr908', 'Barth', 'Ins2', 'Cplx4', 'Slc24a1', 'Extl3', 'Rdh12', 'Olfr298', 'n-R5s149', 'Il4i1', 'McLaughlin-Drubin', 'Sis', 'Mir200b', 'Calr', 'Tcn2', 'Med24', 'Amph', 'Olfr982', 'Olfr816', 'Skil', 'Muller-Tidow', 'Gstt1', 'Med', 'Gemin7', 'Rara', 'Vars', 'Cyp4a29', 'Olfr190', 'Hist1h4m', 'Cacnb3', 'Harris', 'Gabra3', 'Asap3', 'Gstm3', 'Cyp26c1', 'Pparg', 'Mir101c', 'FASEB', 'Chronic', 'Olfr1457', 'Rfxap', 'Mir135b', 'Nme2', 'Trp53bp1', 'Rxra', 'Fzd7', 'Atp5f1', 'Bhlha15', 'Eef1g', 'Brenner', 'Fpr1', 'Cblb', 'Olfr589', 'Olfr1537', 'Hdac11', 'Pin1', 'Cyp2c29', 'Tuba8', 'Olfr186', 'Trpm5', 'Orai2', 'Fahd1', 'Matricon', 'Myh4', 'Flna', 'Itpkc', 'Ddo', 'Hmbs', 'Rad51d', 'Mcm3', 'Dynll2', 'Pcyt2', 'Gstz1', 'Hamacher-Brady', 'Gtf2a2', 'Rxfp2', 'Myl3', 'Olfr360', 'Gpc1', 'Csf3r', 'Kdm3a', 'Olfr933', 'Esr2', 'Tktl2', 'Irs2', 'Gls2', 'Ewsr1', 'Nek7', 'Trpm7', 'Olfr401', 'Endocr', 'Olfr733', 'Ccl28', 'Ugt2b36', 'Gtf2h4', 'Psmd12', 'Macaluso', 'Stag1', 'C3', 'Lin9', 'Yes1', 'Nrxn1', 'Bmp8a', 'Arhgap17', 'Tubg1', 'Mt1', 'Cdk6', 'Regulated', 'Map2k1', 'Harrison', 'Tbl3', 'Acss1', 'Gm29733', 'Nop56', 'Ptpn11', 'TatD', 'Olfr110', 'Creb3l2', 'Cyp2c66', 'Cd209f', 'Dgat2', 'Cnot3', 'Hrh4', 'Olfr1510', 'Eln', 'Olfr355', 'Olfr672', 'n-R5s146', 'Ly96', 'Trpv5', 'Fmo6', 'Cars2', 'Dctd', 'Gtf2h3', 'S1pr5', 'Ulk2', 'Entpd1', 'Mocs3', 'Glul', 'Dab2ip', 'Olfr1140', 'Ntng2', 'Fbxl3', 'Mir7-1', 'Sord', 'Hmox2', 'Bhmt', 'Olfr62', 'Olfr557', 'Rbm25', 'Cpeb2', 'Ippk', 'Scn5a', 'Olfr545', 'Fcf1', 'Sult2a1', 'Moen', 'Gm11787', 'Pik3cd', 'Cacybp', 'Hergovich', 'Upregulation', 'Rgs2', 'Is', 'Olfr64', 'Hpgd', 'p53', 'Gart', 'Tacc3', 'Trim71', 'Tek', 'Rnf125', 'Sirpa', 'Gm12657', 'Gale', 'Polarized', 'Ifna6', 'Crtc1', 'Pax4', 'Pole', 'Btrc', 'Mitophagy', 'Cdca5', 'Hsd17b2', 'Gtf2b', 'Dbf4', 'Bmp6', 'TMPRSS2/ERG', 'Olfr592', 'Usp7', 'Pik3r6', 'Pex10', 'Rab8b', 'Mdh2', 'Peroxisome', 'Lta', 'Rbbp8', 'H2al1j', 'Gpat3', 'Myl9', 'Olfr849', 'Oprk1', 'Rps11', 'Nthl1', 'Gstm7', 'Stam', 'Polr2b', 'Cd6', 'Col5a1', 'Ncor1', 'Olfr769', 'Galnt6', 'Gstm4', 'Tubb3', 'Inpp5d', 'Stx11', 'Kmt2e', 'Bet1l', 'Galnt13', 'Extl1', 'Met', 'Olfr645', 'Chst3', 'Pgm2l1', 'Ksr1', 'Prickle4', 'Pkd2l1', 'Slk', 'Gorab', 'Srebf1', 'Psmb7', 'Abcb11', 'Common', 'Sdr16c5', 'Matsuda', 'Ranbp2', 'Klk1b21', 'Tyrp1', 'Barber', 'Qars', 'Il9', 'Cdkn2d', 'Ptgir', 'Brk1', 'Rad21', 'Ptma', 'Mir194-1', 'Gdf5', 'Elovl1', 'Rfng', 'H2-M9', 'Acyp1', 'Gm14920', 'Epha7', 'Cox15', 'Efnb3', 'Jackson', 'Genomics', 'Olfr1162', 'Calhm1', 'Cers1', 'Cyp1b1', 'Eif4a1', 'Ldlr', 'Cd68', 'Cd63', 'Nat', 'Olfr12', 'Dnah8', 'Taar5', 'Atxn3', 'Hist1h4n', 'Tlg2p,', 'Pi4k2b', 'Mogat2', 'Olfr1532-ps1', 'Cramer', 'Qu', 'Enah', 'Ccr2', 'Atic', 'Dlat', 'Idh3g', 'Cox7a2l', 'Gosr1', 'Atp2b1', 'Pilra', 'ND1', 'Michel', 'Bazzoni', 'Prkag3', 'Olfr1428', 'Rasgrp3', 'Rps14', 'Ust', 'Rhoh', 'Il17c', 'Olfr49', 'B3gnt7', 'TLR', 'Hnrnpm', 'Conacci-Sorrell', 'Stx7', 'Haematologica', 'Rbks', 'Mybl2', 'Wwc1', 'CD40', 'Fabp7', 'Cyp2b13', 'Pharm', 'Cybb', 'Cdk14', 'Ckm', 'Olfr403', 'Tmem86b', 'Ppid', 'H2-Q9', 'Olfr1393', 'Slc2a2', 'Neu2', 'Nat3', 'Cyp39a1', 'Clec7a', 'Rab13', 'Olfr393', 'Sept2', 'Alg13', 'Gm8909', 'Tokino', 'Olfr1297', 'Dync2li1', 'Id2', 'Fads1', 'Olfr1014', 'Cacna1g', 'TIR', 'Gerst', 'n-R5s142', 'Hsd3b1', 'TrnP', 'Rbbp4', 'Kynu', 'Tumour', 'Weil', 'Spata2l', 'Endothelial', 'Car14', 'Tubb6', 'Sema6d', 'H2-M11', 'Foxa3', 'Gstm1', 'Gucy1b2', 'Cyp11b2', 'Pip4k2a', 'Gnal', 'Olfr1255', 'Cdc40', 'Txndc12', 'Agrn', 'Slc45a3', 'Exosc10', 'Sc5d', 'Apex2', 'Kcnj1', 'Ap3d1', 'Prkar2b', 'Il17f', 'Cks1b', 'Rpl13', 'Npr1', 'Sfrp2', 'Olfr919', 'Johansen', 'Smith', 'Cate', 'Crit', 'Ces1d', 'Olfr1299', 'Srp14', 'Gm4846', 'Ndufv3', 'Txnrd1', 'Sema6a', 'Kcnj3', 'Chrnb2', 'Hddc3', 'Csf2ra', 'Asap2', 'C7', 'Olfr1239', 'Hcar2', 'Olfr1193', 'Olfr1349', 'Wdr61', 'Ccnb1', 'Actg2', 'Hacl1', 'Dnajc5', 'Neurog3', 'Everett', 'Bbox1', 'Reits', 'Heyer', 'Olfr1472', 'Cdc5l', 'Mif', 'Jetten', 'Smarcd3', 'Sirt1', 'Tapbp', 'Tfg', 'Exp', 'Olfr46', 'Pim2', 'Etv1', 'Olfr763', 'Sec24c', 'Prkaa1', 'Vps4a', 'Plk4', 'Gsto2', 'Ungermann', 'Gp1bb', 'Slc18a1', 'n-R5s143', 'Cfl1', 'Jishage', 'Effects', 'Abat', 'Slc1a6', 'Tktl1', 'Cs', 'Cmah', 'Ywhag', 'Aipl1', 'Vangala', 'Olfr692', 'Sec11c', 'Olfr961', 'Pars2', 'Klk1b4', 'Hsd3b7', \"O'Neill\", 'Ndufb2', 'Epstein-Barr', 'Olfr176', 'Pik3c2g', 'Chpf', 'Olfr1382', 'H2afy', 'Mir335', 'Il17rc', 'Interferon-gamma,', 'Brown', 'Olfr1055', 'Timp3', 'Chst10', 'Pocket', 'Cers5', 'Ugt2b5', 'Taf9b', 'Ldhd', 'Retsat', 'Ctnna1', 'Fasn', 'Rmi1', 'Pi4k2a', 'Olfr544', 'Mir15a', 'Akt1', 'Olfr141', 'Dkk2', 'Olfr148', 'Irs3', 'Il15ra', 'Ctla4', 'Derl2', 'Olfr457', 'Calb1', 'Olfr472', 'PINK1', 'Igf2bp1', 'Olfr1506', 'Gria4', 'Elovl4', 'Ptch1', 'Kcnj2', 'Pard6b', 'Car2', 'Cul4b', 'Tph2', 'Rims2', 'Ebag9', 'Olfr437', 'Lamb1', 'Iida', 'Pank4', 'Polr2h', 'Gnat3', 'Spry2', 'Rapgef4', 'Olfr807', 'Olfr787', 'Diao', 'Flt3l', 'Potts', 'Placement', 'Rbm22', 'Rheb', 'Fxr1', 'Pde11a', 'Col4a4', 'Mir137', 'Egln1', 'Rasgrp1', 'Olfr967', 'Col12a1', 'Vac14', 'Gclm', 'Hasegawa', 'Mvb12a', 'Aadat', 'H2-Ab1', 'Ube2f', 'Olfr620', 'Wdr59', 'Eif2ak4', 'Cln3', 'Dusp2', 'Trim21', 'Olfr450', 'Characterization', 'Psmc3', 'Slco1a1', 'Mknk2', 'B3galt2', 'Cngb1', 'Cd46', 'Taar1', 'Klhl9', 'Mphosph10', 'Rgs9', 'Tgs1', 'Slc7a7', 'Tas2r126', 'Olfr671', 'Akr1b3', 'Marveld2', 'Btg2', 'Agpat1', 'Cdh17', 'Mpz', 'Tlx1', 'Ehhadh', 'Tnfsf10', 'Sdc1', 'Duox2', 'Dlg3', 'Olah', 'Control', 'Xpa', 'Scn2a', 'H2-M10.6', 'Pfn4', 'H2bfm', 'Traf4', 'Janeway', 'Btg1-ps1', 'Kcnq1', 'Prcp', 'Slc8a3'}\n"
     ]
    }
   ],
   "source": [
    "# get set of unique genes from kegg\n",
    "l = set()\n",
    "for idx in full_df.index:\n",
    "    for itm in full_df.loc[idx][2:].values:\n",
    "        l.add(itm)\n",
    "        \n"
   ]
  },
  {
   "cell_type": "code",
   "execution_count": null,
   "metadata": {},
   "outputs": [],
   "source": []
  },
  {
   "cell_type": "code",
   "execution_count": null,
   "metadata": {},
   "outputs": [],
   "source": []
  },
  {
   "cell_type": "markdown",
   "metadata": {},
   "source": [
    "### Subtask 2.3: Extract a list of significantly (at 0.05 significance) enriched KEGG pathways"
   ]
  },
  {
   "cell_type": "code",
   "execution_count": null,
   "metadata": {
    "scrolled": true
   },
   "outputs": [],
   "source": []
  },
  {
   "cell_type": "markdown",
   "metadata": {},
   "source": [
    "## Task 3: KEGG map visualization"
   ]
  },
  {
   "cell_type": "markdown",
   "metadata": {},
   "source": [
    "#### hint:\n",
    "\n",
    "http://nbviewer.jupyter.org/github/widdowquinn/notebooks/blob/master/Biopython_KGML_intro.ipynb\n",
    "\n",
    "#### remark:\n",
    "\n",
    "In real life you may want to use the R-based tool pathview: https://bioconductor.org/packages/release/bioc/html/pathview.html (if you insist you can also try to use r2py for using pathview from Python during the practical)\n",
    "\n",
    "For Python (in addition to the Biopyhton module) https://github.com/idekerlab/py2cytoscape in combination with https://github.com/idekerlab/KEGGscape may be another alternative (in the future)\n",
    "\n",
    "Generally speaking, it is always a good idea to pay attention also to other pathway databases like Reactome or WikiPathways ..."
   ]
  },
  {
   "cell_type": "markdown",
   "metadata": {},
   "source": [
    "### Subtask 3.1: Pick some significantly enriched KEGG pathways of your choice from 2.3 and visualize them"
   ]
  },
  {
   "cell_type": "code",
   "execution_count": null,
   "metadata": {},
   "outputs": [],
   "source": []
  },
  {
   "cell_type": "markdown",
   "metadata": {},
   "source": [
    "### Subtask 3.2: Define a a suitable binary color scheme respresenting the fact whether a gene is significantly expressed or not"
   ]
  },
  {
   "cell_type": "markdown",
   "metadata": {},
   "source": [
    "hint: \n",
    "\n",
    "http://www.rapidtables.com/web/color/RGB_Color.htm"
   ]
  },
  {
   "cell_type": "code",
   "execution_count": null,
   "metadata": {
    "collapsed": true
   },
   "outputs": [],
   "source": []
  },
  {
   "cell_type": "markdown",
   "metadata": {},
   "source": [
    "### Subtask 3.3: Visualize the pathway(s) from 3.1 in such a way that the included genes have the corresponding color from 3.2 ( you may need to define a suitable mapping from single genes to what is actually shown in the pathway map...)"
   ]
  },
  {
   "cell_type": "code",
   "execution_count": null,
   "metadata": {},
   "outputs": [],
   "source": []
  }
 ],
 "metadata": {
  "anaconda-cloud": {},
  "kernelspec": {
   "display_name": "Python 3",
   "language": "python",
   "name": "python3"
  },
  "language_info": {
   "codemirror_mode": {
    "name": "ipython",
    "version": 3
   },
   "file_extension": ".py",
   "mimetype": "text/x-python",
   "name": "python",
   "nbconvert_exporter": "python",
   "pygments_lexer": "ipython3",
   "version": "3.6.4"
  }
 },
 "nbformat": 4,
 "nbformat_minor": 1
}
