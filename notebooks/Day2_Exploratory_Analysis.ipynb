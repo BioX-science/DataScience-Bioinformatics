{
 "cells": [
  {
   "cell_type": "markdown",
   "metadata": {
    "toc": "true"
   },
   "source": [
    "# Table of Contents\n",
    " <p><div class=\"lev1\"><a href=\"#Today's-topics\"><span class=\"toc-item-num\">1&nbsp;&nbsp;</span>Today's topics</a></div><div class=\"lev1\"><a href=\"#Change-some-defaults\"><span class=\"toc-item-num\">2&nbsp;&nbsp;</span>Change some defaults</a></div><div class=\"lev1\"><a href=\"#Useful-links\"><span class=\"toc-item-num\">3&nbsp;&nbsp;</span>Useful links</a></div><div class=\"lev2\"><a href=\"#Python-packages\"><span class=\"toc-item-num\">3.1&nbsp;&nbsp;</span>Python packages</a></div><div class=\"lev2\"><a href=\"#Jupyter-notebooks\"><span class=\"toc-item-num\">3.2&nbsp;&nbsp;</span>Jupyter notebooks</a></div><div class=\"lev2\"><a href=\"#Data-visualisation\"><span class=\"toc-item-num\">3.3&nbsp;&nbsp;</span>Data visualisation</a></div><div class=\"lev2\"><a href=\"#Learn/Improve-your-python-skills\"><span class=\"toc-item-num\">3.4&nbsp;&nbsp;</span>Learn/Improve your python skills</a></div><div class=\"lev2\"><a href=\"#Data-Science/Programming-help\"><span class=\"toc-item-num\">3.5&nbsp;&nbsp;</span>Data Science/Programming help</a></div><div class=\"lev2\"><a href=\"#Bioinformatics-help\"><span class=\"toc-item-num\">3.6&nbsp;&nbsp;</span>Bioinformatics help</a></div><div class=\"lev2\"><a href=\"#Tutorials\"><span class=\"toc-item-num\">3.7&nbsp;&nbsp;</span>Tutorials</a></div><div class=\"lev1\"><a href=\"#Download-data\"><span class=\"toc-item-num\">4&nbsp;&nbsp;</span>Download data</a></div><div class=\"lev2\"><a href=\"#Task:-Create-a-subdirectory-in-which-you-will-store-all-your-in--and-output-files\"><span class=\"toc-item-num\">4.1&nbsp;&nbsp;</span>Task: Create a subdirectory in which you will store all your in- and output files</a></div><div class=\"lev2\"><a href=\"#Task:-Download-Genotype-supplement-and-check-if-it-worked\"><span class=\"toc-item-num\">4.2&nbsp;&nbsp;</span>Task: Download Genotype supplement and check if it worked</a></div><div class=\"lev3\"><a href=\"#Subtask:-Check-that-the-file-looks-ok-by-opening-it-in-a-text-editor\"><span class=\"toc-item-num\">4.2.1&nbsp;&nbsp;</span>Subtask: Check that the file looks ok by opening it in a text editor</a></div><div class=\"lev2\"><a href=\"#Task:-Repeat-for-Phenotype-supplement\"><span class=\"toc-item-num\">4.3&nbsp;&nbsp;</span>Task: Repeat for Phenotype supplement</a></div><div class=\"lev3\"><a href=\"#Subtask:-Check-that-the-file-looks-ok-by-opening-it-in-a-spreadsheet-software\"><span class=\"toc-item-num\">4.3.1&nbsp;&nbsp;</span>Subtask: Check that the file looks ok by opening it in a spreadsheet software</a></div><div class=\"lev1\"><a href=\"#Genotype\"><span class=\"toc-item-num\">5&nbsp;&nbsp;</span>Genotype</a></div><div class=\"lev2\"><a href=\"#Task:-Load-genotype-file-into-a-pandas-dataframe-using-the-correct-read-function\"><span class=\"toc-item-num\">5.1&nbsp;&nbsp;</span>Task: Load genotype file into a pandas dataframe using the correct read function</a></div><div class=\"lev2\"><a href=\"#Task:-Check-if-import-worked-by-displaying-the-first-10-rows-of-the-dataframe\"><span class=\"toc-item-num\">5.2&nbsp;&nbsp;</span>Task: Check if import worked by displaying the first 10 rows of the dataframe</a></div><div class=\"lev2\"><a href=\"#Task:-Describe-what-the-individuals-rows-and-columns-in-the-dataframe-mean\"><span class=\"toc-item-num\">5.3&nbsp;&nbsp;</span>Task: Describe what the individuals rows and columns in the dataframe mean</a></div><div class=\"lev2\"><a href=\"#Task:-How-many-SNPs-are-defined-in-the-genotype-file\"><span class=\"toc-item-num\">5.4&nbsp;&nbsp;</span>Task: How many SNPs are defined in the genotype file</a></div><div class=\"lev2\"><a href=\"#How-many-different-strains-are-included-in-the-genotype-file\"><span class=\"toc-item-num\">5.5&nbsp;&nbsp;</span>How many different strains are included in the genotype file</a></div><div class=\"lev2\"><a href=\"#Task:-Plot-the-distribution-patterns-of-maternal-and-paternal-alleles-across-strains-and-SNPs\"><span class=\"toc-item-num\">5.6&nbsp;&nbsp;</span>Task: Plot the distribution patterns of maternal and paternal alleles across strains and SNPs</a></div><div class=\"lev3\"><a href=\"#Step-1:-convert-cell-values-to-numbers\"><span class=\"toc-item-num\">5.6.1&nbsp;&nbsp;</span>Step 1: convert cell values to numbers</a></div><div class=\"lev3\"><a href=\"#Step-2:-Plot-clustered-heatmap\"><span class=\"toc-item-num\">5.6.2&nbsp;&nbsp;</span>Step 2: Plot clustered heatmap</a></div><div class=\"lev3\"><a href=\"#Plot-distribution-of-maternal-and-paternal-alleles\"><span class=\"toc-item-num\">5.6.3&nbsp;&nbsp;</span>Plot distribution of maternal and paternal alleles</a></div><div class=\"lev2\"><a href=\"#Study-Linakge-Disequilibrium-between-the-SNPs-on-each-chromosome\"><span class=\"toc-item-num\">5.7&nbsp;&nbsp;</span>Study Linakge Disequilibrium between the SNPs on each chromosome</a></div><div class=\"lev3\"><a href=\"#Subtask:-For-each-pair-of-loci-in-the-mouse-genotype-dataset,-compute-D'\"><span class=\"toc-item-num\">5.7.1&nbsp;&nbsp;</span>Subtask: For each pair of loci in the mouse genotype dataset, compute D'</a></div><div class=\"lev3\"><a href=\"#Subtask:-Plot-the-heatmap-of-pairwise-LD-for-SNPs\"><span class=\"toc-item-num\">5.7.2&nbsp;&nbsp;</span>Subtask: Plot the heatmap of pairwise LD for SNPs</a></div><div class=\"lev3\"><a href=\"#Subtask:-If-you-have-time:-Plot-only-pairwise-LD-for-SNPs-on-specific-chromosome-(e.g.-chr-4)\"><span class=\"toc-item-num\">5.7.3&nbsp;&nbsp;</span>Subtask: If you have time: Plot only pairwise LD for SNPs on specific chromosome (e.g. chr 4)</a></div><div class=\"lev1\"><a href=\"#Phenotype\"><span class=\"toc-item-num\">6&nbsp;&nbsp;</span>Phenotype</a></div><div class=\"lev2\"><a href=\"#Task:-Load-phenotype-file-into-a-pandas-dataframe-using-the-correct-read-function-(keep-all-sheets)\"><span class=\"toc-item-num\">6.1&nbsp;&nbsp;</span>Task: Load phenotype file into a pandas dataframe using the correct read function (keep all sheets)</a></div><div class=\"lev2\"><a href=\"#Task:-List-all-sheet-names\"><span class=\"toc-item-num\">6.2&nbsp;&nbsp;</span>Task: List all sheet names</a></div><div class=\"lev2\"><a href=\"#Task:-Take-a-peek-into-the-different-sheets-based-on-their-respective-name\"><span class=\"toc-item-num\">6.3&nbsp;&nbsp;</span>Task: Take a peek into the different sheets based on their respective name</a></div><div class=\"lev3\"><a href=\"#Subtask:-Try-the-pandas-functions-head()-and-tail()\"><span class=\"toc-item-num\">6.3.1&nbsp;&nbsp;</span>Subtask: Try the pandas functions head() and tail()</a></div><div class=\"lev3\"><a href=\"#Subtask:-List-all-columns-in-the-Biochemistry-sheet\"><span class=\"toc-item-num\">6.3.2&nbsp;&nbsp;</span>Subtask: List all columns in the Biochemistry sheet</a></div><div class=\"lev2\"><a href=\"#Task:-Study-the-variability-of-response-across-different-strains-for-some-of-the-measured-phenotypes:\"><span class=\"toc-item-num\">6.4&nbsp;&nbsp;</span>Task: Study the variability of response across different strains for some of the measured phenotypes:</a></div><div class=\"lev3\"><a href=\"#Subtask:-Compare-activity-on-activity-wheel-across-strains-(use-daily,-nightly-and-24-measurements,-pick-one-diet)\"><span class=\"toc-item-num\">6.4.1&nbsp;&nbsp;</span>Subtask: Compare activity on activity wheel across strains (use daily, nightly and 24 measurements, pick one diet)</a></div><div class=\"lev3\"><a href=\"#Subtask:-Compare-activity-across-different-times-of-day\"><span class=\"toc-item-num\">6.4.2&nbsp;&nbsp;</span>Subtask: Compare activity across different times of day</a></div><div class=\"lev3\"><a href=\"#Subtask:-Compare-the-two-different-diets-(for-several-biochemistry-measurements)\"><span class=\"toc-item-num\">6.4.3&nbsp;&nbsp;</span>Subtask: Compare the two different diets (for several biochemistry measurements)</a></div><div class=\"lev2\"><a href=\"#Task:-Compare-multiple-phenotype-measurements-(%-change-in-weight-and-mass)-across-strains-and-diet\"><span class=\"toc-item-num\">6.5&nbsp;&nbsp;</span>Task: Compare multiple phenotype measurements (% change in weight and mass) across strains and diet</a></div><div class=\"lev3\"><a href=\"#Subtask:-Extract-relevant-columns-from-the-body-weight-data-frame\"><span class=\"toc-item-num\">6.5.1&nbsp;&nbsp;</span>Subtask: Extract relevant columns from the body weight data frame</a></div><div class=\"lev3\"><a href=\"#Subtask:-Create-a-plot\"><span class=\"toc-item-num\">6.5.2&nbsp;&nbsp;</span>Subtask: Create a plot</a></div><div class=\"lev1\"><a href=\"#Merging-dataframes\"><span class=\"toc-item-num\">7&nbsp;&nbsp;</span>Merging dataframes</a></div><div class=\"lev1\"><a href=\"#Aggregating-dataframes\"><span class=\"toc-item-num\">8&nbsp;&nbsp;</span>Aggregating dataframes</a></div>"
   ]
  },
  {
   "cell_type": "markdown",
   "metadata": {},
   "source": [
    "# Today's topics "
   ]
  },
  {
   "cell_type": "markdown",
   "metadata": {},
   "source": [
    "We will mainly explore some of the data provided in the publications listed below. This will include downloading and importing data, describing numerical value columns in respect to the value distribution, and plot several relationships. The main goal is to familiarize yourself with the data while practicing how to use pandas. Feel free to explore other questions that may arise in addition to the tasks listed below."
   ]
  },
  {
   "cell_type": "markdown",
   "metadata": {},
   "source": [
    "The full publication that inspired some of the data analyses steps we'll do in this practical course was published in Science recently:\n",
    "\n",
    "__Systems proteomics of liver mitochondria function__      \n",
    "by Evan G. Williams, Yibo Wu, Pooja Jha, Sébastien Dubuis et al.     \n",
    "_Science_     \n",
    "Volume 352(6291):[aad0189](http://science.sciencemag.org/content/352/6291/aad0189)    \n",
    "June 10, 2016, [doi:10.1126/science.aad0189](doi:10.1126/science.aad0189)\n",
    "\n",
    "The supplemental files are listed here: http://science.sciencemag.org/content/suppl/2016/06/10/352.6291.aad0189.DC1\n",
    "\n",
    "We further include some methodology discussed in a related paper about mouse-human PheWAS\n",
    "\n",
    "__Joint mouse–human phenome-wide association to test gene function and disease risk__\n",
    "by Xusheng Wang, Ashutosh K. Pandey, Megan K. Mulligan, Evan G. Williams et al.     \n",
    "_Nature Communications_     \n",
    "Volume 7, Article number: 10464, [doi:10.1038/ncomms10464](doi:10.1038/ncomms10464)     "
   ]
  },
  {
   "cell_type": "markdown",
   "metadata": {},
   "source": [
    "# Download data"
   ]
  },
  {
   "cell_type": "markdown",
   "metadata": {},
   "source": [
    "## Task: Create a subdirectory in which you will store all your in- and output files"
   ]
  },
  {
   "cell_type": "code",
   "execution_count": 1,
   "metadata": {
    "run_control": {
     "frozen": false,
     "read_only": false
    }
   },
   "outputs": [],
   "source": [
    "import os\n",
    "\n",
    "#os.makedirs('inputFiles')\n",
    "#os.makedirs('outputFiles')"
   ]
  },
  {
   "cell_type": "markdown",
   "metadata": {},
   "source": [
    "## Task: Download Genotype supplement and check if it worked"
   ]
  },
  {
   "cell_type": "markdown",
   "metadata": {},
   "source": [
    "Hint: the genotype data is in the supplemental file \"aad0189_DataFileS4.txt\""
   ]
  },
  {
   "cell_type": "markdown",
   "metadata": {},
   "source": [
    "###  Subtask: Check that the file looks ok by opening it"
   ]
  },
  {
   "cell_type": "markdown",
   "metadata": {
    "collapsed": true,
    "run_control": {
     "frozen": false,
     "read_only": false
    }
   },
   "source": [
    "## Task: Repeat for Phenotype supplement"
   ]
  },
  {
   "cell_type": "markdown",
   "metadata": {},
   "source": [
    "Hint: the phenotype data is in the supplemental file \"aad0189_DataFileS2.xlsx\""
   ]
  },
  {
   "cell_type": "markdown",
   "metadata": {},
   "source": [
    "### Subtask: Check that the file looks ok by opening it"
   ]
  },
  {
   "cell_type": "markdown",
   "metadata": {},
   "source": [
    "# Genotype\n",
    "The mouse genotype data is provided as a tab-delimited text file (you can check it's general structure using less in the command line or by opening the file in a text editor).\n",
    "## Task: Load genotype file into a pandas dataframe using the correct read function"
   ]
  },
  {
   "cell_type": "markdown",
   "metadata": {},
   "source": [
    "The supplementary file aad0189_DataFileS4_Genotype.txt corresponds to BXD_3000.geno and BXD.geno on [genenetwork.org](http://www.genenetwork.org/webqtl/main.py?FormID=sharinginfo&GN_AccessionId=600). BXD17000 on the other hand contains roughly 17000 markers."
   ]
  },
  {
   "cell_type": "code",
   "execution_count": 2,
   "metadata": {
    "run_control": {
     "frozen": false,
     "read_only": false
    }
   },
   "outputs": [],
   "source": [
    "import warnings\n",
    "warnings.filterwarnings(\"ignore\")\n",
    "\n",
    "import pandas as pandas\n",
    "\n",
    "# read genotype txt file\n",
    "genotype = pandas.read_table('inputFiles/aad0189_DataFileS4.txt', sep=\"\\t\", skiprows=6)"
   ]
  },
  {
   "cell_type": "markdown",
   "metadata": {},
   "source": [
    "## Task: Check if import worked by displaying the first 10 rows of the dataframe"
   ]
  },
  {
   "cell_type": "code",
   "execution_count": 3,
   "metadata": {
    "run_control": {
     "frozen": false,
     "read_only": false
    },
    "scrolled": true
   },
   "outputs": [
    {
     "data": {
      "text/html": [
       "<div>\n",
       "<style scoped>\n",
       "    .dataframe tbody tr th:only-of-type {\n",
       "        vertical-align: middle;\n",
       "    }\n",
       "\n",
       "    .dataframe tbody tr th {\n",
       "        vertical-align: top;\n",
       "    }\n",
       "\n",
       "    .dataframe thead th {\n",
       "        text-align: right;\n",
       "    }\n",
       "</style>\n",
       "<table border=\"1\" class=\"dataframe\">\n",
       "  <thead>\n",
       "    <tr style=\"text-align: right;\">\n",
       "      <th></th>\n",
       "      <th>Chr</th>\n",
       "      <th>Locus</th>\n",
       "      <th>cM</th>\n",
       "      <th>Mb</th>\n",
       "      <th>BXD1</th>\n",
       "      <th>BXD2</th>\n",
       "      <th>BXD5</th>\n",
       "      <th>BXD6</th>\n",
       "      <th>BXD8</th>\n",
       "      <th>BXD9</th>\n",
       "      <th>...</th>\n",
       "      <th>BXD90</th>\n",
       "      <th>BXD91</th>\n",
       "      <th>BXD93</th>\n",
       "      <th>BXD94</th>\n",
       "      <th>BXD95</th>\n",
       "      <th>BXD98</th>\n",
       "      <th>BXD99</th>\n",
       "      <th>BXD100</th>\n",
       "      <th>BXD101</th>\n",
       "      <th>BXD102</th>\n",
       "    </tr>\n",
       "  </thead>\n",
       "  <tbody>\n",
       "    <tr>\n",
       "      <th>0</th>\n",
       "      <td>1</td>\n",
       "      <td>rs6269442</td>\n",
       "      <td>0.000</td>\n",
       "      <td>3.482275</td>\n",
       "      <td>B</td>\n",
       "      <td>B</td>\n",
       "      <td>D</td>\n",
       "      <td>D</td>\n",
       "      <td>D</td>\n",
       "      <td>B</td>\n",
       "      <td>...</td>\n",
       "      <td>B</td>\n",
       "      <td>D</td>\n",
       "      <td>B</td>\n",
       "      <td>D</td>\n",
       "      <td>D</td>\n",
       "      <td>B</td>\n",
       "      <td>B</td>\n",
       "      <td>B</td>\n",
       "      <td>B</td>\n",
       "      <td>B</td>\n",
       "    </tr>\n",
       "    <tr>\n",
       "      <th>1</th>\n",
       "      <td>1</td>\n",
       "      <td>rs6365999</td>\n",
       "      <td>0.000</td>\n",
       "      <td>4.811062</td>\n",
       "      <td>B</td>\n",
       "      <td>B</td>\n",
       "      <td>D</td>\n",
       "      <td>D</td>\n",
       "      <td>D</td>\n",
       "      <td>B</td>\n",
       "      <td>...</td>\n",
       "      <td>B</td>\n",
       "      <td>D</td>\n",
       "      <td>B</td>\n",
       "      <td>D</td>\n",
       "      <td>D</td>\n",
       "      <td>B</td>\n",
       "      <td>B</td>\n",
       "      <td>B</td>\n",
       "      <td>B</td>\n",
       "      <td>U</td>\n",
       "    </tr>\n",
       "    <tr>\n",
       "      <th>2</th>\n",
       "      <td>1</td>\n",
       "      <td>rs6376963</td>\n",
       "      <td>0.895</td>\n",
       "      <td>5.008089</td>\n",
       "      <td>B</td>\n",
       "      <td>B</td>\n",
       "      <td>D</td>\n",
       "      <td>D</td>\n",
       "      <td>D</td>\n",
       "      <td>B</td>\n",
       "      <td>...</td>\n",
       "      <td>B</td>\n",
       "      <td>D</td>\n",
       "      <td>B</td>\n",
       "      <td>D</td>\n",
       "      <td>D</td>\n",
       "      <td>B</td>\n",
       "      <td>B</td>\n",
       "      <td>B</td>\n",
       "      <td>B</td>\n",
       "      <td>U</td>\n",
       "    </tr>\n",
       "    <tr>\n",
       "      <th>3</th>\n",
       "      <td>1</td>\n",
       "      <td>rs3677817</td>\n",
       "      <td>1.185</td>\n",
       "      <td>5.176058</td>\n",
       "      <td>B</td>\n",
       "      <td>B</td>\n",
       "      <td>D</td>\n",
       "      <td>D</td>\n",
       "      <td>D</td>\n",
       "      <td>B</td>\n",
       "      <td>...</td>\n",
       "      <td>B</td>\n",
       "      <td>D</td>\n",
       "      <td>B</td>\n",
       "      <td>D</td>\n",
       "      <td>D</td>\n",
       "      <td>B</td>\n",
       "      <td>B</td>\n",
       "      <td>B</td>\n",
       "      <td>B</td>\n",
       "      <td>U</td>\n",
       "    </tr>\n",
       "    <tr>\n",
       "      <th>4</th>\n",
       "      <td>1</td>\n",
       "      <td>rs8236463</td>\n",
       "      <td>2.081</td>\n",
       "      <td>5.579193</td>\n",
       "      <td>B</td>\n",
       "      <td>B</td>\n",
       "      <td>D</td>\n",
       "      <td>D</td>\n",
       "      <td>D</td>\n",
       "      <td>B</td>\n",
       "      <td>...</td>\n",
       "      <td>B</td>\n",
       "      <td>D</td>\n",
       "      <td>B</td>\n",
       "      <td>D</td>\n",
       "      <td>D</td>\n",
       "      <td>B</td>\n",
       "      <td>B</td>\n",
       "      <td>B</td>\n",
       "      <td>B</td>\n",
       "      <td>U</td>\n",
       "    </tr>\n",
       "    <tr>\n",
       "      <th>5</th>\n",
       "      <td>1</td>\n",
       "      <td>rs6333200</td>\n",
       "      <td>2.081</td>\n",
       "      <td>6.217921</td>\n",
       "      <td>B</td>\n",
       "      <td>B</td>\n",
       "      <td>D</td>\n",
       "      <td>D</td>\n",
       "      <td>D</td>\n",
       "      <td>B</td>\n",
       "      <td>...</td>\n",
       "      <td>B</td>\n",
       "      <td>D</td>\n",
       "      <td>B</td>\n",
       "      <td>D</td>\n",
       "      <td>D</td>\n",
       "      <td>B</td>\n",
       "      <td>B</td>\n",
       "      <td>B</td>\n",
       "      <td>B</td>\n",
       "      <td>U</td>\n",
       "    </tr>\n",
       "    <tr>\n",
       "      <th>6</th>\n",
       "      <td>1</td>\n",
       "      <td>rs6298633</td>\n",
       "      <td>2.367</td>\n",
       "      <td>6.820241</td>\n",
       "      <td>B</td>\n",
       "      <td>B</td>\n",
       "      <td>D</td>\n",
       "      <td>D</td>\n",
       "      <td>D</td>\n",
       "      <td>B</td>\n",
       "      <td>...</td>\n",
       "      <td>B</td>\n",
       "      <td>D</td>\n",
       "      <td>B</td>\n",
       "      <td>D</td>\n",
       "      <td>D</td>\n",
       "      <td>B</td>\n",
       "      <td>B</td>\n",
       "      <td>B</td>\n",
       "      <td>B</td>\n",
       "      <td>U</td>\n",
       "    </tr>\n",
       "    <tr>\n",
       "      <th>7</th>\n",
       "      <td>1</td>\n",
       "      <td>rs6241531</td>\n",
       "      <td>2.367</td>\n",
       "      <td>9.995925</td>\n",
       "      <td>B</td>\n",
       "      <td>B</td>\n",
       "      <td>D</td>\n",
       "      <td>D</td>\n",
       "      <td>D</td>\n",
       "      <td>B</td>\n",
       "      <td>...</td>\n",
       "      <td>B</td>\n",
       "      <td>D</td>\n",
       "      <td>B</td>\n",
       "      <td>D</td>\n",
       "      <td>D</td>\n",
       "      <td>B</td>\n",
       "      <td>B</td>\n",
       "      <td>B</td>\n",
       "      <td>B</td>\n",
       "      <td>D</td>\n",
       "    </tr>\n",
       "    <tr>\n",
       "      <th>8</th>\n",
       "      <td>1</td>\n",
       "      <td>rs6360236</td>\n",
       "      <td>3.263</td>\n",
       "      <td>11.073904</td>\n",
       "      <td>B</td>\n",
       "      <td>B</td>\n",
       "      <td>D</td>\n",
       "      <td>D</td>\n",
       "      <td>D</td>\n",
       "      <td>B</td>\n",
       "      <td>...</td>\n",
       "      <td>B</td>\n",
       "      <td>D</td>\n",
       "      <td>B</td>\n",
       "      <td>D</td>\n",
       "      <td>D</td>\n",
       "      <td>B</td>\n",
       "      <td>B</td>\n",
       "      <td>B</td>\n",
       "      <td>B</td>\n",
       "      <td>D</td>\n",
       "    </tr>\n",
       "    <tr>\n",
       "      <th>9</th>\n",
       "      <td>1</td>\n",
       "      <td>rs3722996</td>\n",
       "      <td>3.263</td>\n",
       "      <td>11.259432</td>\n",
       "      <td>B</td>\n",
       "      <td>B</td>\n",
       "      <td>D</td>\n",
       "      <td>D</td>\n",
       "      <td>D</td>\n",
       "      <td>B</td>\n",
       "      <td>...</td>\n",
       "      <td>B</td>\n",
       "      <td>D</td>\n",
       "      <td>B</td>\n",
       "      <td>D</td>\n",
       "      <td>D</td>\n",
       "      <td>B</td>\n",
       "      <td>B</td>\n",
       "      <td>B</td>\n",
       "      <td>B</td>\n",
       "      <td>D</td>\n",
       "    </tr>\n",
       "  </tbody>\n",
       "</table>\n",
       "<p>10 rows × 97 columns</p>\n",
       "</div>"
      ],
      "text/plain": [
       "  Chr      Locus     cM         Mb BXD1 BXD2 BXD5 BXD6 BXD8 BXD9  ...   BXD90  \\\n",
       "0   1  rs6269442  0.000   3.482275    B    B    D    D    D    B  ...       B   \n",
       "1   1  rs6365999  0.000   4.811062    B    B    D    D    D    B  ...       B   \n",
       "2   1  rs6376963  0.895   5.008089    B    B    D    D    D    B  ...       B   \n",
       "3   1  rs3677817  1.185   5.176058    B    B    D    D    D    B  ...       B   \n",
       "4   1  rs8236463  2.081   5.579193    B    B    D    D    D    B  ...       B   \n",
       "5   1  rs6333200  2.081   6.217921    B    B    D    D    D    B  ...       B   \n",
       "6   1  rs6298633  2.367   6.820241    B    B    D    D    D    B  ...       B   \n",
       "7   1  rs6241531  2.367   9.995925    B    B    D    D    D    B  ...       B   \n",
       "8   1  rs6360236  3.263  11.073904    B    B    D    D    D    B  ...       B   \n",
       "9   1  rs3722996  3.263  11.259432    B    B    D    D    D    B  ...       B   \n",
       "\n",
       "  BXD91 BXD93 BXD94 BXD95 BXD98 BXD99 BXD100 BXD101 BXD102  \n",
       "0     D     B     D     D     B     B      B      B      B  \n",
       "1     D     B     D     D     B     B      B      B      U  \n",
       "2     D     B     D     D     B     B      B      B      U  \n",
       "3     D     B     D     D     B     B      B      B      U  \n",
       "4     D     B     D     D     B     B      B      B      U  \n",
       "5     D     B     D     D     B     B      B      B      U  \n",
       "6     D     B     D     D     B     B      B      B      U  \n",
       "7     D     B     D     D     B     B      B      B      D  \n",
       "8     D     B     D     D     B     B      B      B      D  \n",
       "9     D     B     D     D     B     B      B      B      D  \n",
       "\n",
       "[10 rows x 97 columns]"
      ]
     },
     "execution_count": 3,
     "metadata": {},
     "output_type": "execute_result"
    }
   ],
   "source": [
    "# display first 10 rows of the dataframe\n",
    "genotype.head(10)"
   ]
  },
  {
   "cell_type": "markdown",
   "metadata": {},
   "source": [
    "## Task: Describe what the individuals rows and columns in the dataframe mean\n",
    "You may have to have a look at the file header of the genotype file as well as the data repositories containing genetic data of mice: http://www.genenetwork.org/mouseCross.html and http://www.genenetwork.org/webqtl/main.py?FormID=sharinginfo&GN_AccessionId=600 "
   ]
  },
  {
   "cell_type": "markdown",
   "metadata": {
    "collapsed": true
   },
   "source": [
    "#### Answer\n",
    "- information can be found on http://www.stats.ox.ac.uk/~marchini/software/gwas/file_format.html"
   ]
  },
  {
   "cell_type": "markdown",
   "metadata": {},
   "source": [
    "## Task: How many SNPs are defined in the genotype file"
   ]
  },
  {
   "cell_type": "code",
   "execution_count": 4,
   "metadata": {
    "run_control": {
     "frozen": false,
     "read_only": false
    }
   },
   "outputs": [
    {
     "name": "stdout",
     "output_type": "stream",
     "text": [
      "Number of SNPs defined in the genotype file: 3811\n"
     ]
    }
   ],
   "source": [
    "# every line is a SNP i.e simply count rows of data frame\n",
    "print(\"Number of SNPs defined in the genotype file:\",len(genotype))"
   ]
  },
  {
   "cell_type": "markdown",
   "metadata": {},
   "source": [
    "## How many different strains are included in the genotype file"
   ]
  },
  {
   "cell_type": "code",
   "execution_count": 5,
   "metadata": {
    "run_control": {
     "frozen": false,
     "read_only": false
    }
   },
   "outputs": [
    {
     "name": "stdout",
     "output_type": "stream",
     "text": [
      "Number of strains included in the genotype file: 93\n"
     ]
    }
   ],
   "source": [
    "# every column except the first 4 is a single strain.\n",
    "\n",
    "# drop first 4 columns, count remaining columns\n",
    "col_count = len(genotype.drop(genotype.columns[[0,1,2,3]], axis=1).columns)\n",
    "\n",
    "print(\"Number of strains included in the genotype file:\", col_count)"
   ]
  },
  {
   "cell_type": "markdown",
   "metadata": {},
   "source": [
    "## Task: Plot the distribution patterns of maternal and paternal alleles across strains and SNPs"
   ]
  },
  {
   "cell_type": "markdown",
   "metadata": {},
   "source": [
    "### Step 1: convert cell values to numbers"
   ]
  },
  {
   "cell_type": "markdown",
   "metadata": {},
   "source": [
    "Note on heterozygous loci: \"It is recommended to treat these rare heterozygous loci as missing data and ensure that only the additive effects of B vs. D alleles are estimated\" (http://www.genenetwork.org/webqtl/main.py?FormID=sharinginfo&GN_AccessionId=600)\n",
    "\n",
    "Hint: For the Heatmap in the next task, it is preferable to have a [-x,x] range, rather than a [0,x] range."
   ]
  },
  {
   "cell_type": "code",
   "execution_count": 9,
   "metadata": {
    "run_control": {
     "frozen": false,
     "read_only": false
    }
   },
   "outputs": [],
   "source": [
    "# substitute letters with values\n",
    "genotype_num = genotype.replace(['B', 'D', 'U', 'H'], [-1, 1, 0, 0])\n",
    "\n",
    "# drop first 4 columns\n",
    "genotype_num = genotype_num.drop(genotype.columns[[0,1,2,3]], axis=1)\n",
    "\n",
    "# print first 10 rows\n",
    "#genotype_num.head(10)"
   ]
  },
  {
   "cell_type": "markdown",
   "metadata": {},
   "source": [
    "### Step 2: Plot clustered heatmap"
   ]
  },
  {
   "cell_type": "code",
   "execution_count": 10,
   "metadata": {
    "run_control": {
     "frozen": false,
     "read_only": false
    }
   },
   "outputs": [
    {
     "data": {
      "image/png": "[encoded data removed]",
      "text/plain": [
       "<Figure size 720x720 with 4 Axes>"
      ]
     },
     "metadata": {},
     "output_type": "display_data"
    }
   ],
   "source": [
    "import seaborn as sns\n",
    "import matplotlib.pyplot as plt\n",
    "\n",
    "sns.set()\n",
    "\n",
    "sns.clustermap(data=genotype_num);"
   ]
  },
  {
   "cell_type": "markdown",
   "metadata": {},
   "source": [
    "### Plot distribution of maternal and paternal alleles"
   ]
  },
  {
   "cell_type": "code",
   "execution_count": 11,
   "metadata": {},
   "outputs": [
    {
     "ename": "NameError",
     "evalue": "name 'D' is not defined",
     "output_type": "error",
     "traceback": [
      "\u001b[0;31m---------------------------------------------------------------------------\u001b[0m",
      "\u001b[0;31mNameError\u001b[0m                                 Traceback (most recent call last)",
      "\u001b[0;32m<ipython-input-11-c3dc2a85c78e>\u001b[0m in \u001b[0;36m<module>\u001b[0;34m()\u001b[0m\n\u001b[1;32m      2\u001b[0m \u001b[0mcount_D\u001b[0m \u001b[0;34m=\u001b[0m \u001b[0;34m[\u001b[0m\u001b[0msum\u001b[0m\u001b[0;34m(\u001b[0m\u001b[0;34m[\u001b[0m\u001b[0;36m1\u001b[0m \u001b[0;32mfor\u001b[0m \u001b[0mc\u001b[0m \u001b[0;32min\u001b[0m \u001b[0mgenotype\u001b[0m\u001b[0;34m[\u001b[0m\u001b[0mcol\u001b[0m\u001b[0;34m]\u001b[0m \u001b[0;32mif\u001b[0m \u001b[0mc\u001b[0m \u001b[0;34m==\u001b[0m \u001b[0;34m\"D\"\u001b[0m\u001b[0;34m]\u001b[0m\u001b[0;34m)\u001b[0m \u001b[0;32mfor\u001b[0m \u001b[0mcol\u001b[0m \u001b[0;32min\u001b[0m \u001b[0mgenotype\u001b[0m\u001b[0;34m]\u001b[0m\u001b[0;34m\u001b[0m\u001b[0m\n\u001b[1;32m      3\u001b[0m \u001b[0mcount_B\u001b[0m \u001b[0;34m=\u001b[0m \u001b[0;34m[\u001b[0m\u001b[0msum\u001b[0m\u001b[0;34m(\u001b[0m\u001b[0;34m[\u001b[0m\u001b[0;36m1\u001b[0m \u001b[0;32mfor\u001b[0m \u001b[0mc\u001b[0m \u001b[0;32min\u001b[0m \u001b[0mgenotype\u001b[0m\u001b[0;34m[\u001b[0m\u001b[0mcol\u001b[0m\u001b[0;34m]\u001b[0m \u001b[0;32mif\u001b[0m \u001b[0mc\u001b[0m \u001b[0;34m==\u001b[0m \u001b[0;34m\"B\"\u001b[0m\u001b[0;34m]\u001b[0m\u001b[0;34m)\u001b[0m \u001b[0;32mfor\u001b[0m \u001b[0mcol\u001b[0m \u001b[0;32min\u001b[0m \u001b[0mgenotype\u001b[0m\u001b[0;34m]\u001b[0m\u001b[0;34m\u001b[0m\u001b[0m\n\u001b[0;32m----> 4\u001b[0;31m \u001b[0mcount_D\u001b[0m \u001b[0;34m=\u001b[0m \u001b[0;34m[\u001b[0m\u001b[0mx\u001b[0m\u001b[0;34m/\u001b[0m\u001b[0;34m(\u001b[0m\u001b[0mlen\u001b[0m\u001b[0;34m(\u001b[0m\u001b[0mgenotype\u001b[0m\u001b[0;34m.\u001b[0m\u001b[0mindex\u001b[0m\u001b[0;34m)\u001b[0m\u001b[0;34m/\u001b[0m\u001b[0;36m100\u001b[0m\u001b[0;34m)\u001b[0m \u001b[0;32mfor\u001b[0m \u001b[0mx\u001b[0m \u001b[0;32min\u001b[0m \u001b[0mD\u001b[0m\u001b[0;34m]\u001b[0m\u001b[0;34m[\u001b[0m\u001b[0;36m4\u001b[0m\u001b[0;34m:\u001b[0m\u001b[0;34m]\u001b[0m\u001b[0;34m\u001b[0m\u001b[0m\n\u001b[0m\u001b[1;32m      5\u001b[0m \u001b[0mcount_B\u001b[0m \u001b[0;34m=\u001b[0m \u001b[0;34m[\u001b[0m\u001b[0mx\u001b[0m\u001b[0;34m/\u001b[0m\u001b[0;34m(\u001b[0m\u001b[0mlen\u001b[0m\u001b[0;34m(\u001b[0m\u001b[0mgenotype\u001b[0m\u001b[0;34m.\u001b[0m\u001b[0mindex\u001b[0m\u001b[0;34m)\u001b[0m\u001b[0;34m/\u001b[0m\u001b[0;36m100\u001b[0m\u001b[0;34m)\u001b[0m \u001b[0;32mfor\u001b[0m \u001b[0mx\u001b[0m \u001b[0;32min\u001b[0m \u001b[0mB\u001b[0m\u001b[0;34m]\u001b[0m\u001b[0;34m[\u001b[0m\u001b[0;36m4\u001b[0m\u001b[0;34m:\u001b[0m\u001b[0;34m]\u001b[0m\u001b[0;34m\u001b[0m\u001b[0m\n",
      "\u001b[0;31mNameError\u001b[0m: name 'D' is not defined"
     ]
    }
   ],
   "source": [
    "# compute distributions\n",
    "count_D = [sum([1 for c in genotype[col] if c == \"D\"]) for col in genotype]\n",
    "count_B = [sum([1 for c in genotype[col] if c == \"B\"]) for col in genotype]\n",
    "count_D = [x/(len(genotype.index)/100) for x in D][4:]\n",
    "count_B = [x/(len(genotype.index)/100) for x in B][4:]"
   ]
  },
  {
   "cell_type": "code",
   "execution_count": null,
   "metadata": {
    "run_control": {
     "frozen": false,
     "read_only": false
    },
    "scrolled": true
   },
   "outputs": [],
   "source": [
    "# set title\n",
    "ax = plt.axes()\n",
    "ax.set_title('Distribution of maternal and paternal alleles')\n",
    "\n",
    "# use seaborn for distplot\n",
    "sns.distplot(count_B, color='green');\n",
    "sns.distplot(count_D, color='red');"
   ]
  },
  {
   "cell_type": "markdown",
   "metadata": {},
   "source": [
    "Hint: Count occurances of the alleles B and D for each strain"
   ]
  },
  {
   "cell_type": "markdown",
   "metadata": {},
   "source": [
    "# Phenotype\n",
    "The BXD mouse phenotype data has been accumulated over the past 50 years and with various measurements being available for different mice and different tissue types. The data provided by the paper supplement is structured as a multi-sheet EXCEL spreadsheet - you can open it in the corresponding software to get a first impression about the structure of the file.\n",
    "## Task: Load phenotype file into a pandas dataframe using the correct read function (keep all sheets)"
   ]
  },
  {
   "cell_type": "code",
   "execution_count": 12,
   "metadata": {
    "run_control": {
     "frozen": false,
     "read_only": false
    }
   },
   "outputs": [],
   "source": [
    "# import excel file with multiple worksheets\n",
    "phenotype = pandas.ExcelFile('inputFiles/aad0189_DataFileS2.xlsx')"
   ]
  },
  {
   "cell_type": "markdown",
   "metadata": {},
   "source": [
    "## Task: List all sheet names"
   ]
  },
  {
   "cell_type": "code",
   "execution_count": 13,
   "metadata": {
    "run_control": {
     "frozen": false,
     "read_only": false
    }
   },
   "outputs": [
    {
     "name": "stdout",
     "output_type": "stream",
     "text": [
      "Body Wt & Composition\n",
      "NIBP\n",
      "CLAMS\n",
      "OGTT\n",
      "ColdTest\n",
      "TSE\n",
      "VO2Max\n",
      "Activity Wheel\n",
      "Tissue_W\n",
      "Biochemistry\n",
      "Hematology\n",
      "NEW\n"
     ]
    }
   ],
   "source": [
    "# print all available sheets\n",
    "for sheet in phenotype.sheet_names:\n",
    "    print(sheet)"
   ]
  },
  {
   "cell_type": "markdown",
   "metadata": {},
   "source": [
    "## Task: Take a peek into the different sheets based on their respective name"
   ]
  },
  {
   "cell_type": "markdown",
   "metadata": {},
   "source": [
    "### Subtask: Try the pandas functions head() and tail()"
   ]
  },
  {
   "cell_type": "code",
   "execution_count": 14,
   "metadata": {},
   "outputs": [
    {
     "data": {
      "text/html": [
       "<div>\n",
       "<style scoped>\n",
       "    .dataframe tbody tr th:only-of-type {\n",
       "        vertical-align: middle;\n",
       "    }\n",
       "\n",
       "    .dataframe tbody tr th {\n",
       "        vertical-align: top;\n",
       "    }\n",
       "\n",
       "    .dataframe thead th {\n",
       "        text-align: right;\n",
       "    }\n",
       "</style>\n",
       "<table border=\"1\" class=\"dataframe\">\n",
       "  <thead>\n",
       "    <tr style=\"text-align: right;\">\n",
       "      <th></th>\n",
       "      <th>@format=column</th>\n",
       "      <th>CD_DayRER_CLAMS_[ratio]</th>\n",
       "      <th>SE</th>\n",
       "      <th>N</th>\n",
       "      <th>HFD_DayRER_CLAMS_[ratio]</th>\n",
       "      <th>SE.1</th>\n",
       "      <th>N.1</th>\n",
       "      <th>CD_NightRER_CLAMS_[ratio]</th>\n",
       "      <th>SE.2</th>\n",
       "      <th>N.2</th>\n",
       "      <th>...</th>\n",
       "      <th>N.28</th>\n",
       "      <th>VO2_LeanBWCor_Day_HFD</th>\n",
       "      <th>SE.29</th>\n",
       "      <th>N.29</th>\n",
       "      <th>VO2_LeanBWCor_Night_CD</th>\n",
       "      <th>SE.30</th>\n",
       "      <th>N.30</th>\n",
       "      <th>VO2_LeanBWCor_Night_HFD</th>\n",
       "      <th>SE.31</th>\n",
       "      <th>N.31</th>\n",
       "    </tr>\n",
       "  </thead>\n",
       "  <tbody>\n",
       "    <tr>\n",
       "      <th>0</th>\n",
       "      <td>C57BL/6J</td>\n",
       "      <td>0.88285</td>\n",
       "      <td>0.00692007</td>\n",
       "      <td>4</td>\n",
       "      <td>0.76725</td>\n",
       "      <td>0.00502999</td>\n",
       "      <td>4</td>\n",
       "      <td>0.93275</td>\n",
       "      <td>0.0166594</td>\n",
       "      <td>4</td>\n",
       "      <td>...</td>\n",
       "      <td>4</td>\n",
       "      <td>4197</td>\n",
       "      <td>74</td>\n",
       "      <td>4</td>\n",
       "      <td>3776.5</td>\n",
       "      <td>93.2343</td>\n",
       "      <td>4</td>\n",
       "      <td>4781.93</td>\n",
       "      <td>162.162</td>\n",
       "      <td>4</td>\n",
       "    </tr>\n",
       "    <tr>\n",
       "      <th>1</th>\n",
       "      <td>DBA/2J</td>\n",
       "      <td>0.81775</td>\n",
       "      <td>0.00954956</td>\n",
       "      <td>4</td>\n",
       "      <td>0.776925</td>\n",
       "      <td>0.0111938</td>\n",
       "      <td>4</td>\n",
       "      <td>0.88225</td>\n",
       "      <td>0.0107827</td>\n",
       "      <td>4</td>\n",
       "      <td>...</td>\n",
       "      <td>4</td>\n",
       "      <td>4368</td>\n",
       "      <td>181</td>\n",
       "      <td>4</td>\n",
       "      <td>5164.09</td>\n",
       "      <td>74.0681</td>\n",
       "      <td>4</td>\n",
       "      <td>5200.6</td>\n",
       "      <td>217.084</td>\n",
       "      <td>4</td>\n",
       "    </tr>\n",
       "    <tr>\n",
       "      <th>2</th>\n",
       "      <td>BXD1</td>\n",
       "      <td>0.8186</td>\n",
       "      <td>0.0240616</td>\n",
       "      <td>5</td>\n",
       "      <td>0.75218</td>\n",
       "      <td>0.00825096</td>\n",
       "      <td>5</td>\n",
       "      <td>0.8384</td>\n",
       "      <td>0.0128242</td>\n",
       "      <td>5</td>\n",
       "      <td>...</td>\n",
       "      <td>5</td>\n",
       "      <td>3692.05</td>\n",
       "      <td>140.808</td>\n",
       "      <td>5</td>\n",
       "      <td>3287.61</td>\n",
       "      <td>124.278</td>\n",
       "      <td>5</td>\n",
       "      <td>4163.4</td>\n",
       "      <td>165.104</td>\n",
       "      <td>5</td>\n",
       "    </tr>\n",
       "    <tr>\n",
       "      <th>3</th>\n",
       "      <td>BXD2</td>\n",
       "      <td>0.77775</td>\n",
       "      <td>0.0162859</td>\n",
       "      <td>4</td>\n",
       "      <td>0.762</td>\n",
       "      <td>0.00976217</td>\n",
       "      <td>5</td>\n",
       "      <td>0.82025</td>\n",
       "      <td>0.0195123</td>\n",
       "      <td>4</td>\n",
       "      <td>...</td>\n",
       "      <td>4</td>\n",
       "      <td>3958.36</td>\n",
       "      <td>82.9973</td>\n",
       "      <td>5</td>\n",
       "      <td>4074.05</td>\n",
       "      <td>222.708</td>\n",
       "      <td>4</td>\n",
       "      <td>4427.68</td>\n",
       "      <td>123.677</td>\n",
       "      <td>5</td>\n",
       "    </tr>\n",
       "    <tr>\n",
       "      <th>4</th>\n",
       "      <td>BXD6</td>\n",
       "      <td>0.8226</td>\n",
       "      <td>0.0144069</td>\n",
       "      <td>5</td>\n",
       "      <td>0.7662</td>\n",
       "      <td>0.0107396</td>\n",
       "      <td>5</td>\n",
       "      <td>0.8798</td>\n",
       "      <td>0.0198706</td>\n",
       "      <td>5</td>\n",
       "      <td>...</td>\n",
       "      <td>5</td>\n",
       "      <td>x</td>\n",
       "      <td>x</td>\n",
       "      <td>x</td>\n",
       "      <td>3851.85</td>\n",
       "      <td>122.094</td>\n",
       "      <td>5</td>\n",
       "      <td>x</td>\n",
       "      <td>x</td>\n",
       "      <td>x</td>\n",
       "    </tr>\n",
       "  </tbody>\n",
       "</table>\n",
       "<p>5 rows × 97 columns</p>\n",
       "</div>"
      ],
      "text/plain": [
       "  @format=column CD_DayRER_CLAMS_[ratio]          SE  N  \\\n",
       "0       C57BL/6J                 0.88285  0.00692007  4   \n",
       "1         DBA/2J                 0.81775  0.00954956  4   \n",
       "2           BXD1                  0.8186   0.0240616  5   \n",
       "3           BXD2                 0.77775   0.0162859  4   \n",
       "4           BXD6                  0.8226   0.0144069  5   \n",
       "\n",
       "  HFD_DayRER_CLAMS_[ratio]        SE.1 N.1 CD_NightRER_CLAMS_[ratio]  \\\n",
       "0                  0.76725  0.00502999   4                   0.93275   \n",
       "1                 0.776925   0.0111938   4                   0.88225   \n",
       "2                  0.75218  0.00825096   5                    0.8384   \n",
       "3                    0.762  0.00976217   5                   0.82025   \n",
       "4                   0.7662   0.0107396   5                    0.8798   \n",
       "\n",
       "        SE.2 N.2  ...  N.28 VO2_LeanBWCor_Day_HFD    SE.29 N.29  \\\n",
       "0  0.0166594   4  ...     4                  4197       74    4   \n",
       "1  0.0107827   4  ...     4                  4368      181    4   \n",
       "2  0.0128242   5  ...     5               3692.05  140.808    5   \n",
       "3  0.0195123   4  ...     4               3958.36  82.9973    5   \n",
       "4  0.0198706   5  ...     5                     x        x    x   \n",
       "\n",
       "  VO2_LeanBWCor_Night_CD    SE.30 N.30 VO2_LeanBWCor_Night_HFD    SE.31  N.31  \n",
       "0                 3776.5  93.2343    4                 4781.93  162.162     4  \n",
       "1                5164.09  74.0681    4                  5200.6  217.084     4  \n",
       "2                3287.61  124.278    5                  4163.4  165.104     5  \n",
       "3                4074.05  222.708    4                 4427.68  123.677     5  \n",
       "4                3851.85  122.094    5                       x        x     x  \n",
       "\n",
       "[5 rows x 97 columns]"
      ]
     },
     "execution_count": 14,
     "metadata": {},
     "output_type": "execute_result"
    }
   ],
   "source": [
    "# print first 5 entries of second worksheet\n",
    "pandas.read_excel(phenotype, sheet_name=2).head()"
   ]
  },
  {
   "cell_type": "code",
   "execution_count": 15,
   "metadata": {},
   "outputs": [
    {
     "data": {
      "text/html": [
       "<div>\n",
       "<style scoped>\n",
       "    .dataframe tbody tr th:only-of-type {\n",
       "        vertical-align: middle;\n",
       "    }\n",
       "\n",
       "    .dataframe tbody tr th {\n",
       "        vertical-align: top;\n",
       "    }\n",
       "\n",
       "    .dataframe thead th {\n",
       "        text-align: right;\n",
       "    }\n",
       "</style>\n",
       "<table border=\"1\" class=\"dataframe\">\n",
       "  <thead>\n",
       "    <tr style=\"text-align: right;\">\n",
       "      <th></th>\n",
       "      <th>@format=column</th>\n",
       "      <th>CD_Sacrifice_Order_[Rank]</th>\n",
       "      <th>SE</th>\n",
       "      <th>N</th>\n",
       "      <th>HFD_Sacrifice_Order_[Rank]</th>\n",
       "      <th>SE.1</th>\n",
       "      <th>N.1</th>\n",
       "      <th>CD_Sacrifice_Order_[Weeks]</th>\n",
       "      <th>SE.2</th>\n",
       "      <th>N.2</th>\n",
       "      <th>...</th>\n",
       "      <th>N.54</th>\n",
       "      <th>HFD_FatMassLoss_AfterExercise_[%]</th>\n",
       "      <th>SE.55</th>\n",
       "      <th>N.55</th>\n",
       "      <th>CD_BodyWeightLoss_PreSacrifice_[g]</th>\n",
       "      <th>SE.56</th>\n",
       "      <th>N.56</th>\n",
       "      <th>s</th>\n",
       "      <th>SE.57</th>\n",
       "      <th>N.57</th>\n",
       "    </tr>\n",
       "  </thead>\n",
       "  <tbody>\n",
       "    <tr>\n",
       "      <th>52</th>\n",
       "      <td>BXD95</td>\n",
       "      <td>18</td>\n",
       "      <td>x</td>\n",
       "      <td>4</td>\n",
       "      <td>38</td>\n",
       "      <td>x</td>\n",
       "      <td>5</td>\n",
       "      <td>59</td>\n",
       "      <td>x</td>\n",
       "      <td>4</td>\n",
       "      <td>...</td>\n",
       "      <td>4</td>\n",
       "      <td>26.61</td>\n",
       "      <td>12.8</td>\n",
       "      <td>5</td>\n",
       "      <td>0.95</td>\n",
       "      <td>0.42</td>\n",
       "      <td>4</td>\n",
       "      <td>2.22</td>\n",
       "      <td>0.25</td>\n",
       "      <td>5</td>\n",
       "    </tr>\n",
       "    <tr>\n",
       "      <th>53</th>\n",
       "      <td>BXD98</td>\n",
       "      <td>31</td>\n",
       "      <td>x</td>\n",
       "      <td>5</td>\n",
       "      <td>31</td>\n",
       "      <td>x</td>\n",
       "      <td>5</td>\n",
       "      <td>96</td>\n",
       "      <td>x</td>\n",
       "      <td>5</td>\n",
       "      <td>...</td>\n",
       "      <td>4</td>\n",
       "      <td>6.46144</td>\n",
       "      <td>0.676844</td>\n",
       "      <td>5</td>\n",
       "      <td>2.1</td>\n",
       "      <td>0.16</td>\n",
       "      <td>4</td>\n",
       "      <td>3.16</td>\n",
       "      <td>0.14</td>\n",
       "      <td>5</td>\n",
       "    </tr>\n",
       "    <tr>\n",
       "      <th>54</th>\n",
       "      <td>BXD99</td>\n",
       "      <td>24</td>\n",
       "      <td>x</td>\n",
       "      <td>5</td>\n",
       "      <td>24</td>\n",
       "      <td>x</td>\n",
       "      <td>5</td>\n",
       "      <td>80</td>\n",
       "      <td>x</td>\n",
       "      <td>5</td>\n",
       "      <td>...</td>\n",
       "      <td>5</td>\n",
       "      <td>38.4186</td>\n",
       "      <td>6.44173</td>\n",
       "      <td>5</td>\n",
       "      <td>2.43</td>\n",
       "      <td>0.34</td>\n",
       "      <td>5</td>\n",
       "      <td>1.79</td>\n",
       "      <td>0.19</td>\n",
       "      <td>5</td>\n",
       "    </tr>\n",
       "    <tr>\n",
       "      <th>55</th>\n",
       "      <td>BXD100</td>\n",
       "      <td>10</td>\n",
       "      <td>x</td>\n",
       "      <td>3</td>\n",
       "      <td>10</td>\n",
       "      <td>x</td>\n",
       "      <td>5</td>\n",
       "      <td>16</td>\n",
       "      <td>x</td>\n",
       "      <td>3</td>\n",
       "      <td>...</td>\n",
       "      <td>3</td>\n",
       "      <td>23.7813</td>\n",
       "      <td>9.49946</td>\n",
       "      <td>5</td>\n",
       "      <td>2.82</td>\n",
       "      <td>0.701</td>\n",
       "      <td>3</td>\n",
       "      <td>1.24</td>\n",
       "      <td>0.197</td>\n",
       "      <td>5</td>\n",
       "    </tr>\n",
       "    <tr>\n",
       "      <th>56</th>\n",
       "      <td>BXD101</td>\n",
       "      <td>29</td>\n",
       "      <td>x</td>\n",
       "      <td>4</td>\n",
       "      <td>37</td>\n",
       "      <td>x</td>\n",
       "      <td>4</td>\n",
       "      <td>89</td>\n",
       "      <td>x</td>\n",
       "      <td>4</td>\n",
       "      <td>...</td>\n",
       "      <td>4</td>\n",
       "      <td>16.83</td>\n",
       "      <td>8.04</td>\n",
       "      <td>4</td>\n",
       "      <td>0.94</td>\n",
       "      <td>0.57</td>\n",
       "      <td>4</td>\n",
       "      <td>x</td>\n",
       "      <td>x</td>\n",
       "      <td>x</td>\n",
       "    </tr>\n",
       "  </tbody>\n",
       "</table>\n",
       "<p>5 rows × 175 columns</p>\n",
       "</div>"
      ],
      "text/plain": [
       "   @format=column  CD_Sacrifice_Order_[Rank] SE  N HFD_Sacrifice_Order_[Rank]  \\\n",
       "52          BXD95                         18  x  4                         38   \n",
       "53          BXD98                         31  x  5                         31   \n",
       "54          BXD99                         24  x  5                         24   \n",
       "55         BXD100                         10  x  3                         10   \n",
       "56         BXD101                         29  x  4                         37   \n",
       "\n",
       "   SE.1 N.1  CD_Sacrifice_Order_[Weeks] SE.2  N.2  ...   N.54  \\\n",
       "52    x   5                          59    x    4  ...      4   \n",
       "53    x   5                          96    x    5  ...      4   \n",
       "54    x   5                          80    x    5  ...      5   \n",
       "55    x   5                          16    x    3  ...      3   \n",
       "56    x   4                          89    x    4  ...      4   \n",
       "\n",
       "   HFD_FatMassLoss_AfterExercise_[%]     SE.55  N.55  \\\n",
       "52                             26.61      12.8     5   \n",
       "53                           6.46144  0.676844     5   \n",
       "54                           38.4186   6.44173     5   \n",
       "55                           23.7813   9.49946     5   \n",
       "56                             16.83      8.04     4   \n",
       "\n",
       "    CD_BodyWeightLoss_PreSacrifice_[g]  SE.56 N.56     s  SE.57  N.57  \n",
       "52                                0.95   0.42    4  2.22   0.25     5  \n",
       "53                                 2.1   0.16    4  3.16   0.14     5  \n",
       "54                                2.43   0.34    5  1.79   0.19     5  \n",
       "55                                2.82  0.701    3  1.24  0.197     5  \n",
       "56                                0.94   0.57    4     x      x     x  \n",
       "\n",
       "[5 rows x 175 columns]"
      ]
     },
     "execution_count": 15,
     "metadata": {},
     "output_type": "execute_result"
    }
   ],
   "source": [
    "# print last 5 entries of first worksheet\n",
    "pandas.read_excel(phenotype, sheet_name=0).tail()"
   ]
  },
  {
   "cell_type": "markdown",
   "metadata": {},
   "source": [
    "### Subtask: List all columns in the Biochemistry sheet"
   ]
  },
  {
   "cell_type": "code",
   "execution_count": 16,
   "metadata": {},
   "outputs": [
    {
     "name": "stdout",
     "output_type": "stream",
     "text": [
      "@format=column\n",
      "CD_Glucose_[mmol/L]\n",
      "SE\n",
      "N\n",
      "HFD_Glucose_[mmol/L]\n",
      "SE.1\n",
      "N.1\n",
      "CD_Cholesterol_[mmol/L]\n",
      "SE.2\n",
      "N.2\n",
      "HFD_Cholesterol_[mmol/L]\n",
      "SE.3\n",
      "N.3\n",
      "CD_HDL_[mmol/L]_KNOWN_BATCH_EFFECT_BY_COHORT_ORDER\n",
      "SE.4\n",
      "N.4\n",
      "HFD_HDL_[mmol/L]_KNOWN_BATCH_EFFECT_BY_COHORT_ORDER\n",
      "SE.5\n",
      "N.5\n",
      "CD_HDL_Norm[Z]\n",
      "SE.6\n",
      "N.6\n",
      "HFD_HDL_Norm[Z]\n",
      "SE.7\n",
      "N.7\n",
      "CD_LDL_[mmol/L]\n",
      "SE.8\n",
      "N.8\n",
      "HFD_LDL_[mmol/L]\n",
      "SE.9\n",
      "N.9\n",
      "CD_Triglycerides_[mmol/L]\n",
      "SE.10\n",
      "N.10\n",
      "HFD_Triglycerides_[mmol/L]\n",
      "SE.11\n",
      "N.11\n",
      "CD_FFA_[mmol/L]_KNOWN_BATCH_EFFECT_BY_COHORT_ORDER\n",
      "SE.12\n",
      "N.12\n",
      "HFD_FFA_[mmol/L]_KNOWN_BATCH_EFFECT_BY_COHORT_ORDER\n",
      "SE.13\n",
      "N.13\n",
      "CD_FFA_Norm[Z]\n",
      "SE.14\n",
      "N.14\n",
      "HFD_FFA_Norm[Z]\n",
      "SE.15\n",
      "N.15\n",
      "CD_LacticAcid_[mmol/L]\n",
      "SE.16\n",
      "N.16\n",
      "HFD_LacticAcid_[mmol/L]\n",
      "SE.17\n",
      "N.17\n",
      "CD_BloodProtein_[g/L]\n",
      "SE.18\n",
      "N.18\n",
      "HFD_BloodProtein_[g/L]\n",
      "SE.19\n",
      "N.19\n",
      "CD_ALAT_[U/L]_KNOWN_BATCH_EFFECT_BY_COHORT_ORDER\n",
      "SE.20\n",
      "N.20\n",
      "HFD_ALAT_[U/L]_KNOWN_BATCH_EFFECT_BY_COHORT_ORDER\n",
      "SE.21\n",
      "N.21\n",
      "CD_ASAT_[U/L]\n",
      "SE.22\n",
      "N.22\n",
      "HFD_ASAT_[U/L]\n",
      "SE.23\n",
      "N.23\n",
      "CD_ASAT_Norm[Z]\n",
      "SE.24\n",
      "N.24\n",
      "HFD_ASAT_Norm[Z]\n",
      "SE.25\n",
      "N.25\n",
      "CD_LDH_[U/L]_KNOWN_BATCH_EFFECT_BY_COHORT_ORDER\n",
      "SE.26\n",
      "N.26\n",
      "HFD_LDH_[U/L]_KNOWN_BATCH_EFFECT_BY_COHORT_ORDER\n",
      "SE.27\n",
      "N.27\n",
      "CD_LDH_Norm[Z]\n",
      "SE.28\n",
      "N.28\n",
      "HFD_LDH_Norm[Z]\n",
      "SE.29\n",
      "N.29\n",
      "CD_ALPL_[U/L]\n",
      "SE.30\n",
      "N.30\n",
      "HFD_ALPL_[U/L]\n",
      "SE.31\n",
      "N.31\n",
      "CD_Amylase_[U/L]\n",
      "SE.32\n",
      "N.32\n",
      "HFD_Amylase_[U/L]\n",
      "SE.33\n",
      "N.33\n",
      "CD_CreatineKinase_[U/L]\n",
      "SE.34\n",
      "N.34\n",
      "HFD_CreatineKinase_[U/L]\n",
      "SE.35\n",
      "N.35\n",
      "CD_Creatinine_[U/L]_KNOWN_BATCH_EFFECT_BY_COHORT_ORDER\n",
      "SE.36\n",
      "N.36\n",
      "HFD_Creatinine_[U/L]_KNOWN_BATCH_EFFECT_BY_COHORT_ORDER\n",
      "SE.37\n",
      "N.37\n",
      "CD_Creatinine_Norm[Z]\n",
      "SE.38\n",
      "N.38\n",
      "HFD_Creatinine_Norm[Z]\n",
      "SE.39\n",
      "N.39\n",
      "CD_Iron_[umol/L]\n",
      "SE.40\n",
      "N.40\n",
      "HFD_Iron_[umol/L]\n",
      "SE.41\n",
      "N.41\n",
      "HFD_IFNGamma_[pg/mL]\n",
      "SE.42\n",
      "N.42\n",
      "HFD_TNFalpha_[pg/mL]\n",
      "SE.43\n",
      "N.43\n",
      "HFD_IL15_[pg/mL]\n",
      "SE.44\n",
      "N.44\n",
      "HFD_MCP1_[pg/mL]\n",
      "SE.45\n",
      "N.45\n",
      "HFD_IL10_[pg/mL]\n",
      "SE.46\n",
      "N.46\n",
      "HFD_MIP1B_[pg/mL]\n",
      "SE.47\n",
      "N.47\n",
      "HFD_MIP1A_[pg/mL]\n",
      "SE.48\n",
      "N.48\n",
      "HFD_IL6_[pg/mL]\n",
      "SE.49\n",
      "N.49\n",
      "HFD_IL18_[pg/mL]\n",
      "SE.50\n",
      "N.50\n",
      "HFD_RANTES_[pg/mL]\n",
      "SE.51\n",
      "N.51\n"
     ]
    }
   ],
   "source": [
    "for col in pandas.read_excel(phenotype, sheet_name='Biochemistry').columns:\n",
    "    print(col)"
   ]
  },
  {
   "cell_type": "markdown",
   "metadata": {},
   "source": [
    "## Task: Study the variability of response across different strains for some of the measured phenotypes:\n",
    "\n",
    "Examples:\n",
    "- activity on the wheel\n",
    "- basal body temperature\n",
    "- alkaline phosphatase (ALPL) protein activity level\n",
    "- weight after 28 weeks\n",
    "\n"
   ]
  },
  {
   "cell_type": "markdown",
   "metadata": {},
   "source": [
    "### Subtask: Compare 'Activity Wheel' across strains (use daily, nightly and 24 measurements, pick one diet)\n",
    "\n"
   ]
  },
  {
   "cell_type": "markdown",
   "metadata": {},
   "source": [
    "hint: the diets are CD (Choline Deficient) and HFD (High Fat Diet)"
   ]
  },
  {
   "cell_type": "code",
   "execution_count": 17,
   "metadata": {
    "run_control": {
     "frozen": false,
     "read_only": false
    }
   },
   "outputs": [
    {
     "data": {
      "image/png": "[encoded data removed]",
      "text/plain": [
       "<Figure size 2160x720 with 1 Axes>"
      ]
     },
     "metadata": {},
     "output_type": "display_data"
    }
   ],
   "source": [
    "## read Activity Wheel sheet\n",
    "diet = pandas.read_excel(phenotype, sheet_name='Activity Wheel')\n",
    "\n",
    "# create dataframe\n",
    "df = pandas.DataFrame(diet)\n",
    "\n",
    "# derive data\n",
    "cols = ['@format=column', 'CD_DayRun_ActivityWheel_[km]', 'CD_NightRun_ActivityWheel_[km]', 'CD_24hRun_ActivityWheel_[km]']\n",
    "df1 = df[cols]\n",
    "\n",
    "# get strain IDs\n",
    "bins = df1['@format=column']\n",
    "\n",
    "# format plot\n",
    "plt.figure(figsize=(30,10))\n",
    "plt.xticks(rotation=90)\n",
    "\n",
    "# plot\n",
    "plt.plot(bins, df1['CD_DayRun_ActivityWheel_[km]'], \"v\")\n",
    "plt.plot(bins, df1['CD_NightRun_ActivityWheel_[km]'], \"o\")\n",
    "plt.plot(bins, df1['CD_24hRun_ActivityWheel_[km]'], \"D\")\n",
    "\n",
    "plt.legend(['CD_DayRun', 'CD_NightRun', 'CD_24hRun'], loc='best', fontsize=16);"
   ]
  },
  {
   "cell_type": "markdown",
   "metadata": {},
   "source": [
    "### Subtask: Compare activity across different times of day"
   ]
  },
  {
   "cell_type": "markdown",
   "metadata": {},
   "source": [
    "Compute summary statistics over all strains and plot distributions for each time of day"
   ]
  },
  {
   "cell_type": "code",
   "execution_count": 39,
   "metadata": {
    "run_control": {
     "frozen": false,
     "read_only": false
    }
   },
   "outputs": [
    {
     "data": {
      "image/png": "[encoded data removed]",
      "text/plain": [
       "<Figure size 864x432 with 1 Axes>"
      ]
     },
     "metadata": {},
     "output_type": "display_data"
    }
   ],
   "source": [
    "plt.figure(figsize=(12,6))\n",
    "sns.set_style(\"whitegrid\", {'axes.grid' : True})\n",
    "\n",
    "# plot data\n",
    "sns.distplot(df1['CD_DayRun_ActivityWheel_[km]'], label='CD_DayRun', color='b')\n",
    "sns.distplot(df1['CD_NightRun_ActivityWheel_[km]'], label='CD_NightRun', color='r')\n",
    "sns.distplot(df1['CD_24hRun_ActivityWheel_[km]'], label='CD_24hRun', color='g')\n",
    "\n",
    "# set legend\n",
    "plt.legend(loc='best', frameon=True, fontsize=14,markerfirst=False).get_frame().set_color('lightgray')\n",
    "\n",
    "plt.title(\"Activity across day (CD diet)\",fontsize=14)\n",
    "plt.ylabel(\"Number of Mice\",fontsize=12)\n",
    "plt.xlabel(\"Activity [km]\",fontsize=12)\n",
    "plt.xlim(-1,12)\n",
    "plt.show()"
   ]
  },
  {
   "cell_type": "markdown",
   "metadata": {},
   "source": [
    "### Subtask: Compare the two different diets (for several biochemistry measurements)\n",
    "Tip: after prototyping your analysis, wrap your individual steps in a function that you can use for an arbitrary phenotype in an arbitrary worksheet"
   ]
  },
  {
   "cell_type": "markdown",
   "metadata": {},
   "source": [
    "1. extract columns we are interested in from full dataframe\n",
    "2. add a column with the difference between HFD and CD\n",
    "3. plot all three columns for all strains as a bar plot (see e.g. pandas.DataFrame.plot.bar )"
   ]
  },
  {
   "cell_type": "code",
   "execution_count": null,
   "metadata": {
    "run_control": {
     "frozen": false,
     "read_only": false
    }
   },
   "outputs": [],
   "source": [
    "cd_data = df1\n",
    "\n",
    "hfd_cols = ['@format=column', 'HFD_DayRun_ActivityWheel_[km]', 'HFD_NightRun_ActivityWheel_[km]', 'HFD_24hRun_ActivityWheel_[km]']\n",
    "hfd_data = df[cols]\n",
    "\n",
    "cd_data.plot.bar()\n",
    "hfd_data.plot.bar()"
   ]
  },
  {
   "cell_type": "code",
   "execution_count": null,
   "metadata": {
    "run_control": {
     "frozen": false,
     "read_only": false
    }
   },
   "outputs": [],
   "source": []
  },
  {
   "cell_type": "code",
   "execution_count": null,
   "metadata": {
    "run_control": {
     "frozen": false,
     "read_only": false
    }
   },
   "outputs": [],
   "source": []
  },
  {
   "cell_type": "markdown",
   "metadata": {},
   "source": [
    "__If you did not do it already, define functions that perform aspects of the procedure above__"
   ]
  },
  {
   "cell_type": "code",
   "execution_count": null,
   "metadata": {
    "run_control": {
     "frozen": false,
     "read_only": false
    }
   },
   "outputs": [],
   "source": []
  },
  {
   "cell_type": "markdown",
   "metadata": {},
   "source": [
    "__After refactoring code into functions: Apply function to other phenotypes__"
   ]
  },
  {
   "cell_type": "code",
   "execution_count": null,
   "metadata": {
    "run_control": {
     "frozen": false,
     "read_only": false
    }
   },
   "outputs": [],
   "source": []
  },
  {
   "cell_type": "markdown",
   "metadata": {},
   "source": [
    "## Task: Compare multiple phenotype measurements (% change in weight and mass) across strains and diet\n",
    "Hint: plotting the values may help exploring the ranges."
   ]
  },
  {
   "cell_type": "markdown",
   "metadata": {},
   "source": [
    "### Subtask: Extract relevant columns from the body weight data frame"
   ]
  },
  {
   "cell_type": "code",
   "execution_count": null,
   "metadata": {
    "run_control": {
     "frozen": false,
     "read_only": false
    },
    "scrolled": true
   },
   "outputs": [],
   "source": []
  },
  {
   "cell_type": "markdown",
   "metadata": {},
   "source": [
    "### Subtask: Create a plot"
   ]
  },
  {
   "cell_type": "code",
   "execution_count": null,
   "metadata": {
    "run_control": {
     "frozen": false,
     "read_only": false
    }
   },
   "outputs": [],
   "source": [
    "from pandas.plotting import parallel_coordinates"
   ]
  },
  {
   "cell_type": "code",
   "execution_count": null,
   "metadata": {
    "run_control": {
     "frozen": false,
     "read_only": false
    },
    "scrolled": false
   },
   "outputs": [],
   "source": [
    "with sns.axes_style('white'):\n",
    "    fig, (ax1, ax2) = plt.subplots(1, 2, figsize=(20, 10), sharey=True)\n",
    "    # plot parallel coordinates - needs column containing the categories for coloring -> reset index required\n",
    "     \n",
    "    # Insert your code here\n",
    "    \n",
    "    # fix label rotation\n",
    "    # left plot\n",
    "    labels1 = ax1.get_xmajorticklabels()\n",
    "    ax1.set_xticklabels(labels1, rotation=90)\n",
    "    # right plot\n",
    "    labels2 = ax2.get_xmajorticklabels()\n",
    "    ax2.set_xticklabels(labels2, rotation=90)\n",
    "    \n",
    "    # fix legend\n",
    "    ax1.legend().set_visible(False)\n",
    "    lines = ax2.legend().get_lines()\n",
    "    labels = [t.get_text() for t in ax2.legend().get_texts()]\n",
    "    plt.legend(lines, labels, loc = 'lower center', bbox_to_anchor = (0,-0.45,1,1),\n",
    "               bbox_transform = plt.gcf().transFigure, ncol=10)\n",
    "    "
   ]
  },
  {
   "cell_type": "markdown",
   "metadata": {},
   "source": [
    "# Plot the linear dependence of pairs of phenotypes\n",
    "Try to see if certain biochemical measurements correlate with the fitness measurements or blood parameters. \n",
    "\n",
    "The method of choice for this type of question is usually a simple linear regression. You will learn more about the details of how to perfom such a study tomorrow. For now it suffices to use [built-in functions provided by pandas and seaborn](https://stanford.edu/~mwaskom/software/seaborn/tutorial/regression.html). If you want to read more about linear regression, you can take a peek at [this tutorial](http://www.dataschool.io/linear-regression-in-python/).\n",
    "\n",
    "Seaborn provides convenience functions to fit regression models and simultaneously plot them. Seaborn and pandas also provide convience functions for creating scatterplot matrices. You also learned how to create figures with multiple subplots - this may also be useful for this task."
   ]
  },
  {
   "cell_type": "code",
   "execution_count": null,
   "metadata": {},
   "outputs": [],
   "source": [
    "# letzte offizielle aufgabe. alles hier nach ist bonus"
   ]
  },
  {
   "cell_type": "markdown",
   "metadata": {},
   "source": [
    "## Study Linkage Disequilibrium between the SNPs on each chromosome"
   ]
  },
  {
   "cell_type": "markdown",
   "metadata": {
    "collapsed": true,
    "run_control": {
     "frozen": false,
     "read_only": false
    }
   },
   "source": [
    "__Linkage disequilibrium__ (LD) is the non-random association of alleles at multiple loci. If, in a population, all loci on a chromosome where completely independently distributed, the population would be considered to be at linkage equilibrium - a state that only theoretically reached in population genetics. Stemming from a single founder pair (in complete LD), each generation of offspring observed a set of recombination and crossover events breaking up the structure of the chromosome. This does not necessarily happen at gene boundaries, resulting in set of genes usually inherited together. The state of linkage equilibrium is similar to the Hardy-Weinberg equilibrium that you should have heard about in the context of genotype frequency. In the case of LD we work with haplotypes, however. While the genotype describes the allelic status of a single locus on both chromosomes (A/a), a haplotype expands this scenario to two or more loci that are inherited together from a single parent. If we have two loci with two possible alleles A/a and B/b the following haplotypes can exist\n",
    "\n",
    "|   | B  | b  |\n",
    "|---|----|----|\n",
    "| A | AB | Ab |\n",
    "| a | aB | ab |\n",
    "\n",
    "In a population the frequency of each of these haplotypes can be computed from the data by counting the number of occurrences of the haplotype and dividing it by the number of samples. In our case we can thus compute the frequency for observing the haplotype and $p_{AB} = n_{AB}/n$ (and the rest analogously)\n",
    "\n",
    "| Haplotype | A-B      | A-b      | a-B      | a-b      |\n",
    "|-----------|----------|----------|----------|----------|\n",
    "| Count     | $n_{AB}$ | $n_{Ab}$ | $n_{aB}$ | $n_{ab}$ |\n",
    "| Frequency | $p_{AB}$ | $p_{Ab}$ | $p_{aB}$ | $p_{ab}$ |\n",
    "\n",
    "From a statistical point of view, LD can be calculated as the difference of haplotype frequencies of the alleles at two loci observed in the population compared to the expected haplotype frequency if the two loci where independent $p_A$ and $p_B$. If the coefficient of linkage disequilibrium D between these probabilities is not zero, the two loci are in not independent, i.e. $p_{AB} \\ne p_{A}p_{B}$.\n",
    "\n",
    "$$D = p_{AB} - p_{A}p_{B}$$\n",
    "\n",
    "Usually, this measure is normalized by dividing by the theoretical maximum for the observed allele frequencies\n",
    "\n",
    "$$D' = D / D_\\text{max}$$\n",
    "\n",
    "with\n",
    "\n",
    "$$D_\\text{max} =\n",
    "\\begin{cases}\n",
    "\\min\\{p_{A}p_{B}, (1-p_{A})(1-p_{B})\\} &\\mbox{if } D < 0,\\\\\n",
    "\\min\\{(p_{A}(1-p_{B}), (1-p_{A})p_{B}\\} &\\mbox{if } D > 0\n",
    "\\end{cases}\n",
    "$$\n",
    "\n",
    "You can read up more about the concept in the following review:\n",
    "[Montgomery Slatkin, Linkage disequilibrium — understanding the evolutionary past and mapping the medical future](http://www.nature.com/nrg/journal/v9/n6/full/nrg2361.html). A nice presentation about the intuition can also be found [here](http://csg.sph.umich.edu/abecasis/class/666.03.pdf)."
   ]
  },
  {
   "cell_type": "markdown",
   "metadata": {},
   "source": [
    "## Bonus Task if you have time: calculate linkage disequilibrium for marker loci"
   ]
  },
  {
   "cell_type": "markdown",
   "metadata": {},
   "source": [
    "### Subtask: For each pair of loci in the mouse genotype dataset, compute D'"
   ]
  },
  {
   "cell_type": "markdown",
   "metadata": {},
   "source": [
    "Hint 1: you may exclude rows that are heterozygous for the locus or with unknown genotype\n",
    "\n",
    "Hint 2: You may want to test your approach on a subset of the loci first as it may take a while to compute all pairwise LD coefficients."
   ]
  },
  {
   "cell_type": "code",
   "execution_count": null,
   "metadata": {
    "run_control": {
     "frozen": false,
     "read_only": false
    }
   },
   "outputs": [],
   "source": []
  },
  {
   "cell_type": "markdown",
   "metadata": {},
   "source": [
    "### Subtask: Plot the heatmap of pairwise LD for SNPs"
   ]
  },
  {
   "cell_type": "code",
   "execution_count": null,
   "metadata": {
    "run_control": {
     "frozen": false,
     "read_only": false
    }
   },
   "outputs": [],
   "source": []
  },
  {
   "cell_type": "markdown",
   "metadata": {},
   "source": [
    "### Subtask: Plot only pairwise LD for SNPs on a specific chromosome (e.g. chr 4)"
   ]
  },
  {
   "cell_type": "code",
   "execution_count": null,
   "metadata": {},
   "outputs": [],
   "source": []
  },
  {
   "cell_type": "markdown",
   "metadata": {},
   "source": [
    "# Tip for report\n",
    "After you successfully implemented the functions required for the tasks above, you could consider outsourcing the functions defined here in an external python module (e.g. pibi_tools.py). This allows you to recycle the code later in the course without having to copy and paste (bad!) and also makes the notebooks more readable.\n",
    "\n",
    "Do not forget to add the python module to your repository if you decide to create this external module."
   ]
  }
 ],
 "metadata": {
  "anaconda-cloud": {},
  "hide_input": false,
  "kernelspec": {
   "display_name": "Python 3",
   "language": "python",
   "name": "python3"
  },
  "language_info": {
   "codemirror_mode": {
    "name": "ipython",
    "version": 3
   },
   "file_extension": ".py",
   "mimetype": "text/x-python",
   "name": "python",
   "nbconvert_exporter": "python",
   "pygments_lexer": "ipython3",
   "version": "3.6.4"
  },
  "nav_menu": {},
  "toc": {
   "navigate_menu": true,
   "number_sections": true,
   "sideBar": false,
   "threshold": 6,
   "toc_cell": true,
   "toc_number_sections": true,
   "toc_section_display": "block",
   "toc_window_display": true
  },
  "toc_position": {
   "height": "418px",
   "left": "1547px",
   "right": "20px",
   "top": "106px",
   "width": "309px"
  }
 },
 "nbformat": 4,
 "nbformat_minor": 1
}
