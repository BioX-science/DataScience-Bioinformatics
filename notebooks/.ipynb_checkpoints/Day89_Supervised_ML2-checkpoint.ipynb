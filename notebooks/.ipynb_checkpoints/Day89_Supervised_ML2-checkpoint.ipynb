{
 "cells": [
  {
   "cell_type": "code",
   "execution_count": 1,
   "metadata": {},
   "outputs": [],
   "source": [
    "%matplotlib inline\n",
    "%config IPCompleter.greedy=True"
   ]
  },
  {
   "cell_type": "markdown",
   "metadata": {},
   "source": [
    "## Supervised learning on mice phenotype data\n",
    "\n",
    "Predicting diet from differential expression data was easy with SVMs. It was very neat and regular data, no cells were missing, all values were in a similar range, etc. We will now use a slightly uglier dataset: the phenotype tables from days 3/4.\n",
    "\n",
    "You may remember that each of those sheets had one row per strain, and two separate columns for each measurement taken under the two dietary conditions. We have transformed those sheets such that 1) all of them are contained in a single table, 2) each strain gets two rows, one for phenotype measurements under CD and one for HFD diet. We will use the `diet` column as our target."
   ]
  },
  {
   "cell_type": "code",
   "execution_count": 2,
   "metadata": {},
   "outputs": [],
   "source": [
    "import pandas as pd\n",
    "import numpy as np\n",
    "import matplotlib.pyplot as plt\n",
    "import seaborn as sns\n",
    "from sklearn.svm import SVC\n",
    "from sklearn.model_selection import StratifiedKFold\n",
    "import sklearn.model_selection as sm\n",
    "from sklearn.svm import LinearSVC\n",
    "from sklearn.preprocessing import StandardScaler\n",
    "from sklearn.metrics import confusion_matrix\n",
    "from sklearn import metrics as sme\n",
    "from sklearn.model_selection import cross_val_predict"
   ]
  },
  {
   "cell_type": "code",
   "execution_count": 3,
   "metadata": {},
   "outputs": [
    {
     "name": "stdout",
     "output_type": "stream",
     "text": [
      "(113, 181)\n"
     ]
    }
   ],
   "source": [
    "pheno = pd.read_csv('files/phenotype_cd_hfd.csv', index_col=0)\n",
    "\n",
    "print(pheno.shape)\n",
    "\n",
    "target = pheno['diet'].replace('CD', 0).replace('HFD', 1)"
   ]
  },
  {
   "cell_type": "markdown",
   "metadata": {},
   "source": [
    "### 1.1 Get rid of columns with missing values\n",
    "\n",
    "Since most ML algorithms can't deal with NaN values, we will first restrict ourselves to those features that are available for every sample.\n",
    "Identify these columns and put `pheno.loc[:, good_columns]` into the variable `data`.\n",
    "\n",
    "Also, drop the columns `diet` and `strain` from the data table, since we don't want to use them for prediction."
   ]
  },
  {
   "cell_type": "code",
   "execution_count": 4,
   "metadata": {},
   "outputs": [],
   "source": [
    "data = pheno.dropna(axis=1)\n",
    "data = data.drop(['strain', 'diet'], axis=1)"
   ]
  },
  {
   "cell_type": "markdown",
   "metadata": {},
   "source": [
    "### 1.2 Use an SVM for your predictions\n",
    "Try the RBF kernel for a change. First, fit and score using the entire dataset, and print out the accuracy.\n",
    "Do a proper evaluation using 3-fold cross-validation, and print those scores as well. How did it go?"
   ]
  },
  {
   "cell_type": "code",
   "execution_count": 5,
   "metadata": {},
   "outputs": [
    {
     "data": {
      "text/plain": [
       "1.0"
      ]
     },
     "execution_count": 5,
     "metadata": {},
     "output_type": "execute_result"
    }
   ],
   "source": [
    "# The RBF kernel is the default\n",
    "clf = SVC(random_state=0)\n",
    "clf.fit(data, target)\n",
    "\n",
    "clf.predict(data)\n",
    "clf.score(data, target)"
   ]
  },
  {
   "cell_type": "code",
   "execution_count": 6,
   "metadata": {},
   "outputs": [
    {
     "data": {
      "text/plain": [
       "0.4954954954954955"
      ]
     },
     "execution_count": 6,
     "metadata": {},
     "output_type": "execute_result"
    }
   ],
   "source": [
    "sm.cross_val_score(clf, data, target, cv = sm.StratifiedKFold(3, shuffle=True)).mean()"
   ]
  },
  {
   "cell_type": "markdown",
   "metadata": {},
   "source": [
    "0.4954954954954955 for the 3-fold accuracy. This is even slightly worse than a random assignment."
   ]
  },
  {
   "cell_type": "markdown",
   "metadata": {},
   "source": [
    "### 1.3 Use a linear kernel to get the same two values\n",
    "Was it better or worse than with the RBF? Why?"
   ]
  },
  {
   "cell_type": "code",
   "execution_count": 7,
   "metadata": {},
   "outputs": [
    {
     "data": {
      "text/plain": [
       "0.9823008849557522"
      ]
     },
     "execution_count": 7,
     "metadata": {},
     "output_type": "execute_result"
    }
   ],
   "source": [
    "clf_linear = SVC(kernel ='linear', random_state=0, probability=True)\n",
    "clf_linear.fit(data, target)\n",
    "\n",
    "clf_linear.predict(data)\n",
    "clf_linear.score(data, target)"
   ]
  },
  {
   "cell_type": "code",
   "execution_count": 8,
   "metadata": {},
   "outputs": [
    {
     "data": {
      "text/plain": [
       "0.8589378852536748"
      ]
     },
     "execution_count": 8,
     "metadata": {},
     "output_type": "execute_result"
    }
   ],
   "source": [
    "sm.cross_val_score(clf_linear, data, target, cv = sm.StratifiedKFold(3, shuffle=True)).mean()"
   ]
  },
  {
   "cell_type": "markdown",
   "metadata": {},
   "source": [
    "The linear kernel performs way better than the rbf kernel. "
   ]
  },
  {
   "cell_type": "markdown",
   "metadata": {},
   "source": [
    "### 1.4 Standardize the data\n",
    "Look at the value ranges of each feature. Standardize them, such that they all have zero mean and 1 standard deviation. Either by simply subtracting the means and dividing by the standard deviations, or using the `sklearn.preprocessing.StandardScaler` class.\n",
    "\n",
    "Display the cross-validated scores using an RBF and a linear SVM."
   ]
  },
  {
   "cell_type": "code",
   "execution_count": 9,
   "metadata": {},
   "outputs": [],
   "source": [
    "scaler = StandardScaler()\n",
    "scaler.fit(data)\n",
    "\n",
    "data_standardized = scaler.fit_transform(data)\n"
   ]
  },
  {
   "cell_type": "code",
   "execution_count": 10,
   "metadata": {},
   "outputs": [
    {
     "data": {
      "text/plain": [
       "0.9023233760075865"
      ]
     },
     "execution_count": 10,
     "metadata": {},
     "output_type": "execute_result"
    }
   ],
   "source": [
    "#rbf kernel\n",
    "clf.fit(data_standardized, target)\n",
    "\n",
    "sm.cross_val_score(clf, data_standardized, target, cv = sm.StratifiedKFold(3, shuffle=True)).mean()"
   ]
  },
  {
   "cell_type": "code",
   "execution_count": 11,
   "metadata": {},
   "outputs": [
    {
     "data": {
      "text/plain": [
       "0.9027975343764818"
      ]
     },
     "execution_count": 11,
     "metadata": {},
     "output_type": "execute_result"
    }
   ],
   "source": [
    "#linear kernel\n",
    "clf_linear.fit(data_standardized, target)\n",
    "\n",
    "sm.cross_val_score(clf_linear, data_standardized, target, cv = sm.StratifiedKFold(3, shuffle=True)).mean()"
   ]
  },
  {
   "cell_type": "markdown",
   "metadata": {},
   "source": [
    "Some features with a high range in variance bias the svm into looking just for those certain feature, finding patterns there and not paying that much attention to the remaining. \n",
    "By standartizing the dataset, all features were roughly equal important, and the SVM is able to perform a better seperation. "
   ]
  },
  {
   "cell_type": "markdown",
   "metadata": {},
   "source": [
    "### 1.4.2 Optional: Standardize the data fold-by-fold\n",
    "\n",
    "When we standardized the entire dataset in one go, we were cheating a bit. We did not keep the training and test data fully independent. For a truly honest evaluation, we should derive the standardization parameters from the training data only, and apply the same transformation to the test data separately.\n",
    "\n",
    "If you standardize manually, use the training set means and std's for the transformation of both the training and the test data. If you use `StandardScaler`, use `fit_transform` for the training data and `transform` only for the training data.\n",
    "\n",
    "Did it influence the accuracy?"
   ]
  },
  {
   "cell_type": "code",
   "execution_count": 12,
   "metadata": {},
   "outputs": [
    {
     "name": "stdout",
     "output_type": "stream",
     "text": [
      "Sensitivity: 0.8401559454191032\n",
      "Specificity: 0.9122807017543858\n",
      "Precision: 0.9069272445820434\n"
     ]
    }
   ],
   "source": [
    "# Better safe than sorry: I used the k-fold method from the last sheet to check the pandas function for correctness. \n",
    "# You find the pandas-like solution in the next cell and you will be more than happy to hear that it works quite well!\n",
    "\n",
    "cv = sm.StratifiedKFold(3, shuffle=True)\n",
    "\n",
    "sensitivity = 0\n",
    "specificity = 0\n",
    "precision = 0\n",
    "\n",
    "for training, test in cv.split(data, target):\n",
    "    \n",
    "    data_train = data.iloc[training]\n",
    "    data_train_stand = scaler.fit_transform(data_train)\n",
    "    target_train = target.iloc[training]\n",
    "    \n",
    "    \n",
    "    data_test = data.iloc[test]\n",
    "    data_test_stand = scaler.transform(data_test)\n",
    "\n",
    "    target_test = target.iloc[test]\n",
    "    \n",
    "    clf_linear.fit(data_train_stand, target_train)\n",
    "    \n",
    "    y_pred = clf_linear.predict(data_test_stand)\n",
    "    y_true = target_test\n",
    "\n",
    "    conf_matrix = confusion_matrix(y_true, y_pred)\n",
    "    \n",
    "    tp = conf_matrix[1][1]\n",
    "    fp = conf_matrix[0][1]\n",
    "    tn = conf_matrix[0][0]\n",
    "    fn = conf_matrix[1][0]\n",
    "\n",
    "    sensitivity += tp/(tp+fn)\n",
    "    specificity += tn/(tn+fp)\n",
    "    precision += tp/(tp + fp)\n",
    " \n",
    "print('Sensitivity: ' + str(sensitivity/3))\n",
    "print('Specificity: ' + str(specificity/3))\n",
    "print('Precision: ' + str(precision/3))"
   ]
  },
  {
   "cell_type": "code",
   "execution_count": 13,
   "metadata": {},
   "outputs": [
    {
     "data": {
      "text/plain": [
       "'             precision    recall  f1-score   support\\n\\n          0       0.89      0.89      0.89        57\\n          1       0.89      0.89      0.89        56\\n\\navg / total       0.89      0.89      0.89       113\\n'"
      ]
     },
     "execution_count": 13,
     "metadata": {},
     "output_type": "execute_result"
    }
   ],
   "source": [
    "#OR\n",
    "predictions = sm.cross_val_predict(clf_linear, data, target, cv = sm.StratifiedKFold(3, shuffle=True))\n",
    "\n",
    "sme.classification_report(target, predictions)"
   ]
  },
  {
   "cell_type": "markdown",
   "metadata": {},
   "source": [
    "The fold-by-fold standardization make the results worse again. This is actually more legit, by standartizing the whole dataset we already take the data which is later used for testing in account. In a \"real\" case the SVM can't know about the data it will face, so the fold-by-fold method is the way to go if you don't want to cheat on your results."
   ]
  },
  {
   "cell_type": "markdown",
   "metadata": {},
   "source": [
    "### 1.5: Sensitivity, specificity, precision...\n",
    "In some cases, the accuracy of a prediction is secondary to other quality measures, such as sensitivity or specificity. For example, HIV tests are optimized for sensitivity at the expense of accuracy, ensuring that very few HIV-positive individuals test negative on an HIV test. This results in an HIV-scare for a lot of HIV-negative individuals each year (as higher sensitivity always implies a higher false positive rate) but in exchange no case of HIV goes undetected on a test.\n",
    "\n",
    "We can tune most ML models similarly, and sacrifice accuracy for higher sensitivity or specificity. But first, simply report the sensitivity of your linear SVM for both classes. You will find tools in `sklearn` that help you calculate this value."
   ]
  },
  {
   "cell_type": "code",
   "execution_count": 14,
   "metadata": {},
   "outputs": [],
   "source": [
    "# This is already implemented in the cell above"
   ]
  },
  {
   "cell_type": "markdown",
   "metadata": {},
   "source": [
    "### 1.5.2 Make your SVM 95+% sensitive for HFD\n",
    "Find a parameter that helps you increase your sensitivity for mice on an HFD diet."
   ]
  },
  {
   "cell_type": "code",
   "execution_count": 15,
   "metadata": {},
   "outputs": [
    {
     "name": "stdout",
     "output_type": "stream",
     "text": [
      "             precision    recall  f1-score   support\n",
      "\n",
      "          0       0.00      0.00      0.00        57\n",
      "          1       0.50      1.00      0.66        56\n",
      "\n",
      "avg / total       0.25      0.50      0.33       113\n",
      "\n",
      "Sensitivity: 1.0\n"
     ]
    },
    {
     "name": "stderr",
     "output_type": "stream",
     "text": [
      "/anaconda3/lib/python3.6/site-packages/sklearn/metrics/classification.py:1135: UndefinedMetricWarning: Precision and F-score are ill-defined and being set to 0.0 in labels with no predicted samples.\n",
      "  'precision', 'predicted', average, warn_for)\n"
     ]
    }
   ],
   "source": [
    "#Make use of the class_weight parameter. HFD gets 100% class weight -> every point is assigned to it -> no point is missed \n",
    "# -> every point is captured  = 100% sensitive for HFD\n",
    "\n",
    "clf_sensitive = SVC(random_state=0, kernel='linear', class_weight={0: 0.00, 1: 1.00})\n",
    "\n",
    "clf_sensitive.fit(data, target)\n",
    "\n",
    "prediction = cross_val_predict(clf_sensitive, data, target, cv = cv)\n",
    "\n",
    "print(sme.classification_report(target, prediction))\n",
    "\n",
    "conf_matrix = confusion_matrix(target, prediction)\n",
    "    \n",
    "tp = conf_matrix[1][1]\n",
    "fp = conf_matrix[0][1]\n",
    "tn = conf_matrix[0][0]\n",
    "fn = conf_matrix[1][0]\n",
    "\n",
    "sensitivity = tp/(tp+fn)\n",
    "specificity = tn/(tn+fp)\n",
    "precision = tp/(tp + fp)\n",
    "\n",
    "print('Sensitivity: '+ str(sensitivity))"
   ]
  },
  {
   "cell_type": "markdown",
   "metadata": {},
   "source": [
    "### 1.6 ROC curves\n",
    "You might be interested in your model's relationship between its accuracy and sensitivity, or a more commonly used pair of quality measures: false positive rate vs. sensitivity (aka true positive rate). This is what ROC (receiver operating characteristic) curves display: the trade-off between these two qualities.\n",
    "\n",
    "Most classification ML methods, despite their categorical output, use continuous internal variables for their predictions, and their final decision is a simple thresholding of this continuous variable. For example, in the case of SVMs, this variable is the data point's signed distance to the separating plane: positive values are assigned to one class, negative values to the other class. Values close to zero (= close to the boundary) are harder to place in either class, and it's down to the arbitrary threshold how they end up being predicted.\n",
    "\n",
    "You can create a ROC curve by testing how the choice of threshold affects false positive rate and sensitivity. Needless to say, sklearn helps you create such plots. All you need to do is extract the SVM's continuous predictive variables, pass it to the appropriate function with the true labels, and plot the results."
   ]
  },
  {
   "cell_type": "code",
   "execution_count": 16,
   "metadata": {},
   "outputs": [],
   "source": [
    "predictions = sm.cross_val_predict(clf_linear, data, target, cv = sm.StratifiedKFold(3, shuffle=True), method='predict_proba')\n"
   ]
  },
  {
   "cell_type": "code",
   "execution_count": 18,
   "metadata": {},
   "outputs": [],
   "source": [
    "values = []\n",
    "for i in predictions:\n",
    "    values.append(i[1])"
   ]
  },
  {
   "cell_type": "code",
   "execution_count": 19,
   "metadata": {},
   "outputs": [
    {
     "data": {
      "image/png": "[encoded data removed]",
      "text/plain": [
       "<Figure size 432x288 with 1 Axes>"
      ]
     },
     "metadata": {},
     "output_type": "display_data"
    }
   ],
   "source": [
    "fpr, tpr, thresholds = sme.roc_curve(target, values)\n",
    "\n",
    "plt.xlabel('false positive rate')\n",
    "plt.ylabel('true positive rate')\n",
    "plt.title('ROC curve')\n",
    "roc_curve = plt.plot(fpr, tpr)\n"
   ]
  },
  {
   "cell_type": "markdown",
   "metadata": {},
   "source": [
    "### 1.7 Find the threshold for the desired sensitivity / FPR tradeoff\n",
    "In 1.5.2 you increased sensitivity for HFD (label 1) by telling the SVM to use a higher weight for that class. Since then, you have learned that you could have also used the SVM's continuous predictive variables, and threshold them to your own liking, instead of leaving it to the SVM's default (0 for decision_function and 0.5 for predict_proba).\n",
    "\n",
    "Your task is to find the threshold value that would suit your purpose (i.e. 95% sensitivity). Remember, the roc_curve function returned three vectors: the ROC plot's FPR values, sensitivity values and the threshold that corresponded to them.\n",
    "\n",
    "Hint: iterate over the sensitivity and threshold values together, and report the first threshold where sensitivity exceeds 0.95. You can iterate over two lists together using Python's zip function."
   ]
  },
  {
   "cell_type": "code",
   "execution_count": 20,
   "metadata": {},
   "outputs": [
    {
     "name": "stdout",
     "output_type": "stream",
     "text": [
      "0.14102238823299776\n"
     ]
    }
   ],
   "source": [
    "for sensitivity, threshold in zip(tpr, thresholds):\n",
    "    if sensitivity > 0.95:\n",
    "        print (threshold)\n",
    "        break"
   ]
  }
 ],
 "metadata": {
  "kernelspec": {
   "display_name": "Python 3",
   "language": "python",
   "name": "python3"
  },
  "language_info": {
   "codemirror_mode": {
    "name": "ipython",
    "version": 3
   },
   "file_extension": ".py",
   "mimetype": "text/x-python",
   "name": "python",
   "nbconvert_exporter": "python",
   "pygments_lexer": "ipython3",
   "version": "3.6.5"
  }
 },
 "nbformat": 4,
 "nbformat_minor": 2
}
