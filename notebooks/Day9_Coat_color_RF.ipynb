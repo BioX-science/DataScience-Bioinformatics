{
 "cells": [
  {
   "cell_type": "markdown",
   "metadata": {},
   "source": [
    "### Throwback: which SNPs are associated with mouse hair color again?\n",
    "\n",
    "Remember the GWAS task, where we investigated which SNPs were significantly associated with the coat color of mice? Machine learning ties in well with this task. We know random forests are useful to determine the importance of different features when classifying samples. We could ask a random forest to predict hair color from genotype data, and then look at what features it considered important while doing it."
   ]
  },
  {
   "cell_type": "code",
   "execution_count": 1,
   "metadata": {
    "scrolled": false
   },
   "outputs": [],
   "source": [
    "import pandas as pd\n",
    "import numpy as np\n",
    "import matplotlib.pyplot as plt\n",
    "from sklearn.ensemble import RandomForestClassifier\n",
    "from sklearn.model_selection import StratifiedKFold, cross_val_score, cross_val_predict\n",
    "from sklearn import metrics as sme"
   ]
  },
  {
   "cell_type": "markdown",
   "metadata": {},
   "source": [
    "Load the genotype and color data. Make sure you index the genotype data explicitly by passing `index_col=\"Locus\"` to the csv reader."
   ]
  },
  {
   "cell_type": "code",
   "execution_count": 2,
   "metadata": {},
   "outputs": [],
   "source": [
    "genotype = pd.read_csv(\"files/dataS4.txt\", sep=\"\\t\", comment=\"@\", index_col=\"Locus\")\n",
    "colors = pd.read_csv(\"files/phenotype.csv\", index_col=0, names=[\"color\"], na_values='x').dropna()['color']"
   ]
  },
  {
   "cell_type": "code",
   "execution_count": 3,
   "metadata": {},
   "outputs": [
    {
     "data": {
      "text/plain": [
       "C57BL/6J    4.0\n",
       "DBA/2J      1.0\n",
       "B6D2F1      4.0\n",
       "D2B6F1      4.0\n",
       "BXD1        1.0\n",
       "Name: color, dtype: float64"
      ]
     },
     "execution_count": 3,
     "metadata": {},
     "output_type": "execute_result"
    }
   ],
   "source": [
    "colors.head()"
   ]
  },
  {
   "cell_type": "markdown",
   "metadata": {},
   "source": [
    "Split the genotype data into two dataframes: one should contain the metadata (first 3 columns) and the other the actual genotype data. Call them `geno_metadata` and `geno`.\n",
    "\n",
    "Remember, `sklearn` takes samples in rows, and our samples correspond to mice strains here, so transpose `geno`. Also make sure that the indices of the `geno` and `color` DFs line up with each other: only keep the intersection of their indices. Index objects support intersection."
   ]
  },
  {
   "cell_type": "code",
   "execution_count": 4,
   "metadata": {},
   "outputs": [],
   "source": [
    "geno_metadata = genotype.iloc[:, :3]\n",
    "geno = genotype.iloc[:,3:].T\n"
   ]
  },
  {
   "cell_type": "code",
   "execution_count": 5,
   "metadata": {},
   "outputs": [
    {
     "data": {
      "text/plain": [
       "(90, 3811)"
      ]
     },
     "execution_count": 5,
     "metadata": {},
     "output_type": "execute_result"
    }
   ],
   "source": [
    "geno.index.intersection(colors.index)\n",
    "\n",
    "colors = colors.loc[geno.index.intersection(colors.index)]\n",
    "geno = geno.loc[geno.index.intersection(colors.index)]\n",
    "\n",
    "geno.shape"
   ]
  },
  {
   "cell_type": "markdown",
   "metadata": {},
   "source": [
    "Encode the B/D/H/U genotype information with numbers. You can use -1/0/0/1 or 0/1/1/2 for B/H/U/D respectively. Either way, it's best to encode H with a value between B and D since it stands for hybrid.\n",
    "\n",
    "As for encoding colors: they are already numbers. We won't even transform them to the binary black/non-black labels like we did on day 3, we will just feed it them to the predictor as they are. Let the random forest figure out the associations for black/grey/white/brown."
   ]
  },
  {
   "cell_type": "code",
   "execution_count": 6,
   "metadata": {},
   "outputs": [
    {
     "data": {
      "text/plain": [
       "(90, 3811)"
      ]
     },
     "execution_count": 6,
     "metadata": {},
     "output_type": "execute_result"
    }
   ],
   "source": [
    "encode = {'B' : 0, 'D' : 2, 'H': 1, 'U' : 4}\n",
    "geno_enc = geno\n",
    "\n",
    "geno_enc = geno_enc.applymap(encode.get)\n",
    "geno_enc.shape"
   ]
  },
  {
   "cell_type": "markdown",
   "metadata": {},
   "source": [
    "Train a random forest classifier with all the data. Make sure you use a lot of trees in that forest (a few thousand should be good) so we can get fine-grained values for feature importances. The more decision trees you run the data on, the clearer it gets which features it tests most often."
   ]
  },
  {
   "cell_type": "code",
   "execution_count": 7,
   "metadata": {},
   "outputs": [
    {
     "data": {
      "text/plain": [
       "RandomForestClassifier(bootstrap=True, class_weight=None, criterion='gini',\n",
       "            max_depth=None, max_features='auto', max_leaf_nodes=None,\n",
       "            min_impurity_decrease=0.0, min_impurity_split=None,\n",
       "            min_samples_leaf=1, min_samples_split=2,\n",
       "            min_weight_fraction_leaf=0.0, n_estimators=10000, n_jobs=1,\n",
       "            oob_score=False, random_state=0, verbose=0, warm_start=False)"
      ]
     },
     "execution_count": 7,
     "metadata": {},
     "output_type": "execute_result"
    }
   ],
   "source": [
    "clf = RandomForestClassifier(n_estimators=10000, random_state=0)\n",
    "clf.fit(geno_enc, colors)"
   ]
  },
  {
   "cell_type": "markdown",
   "metadata": {},
   "source": [
    "Now take the feature importance vector, and add it to the `geno_metadata` DataFrame as a new column. Sort by that column (obviously descending), and look at the most important SNP ids. Compare them with your GWAS data -- no need to load anything, just look at the Manhattan plot from day 3."
   ]
  },
  {
   "cell_type": "code",
   "execution_count": 8,
   "metadata": {},
   "outputs": [
    {
     "data": {
      "text/html": [
       "<div>\n",
       "<style scoped>\n",
       "    .dataframe tbody tr th:only-of-type {\n",
       "        vertical-align: middle;\n",
       "    }\n",
       "\n",
       "    .dataframe tbody tr th {\n",
       "        vertical-align: top;\n",
       "    }\n",
       "\n",
       "    .dataframe thead th {\n",
       "        text-align: right;\n",
       "    }\n",
       "</style>\n",
       "<table border=\"1\" class=\"dataframe\">\n",
       "  <thead>\n",
       "    <tr style=\"text-align: right;\">\n",
       "      <th></th>\n",
       "      <th>Chr</th>\n",
       "      <th>cM</th>\n",
       "      <th>Mb</th>\n",
       "      <th>importance</th>\n",
       "    </tr>\n",
       "    <tr>\n",
       "      <th>Locus</th>\n",
       "      <th></th>\n",
       "      <th></th>\n",
       "      <th></th>\n",
       "      <th></th>\n",
       "    </tr>\n",
       "  </thead>\n",
       "  <tbody>\n",
       "    <tr>\n",
       "      <th>rs13477796</th>\n",
       "      <td>4</td>\n",
       "      <td>41.281</td>\n",
       "      <td>78.698063</td>\n",
       "      <td>0.014040</td>\n",
       "    </tr>\n",
       "    <tr>\n",
       "      <th>rs3708061</th>\n",
       "      <td>4</td>\n",
       "      <td>41.281</td>\n",
       "      <td>80.950126</td>\n",
       "      <td>0.013557</td>\n",
       "    </tr>\n",
       "    <tr>\n",
       "      <th>rs13480283</th>\n",
       "      <td>9</td>\n",
       "      <td>45.892</td>\n",
       "      <td>75.877786</td>\n",
       "      <td>0.013221</td>\n",
       "    </tr>\n",
       "    <tr>\n",
       "      <th>rs3685573</th>\n",
       "      <td>9</td>\n",
       "      <td>46.179</td>\n",
       "      <td>76.102533</td>\n",
       "      <td>0.012773</td>\n",
       "    </tr>\n",
       "    <tr>\n",
       "      <th>rs3658567</th>\n",
       "      <td>4</td>\n",
       "      <td>40.995</td>\n",
       "      <td>76.484833</td>\n",
       "      <td>0.012424</td>\n",
       "    </tr>\n",
       "    <tr>\n",
       "      <th>rs3724833</th>\n",
       "      <td>9</td>\n",
       "      <td>45.892</td>\n",
       "      <td>74.735876</td>\n",
       "      <td>0.012305</td>\n",
       "    </tr>\n",
       "    <tr>\n",
       "      <th>rs3725904</th>\n",
       "      <td>9</td>\n",
       "      <td>46.179</td>\n",
       "      <td>76.983761</td>\n",
       "      <td>0.011707</td>\n",
       "    </tr>\n",
       "    <tr>\n",
       "      <th>rs13480279</th>\n",
       "      <td>9</td>\n",
       "      <td>45.606</td>\n",
       "      <td>74.382952</td>\n",
       "      <td>0.011604</td>\n",
       "    </tr>\n",
       "    <tr>\n",
       "      <th>rs3670437</th>\n",
       "      <td>9</td>\n",
       "      <td>45.319</td>\n",
       "      <td>73.954057</td>\n",
       "      <td>0.011074</td>\n",
       "    </tr>\n",
       "    <tr>\n",
       "      <th>CEL-4_74066970</th>\n",
       "      <td>4</td>\n",
       "      <td>40.708</td>\n",
       "      <td>75.438626</td>\n",
       "      <td>0.010795</td>\n",
       "    </tr>\n",
       "    <tr>\n",
       "      <th>rs13477785</th>\n",
       "      <td>4</td>\n",
       "      <td>40.995</td>\n",
       "      <td>75.774916</td>\n",
       "      <td>0.010541</td>\n",
       "    </tr>\n",
       "    <tr>\n",
       "      <th>CEL-4_74121566</th>\n",
       "      <td>4</td>\n",
       "      <td>40.708</td>\n",
       "      <td>75.493222</td>\n",
       "      <td>0.010039</td>\n",
       "    </tr>\n",
       "    <tr>\n",
       "      <th>rs13480277</th>\n",
       "      <td>9</td>\n",
       "      <td>45.319</td>\n",
       "      <td>73.928872</td>\n",
       "      <td>0.009935</td>\n",
       "    </tr>\n",
       "    <tr>\n",
       "      <th>rs3674482</th>\n",
       "      <td>9</td>\n",
       "      <td>47.074</td>\n",
       "      <td>77.217283</td>\n",
       "      <td>0.009418</td>\n",
       "    </tr>\n",
       "    <tr>\n",
       "      <th>rs13480291</th>\n",
       "      <td>9</td>\n",
       "      <td>47.361</td>\n",
       "      <td>77.779276</td>\n",
       "      <td>0.008696</td>\n",
       "    </tr>\n",
       "    <tr>\n",
       "      <th>rs13480276</th>\n",
       "      <td>9</td>\n",
       "      <td>45.033</td>\n",
       "      <td>73.688973</td>\n",
       "      <td>0.008678</td>\n",
       "    </tr>\n",
       "    <tr>\n",
       "      <th>rs6167970</th>\n",
       "      <td>9</td>\n",
       "      <td>45.033</td>\n",
       "      <td>73.368885</td>\n",
       "      <td>0.008642</td>\n",
       "    </tr>\n",
       "    <tr>\n",
       "      <th>rs13480288</th>\n",
       "      <td>9</td>\n",
       "      <td>47.361</td>\n",
       "      <td>77.247378</td>\n",
       "      <td>0.008476</td>\n",
       "    </tr>\n",
       "    <tr>\n",
       "      <th>rs13477804</th>\n",
       "      <td>4</td>\n",
       "      <td>42.501</td>\n",
       "      <td>81.604580</td>\n",
       "      <td>0.008260</td>\n",
       "    </tr>\n",
       "    <tr>\n",
       "      <th>CEL-4_72665819</th>\n",
       "      <td>4</td>\n",
       "      <td>39.813</td>\n",
       "      <td>74.037476</td>\n",
       "      <td>0.008194</td>\n",
       "    </tr>\n",
       "    <tr>\n",
       "      <th>rs13477805</th>\n",
       "      <td>4</td>\n",
       "      <td>42.501</td>\n",
       "      <td>81.934379</td>\n",
       "      <td>0.007872</td>\n",
       "    </tr>\n",
       "    <tr>\n",
       "      <th>rs6217039</th>\n",
       "      <td>9</td>\n",
       "      <td>47.647</td>\n",
       "      <td>78.046015</td>\n",
       "      <td>0.007771</td>\n",
       "    </tr>\n",
       "    <tr>\n",
       "      <th>gnf04.071.066</th>\n",
       "      <td>4</td>\n",
       "      <td>39.813</td>\n",
       "      <td>75.249698</td>\n",
       "      <td>0.007715</td>\n",
       "    </tr>\n",
       "    <tr>\n",
       "      <th>gnf09.074.193</th>\n",
       "      <td>9</td>\n",
       "      <td>47.647</td>\n",
       "      <td>79.902981</td>\n",
       "      <td>0.007664</td>\n",
       "    </tr>\n",
       "    <tr>\n",
       "      <th>rs13480302</th>\n",
       "      <td>9</td>\n",
       "      <td>47.937</td>\n",
       "      <td>80.626426</td>\n",
       "      <td>0.006808</td>\n",
       "    </tr>\n",
       "    <tr>\n",
       "      <th>rs3674783</th>\n",
       "      <td>4</td>\n",
       "      <td>43.086</td>\n",
       "      <td>83.447453</td>\n",
       "      <td>0.006760</td>\n",
       "    </tr>\n",
       "    <tr>\n",
       "      <th>rs6258088</th>\n",
       "      <td>4</td>\n",
       "      <td>43.086</td>\n",
       "      <td>82.262281</td>\n",
       "      <td>0.006564</td>\n",
       "    </tr>\n",
       "    <tr>\n",
       "      <th>rs4227771</th>\n",
       "      <td>9</td>\n",
       "      <td>43.813</td>\n",
       "      <td>72.952358</td>\n",
       "      <td>0.006538</td>\n",
       "    </tr>\n",
       "    <tr>\n",
       "      <th>rs13480268</th>\n",
       "      <td>9</td>\n",
       "      <td>43.813</td>\n",
       "      <td>72.030418</td>\n",
       "      <td>0.006523</td>\n",
       "    </tr>\n",
       "    <tr>\n",
       "      <th>rs13477825</th>\n",
       "      <td>4</td>\n",
       "      <td>43.945</td>\n",
       "      <td>87.106964</td>\n",
       "      <td>0.006485</td>\n",
       "    </tr>\n",
       "  </tbody>\n",
       "</table>\n",
       "</div>"
      ],
      "text/plain": [
       "               Chr      cM         Mb  importance\n",
       "Locus                                            \n",
       "rs13477796       4  41.281  78.698063    0.014040\n",
       "rs3708061        4  41.281  80.950126    0.013557\n",
       "rs13480283       9  45.892  75.877786    0.013221\n",
       "rs3685573        9  46.179  76.102533    0.012773\n",
       "rs3658567        4  40.995  76.484833    0.012424\n",
       "rs3724833        9  45.892  74.735876    0.012305\n",
       "rs3725904        9  46.179  76.983761    0.011707\n",
       "rs13480279       9  45.606  74.382952    0.011604\n",
       "rs3670437        9  45.319  73.954057    0.011074\n",
       "CEL-4_74066970   4  40.708  75.438626    0.010795\n",
       "rs13477785       4  40.995  75.774916    0.010541\n",
       "CEL-4_74121566   4  40.708  75.493222    0.010039\n",
       "rs13480277       9  45.319  73.928872    0.009935\n",
       "rs3674482        9  47.074  77.217283    0.009418\n",
       "rs13480291       9  47.361  77.779276    0.008696\n",
       "rs13480276       9  45.033  73.688973    0.008678\n",
       "rs6167970        9  45.033  73.368885    0.008642\n",
       "rs13480288       9  47.361  77.247378    0.008476\n",
       "rs13477804       4  42.501  81.604580    0.008260\n",
       "CEL-4_72665819   4  39.813  74.037476    0.008194\n",
       "rs13477805       4  42.501  81.934379    0.007872\n",
       "rs6217039        9  47.647  78.046015    0.007771\n",
       "gnf04.071.066    4  39.813  75.249698    0.007715\n",
       "gnf09.074.193    9  47.647  79.902981    0.007664\n",
       "rs13480302       9  47.937  80.626426    0.006808\n",
       "rs3674783        4  43.086  83.447453    0.006760\n",
       "rs6258088        4  43.086  82.262281    0.006564\n",
       "rs4227771        9  43.813  72.952358    0.006538\n",
       "rs13480268       9  43.813  72.030418    0.006523\n",
       "rs13477825       4  43.945  87.106964    0.006485"
      ]
     },
     "execution_count": 8,
     "metadata": {},
     "output_type": "execute_result"
    }
   ],
   "source": [
    "importances = pd.Series(clf.feature_importances_ , index = geno_metadata.index)\n",
    "geno_metadata['importance'] = importances\n",
    "\n",
    "geno_metadata_sorted = geno_metadata.sort_values('importance', ascending=False)\n",
    "geno_metadata_sorted.head(30)"
   ]
  },
  {
   "cell_type": "markdown",
   "metadata": {},
   "source": [
    "It is mentionable that all the important features, or at least the 30 most important ones, are located either on chromosom 4 or on chromosome 9. This is interesting, since if we look at the Manhatten plot of Day 3, then those were also the two most significant chromosoms for differential expression. So it seems like the results are correct."
   ]
  },
  {
   "cell_type": "markdown",
   "metadata": {},
   "source": [
    "If you took the effort to load that mouse genotype and color data, you might as well take a peek at the performance of the predictor. Calculate a cross-validated accuracy score, and create a confusion matrix for the four colors. You can lower the number of trees used by an order of magnitude, since cross-validation makes things more time intensive."
   ]
  },
  {
   "cell_type": "code",
   "execution_count": 9,
   "metadata": {},
   "outputs": [
    {
     "data": {
      "text/plain": [
       "array([[29,  1,  1,  0],\n",
       "       [ 1, 20,  0,  2],\n",
       "       [ 0,  0, 17,  2],\n",
       "       [ 0,  2,  0, 15]])"
      ]
     },
     "execution_count": 9,
     "metadata": {},
     "output_type": "execute_result"
    }
   ],
   "source": [
    "clf_sparse = RandomForestClassifier(n_estimators= 100)\n",
    "\n",
    "t = cross_val_predict(clf_sparse, geno_enc, colors, cv = StratifiedKFold(3, shuffle=True))\n",
    "\n",
    "sme.confusion_matrix(t, colors)\n",
    "# Numbers are tn, fp, fn, tp for each label"
   ]
  },
  {
   "cell_type": "markdown",
   "metadata": {},
   "source": [
    "And finally, create a ROC diagram. You know how to make them for binary classifiers... but this isn't a binary classification task. What should it look like when you have 4 labels instead of just 2?"
   ]
  },
  {
   "cell_type": "code",
   "execution_count": 10,
   "metadata": {},
   "outputs": [],
   "source": [
    "cv_probs = cross_val_predict(clf_sparse, geno_enc, colors, cv = StratifiedKFold(3, shuffle=True), method = 'predict_proba').T\n"
   ]
  },
  {
   "cell_type": "code",
   "execution_count": 13,
   "metadata": {},
   "outputs": [
    {
     "data": {
      "image/png": "[encoded data removed]",
      "text/plain": [
       "<Figure size 1152x576 with 1 Axes>"
      ]
     },
     "metadata": {},
     "output_type": "display_data"
    }
   ],
   "source": [
    "plt.subplots(figsize=(16,8))\n",
    "for color, sample in enumerate(cv_probs):\n",
    "    fpr, tpr, thresholds = sme.roc_curve(colors==color+1, sample)\n",
    "    plt.plot(fpr, tpr)\n",
    "    plt.plot(fpr, tpr, label = color)\n",
    "\n",
    "\n",
    "plt.legend()\n",
    "plt.xlabel(\"FPR\")\n",
    "plt.ylabel(\"TPR\");"
   ]
  },
  {
   "cell_type": "markdown",
   "metadata": {},
   "source": [
    "A seperate FPR/TPR curve is plotted for each label, so one can see the respective sensitivite and specificity values, but still compare them easily."
   ]
  }
 ],
 "metadata": {
  "kernelspec": {
   "display_name": "Python 3",
   "language": "python",
   "name": "python3"
  },
  "language_info": {
   "codemirror_mode": {
    "name": "ipython",
    "version": 3
   },
   "file_extension": ".py",
   "mimetype": "text/x-python",
   "name": "python",
   "nbconvert_exporter": "python",
   "pygments_lexer": "ipython3",
   "version": "3.6.5"
  }
 },
 "nbformat": 4,
 "nbformat_minor": 2
}
