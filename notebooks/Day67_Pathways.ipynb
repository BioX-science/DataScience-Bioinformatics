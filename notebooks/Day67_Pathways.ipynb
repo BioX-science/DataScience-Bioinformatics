{
 "cells": [
  {
   "cell_type": "code",
   "execution_count": 1,
   "metadata": {},
   "outputs": [],
   "source": [
    "from Bio.KEGG.REST import *\n",
    "from Bio.KEGG.KGML import KGML_parser\n",
    "from Bio import Entrez\n",
    "import scipy.stats as stats\n",
    "import numpy as np\n",
    "import pandas as pd\n",
    "from io import StringIO\n",
    "from Bio.Graphics.KGML_vis import KGMLCanvas\n",
    "from scipy.stats import chi2_contingency, fisher_exact\n",
    "\n",
    "from IPython.display import Image"
   ]
  },
  {
   "cell_type": "markdown",
   "metadata": {},
   "source": [
    "## Task 1: KEGG and gene id mapping"
   ]
  },
  {
   "cell_type": "markdown",
   "metadata": {},
   "source": [
    "Familiarize yourself with the KEGG Rest interface and how to access it with Biopyhton:\n",
    "\n",
    "http://www.genome.jp/kegg/rest/keggapi.html\n",
    "\n",
    "http://nbviewer.jupyter.org/github/widdowquinn/notebooks/blob/master/Biopython_KGML_intro.ipynb"
   ]
  },
  {
   "cell_type": "markdown",
   "metadata": {},
   "source": [
    "### Subtask 1.1 Extract gene lists for all (mouse) KEGG pathways and store them in a suitable Python data structure"
   ]
  },
  {
   "cell_type": "code",
   "execution_count": 2,
   "metadata": {},
   "outputs": [
    {
     "data": {
      "text/html": [
       "<div>\n",
       "<style scoped>\n",
       "    .dataframe tbody tr th:only-of-type {\n",
       "        vertical-align: middle;\n",
       "    }\n",
       "\n",
       "    .dataframe tbody tr th {\n",
       "        vertical-align: top;\n",
       "    }\n",
       "\n",
       "    .dataframe thead th {\n",
       "        text-align: right;\n",
       "    }\n",
       "</style>\n",
       "<table border=\"1\" class=\"dataframe\">\n",
       "  <thead>\n",
       "    <tr style=\"text-align: right;\">\n",
       "      <th></th>\n",
       "      <th>0</th>\n",
       "      <th>1</th>\n",
       "    </tr>\n",
       "  </thead>\n",
       "  <tbody>\n",
       "    <tr>\n",
       "      <th>0</th>\n",
       "      <td>path:mmu00010</td>\n",
       "      <td>Glycolysis / Gluconeogenesis - Mus musculus (m...</td>\n",
       "    </tr>\n",
       "    <tr>\n",
       "      <th>1</th>\n",
       "      <td>path:mmu00020</td>\n",
       "      <td>Citrate cycle (TCA cycle) - Mus musculus (mouse)</td>\n",
       "    </tr>\n",
       "    <tr>\n",
       "      <th>2</th>\n",
       "      <td>path:mmu00030</td>\n",
       "      <td>Pentose phosphate pathway - Mus musculus (mouse)</td>\n",
       "    </tr>\n",
       "    <tr>\n",
       "      <th>3</th>\n",
       "      <td>path:mmu00040</td>\n",
       "      <td>Pentose and glucuronate interconversions - Mus...</td>\n",
       "    </tr>\n",
       "    <tr>\n",
       "      <th>4</th>\n",
       "      <td>path:mmu00051</td>\n",
       "      <td>Fructose and mannose metabolism - Mus musculus...</td>\n",
       "    </tr>\n",
       "  </tbody>\n",
       "</table>\n",
       "</div>"
      ],
      "text/plain": [
       "               0                                                  1\n",
       "0  path:mmu00010  Glycolysis / Gluconeogenesis - Mus musculus (m...\n",
       "1  path:mmu00020   Citrate cycle (TCA cycle) - Mus musculus (mouse)\n",
       "2  path:mmu00030   Pentose phosphate pathway - Mus musculus (mouse)\n",
       "3  path:mmu00040  Pentose and glucuronate interconversions - Mus...\n",
       "4  path:mmu00051  Fructose and mannose metabolism - Mus musculus..."
      ]
     },
     "execution_count": 2,
     "metadata": {},
     "output_type": "execute_result"
    }
   ],
   "source": [
    "# get all 'pathway's from organism 'mmu' (Mus musculus)\n",
    "\n",
    "response = kegg_list('pathway', 'mmu').read()\n",
    "\n",
    "#Read in as csv using the StringIO class\n",
    "kegg_df = pd.read_csv(StringIO(response), sep = '\\t', header = None)\n",
    "\n",
    "kegg_df.head()"
   ]
  },
  {
   "cell_type": "markdown",
   "metadata": {},
   "source": [
    "### Subtask 1.2: Save the KEGG gene sets as a gmt file after you made sure they have the proper gene ids with respect to your DE analysis"
   ]
  },
  {
   "cell_type": "markdown",
   "metadata": {},
   "source": [
    "hints: \n",
    "\n",
    "http://www.broadinstitute.org/cancer/software/gsea/wiki/index.php/Data_formats"
   ]
  },
  {
   "cell_type": "code",
   "execution_count": 3,
   "metadata": {},
   "outputs": [
    {
     "name": "stdout",
     "output_type": "stream",
     "text": [
      "Number of pathways: 326\n"
     ]
    },
    {
     "data": {
      "text/plain": [
       "['mmu00010',\n",
       " 'mmu00020',\n",
       " 'mmu00030',\n",
       " 'mmu00040',\n",
       " 'mmu00051',\n",
       " 'mmu00052',\n",
       " 'mmu00053',\n",
       " 'mmu00061',\n",
       " 'mmu00062',\n",
       " 'mmu00071']"
      ]
     },
     "execution_count": 3,
     "metadata": {},
     "output_type": "execute_result"
    }
   ],
   "source": [
    "# extract pathway IDs from the raw REST response\n",
    "pathways = [((pathway.split('\\t')[0]).split(':'))[-1] for pathway in response.split('\\n')[:-1]]\n",
    "\n",
    "# print the number of pathways and the IDs of the first 10\n",
    "print('Number of pathways: '+ str(len(pathways)))\n",
    "pathways[:10]"
   ]
  },
  {
   "cell_type": "code",
   "execution_count": 4,
   "metadata": {},
   "outputs": [
    {
     "data": {
      "text/plain": [
       "326"
      ]
     },
     "execution_count": 4,
     "metadata": {},
     "output_type": "execute_result"
    }
   ],
   "source": [
    "genelists_pathways = []\n",
    "\n",
    "for i in pathways:\n",
    "\n",
    "    geneList = kegg_link('mmu', i).read()\n",
    "    pathsgenes = pd.read_csv(StringIO(geneList), sep = '\\t', header = None)\n",
    "    genelists_pathways.append(pathsgenes)\n",
    "\n",
    "len(genelists_pathways)"
   ]
  },
  {
   "cell_type": "code",
   "execution_count": 5,
   "metadata": {},
   "outputs": [],
   "source": [
    "#Connect path names with entrez identifiers\n",
    "pw_entrez = pd.concat(genelists_pathways)\n",
    "pw_entrez.columns = ['path', 'entrez']\n",
    "pw_entrez['entrez'] = pw_entrez['entrez'].str.replace('mmu:', '')"
   ]
  },
  {
   "cell_type": "code",
   "execution_count": 6,
   "metadata": {},
   "outputs": [
    {
     "data": {
      "text/html": [
       "<div>\n",
       "<style scoped>\n",
       "    .dataframe tbody tr th:only-of-type {\n",
       "        vertical-align: middle;\n",
       "    }\n",
       "\n",
       "    .dataframe tbody tr th {\n",
       "        vertical-align: top;\n",
       "    }\n",
       "\n",
       "    .dataframe thead th {\n",
       "        text-align: right;\n",
       "    }\n",
       "</style>\n",
       "<table border=\"1\" class=\"dataframe\">\n",
       "  <thead>\n",
       "    <tr style=\"text-align: right;\">\n",
       "      <th></th>\n",
       "      <th>path</th>\n",
       "      <th>entrez</th>\n",
       "    </tr>\n",
       "  </thead>\n",
       "  <tbody>\n",
       "    <tr>\n",
       "      <th>0</th>\n",
       "      <td>path:mmu00010</td>\n",
       "      <td>100042025</td>\n",
       "    </tr>\n",
       "    <tr>\n",
       "      <th>1</th>\n",
       "      <td>path:mmu00010</td>\n",
       "      <td>103988</td>\n",
       "    </tr>\n",
       "    <tr>\n",
       "      <th>2</th>\n",
       "      <td>path:mmu00010</td>\n",
       "      <td>106557</td>\n",
       "    </tr>\n",
       "    <tr>\n",
       "      <th>3</th>\n",
       "      <td>path:mmu00010</td>\n",
       "      <td>110695</td>\n",
       "    </tr>\n",
       "    <tr>\n",
       "      <th>4</th>\n",
       "      <td>path:mmu00010</td>\n",
       "      <td>11522</td>\n",
       "    </tr>\n",
       "  </tbody>\n",
       "</table>\n",
       "</div>"
      ],
      "text/plain": [
       "            path     entrez\n",
       "0  path:mmu00010  100042025\n",
       "1  path:mmu00010     103988\n",
       "2  path:mmu00010     106557\n",
       "3  path:mmu00010     110695\n",
       "4  path:mmu00010      11522"
      ]
     },
     "execution_count": 6,
     "metadata": {},
     "output_type": "execute_result"
    }
   ],
   "source": [
    "pw_entrez.head()"
   ]
  },
  {
   "cell_type": "code",
   "execution_count": 7,
   "metadata": {
    "scrolled": true
   },
   "outputs": [
    {
     "data": {
      "text/html": [
       "<div>\n",
       "<style scoped>\n",
       "    .dataframe tbody tr th:only-of-type {\n",
       "        vertical-align: middle;\n",
       "    }\n",
       "\n",
       "    .dataframe tbody tr th {\n",
       "        vertical-align: top;\n",
       "    }\n",
       "\n",
       "    .dataframe thead th {\n",
       "        text-align: right;\n",
       "    }\n",
       "</style>\n",
       "<table border=\"1\" class=\"dataframe\">\n",
       "  <thead>\n",
       "    <tr style=\"text-align: right;\">\n",
       "      <th></th>\n",
       "      <th>1. MGI accession id</th>\n",
       "      <th>2. marker type</th>\n",
       "      <th>3. marker symbol</th>\n",
       "      <th>4. marker name</th>\n",
       "      <th>5. genome build</th>\n",
       "      <th>6. Entrez gene id</th>\n",
       "      <th>7. NCBI gene chromosome</th>\n",
       "      <th>8. NCBI gene start</th>\n",
       "      <th>9. NCBI gene end</th>\n",
       "      <th>10. NCBI gene strand</th>\n",
       "      <th>11. Ensembl gene id</th>\n",
       "      <th>12. Ensembl gene chromosome</th>\n",
       "      <th>13. Ensembl gene start</th>\n",
       "      <th>14. Ensembl gene end</th>\n",
       "      <th>15. Ensembl gene strand</th>\n",
       "      <th>16. VEGA gene id</th>\n",
       "      <th>17. VEGA gene chromosome</th>\n",
       "      <th>18. VEGA gene start</th>\n",
       "      <th>19. VEGA gene end</th>\n",
       "      <th>20. VEGA gene strand</th>\n",
       "    </tr>\n",
       "  </thead>\n",
       "  <tbody>\n",
       "    <tr>\n",
       "      <th>0</th>\n",
       "      <td>MGI:87853</td>\n",
       "      <td>Gene</td>\n",
       "      <td>a</td>\n",
       "      <td>nonagouti</td>\n",
       "      <td>GRCm38</td>\n",
       "      <td>50518.0</td>\n",
       "      <td>2</td>\n",
       "      <td>154950204.0</td>\n",
       "      <td>155051012.0</td>\n",
       "      <td>+</td>\n",
       "      <td>ENSMUSG00000027596</td>\n",
       "      <td>2</td>\n",
       "      <td>154791402.0</td>\n",
       "      <td>155051012.0</td>\n",
       "      <td>+</td>\n",
       "      <td>OTTMUSG00000015981</td>\n",
       "      <td>2</td>\n",
       "      <td>154791402.0</td>\n",
       "      <td>155051012.0</td>\n",
       "      <td>+</td>\n",
       "    </tr>\n",
       "    <tr>\n",
       "      <th>1</th>\n",
       "      <td>MGI:87854</td>\n",
       "      <td>Gene</td>\n",
       "      <td>Pzp</td>\n",
       "      <td>PZP, alpha-2-macroglobulin like</td>\n",
       "      <td>GRCm38</td>\n",
       "      <td>11287.0</td>\n",
       "      <td>6</td>\n",
       "      <td>128483567.0</td>\n",
       "      <td>128526720.0</td>\n",
       "      <td>-</td>\n",
       "      <td>ENSMUSG00000030359</td>\n",
       "      <td>6</td>\n",
       "      <td>128483567.0</td>\n",
       "      <td>128526720.0</td>\n",
       "      <td>-</td>\n",
       "      <td>OTTMUSG00000022212</td>\n",
       "      <td>6</td>\n",
       "      <td>128483567.0</td>\n",
       "      <td>128526720.0</td>\n",
       "      <td>-</td>\n",
       "    </tr>\n",
       "    <tr>\n",
       "      <th>2</th>\n",
       "      <td>MGI:87859</td>\n",
       "      <td>Gene</td>\n",
       "      <td>Abl1</td>\n",
       "      <td>c-abl oncogene 1, non-receptor tyrosine kinase</td>\n",
       "      <td>GRCm38</td>\n",
       "      <td>11350.0</td>\n",
       "      <td>2</td>\n",
       "      <td>31688354.0</td>\n",
       "      <td>31807093.0</td>\n",
       "      <td>+</td>\n",
       "      <td>ENSMUSG00000026842</td>\n",
       "      <td>2</td>\n",
       "      <td>31688376.0</td>\n",
       "      <td>31804227.0</td>\n",
       "      <td>+</td>\n",
       "      <td>OTTMUSG00000012077</td>\n",
       "      <td>2</td>\n",
       "      <td>31688376.0</td>\n",
       "      <td>31804227.0</td>\n",
       "      <td>+</td>\n",
       "    </tr>\n",
       "    <tr>\n",
       "      <th>3</th>\n",
       "      <td>MGI:87860</td>\n",
       "      <td>Gene</td>\n",
       "      <td>Abl2</td>\n",
       "      <td>v-abl Abelson murine leukemia viral oncogene 2...</td>\n",
       "      <td>GRCm38</td>\n",
       "      <td>11352.0</td>\n",
       "      <td>1</td>\n",
       "      <td>156558171.0</td>\n",
       "      <td>156649619.0</td>\n",
       "      <td>+</td>\n",
       "      <td>ENSMUSG00000026596</td>\n",
       "      <td>1</td>\n",
       "      <td>156558786.0</td>\n",
       "      <td>156649568.0</td>\n",
       "      <td>+</td>\n",
       "      <td>OTTMUSG00000037114</td>\n",
       "      <td>1</td>\n",
       "      <td>156558786.0</td>\n",
       "      <td>156649568.0</td>\n",
       "      <td>+</td>\n",
       "    </tr>\n",
       "    <tr>\n",
       "      <th>4</th>\n",
       "      <td>MGI:87862</td>\n",
       "      <td>Gene</td>\n",
       "      <td>Scgb1b27</td>\n",
       "      <td>secretoglobin, family 1B, member 27</td>\n",
       "      <td>GRCm38</td>\n",
       "      <td>11354.0</td>\n",
       "      <td>7</td>\n",
       "      <td>34021567.0</td>\n",
       "      <td>34022881.0</td>\n",
       "      <td>+</td>\n",
       "      <td>ENSMUSG00000066583</td>\n",
       "      <td>7</td>\n",
       "      <td>34021483.0</td>\n",
       "      <td>34022881.0</td>\n",
       "      <td>+</td>\n",
       "      <td>OTTMUSG00000008372</td>\n",
       "      <td>7</td>\n",
       "      <td>34021483.0</td>\n",
       "      <td>34022881.0</td>\n",
       "      <td>+</td>\n",
       "    </tr>\n",
       "  </tbody>\n",
       "</table>\n",
       "</div>"
      ],
      "text/plain": [
       "  1. MGI accession id 2. marker type 3. marker symbol  \\\n",
       "0           MGI:87853           Gene                a   \n",
       "1           MGI:87854           Gene              Pzp   \n",
       "2           MGI:87859           Gene             Abl1   \n",
       "3           MGI:87860           Gene             Abl2   \n",
       "4           MGI:87862           Gene         Scgb1b27   \n",
       "\n",
       "                                      4. marker name 5. genome build  \\\n",
       "0                                          nonagouti          GRCm38   \n",
       "1                    PZP, alpha-2-macroglobulin like          GRCm38   \n",
       "2     c-abl oncogene 1, non-receptor tyrosine kinase          GRCm38   \n",
       "3  v-abl Abelson murine leukemia viral oncogene 2...          GRCm38   \n",
       "4                secretoglobin, family 1B, member 27          GRCm38   \n",
       "\n",
       "   6. Entrez gene id 7. NCBI gene chromosome  8. NCBI gene start  \\\n",
       "0            50518.0                       2         154950204.0   \n",
       "1            11287.0                       6         128483567.0   \n",
       "2            11350.0                       2          31688354.0   \n",
       "3            11352.0                       1         156558171.0   \n",
       "4            11354.0                       7          34021567.0   \n",
       "\n",
       "   9. NCBI gene end 10. NCBI gene strand 11. Ensembl gene id  \\\n",
       "0       155051012.0                    +  ENSMUSG00000027596   \n",
       "1       128526720.0                    -  ENSMUSG00000030359   \n",
       "2        31807093.0                    +  ENSMUSG00000026842   \n",
       "3       156649619.0                    +  ENSMUSG00000026596   \n",
       "4        34022881.0                    +  ENSMUSG00000066583   \n",
       "\n",
       "  12. Ensembl gene chromosome  13. Ensembl gene start  14. Ensembl gene end  \\\n",
       "0                           2             154791402.0           155051012.0   \n",
       "1                           6             128483567.0           128526720.0   \n",
       "2                           2              31688376.0            31804227.0   \n",
       "3                           1             156558786.0           156649568.0   \n",
       "4                           7              34021483.0            34022881.0   \n",
       "\n",
       "  15. Ensembl gene strand    16. VEGA gene id 17. VEGA gene chromosome  \\\n",
       "0                       +  OTTMUSG00000015981                        2   \n",
       "1                       -  OTTMUSG00000022212                        6   \n",
       "2                       +  OTTMUSG00000012077                        2   \n",
       "3                       +  OTTMUSG00000037114                        1   \n",
       "4                       +  OTTMUSG00000008372                        7   \n",
       "\n",
       "   18. VEGA gene start  19. VEGA gene end 20. VEGA gene strand  \n",
       "0          154791402.0        155051012.0                    +  \n",
       "1          128483567.0        128526720.0                    -  \n",
       "2           31688376.0         31804227.0                    +  \n",
       "3          156558786.0        156649568.0                    +  \n",
       "4           34021483.0         34022881.0                    +  "
      ]
     },
     "execution_count": 7,
     "metadata": {},
     "output_type": "execute_result"
    }
   ],
   "source": [
    "#Here stuff didn't work out so well for some reason. Maybe the mac, idk.\n",
    "#So we used planB and loaded the alternative.rpt file.\n",
    "\n",
    "rescue_file = pd.read_csv('files/alternative.rpt', sep='\\t', index_col=False)\n",
    "rescue_file.head()\n"
   ]
  },
  {
   "cell_type": "code",
   "execution_count": 8,
   "metadata": {},
   "outputs": [
    {
     "data": {
      "text/html": [
       "<div>\n",
       "<style scoped>\n",
       "    .dataframe tbody tr th:only-of-type {\n",
       "        vertical-align: middle;\n",
       "    }\n",
       "\n",
       "    .dataframe tbody tr th {\n",
       "        vertical-align: top;\n",
       "    }\n",
       "\n",
       "    .dataframe thead th {\n",
       "        text-align: right;\n",
       "    }\n",
       "</style>\n",
       "<table border=\"1\" class=\"dataframe\">\n",
       "  <thead>\n",
       "    <tr style=\"text-align: right;\">\n",
       "      <th></th>\n",
       "      <th>symbol</th>\n",
       "      <th>entrez</th>\n",
       "    </tr>\n",
       "  </thead>\n",
       "  <tbody>\n",
       "    <tr>\n",
       "      <th>0</th>\n",
       "      <td>a</td>\n",
       "      <td>50518</td>\n",
       "    </tr>\n",
       "    <tr>\n",
       "      <th>1</th>\n",
       "      <td>Pzp</td>\n",
       "      <td>11287</td>\n",
       "    </tr>\n",
       "    <tr>\n",
       "      <th>2</th>\n",
       "      <td>Abl1</td>\n",
       "      <td>11350</td>\n",
       "    </tr>\n",
       "    <tr>\n",
       "      <th>3</th>\n",
       "      <td>Abl2</td>\n",
       "      <td>11352</td>\n",
       "    </tr>\n",
       "    <tr>\n",
       "      <th>4</th>\n",
       "      <td>Scgb1b27</td>\n",
       "      <td>11354</td>\n",
       "    </tr>\n",
       "  </tbody>\n",
       "</table>\n",
       "</div>"
      ],
      "text/plain": [
       "     symbol entrez\n",
       "0         a  50518\n",
       "1       Pzp  11287\n",
       "2      Abl1  11350\n",
       "3      Abl2  11352\n",
       "4  Scgb1b27  11354"
      ]
     },
     "execution_count": 8,
     "metadata": {},
     "output_type": "execute_result"
    }
   ],
   "source": [
    "#Select the 3rd and 6th and do some transformtion to the dataset\n",
    "symbol_to_entrez = rescue_file[['3. marker symbol','6. Entrez gene id']]\n",
    "symbol_to_entrez = symbol_to_entrez.dropna()\n",
    "symbol_to_entrez.columns = ['symbol', 'entrez']\n",
    "\n",
    "symbol_to_entrez['entrez']  = symbol_to_entrez['entrez'].apply(int).apply(str)\n",
    "symbol_to_entrez.head()"
   ]
  },
  {
   "cell_type": "markdown",
   "metadata": {},
   "source": [
    "## Task 2: Gene Set Enrichment"
   ]
  },
  {
   "cell_type": "markdown",
   "metadata": {},
   "source": [
    "### Subtask 2.1: Read in the csv file you produced during the Differential Expression module, extract a gene list (as a python list of gene symbols) from your favorite multiple correction column (and store it in a variable)"
   ]
  },
  {
   "cell_type": "code",
   "execution_count": 9,
   "metadata": {},
   "outputs": [],
   "source": [
    "#Read in different expression values file from yesterday\n",
    "pvalues = pd.read_csv('files/DEanalysis.csv', sep=\"\\t\")"
   ]
  },
  {
   "cell_type": "code",
   "execution_count": 10,
   "metadata": {},
   "outputs": [
    {
     "data": {
      "text/html": [
       "<div>\n",
       "<style scoped>\n",
       "    .dataframe tbody tr th:only-of-type {\n",
       "        vertical-align: middle;\n",
       "    }\n",
       "\n",
       "    .dataframe tbody tr th {\n",
       "        vertical-align: top;\n",
       "    }\n",
       "\n",
       "    .dataframe thead th {\n",
       "        text-align: right;\n",
       "    }\n",
       "</style>\n",
       "<table border=\"1\" class=\"dataframe\">\n",
       "  <thead>\n",
       "    <tr style=\"text-align: right;\">\n",
       "      <th></th>\n",
       "      <th>Gene.1</th>\n",
       "      <th>is_interesting</th>\n",
       "      <th>fc</th>\n",
       "    </tr>\n",
       "  </thead>\n",
       "  <tbody>\n",
       "    <tr>\n",
       "      <th>0</th>\n",
       "      <td>544988</td>\n",
       "      <td>False</td>\n",
       "      <td>-0.043042</td>\n",
       "    </tr>\n",
       "    <tr>\n",
       "      <th>1</th>\n",
       "      <td>100043387</td>\n",
       "      <td>False</td>\n",
       "      <td>-0.083700</td>\n",
       "    </tr>\n",
       "    <tr>\n",
       "      <th>2</th>\n",
       "      <td>0610007C21Rik</td>\n",
       "      <td>False</td>\n",
       "      <td>-0.012175</td>\n",
       "    </tr>\n",
       "    <tr>\n",
       "      <th>3</th>\n",
       "      <td>0610007L01Rik</td>\n",
       "      <td>False</td>\n",
       "      <td>0.008500</td>\n",
       "    </tr>\n",
       "    <tr>\n",
       "      <th>4</th>\n",
       "      <td>0610007P08Rik</td>\n",
       "      <td>False</td>\n",
       "      <td>-0.063438</td>\n",
       "    </tr>\n",
       "  </tbody>\n",
       "</table>\n",
       "</div>"
      ],
      "text/plain": [
       "          Gene.1  is_interesting        fc\n",
       "0         544988           False -0.043042\n",
       "1      100043387           False -0.083700\n",
       "2  0610007C21Rik           False -0.012175\n",
       "3  0610007L01Rik           False  0.008500\n",
       "4  0610007P08Rik           False -0.063438"
      ]
     },
     "execution_count": 10,
     "metadata": {},
     "output_type": "execute_result"
    }
   ],
   "source": [
    "gene_list = pvalues[['Gene.1','is_interesting', 'fc']]\n",
    "\n",
    "gene_list.head()"
   ]
  },
  {
   "cell_type": "markdown",
   "metadata": {},
   "source": [
    "### Subtask 2.2: Perform gene set enrichment (Fisher's exact test or an hypergeometric test will do for our purposes) with the KEGG gene sets you extracted in Task 1 (you may want to store the results in a pandas dataframe and write them to csv)"
   ]
  },
  {
   "cell_type": "markdown",
   "metadata": {},
   "source": [
    "hint:\n",
    "\n",
    "https://genetrail2.bioinf.uni-sb.de/help?topic=set_level_statistics"
   ]
  },
  {
   "cell_type": "code",
   "execution_count": 11,
   "metadata": {},
   "outputs": [
    {
     "data": {
      "text/html": [
       "<div>\n",
       "<style scoped>\n",
       "    .dataframe tbody tr th:only-of-type {\n",
       "        vertical-align: middle;\n",
       "    }\n",
       "\n",
       "    .dataframe tbody tr th {\n",
       "        vertical-align: top;\n",
       "    }\n",
       "\n",
       "    .dataframe thead th {\n",
       "        text-align: right;\n",
       "    }\n",
       "</style>\n",
       "<table border=\"1\" class=\"dataframe\">\n",
       "  <thead>\n",
       "    <tr style=\"text-align: right;\">\n",
       "      <th></th>\n",
       "      <th>Gene.1</th>\n",
       "      <th>is_interesting</th>\n",
       "      <th>fc</th>\n",
       "      <th>symbol</th>\n",
       "      <th>entrez</th>\n",
       "    </tr>\n",
       "  </thead>\n",
       "  <tbody>\n",
       "    <tr>\n",
       "      <th>0</th>\n",
       "      <td>0610009B22Rik</td>\n",
       "      <td>False</td>\n",
       "      <td>-0.056050</td>\n",
       "      <td>0610009B22Rik</td>\n",
       "      <td>66050</td>\n",
       "    </tr>\n",
       "    <tr>\n",
       "      <th>1</th>\n",
       "      <td>0610009L18Rik</td>\n",
       "      <td>False</td>\n",
       "      <td>-0.034725</td>\n",
       "      <td>0610009L18Rik</td>\n",
       "      <td>66838</td>\n",
       "    </tr>\n",
       "    <tr>\n",
       "      <th>2</th>\n",
       "      <td>0610010F05Rik</td>\n",
       "      <td>False</td>\n",
       "      <td>0.049100</td>\n",
       "      <td>0610010F05Rik</td>\n",
       "      <td>71675</td>\n",
       "    </tr>\n",
       "    <tr>\n",
       "      <th>3</th>\n",
       "      <td>0610010K14Rik</td>\n",
       "      <td>False</td>\n",
       "      <td>-0.191400</td>\n",
       "      <td>0610010K14Rik</td>\n",
       "      <td>104457</td>\n",
       "    </tr>\n",
       "    <tr>\n",
       "      <th>4</th>\n",
       "      <td>0610012G03Rik</td>\n",
       "      <td>False</td>\n",
       "      <td>-0.067550</td>\n",
       "      <td>0610012G03Rik</td>\n",
       "      <td>106264</td>\n",
       "    </tr>\n",
       "  </tbody>\n",
       "</table>\n",
       "</div>"
      ],
      "text/plain": [
       "          Gene.1  is_interesting        fc         symbol  entrez\n",
       "0  0610009B22Rik           False -0.056050  0610009B22Rik   66050\n",
       "1  0610009L18Rik           False -0.034725  0610009L18Rik   66838\n",
       "2  0610010F05Rik           False  0.049100  0610010F05Rik   71675\n",
       "3  0610010K14Rik           False -0.191400  0610010K14Rik  104457\n",
       "4  0610012G03Rik           False -0.067550  0610012G03Rik  106264"
      ]
     },
     "execution_count": 11,
     "metadata": {},
     "output_type": "execute_result"
    }
   ],
   "source": [
    "#Getting a table in the relevant form is a bit of work and done in 2 merging steps\n",
    "\n",
    "#Perform merge 1\n",
    "merge1 = gene_list.merge(symbol_to_entrez, left_on='Gene.1', right_on='symbol')\n",
    "merge1.head()"
   ]
  },
  {
   "cell_type": "code",
   "execution_count": 12,
   "metadata": {},
   "outputs": [
    {
     "data": {
      "text/html": [
       "<div>\n",
       "<style scoped>\n",
       "    .dataframe tbody tr th:only-of-type {\n",
       "        vertical-align: middle;\n",
       "    }\n",
       "\n",
       "    .dataframe tbody tr th {\n",
       "        vertical-align: top;\n",
       "    }\n",
       "\n",
       "    .dataframe thead th {\n",
       "        text-align: right;\n",
       "    }\n",
       "</style>\n",
       "<table border=\"1\" class=\"dataframe\">\n",
       "  <thead>\n",
       "    <tr style=\"text-align: right;\">\n",
       "      <th></th>\n",
       "      <th>Gene.1</th>\n",
       "      <th>is_interesting</th>\n",
       "      <th>fc</th>\n",
       "      <th>symbol</th>\n",
       "      <th>entrez</th>\n",
       "      <th>path</th>\n",
       "    </tr>\n",
       "  </thead>\n",
       "  <tbody>\n",
       "    <tr>\n",
       "      <th>0</th>\n",
       "      <td>1300017J02Rik</td>\n",
       "      <td>False</td>\n",
       "      <td>0.10045</td>\n",
       "      <td>1300017J02Rik</td>\n",
       "      <td>71775</td>\n",
       "      <td>path:mmu04066</td>\n",
       "    </tr>\n",
       "    <tr>\n",
       "      <th>1</th>\n",
       "      <td>1300017J02Rik</td>\n",
       "      <td>False</td>\n",
       "      <td>0.10045</td>\n",
       "      <td>1300017J02Rik</td>\n",
       "      <td>71775</td>\n",
       "      <td>path:mmu04216</td>\n",
       "    </tr>\n",
       "    <tr>\n",
       "      <th>2</th>\n",
       "      <td>1300017J02Rik</td>\n",
       "      <td>False</td>\n",
       "      <td>0.10045</td>\n",
       "      <td>1300017J02Rik</td>\n",
       "      <td>71775</td>\n",
       "      <td>path:mmu04978</td>\n",
       "    </tr>\n",
       "    <tr>\n",
       "      <th>3</th>\n",
       "      <td>1700009N14Rik</td>\n",
       "      <td>False</td>\n",
       "      <td>0.01510</td>\n",
       "      <td>1700009N14Rik</td>\n",
       "      <td>75471</td>\n",
       "      <td>path:mmu03008</td>\n",
       "    </tr>\n",
       "    <tr>\n",
       "      <th>4</th>\n",
       "      <td>1700009N14Rik</td>\n",
       "      <td>False</td>\n",
       "      <td>0.01510</td>\n",
       "      <td>1700009N14Rik</td>\n",
       "      <td>75471</td>\n",
       "      <td>path:mmu03013</td>\n",
       "    </tr>\n",
       "  </tbody>\n",
       "</table>\n",
       "</div>"
      ],
      "text/plain": [
       "          Gene.1  is_interesting       fc         symbol entrez           path\n",
       "0  1300017J02Rik           False  0.10045  1300017J02Rik  71775  path:mmu04066\n",
       "1  1300017J02Rik           False  0.10045  1300017J02Rik  71775  path:mmu04216\n",
       "2  1300017J02Rik           False  0.10045  1300017J02Rik  71775  path:mmu04978\n",
       "3  1700009N14Rik           False  0.01510  1700009N14Rik  75471  path:mmu03008\n",
       "4  1700009N14Rik           False  0.01510  1700009N14Rik  75471  path:mmu03013"
      ]
     },
     "execution_count": 12,
     "metadata": {},
     "output_type": "execute_result"
    }
   ],
   "source": [
    "#Perform merge 2\n",
    "merge_all = merge1.merge(pw_entrez, on='entrez')\n",
    "merge_all.head()"
   ]
  },
  {
   "cell_type": "code",
   "execution_count": 13,
   "metadata": {
    "scrolled": true
   },
   "outputs": [
    {
     "data": {
      "text/html": [
       "<div>\n",
       "<style scoped>\n",
       "    .dataframe tbody tr th:only-of-type {\n",
       "        vertical-align: middle;\n",
       "    }\n",
       "\n",
       "    .dataframe tbody tr th {\n",
       "        vertical-align: top;\n",
       "    }\n",
       "\n",
       "    .dataframe thead th {\n",
       "        text-align: right;\n",
       "    }\n",
       "</style>\n",
       "<table border=\"1\" class=\"dataframe\">\n",
       "  <thead>\n",
       "    <tr style=\"text-align: right;\">\n",
       "      <th></th>\n",
       "      <th>Gene.1</th>\n",
       "      <th>fc</th>\n",
       "      <th>symbol</th>\n",
       "      <th>entrez</th>\n",
       "      <th>path</th>\n",
       "    </tr>\n",
       "    <tr>\n",
       "      <th>is_interesting</th>\n",
       "      <th></th>\n",
       "      <th></th>\n",
       "      <th></th>\n",
       "      <th></th>\n",
       "      <th></th>\n",
       "    </tr>\n",
       "  </thead>\n",
       "  <tbody>\n",
       "    <tr>\n",
       "      <th>False</th>\n",
       "      <td>6763</td>\n",
       "      <td>6763</td>\n",
       "      <td>6763</td>\n",
       "      <td>6763</td>\n",
       "      <td>6763</td>\n",
       "    </tr>\n",
       "    <tr>\n",
       "      <th>True</th>\n",
       "      <td>589</td>\n",
       "      <td>589</td>\n",
       "      <td>589</td>\n",
       "      <td>589</td>\n",
       "      <td>589</td>\n",
       "    </tr>\n",
       "  </tbody>\n",
       "</table>\n",
       "</div>"
      ],
      "text/plain": [
       "                Gene.1    fc  symbol  entrez  path\n",
       "is_interesting                                    \n",
       "False             6763  6763    6763    6763  6763\n",
       "True               589   589     589     589   589"
      ]
     },
     "execution_count": 13,
     "metadata": {},
     "output_type": "execute_result"
    }
   ],
   "source": [
    "merge_all_gen = merge_all.drop_duplicates('Gene.1')\n",
    "\n",
    "#Numer of interesting genes \n",
    "merge_all_gen.groupby('is_interesting').count()"
   ]
  },
  {
   "cell_type": "code",
   "execution_count": 14,
   "metadata": {},
   "outputs": [
    {
     "data": {
      "text/html": [
       "<div>\n",
       "<style scoped>\n",
       "    .dataframe tbody tr th:only-of-type {\n",
       "        vertical-align: middle;\n",
       "    }\n",
       "\n",
       "    .dataframe tbody tr th {\n",
       "        vertical-align: top;\n",
       "    }\n",
       "\n",
       "    .dataframe thead th {\n",
       "        text-align: right;\n",
       "    }\n",
       "</style>\n",
       "<table border=\"1\" class=\"dataframe\">\n",
       "  <thead>\n",
       "    <tr style=\"text-align: right;\">\n",
       "      <th></th>\n",
       "      <th>in_int</th>\n",
       "    </tr>\n",
       "    <tr>\n",
       "      <th>path</th>\n",
       "      <th></th>\n",
       "    </tr>\n",
       "  </thead>\n",
       "  <tbody>\n",
       "    <tr>\n",
       "      <th>path:mmu00010</th>\n",
       "      <td>8.0</td>\n",
       "    </tr>\n",
       "    <tr>\n",
       "      <th>path:mmu00020</th>\n",
       "      <td>1.0</td>\n",
       "    </tr>\n",
       "    <tr>\n",
       "      <th>path:mmu00030</th>\n",
       "      <td>0.0</td>\n",
       "    </tr>\n",
       "    <tr>\n",
       "      <th>path:mmu00040</th>\n",
       "      <td>5.0</td>\n",
       "    </tr>\n",
       "    <tr>\n",
       "      <th>path:mmu00051</th>\n",
       "      <td>2.0</td>\n",
       "    </tr>\n",
       "  </tbody>\n",
       "</table>\n",
       "</div>"
      ],
      "text/plain": [
       "               in_int\n",
       "path                 \n",
       "path:mmu00010     8.0\n",
       "path:mmu00020     1.0\n",
       "path:mmu00030     0.0\n",
       "path:mmu00040     5.0\n",
       "path:mmu00051     2.0"
      ]
     },
     "execution_count": 14,
     "metadata": {},
     "output_type": "execute_result"
    }
   ],
   "source": [
    "#Start building the contingency table for the fishers exact test\n",
    "\n",
    "#In the pathway AND interesting genes\n",
    "pathwayTrueinterestingTrue = merge_all.groupby('path').is_interesting.sum()\n",
    "pathwayTrueinterestingTrue.name = \"in_int\"\n",
    "\n",
    "df_cont = pd.DataFrame(pathwayTrueinterestingTrue)\n",
    "df_cont.head()"
   ]
  },
  {
   "cell_type": "code",
   "execution_count": 15,
   "metadata": {},
   "outputs": [
    {
     "data": {
      "text/html": [
       "<div>\n",
       "<style scoped>\n",
       "    .dataframe tbody tr th:only-of-type {\n",
       "        vertical-align: middle;\n",
       "    }\n",
       "\n",
       "    .dataframe tbody tr th {\n",
       "        vertical-align: top;\n",
       "    }\n",
       "\n",
       "    .dataframe thead th {\n",
       "        text-align: right;\n",
       "    }\n",
       "</style>\n",
       "<table border=\"1\" class=\"dataframe\">\n",
       "  <thead>\n",
       "    <tr style=\"text-align: right;\">\n",
       "      <th></th>\n",
       "      <th>in_int</th>\n",
       "      <th>in_non</th>\n",
       "    </tr>\n",
       "    <tr>\n",
       "      <th>path</th>\n",
       "      <th></th>\n",
       "      <th></th>\n",
       "    </tr>\n",
       "  </thead>\n",
       "  <tbody>\n",
       "    <tr>\n",
       "      <th>path:mmu00010</th>\n",
       "      <td>8.0</td>\n",
       "      <td>53.0</td>\n",
       "    </tr>\n",
       "    <tr>\n",
       "      <th>path:mmu00020</th>\n",
       "      <td>1.0</td>\n",
       "      <td>30.0</td>\n",
       "    </tr>\n",
       "    <tr>\n",
       "      <th>path:mmu00030</th>\n",
       "      <td>0.0</td>\n",
       "      <td>30.0</td>\n",
       "    </tr>\n",
       "    <tr>\n",
       "      <th>path:mmu00040</th>\n",
       "      <td>5.0</td>\n",
       "      <td>19.0</td>\n",
       "    </tr>\n",
       "    <tr>\n",
       "      <th>path:mmu00051</th>\n",
       "      <td>2.0</td>\n",
       "      <td>31.0</td>\n",
       "    </tr>\n",
       "  </tbody>\n",
       "</table>\n",
       "</div>"
      ],
      "text/plain": [
       "               in_int  in_non\n",
       "path                         \n",
       "path:mmu00010     8.0    53.0\n",
       "path:mmu00020     1.0    30.0\n",
       "path:mmu00030     0.0    30.0\n",
       "path:mmu00040     5.0    19.0\n",
       "path:mmu00051     2.0    31.0"
      ]
     },
     "execution_count": 15,
     "metadata": {},
     "output_type": "execute_result"
    }
   ],
   "source": [
    "#In the pathway but not interesting = In the pathway - in the pathway AND interesting\n",
    "firstRow = merge_all.groupby('path').size()\n",
    "df_cont[\"in_non\"] = firstRow - df_cont['in_int']\n",
    "df_cont.head()"
   ]
  },
  {
   "cell_type": "code",
   "execution_count": 16,
   "metadata": {},
   "outputs": [
    {
     "data": {
      "text/html": [
       "<div>\n",
       "<style scoped>\n",
       "    .dataframe tbody tr th:only-of-type {\n",
       "        vertical-align: middle;\n",
       "    }\n",
       "\n",
       "    .dataframe tbody tr th {\n",
       "        vertical-align: top;\n",
       "    }\n",
       "\n",
       "    .dataframe thead th {\n",
       "        text-align: right;\n",
       "    }\n",
       "</style>\n",
       "<table border=\"1\" class=\"dataframe\">\n",
       "  <thead>\n",
       "    <tr style=\"text-align: right;\">\n",
       "      <th></th>\n",
       "      <th>in_int</th>\n",
       "      <th>in_non</th>\n",
       "      <th>out_int</th>\n",
       "    </tr>\n",
       "    <tr>\n",
       "      <th>path</th>\n",
       "      <th></th>\n",
       "      <th></th>\n",
       "      <th></th>\n",
       "    </tr>\n",
       "  </thead>\n",
       "  <tbody>\n",
       "    <tr>\n",
       "      <th>path:mmu00010</th>\n",
       "      <td>8.0</td>\n",
       "      <td>53.0</td>\n",
       "      <td>581.0</td>\n",
       "    </tr>\n",
       "    <tr>\n",
       "      <th>path:mmu00020</th>\n",
       "      <td>1.0</td>\n",
       "      <td>30.0</td>\n",
       "      <td>588.0</td>\n",
       "    </tr>\n",
       "    <tr>\n",
       "      <th>path:mmu00030</th>\n",
       "      <td>0.0</td>\n",
       "      <td>30.0</td>\n",
       "      <td>589.0</td>\n",
       "    </tr>\n",
       "    <tr>\n",
       "      <th>path:mmu00040</th>\n",
       "      <td>5.0</td>\n",
       "      <td>19.0</td>\n",
       "      <td>584.0</td>\n",
       "    </tr>\n",
       "    <tr>\n",
       "      <th>path:mmu00051</th>\n",
       "      <td>2.0</td>\n",
       "      <td>31.0</td>\n",
       "      <td>587.0</td>\n",
       "    </tr>\n",
       "  </tbody>\n",
       "</table>\n",
       "</div>"
      ],
      "text/plain": [
       "               in_int  in_non  out_int\n",
       "path                                  \n",
       "path:mmu00010     8.0    53.0    581.0\n",
       "path:mmu00020     1.0    30.0    588.0\n",
       "path:mmu00030     0.0    30.0    589.0\n",
       "path:mmu00040     5.0    19.0    584.0\n",
       "path:mmu00051     2.0    31.0    587.0"
      ]
     },
     "execution_count": 16,
     "metadata": {},
     "output_type": "execute_result"
    }
   ],
   "source": [
    "#Not in the pathway but also interesting = All interesting genes - the interesting genes that in the pathway\n",
    "firstCol = merge_all.drop_duplicates('symbol').is_interesting.sum()\n",
    "df_cont['out_int'] = firstCol-df_cont['in_int']\n",
    "df_cont.head()"
   ]
  },
  {
   "cell_type": "code",
   "execution_count": 17,
   "metadata": {},
   "outputs": [
    {
     "data": {
      "text/html": [
       "<div>\n",
       "<style scoped>\n",
       "    .dataframe tbody tr th:only-of-type {\n",
       "        vertical-align: middle;\n",
       "    }\n",
       "\n",
       "    .dataframe tbody tr th {\n",
       "        vertical-align: top;\n",
       "    }\n",
       "\n",
       "    .dataframe thead th {\n",
       "        text-align: right;\n",
       "    }\n",
       "</style>\n",
       "<table border=\"1\" class=\"dataframe\">\n",
       "  <thead>\n",
       "    <tr style=\"text-align: right;\">\n",
       "      <th></th>\n",
       "      <th>in_int</th>\n",
       "      <th>in_non</th>\n",
       "      <th>out_int</th>\n",
       "      <th>out_non</th>\n",
       "    </tr>\n",
       "    <tr>\n",
       "      <th>path</th>\n",
       "      <th></th>\n",
       "      <th></th>\n",
       "      <th></th>\n",
       "      <th></th>\n",
       "    </tr>\n",
       "  </thead>\n",
       "  <tbody>\n",
       "    <tr>\n",
       "      <th>path:mmu00010</th>\n",
       "      <td>8.0</td>\n",
       "      <td>53.0</td>\n",
       "      <td>581.0</td>\n",
       "      <td>6710.0</td>\n",
       "    </tr>\n",
       "    <tr>\n",
       "      <th>path:mmu00020</th>\n",
       "      <td>1.0</td>\n",
       "      <td>30.0</td>\n",
       "      <td>588.0</td>\n",
       "      <td>6733.0</td>\n",
       "    </tr>\n",
       "    <tr>\n",
       "      <th>path:mmu00030</th>\n",
       "      <td>0.0</td>\n",
       "      <td>30.0</td>\n",
       "      <td>589.0</td>\n",
       "      <td>6733.0</td>\n",
       "    </tr>\n",
       "    <tr>\n",
       "      <th>path:mmu00040</th>\n",
       "      <td>5.0</td>\n",
       "      <td>19.0</td>\n",
       "      <td>584.0</td>\n",
       "      <td>6744.0</td>\n",
       "    </tr>\n",
       "    <tr>\n",
       "      <th>path:mmu00051</th>\n",
       "      <td>2.0</td>\n",
       "      <td>31.0</td>\n",
       "      <td>587.0</td>\n",
       "      <td>6732.0</td>\n",
       "    </tr>\n",
       "  </tbody>\n",
       "</table>\n",
       "</div>"
      ],
      "text/plain": [
       "               in_int  in_non  out_int  out_non\n",
       "path                                           \n",
       "path:mmu00010     8.0    53.0    581.0   6710.0\n",
       "path:mmu00020     1.0    30.0    588.0   6733.0\n",
       "path:mmu00030     0.0    30.0    589.0   6733.0\n",
       "path:mmu00040     5.0    19.0    584.0   6744.0\n",
       "path:mmu00051     2.0    31.0    587.0   6732.0"
      ]
     },
     "execution_count": 17,
     "metadata": {},
     "output_type": "execute_result"
    }
   ],
   "source": [
    "#Add the last column to the dataframe: Not in the pathway and not interesting\n",
    "total = merge_all.drop_duplicates('symbol').shape[0]\n",
    "df_cont['out_non'] = total -df_cont.sum(axis=1)\n",
    "df_cont.head()"
   ]
  },
  {
   "cell_type": "code",
   "execution_count": 18,
   "metadata": {},
   "outputs": [],
   "source": [
    "#Do the fishers test\n",
    "fishers_pvalues = df_cont.apply(lambda x: fisher_exact([[x.in_int, x.in_non], [x.out_int, x.out_non]])[1], axis=1)"
   ]
  },
  {
   "cell_type": "markdown",
   "metadata": {},
   "source": [
    "### Subtask 2.3: Extract a list of significantly (at 0.05 significance) enriched KEGG pathways"
   ]
  },
  {
   "cell_type": "code",
   "execution_count": 19,
   "metadata": {},
   "outputs": [
    {
     "name": "stdout",
     "output_type": "stream",
     "text": [
      "Number of significant enriched pathways: 48\n"
     ]
    },
    {
     "data": {
      "text/plain": [
       "path\n",
       "path:mmu00040    3.851462e-02\n",
       "path:mmu00053    4.384410e-04\n",
       "path:mmu00140    3.554827e-08\n",
       "path:mmu00380    1.255294e-02\n",
       "path:mmu00512    3.256322e-02\n",
       "path:mmu00590    7.296881e-03\n",
       "path:mmu00591    3.458501e-03\n",
       "path:mmu00650    1.782872e-02\n",
       "path:mmu00830    1.312111e-06\n",
       "path:mmu00970    4.645079e-02\n",
       "path:mmu00980    3.923741e-02\n",
       "path:mmu00982    1.241812e-02\n",
       "path:mmu01230    4.342856e-02\n",
       "path:mmu01521    2.548882e-03\n",
       "path:mmu01522    9.738209e-03\n",
       "path:mmu03008    4.342856e-02\n",
       "path:mmu03010    1.259797e-02\n",
       "path:mmu03013    6.807587e-04\n",
       "path:mmu03040    2.081606e-03\n",
       "path:mmu03320    2.949451e-03\n",
       "path:mmu04014    2.400040e-02\n",
       "path:mmu04060    2.005094e-02\n",
       "path:mmu04080    1.872587e-02\n",
       "path:mmu04120    2.750977e-03\n",
       "path:mmu04140    5.766043e-03\n",
       "path:mmu04141    2.366270e-02\n",
       "path:mmu04330    3.095768e-02\n",
       "path:mmu04514    4.441680e-02\n",
       "path:mmu04612    1.717841e-02\n",
       "path:mmu04714    1.610105e-02\n",
       "path:mmu04725    1.157325e-02\n",
       "path:mmu04740    3.926513e-08\n",
       "path:mmu04914    4.556483e-02\n",
       "path:mmu04926    6.740519e-04\n",
       "path:mmu04940    4.259451e-03\n",
       "path:mmu04962    4.645079e-02\n",
       "path:mmu05012    2.528706e-02\n",
       "path:mmu05016    5.015262e-03\n",
       "path:mmu05032    4.556483e-02\n",
       "path:mmu05144    1.916774e-02\n",
       "path:mmu05150    1.448052e-02\n",
       "path:mmu05202    8.993470e-03\n",
       "path:mmu05204    2.538368e-06\n",
       "path:mmu05231    7.512569e-04\n",
       "path:mmu05310    6.324935e-03\n",
       "path:mmu05322    1.459070e-02\n",
       "path:mmu05330    4.748505e-03\n",
       "path:mmu05332    1.656863e-03\n",
       "dtype: float64"
      ]
     },
     "execution_count": 19,
     "metadata": {},
     "output_type": "execute_result"
    }
   ],
   "source": [
    "#Significance threshold = 0.05\n",
    "signi = fishers_pvalues[fishers_pvalues < 0.05]\n",
    "print('Number of significant enriched pathways: '+ str(len(signi)))\n",
    "signi"
   ]
  },
  {
   "cell_type": "markdown",
   "metadata": {},
   "source": [
    "## Task 3: KEGG map visualization"
   ]
  },
  {
   "cell_type": "markdown",
   "metadata": {},
   "source": [
    "#### hint:\n",
    "\n",
    "http://nbviewer.jupyter.org/github/widdowquinn/notebooks/blob/master/Biopython_KGML_intro.ipynb\n",
    "\n",
    "#### remark:\n",
    "\n",
    "In real life you may want to use the R-based tool pathview: https://bioconductor.org/packages/release/bioc/html/pathview.html (if you insist you can also try to use r2py for using pathview from Python during the practical)\n",
    "\n",
    "For Python (in addition to the Biopyhton module) https://github.com/idekerlab/py2cytoscape in combination with https://github.com/idekerlab/KEGGscape may be another alternative (in the future)\n",
    "\n",
    "Generally speaking, it is always a good idea to pay attention also to other pathway databases like Reactome or WikiPathways ..."
   ]
  },
  {
   "cell_type": "markdown",
   "metadata": {},
   "source": [
    "### Subtask 3.1: Pick some significantly enriched KEGG pathways of your choice from 2.3 and visualize them"
   ]
  },
  {
   "cell_type": "code",
   "execution_count": 20,
   "metadata": {},
   "outputs": [
    {
     "data": {
      "image/png": "[encoded data removed]",
      "text/plain": [
       "<IPython.core.display.Image object>"
      ]
     },
     "execution_count": 20,
     "metadata": {},
     "output_type": "execute_result"
    }
   ],
   "source": [
    "#Straight forward: Chose the first pathway in the list\n",
    "Image(kegg_get(\"path:mmu00040\", \"image\").read())"
   ]
  },
  {
   "cell_type": "markdown",
   "metadata": {},
   "source": [
    "### Subtask 3.2: Define a a suitable binary color scheme respresenting the fact whether a gene is significantly expressed or not"
   ]
  },
  {
   "cell_type": "markdown",
   "metadata": {},
   "source": [
    "hint: \n",
    "\n",
    "http://www.rapidtables.com/web/color/RGB_Color.htm"
   ]
  },
  {
   "cell_type": "code",
   "execution_count": 21,
   "metadata": {},
   "outputs": [
    {
     "name": "stderr",
     "output_type": "stream",
     "text": [
      "/anaconda3/lib/python3.6/site-packages/ipykernel_launcher.py:23: DeprecationWarning: The truth value of an empty array is ambiguous. Returning False, but in future this will result in an error. Use `array.size > 0` to check that an array is not empty.\n"
     ]
    }
   ],
   "source": [
    "#Not in pathway: White\n",
    "#Expressed in pw but not significant: Light Green\n",
    "#Significant with possitive logchange: Blue\n",
    "#Significant with negative logchange: Red\n",
    "\n",
    "pathway = KGML_parser.read(kegg_get('mmu00040', \"kgml\"))\n",
    "\n",
    "to_color_blue = []\n",
    "to_color_red = []\n",
    "to_color_green = []\n",
    "counter = 0\n",
    "\n",
    "# This determines which genes are significant or if there is even a gene available\n",
    "for gene in pathway.genes[0:14]:\n",
    "    gene_list = gene.name.split(' ')\n",
    "    \n",
    "    for g in gene_list:\n",
    "        counter += 1\n",
    "        genes = merge_all[merge_all['entrez'].str.contains(g[4:])] #Cut the string\n",
    "        correct_path = genes[genes['path'].str.contains('mmu00040')]\n",
    "        \n",
    "        # if in path and also significant:\n",
    "        if correct_path['is_interesting'].values:\n",
    "            \n",
    "            # + negative logchange:\n",
    "            if(correct_path['fc'].values < 0):\n",
    "                to_color_red.append(g)\n",
    "            # + possitive logchange:\n",
    "            else:\n",
    "                to_color_blue.append(g)\n",
    "            \n",
    "        # if in path but not significant append to green list    \n",
    "        else: \n",
    "            to_color_green.append(g)\n",
    "            \n",
    "        #if not in path and also not significant dont' touch it so it stays white\n",
    "            \n",
    "    # color the genes according to lists\n",
    "    for graphic in gene.graphics:\n",
    "        for g in gene_list:\n",
    "            if g in to_color_green:\n",
    "                graphic.bgcolor = \"#99FF33\"\n",
    "            elif g in to_color_red:\n",
    "                graphic.bgcolor = \"#FF0000\"   \n",
    "            elif g in to_color_blue:\n",
    "                graphic.bgcolor = \"#0080FF\"   "
   ]
  },
  {
   "cell_type": "markdown",
   "metadata": {},
   "source": [
    "### Subtask 3.3: Visualize the pathway(s) from 3.1 in such a way that the included genes have the corresponding color from 3.2 ( you may need to define a suitable mapping from single genes to what is actually shown in the pathway map...)"
   ]
  },
  {
   "cell_type": "code",
   "execution_count": 22,
   "metadata": {},
   "outputs": [],
   "source": [
    "# create pdf\n",
    "canvas = KGMLCanvas(pathway)\n",
    "canvas.draw(\"files/pathway.pdf\")\n",
    "\n",
    "canvas.import_imagemap = True\n",
    "canvas.draw(\"files/pathway.pdf\")"
   ]
  }
 ],
 "metadata": {
  "anaconda-cloud": {},
  "kernelspec": {
   "display_name": "Python 3",
   "language": "python",
   "name": "python3"
  },
  "language_info": {
   "codemirror_mode": {
    "name": "ipython",
    "version": 3
   },
   "file_extension": ".py",
   "mimetype": "text/x-python",
   "name": "python",
   "nbconvert_exporter": "python",
   "pygments_lexer": "ipython3",
   "version": "3.6.5"
  }
 },
 "nbformat": 4,
 "nbformat_minor": 1
}
