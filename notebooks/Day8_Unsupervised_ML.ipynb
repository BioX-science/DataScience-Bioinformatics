{
 "cells": [
  {
   "cell_type": "markdown",
   "metadata": {},
   "source": [
    "# Unsupervised machine learning techniques\n",
    "\n",
    "Today we will continue working with the gene expression data of our mice, and try to find patterns in them with the help of unsupervised machine learning algorithms. Unsupervised methods are useful when we have so-called unlabeled data: samples with no group membership information, only their raw values.\n",
    "\n",
    "Now our expression data isn't unlabeled: we know for every sample 1) what diet it had, 2) what strain it was. But we will not give that information to the upcoming ML methods. We will instead ask these methods to score / separate / cluster the samples based on their raw values only, and then we will verify whether they managed to do it in a way which is consistent with the labels that we had hidden from the algorithms.\n",
    "\n",
    "The unsupervised techniques we will use today are principal component analysis (PCA), hierarchical clustering and K-means clustering, provided by the wonderful, feature-rich and easy-to-use `scikit-learn` package. Their website is worth taking a look for anyone interested in machine learning: it is not just a documentation, but also a great guide for a lot of techniques."
   ]
  },
  {
   "cell_type": "code",
   "execution_count": 1,
   "metadata": {},
   "outputs": [],
   "source": [
    "# imports\n",
    "import pandas as pd\n",
    "import numpy as np\n",
    "import seaborn as sns\n",
    "import matplotlib.pyplot as plt\n",
    "from collections import Counter\n",
    "from sklearn.decomposition import PCA"
   ]
  },
  {
   "cell_type": "markdown",
   "metadata": {},
   "source": [
    "## Load the expression data\n",
    "\n",
    "We will need the original raw expression data, and your differential expression analysis csv. Adapt the below steps to make sure we are on the same page."
   ]
  },
  {
   "cell_type": "code",
   "execution_count": 2,
   "metadata": {},
   "outputs": [],
   "source": [
    "xls = pd.read_excel('files/S5.xlsx', header=2)"
   ]
  },
  {
   "cell_type": "code",
   "execution_count": 3,
   "metadata": {},
   "outputs": [],
   "source": [
    "expr = xls.groupby('Gene.1').mean()  # or 'Gene' if you had used that for your DE calculations\n",
    "expr = expr.loc[:, expr.columns.str.contains('Liver')]\n",
    "is_hfd = pd.Series(expr.columns.str.contains('HFD'), index=expr.columns)  # diet labels for verification"
   ]
  },
  {
   "cell_type": "markdown",
   "metadata": {},
   "source": [
    "Since `scikit-learn` likes to treat data as one sample per row, we should transpose our expression data matrix, such that rows stand for mice and columns stand for genes. Let's call the transposed form of `expr` as `data`."
   ]
  },
  {
   "cell_type": "code",
   "execution_count": 4,
   "metadata": {},
   "outputs": [
    {
     "data": {
      "text/html": [
       "<div>\n",
       "<style scoped>\n",
       "    .dataframe tbody tr th:only-of-type {\n",
       "        vertical-align: middle;\n",
       "    }\n",
       "\n",
       "    .dataframe tbody tr th {\n",
       "        vertical-align: top;\n",
       "    }\n",
       "\n",
       "    .dataframe thead th {\n",
       "        text-align: right;\n",
       "    }\n",
       "</style>\n",
       "<table border=\"1\" class=\"dataframe\">\n",
       "  <thead>\n",
       "    <tr style=\"text-align: right;\">\n",
       "      <th>Gene.1</th>\n",
       "      <th>544988</th>\n",
       "      <th>100043387</th>\n",
       "      <th>0610007C21Rik</th>\n",
       "      <th>0610007L01Rik</th>\n",
       "      <th>0610007P08Rik</th>\n",
       "      <th>0610007P14Rik</th>\n",
       "      <th>0610007P22Rik</th>\n",
       "      <th>0610008F07Rik</th>\n",
       "      <th>0610009B14Rik</th>\n",
       "      <th>0610009B22Rik</th>\n",
       "      <th>...</th>\n",
       "      <th>Zxdc</th>\n",
       "      <th>Zyg11a</th>\n",
       "      <th>Zyg11b</th>\n",
       "      <th>Zyx</th>\n",
       "      <th>Zzef1</th>\n",
       "      <th>Zzz3</th>\n",
       "      <th>a</th>\n",
       "      <th>l7Rn6</th>\n",
       "      <th>mCG_21548</th>\n",
       "      <th>rp9</th>\n",
       "    </tr>\n",
       "  </thead>\n",
       "  <tbody>\n",
       "    <tr>\n",
       "      <th>C57BL/6J_Liver_CD</th>\n",
       "      <td>6.183000</td>\n",
       "      <td>10.384</td>\n",
       "      <td>12.389</td>\n",
       "      <td>10.2875</td>\n",
       "      <td>8.116</td>\n",
       "      <td>12.281</td>\n",
       "      <td>8.364</td>\n",
       "      <td>9.440</td>\n",
       "      <td>7.033</td>\n",
       "      <td>10.904</td>\n",
       "      <td>...</td>\n",
       "      <td>9.104</td>\n",
       "      <td>8.152</td>\n",
       "      <td>10.427</td>\n",
       "      <td>9.668</td>\n",
       "      <td>9.903</td>\n",
       "      <td>10.175</td>\n",
       "      <td>6.939</td>\n",
       "      <td>9.885</td>\n",
       "      <td>7.335</td>\n",
       "      <td>9.943</td>\n",
       "    </tr>\n",
       "    <tr>\n",
       "      <th>DBA/2J_Liver_CD</th>\n",
       "      <td>6.353333</td>\n",
       "      <td>9.848</td>\n",
       "      <td>12.559</td>\n",
       "      <td>10.3900</td>\n",
       "      <td>8.422</td>\n",
       "      <td>12.305</td>\n",
       "      <td>8.257</td>\n",
       "      <td>8.576</td>\n",
       "      <td>7.126</td>\n",
       "      <td>10.949</td>\n",
       "      <td>...</td>\n",
       "      <td>9.087</td>\n",
       "      <td>7.754</td>\n",
       "      <td>10.162</td>\n",
       "      <td>9.411</td>\n",
       "      <td>9.565</td>\n",
       "      <td>10.361</td>\n",
       "      <td>7.398</td>\n",
       "      <td>9.945</td>\n",
       "      <td>7.801</td>\n",
       "      <td>9.795</td>\n",
       "    </tr>\n",
       "    <tr>\n",
       "      <th>BXD43_Liver_CD</th>\n",
       "      <td>6.262333</td>\n",
       "      <td>10.108</td>\n",
       "      <td>12.647</td>\n",
       "      <td>10.4110</td>\n",
       "      <td>8.235</td>\n",
       "      <td>11.949</td>\n",
       "      <td>8.578</td>\n",
       "      <td>8.264</td>\n",
       "      <td>7.374</td>\n",
       "      <td>11.024</td>\n",
       "      <td>...</td>\n",
       "      <td>9.330</td>\n",
       "      <td>7.616</td>\n",
       "      <td>10.062</td>\n",
       "      <td>9.576</td>\n",
       "      <td>9.650</td>\n",
       "      <td>10.231</td>\n",
       "      <td>7.447</td>\n",
       "      <td>10.123</td>\n",
       "      <td>7.789</td>\n",
       "      <td>9.860</td>\n",
       "    </tr>\n",
       "    <tr>\n",
       "      <th>BXD44_Liver_CD</th>\n",
       "      <td>6.263667</td>\n",
       "      <td>9.860</td>\n",
       "      <td>12.639</td>\n",
       "      <td>10.4195</td>\n",
       "      <td>8.135</td>\n",
       "      <td>11.895</td>\n",
       "      <td>8.539</td>\n",
       "      <td>8.815</td>\n",
       "      <td>7.325</td>\n",
       "      <td>10.665</td>\n",
       "      <td>...</td>\n",
       "      <td>9.058</td>\n",
       "      <td>7.292</td>\n",
       "      <td>10.233</td>\n",
       "      <td>9.685</td>\n",
       "      <td>9.721</td>\n",
       "      <td>10.146</td>\n",
       "      <td>7.552</td>\n",
       "      <td>9.319</td>\n",
       "      <td>7.708</td>\n",
       "      <td>9.715</td>\n",
       "    </tr>\n",
       "    <tr>\n",
       "      <th>BXD45_Liver_CD</th>\n",
       "      <td>6.270000</td>\n",
       "      <td>9.392</td>\n",
       "      <td>12.515</td>\n",
       "      <td>10.3060</td>\n",
       "      <td>8.198</td>\n",
       "      <td>12.160</td>\n",
       "      <td>8.298</td>\n",
       "      <td>9.418</td>\n",
       "      <td>7.526</td>\n",
       "      <td>10.669</td>\n",
       "      <td>...</td>\n",
       "      <td>8.847</td>\n",
       "      <td>7.756</td>\n",
       "      <td>10.173</td>\n",
       "      <td>9.603</td>\n",
       "      <td>9.687</td>\n",
       "      <td>10.261</td>\n",
       "      <td>7.600</td>\n",
       "      <td>9.510</td>\n",
       "      <td>7.703</td>\n",
       "      <td>9.772</td>\n",
       "    </tr>\n",
       "  </tbody>\n",
       "</table>\n",
       "<p>5 rows × 21835 columns</p>\n",
       "</div>"
      ],
      "text/plain": [
       "Gene.1               544988  100043387  0610007C21Rik  0610007L01Rik  \\\n",
       "C57BL/6J_Liver_CD  6.183000     10.384         12.389        10.2875   \n",
       "DBA/2J_Liver_CD    6.353333      9.848         12.559        10.3900   \n",
       "BXD43_Liver_CD     6.262333     10.108         12.647        10.4110   \n",
       "BXD44_Liver_CD     6.263667      9.860         12.639        10.4195   \n",
       "BXD45_Liver_CD     6.270000      9.392         12.515        10.3060   \n",
       "\n",
       "Gene.1             0610007P08Rik  0610007P14Rik  0610007P22Rik  0610008F07Rik  \\\n",
       "C57BL/6J_Liver_CD          8.116         12.281          8.364          9.440   \n",
       "DBA/2J_Liver_CD            8.422         12.305          8.257          8.576   \n",
       "BXD43_Liver_CD             8.235         11.949          8.578          8.264   \n",
       "BXD44_Liver_CD             8.135         11.895          8.539          8.815   \n",
       "BXD45_Liver_CD             8.198         12.160          8.298          9.418   \n",
       "\n",
       "Gene.1             0610009B14Rik  0610009B22Rik  ...     Zxdc  Zyg11a  Zyg11b  \\\n",
       "C57BL/6J_Liver_CD          7.033         10.904  ...    9.104   8.152  10.427   \n",
       "DBA/2J_Liver_CD            7.126         10.949  ...    9.087   7.754  10.162   \n",
       "BXD43_Liver_CD             7.374         11.024  ...    9.330   7.616  10.062   \n",
       "BXD44_Liver_CD             7.325         10.665  ...    9.058   7.292  10.233   \n",
       "BXD45_Liver_CD             7.526         10.669  ...    8.847   7.756  10.173   \n",
       "\n",
       "Gene.1               Zyx  Zzef1    Zzz3      a   l7Rn6  mCG_21548    rp9  \n",
       "C57BL/6J_Liver_CD  9.668  9.903  10.175  6.939   9.885      7.335  9.943  \n",
       "DBA/2J_Liver_CD    9.411  9.565  10.361  7.398   9.945      7.801  9.795  \n",
       "BXD43_Liver_CD     9.576  9.650  10.231  7.447  10.123      7.789  9.860  \n",
       "BXD44_Liver_CD     9.685  9.721  10.146  7.552   9.319      7.708  9.715  \n",
       "BXD45_Liver_CD     9.603  9.687  10.261  7.600   9.510      7.703  9.772  \n",
       "\n",
       "[5 rows x 21835 columns]"
      ]
     },
     "execution_count": 4,
     "metadata": {},
     "output_type": "execute_result"
    }
   ],
   "source": [
    "data = expr.T\n",
    "data.head()"
   ]
  },
  {
   "cell_type": "markdown",
   "metadata": {},
   "source": [
    "## Task 1: principal component analysis\n",
    "PCA takes a set of high-dimensional samples (vectors), and transforms them to a smaller set of variables using an orthogonal transformation. It finds a set of orthogonal vectors (their dimension identical to the dimension of your data points) and projects every sample to each of these orthogonal vectors with a simple dot product. The projections are called principal components, and they have some interesting properties that we will not go into detail just yet.\n",
    "\n",
    "### 1.1 Initialize a PCA object with 4 components and transform your data."
   ]
  },
  {
   "cell_type": "code",
   "execution_count": 5,
   "metadata": {},
   "outputs": [],
   "source": [
    "pca = PCA(n_components=4)\n",
    "pca_df = pca.fit_transform(data)\n"
   ]
  },
  {
   "cell_type": "markdown",
   "metadata": {},
   "source": [
    "### 1.2 Plot the components against each other\n",
    "\n",
    "Plotting the first component against the second is simple enough with matplotlib `scatter`, but you can do better and create a scatter plot for each pair using seaborn's `pairplot`. This requires your data to be a `DataFrame`, but you know how to turn a numpy matrix into a DF."
   ]
  },
  {
   "cell_type": "code",
   "execution_count": 6,
   "metadata": {},
   "outputs": [
    {
     "data": {
      "image/png": "[encoded data removed]",
      "text/plain": [
       "<Figure size 782.125x720 with 20 Axes>"
      ]
     },
     "metadata": {},
     "output_type": "display_data"
    }
   ],
   "source": [
    "#Turn the pca data into a dataframe and add a column for the (diet) label\n",
    "\n",
    "pca_data =  pd.DataFrame(pca_df, index = data.index)\n",
    "pca_data['diet'] = is_hfd\n",
    "\n",
    "\n",
    "\n",
    "pairplot = sns.pairplot(pca_data, vars = [0, 1,  2, 3, ] , hue='diet')"
   ]
  },
  {
   "cell_type": "markdown",
   "metadata": {},
   "source": [
    "### 1.2.1 Add color information based on the diet\n",
    "Are you impressed?"
   ]
  },
  {
   "cell_type": "code",
   "execution_count": 7,
   "metadata": {},
   "outputs": [],
   "source": [
    "#Added already to the plot above"
   ]
  },
  {
   "cell_type": "markdown",
   "metadata": {},
   "source": [
    "The upper pairplot shows the actual impressing power of unsupervised learning. The PCA succesfully identified the most important attribute for the seperation and divided the point clould almost perfectly in the two categories. Like in the nature of PCA, especially for the first component the seperation is particularly clear."
   ]
  },
  {
   "cell_type": "markdown",
   "metadata": {},
   "source": [
    "### 1.2.2 Optional: is it enough to use every 200th gene and still get a nice PCA plot?"
   ]
  },
  {
   "cell_type": "code",
   "execution_count": 8,
   "metadata": {},
   "outputs": [],
   "source": [
    "#Second pca with less data\n",
    "pca_sparse = PCA(n_components=4)\n",
    "pca_sparse_data = pca_sparse.fit_transform(data.iloc[:,::200])\n",
    "pca_sparse_df =  pd.DataFrame(pca_sparse_data, index = data.index)\n",
    "pca_sparse_df['diet'] = is_hfd"
   ]
  },
  {
   "cell_type": "code",
   "execution_count": 9,
   "metadata": {},
   "outputs": [
    {
     "data": {
      "image/png": "[encoded data removed]",
      "text/plain": [
       "<Figure size 782.125x720 with 20 Axes>"
      ]
     },
     "metadata": {},
     "output_type": "display_data"
    }
   ],
   "source": [
    "pairplot = sns.pairplot(pca_sparse_df, vars = [0, 1,  2, 3, ] , hue='diet')"
   ]
  },
  {
   "cell_type": "markdown",
   "metadata": {},
   "source": [
    "As expected the quality gets a lot worse, but keeping in mind that we drastically reduced the dataset the PCA still produces results that are completly random. "
   ]
  },
  {
   "cell_type": "markdown",
   "metadata": {},
   "source": [
    "### 1.3 Find the component vectors that were used for the transformation. Are they orthogonal as promised? How would you verify it?"
   ]
  },
  {
   "cell_type": "code",
   "execution_count": 10,
   "metadata": {},
   "outputs": [
    {
     "data": {
      "text/plain": [
       "array([[ 1.00000000e+00, -9.13440330e-18, -7.20994445e-17,\n",
       "        -2.16433859e-17],\n",
       "       [-9.13440330e-18,  1.00000000e+00,  4.18502039e-17,\n",
       "        -1.16009632e-17],\n",
       "       [-7.20994445e-17,  4.18502039e-17,  1.00000000e+00,\n",
       "        -1.04815245e-16],\n",
       "       [-2.16433859e-17, -1.16009632e-17, -1.04815245e-16,\n",
       "         1.00000000e+00]])"
      ]
     },
     "execution_count": 10,
     "metadata": {},
     "output_type": "execute_result"
    }
   ],
   "source": [
    "#Compute the dot product of each components with each transposed component\n",
    "\n",
    "dot_product = np.dot(pca.components_, pca.components_.T)\n",
    "dot_product"
   ]
  },
  {
   "cell_type": "markdown",
   "metadata": {},
   "source": [
    "We can also check how much of the variance is covered bei each principal component. The first component alone explains the impressive amount of almost 15% of the variance found in the dataset."
   ]
  },
  {
   "cell_type": "code",
   "execution_count": 11,
   "metadata": {},
   "outputs": [
    {
     "data": {
      "text/plain": [
       "array([0.14460189, 0.09516149, 0.06550973, 0.04348441])"
      ]
     },
     "execution_count": 11,
     "metadata": {},
     "output_type": "execute_result"
    }
   ],
   "source": [
    "pca.explained_variance_ratio_"
   ]
  },
  {
   "cell_type": "markdown",
   "metadata": {},
   "source": [
    "### 1.3.1 Optional: How correlated are the transformed values with each other? Why is it important?"
   ]
  },
  {
   "cell_type": "markdown",
   "metadata": {},
   "source": [
    "In order to find the correlation in the transformes values we can use a heatmap. We expect that the vectors correlate perfect with itself, as usual, but also have no correlation to others. This is important, because would they correlate they would share some of the explained variance. By keeping them uncorrelated it is possible to cover more variance in total."
   ]
  },
  {
   "cell_type": "code",
   "execution_count": 12,
   "metadata": {},
   "outputs": [
    {
     "data": {
      "image/png": "[encoded data removed]",
      "text/plain": [
       "<Figure size 432x288 with 2 Axes>"
      ]
     },
     "metadata": {},
     "output_type": "display_data"
    }
   ],
   "source": [
    "#Heatmap for correlation of the transformed data\n",
    "hplot = sns.heatmap(dot_product)"
   ]
  },
  {
   "cell_type": "markdown",
   "metadata": {},
   "source": [
    "### 1.4: Compare the first component vector's weights with the log-foldchange vector from your differential expression analysis. Visualize them on a scatter plot, and interpret what you see.\n",
    "Remember, you computed the fold-change values by comparing expression values between CD and the HFD diets. PCA had no access to this information, and yet... Well, this is why it's such a popular data exploration technique.\n",
    "\n",
    "You can also try a scatter plot for weight vs p-values, log10-p, etc. Some of them might look familiar."
   ]
  },
  {
   "cell_type": "code",
   "execution_count": 13,
   "metadata": {},
   "outputs": [
    {
     "ename": "AttributeError",
     "evalue": "'PCA' object has no attribute 'components'",
     "output_type": "error",
     "traceback": [
      "\u001b[0;31m---------------------------------------------------------------------------\u001b[0m",
      "\u001b[0;31mAttributeError\u001b[0m                            Traceback (most recent call last)",
      "\u001b[0;32m<ipython-input-13-d38f54f03653>\u001b[0m in \u001b[0;36m<module>\u001b[0;34m()\u001b[0m\n\u001b[1;32m      4\u001b[0m \u001b[0mde_data\u001b[0m\u001b[0;34m.\u001b[0m\u001b[0mhead\u001b[0m\u001b[0;34m(\u001b[0m\u001b[0;34m)\u001b[0m\u001b[0;34m\u001b[0m\u001b[0m\n\u001b[1;32m      5\u001b[0m \u001b[0;34m\u001b[0m\u001b[0m\n\u001b[0;32m----> 6\u001b[0;31m \u001b[0mcomponents\u001b[0m \u001b[0;34m=\u001b[0m \u001b[0mpca\u001b[0m\u001b[0;34m.\u001b[0m\u001b[0mcomponents\u001b[0m\u001b[0;34m\u001b[0m\u001b[0m\n\u001b[0m",
      "\u001b[0;31mAttributeError\u001b[0m: 'PCA' object has no attribute 'components'"
     ]
    }
   ],
   "source": [
    "#Load the differential expression data set\n",
    "de_data = pd.read_csv('files/DEanalysis.csv', sep = '\\t')\n",
    "de_data = de_data.set_index(\"Gene.1\")\n",
    "de_data.head()\n",
    "\n",
    "components = pca.components"
   ]
  },
  {
   "cell_type": "code",
   "execution_count": null,
   "metadata": {},
   "outputs": [],
   "source": [
    "#Scatterplot of the first component and the fold change\n",
    "\n",
    "fig, ax = plt.subplots(figsize=(10,8))\n",
    "rplt = sns.regplot(x=components[0], y=de_data['fc'])\n",
    "plt.title('Correlation of the first component and the fold change ', fontsize= 15)\n",
    "plt.show()"
   ]
  },
  {
   "cell_type": "markdown",
   "metadata": {},
   "source": [
    "There is a strong negative correlation between the first component and the foldchange of the two diets."
   ]
  },
  {
   "cell_type": "code",
   "execution_count": null,
   "metadata": {},
   "outputs": [],
   "source": [
    "#Scatterplot of the first component and the raw p values\n",
    "\n",
    "fig, ax = plt.subplots(figsize=(10,8))\n",
    "rplt = sns.regplot(x=components[0], y=de_data['raw_p_values'])\n",
    "plt.title('Correlation of the first component and the raw_p_values ', fontsize= 15)\n",
    "plt.show()"
   ]
  },
  {
   "cell_type": "markdown",
   "metadata": {},
   "source": [
    "For comparison, there is no correlation of the first component and the uncorrected p values of the expression data. "
   ]
  },
  {
   "cell_type": "markdown",
   "metadata": {},
   "source": [
    "### 1.5: Create a scatter plot for PC1 and PC2 only, but this time connect pairs of points that come from the same strain\n",
    "\n",
    "This will involve `plt.scatter`, and a `for` loop with `plt.plot` calls.\n",
    "The pattern of the resulting lines might be quite interesting. If it is, try to explain why."
   ]
  },
  {
   "cell_type": "code",
   "execution_count": null,
   "metadata": {},
   "outputs": [],
   "source": [
    "indexes = pca_data.index.tolist()\n",
    "\n",
    "#Iterate through strain names and only look only at the strain name, which is stored in split[0]\n",
    "for sample_id, count in Counter([x.split(\"_\")[0] for x in indexes]).items():\n",
    "    \n",
    "    #Check if mouse strain name is existent with CD and HFD tag ( count == 2)\n",
    "    if count == 2:\n",
    "        \n",
    "        #Complete the name\n",
    "        s1 = sample_id + \"_Liver_CD\"\n",
    "        s2 = sample_id + \"_Liver_HFD\"\n",
    "        \n",
    "        #Combine those corresponding dots with a line\n",
    "        plt.plot([pca_data.loc[s1,0], pca_data.loc[s2,0]], [pca_data.loc[s1,1], pca_data.loc[s2,1]], color='r', alpha=0.3)\n",
    "\n",
    "\n",
    "plt.title('Scatterplot of PC1 and PC2 with connected points from pairs', fontsize= 15)\n",
    "plt.scatter(pca_data[0], pca_data[1])\n",
    "plt.show()"
   ]
  },
  {
   "cell_type": "markdown",
   "metadata": {},
   "source": [
    "## Task 2: Hierarchical clustering\n",
    "\n",
    "You had created a cluster-map before (Day 2) and remember those dendrograms on the top and left edges of the figure. They are a result of an unsupervised technique called hierarchical clustering. It iteratively merges single data points into bigger and bigger clusters based on their similarity, one at a time, until all points belong to one big cluster. Seaborn's `clustermap` does it on both axes by default, and produces a heatmap of the values as well.\n",
    "\n",
    "### 2.1 Create a clustermap\n",
    "From your first PCA component vector, take the genes with the 15 largest positive, and 15 largest negative weights, and create a smaller expression matrix with these 30 genes only. Use seaborn's `clustermap` to do a hierarchical clustering of genes and mice alike, as well as a heatmap.\n",
    "\n",
    "\n",
    "### 2.2 Display the diet at the bottom of the mice's dendrogram\n",
    "You will have to convert `is_hfd`'s values to color values first: `y` or `yellow` for 0 and `b` or `blue` for 1 should do fine."
   ]
  },
  {
   "cell_type": "code",
   "execution_count": null,
   "metadata": {},
   "outputs": [],
   "source": [
    "#Merge genenames into the pca component table\n",
    "compo_frame = pd.DataFrame.from_records(components.T, columns=['1', '2', '3','4'], index=data.columns)\n",
    "\n",
    "#Search for the 15 genes with the largest positive and the 15 genes with smallest weights and save their names in a new list\n",
    "largest = compo_frame.nlargest(15, '1')\n",
    "smallest = compo_frame.nsmallest(15, '1')\n",
    "interesting_30 = largest.index.tolist() + smallest.index.tolist()\n",
    "\n",
    "interesting_30"
   ]
  },
  {
   "cell_type": "code",
   "execution_count": null,
   "metadata": {},
   "outputs": [],
   "source": [
    "#Filter the Gene-Strain tabel after those genes to get the other data\n",
    "data_30genes = data.loc[:, interesting_30]\n",
    "\n",
    "data_30genes.head()"
   ]
  },
  {
   "cell_type": "code",
   "execution_count": null,
   "metadata": {},
   "outputs": [],
   "source": [
    "#Add is_hfd column to get a categorical column for coloring\n",
    "data_30genes['is_hfd'] = is_hfd\n",
    "\n",
    "#Replace labels with color labels\n",
    "data_30genes['is_hfd'] = data_30genes['is_hfd'].replace(True, \"b\")\n",
    "data_30genes['is_hfd'] = data_30genes['is_hfd'].replace(False, \"y\")\n",
    "\n",
    "data_30genes.head()"
   ]
  },
  {
   "cell_type": "code",
   "execution_count": null,
   "metadata": {},
   "outputs": [],
   "source": [
    "cmap = sns.clustermap(data_30genes.iloc[:,:-1], row_colors= data_30genes['is_hfd'])\n"
   ]
  },
  {
   "cell_type": "markdown",
   "metadata": {},
   "source": [
    "In the generated clustermap the clustering of CD and HFD entrys is supoptimal. Apart from two big blocks its rather unsorted. "
   ]
  },
  {
   "cell_type": "markdown",
   "metadata": {},
   "source": [
    "### 2.3 Standardize the matrix\n",
    "It is hard to see the fine differences between the gene expression levels acros mice, because the range of general expression levels across genes is much higher. To circumvent this, we usually standardize our data: for every gene, subtract the mean and divide by the standard deviation.\n",
    "\n",
    "You can do this with a pandas one-liner, or use sklearn's `StandardScaler` tool. You can simply extend the above cell with this."
   ]
  },
  {
   "cell_type": "code",
   "execution_count": null,
   "metadata": {},
   "outputs": [],
   "source": [
    "#Standardize the data in old fashion way, but ignore the 'is_hfd' column, since it's categorical. \n",
    "#We have to add it later manually again\n",
    "data_30_standardized = (data_30genes.iloc[:,:-1] - data_30genes.iloc[:,:-1].mean())/data_30genes.iloc[:,:-1].std()\n",
    "\n",
    "data_30_standardized['is_hfd'] = is_hfd\n",
    "data_30_standardized['is_hfd'] = data_30_standardized['is_hfd'].replace(True, \"b\")\n",
    "data_30_standardized['is_hfd'] = data_30_standardized['is_hfd'].replace(False, \"y\")\n",
    "data_30_standardized\n",
    "\n",
    "cmap = sns.clustermap(data_30_standardized.iloc[:,:-1], row_colors= data_30genes['is_hfd'])"
   ]
  },
  {
   "cell_type": "markdown",
   "metadata": {},
   "source": [
    "The clustermap with standarized data looks much much better. Three \"main\" cluster are distinguishable, especially when using the method 'ward' which can be seen further below.\n"
   ]
  },
  {
   "cell_type": "markdown",
   "metadata": {},
   "source": [
    "### 2.4 Try different linkage methods\n",
    "The linkage method defines how cluster similarities are defined. For example, `single` defines the distance of two clusters as the smallest distance of any two elements between them. Its opposite is `complete` which takes the largest distance of any two elements across two clusters. Middle grounds are `centroid`, `average`, and a few more. Look at how they affect the topology of the clusters. Which one seems most suitable in our case?"
   ]
  },
  {
   "cell_type": "markdown",
   "metadata": {},
   "source": [
    "The default method for the clustermap is \"single\" and we will also try out the two methods 'weighted' and 'ward', which uses the Ward variance minimization algorithm.  \n",
    "Acutally, there is just little difference if you use the standarized data between the difference linkage methods."
   ]
  },
  {
   "cell_type": "code",
   "execution_count": null,
   "metadata": {},
   "outputs": [],
   "source": [
    "cmap = sns.clustermap(data_30_standardized.iloc[:,:-1], row_colors= data_30genes['is_hfd'], method=\"weighted\")"
   ]
  },
  {
   "cell_type": "code",
   "execution_count": null,
   "metadata": {
    "scrolled": true
   },
   "outputs": [],
   "source": [
    "sns.clustermap(data_30_standardized.iloc[:,:-1], row_colors= data_30genes['is_hfd'], method=\"ward\")"
   ]
  },
  {
   "cell_type": "markdown",
   "metadata": {},
   "source": [
    "## Task 3: K-means clustering\n",
    "\n",
    "K-means clustering attempts to create `k` virtual samples, whose average distance to the nearest actual samples is as small as possible. These `k` virtual samples are called cluster centers/prototypes or centroids. Each sample is assigned to the nearest centroid, therefore partitioning the samples to k clusters.\n",
    "\n",
    "### 3.1 Perform k-means clustering on the expression dataset. What k should you choose?"
   ]
  },
  {
   "cell_type": "code",
   "execution_count": null,
   "metadata": {},
   "outputs": [],
   "source": [
    "from sklearn.cluster import KMeans\n",
    "kmeans = KMeans(n_clusters=2).fit(data)"
   ]
  },
  {
   "cell_type": "code",
   "execution_count": null,
   "metadata": {},
   "outputs": [],
   "source": [
    "#The input data labeled with the according cluster\n",
    "kmeans.labels_"
   ]
  },
  {
   "cell_type": "code",
   "execution_count": null,
   "metadata": {},
   "outputs": [],
   "source": [
    "#The two cluster center\n",
    "kmeans.cluster_centers_"
   ]
  },
  {
   "cell_type": "markdown",
   "metadata": {},
   "source": [
    "I think k = 2 is reasonable choice since we ware expecting one cluster for the HFD data and one for the CD data."
   ]
  },
  {
   "cell_type": "markdown",
   "metadata": {},
   "source": [
    "### 3.2 Compare the resulting clusters with the diet labels"
   ]
  },
  {
   "cell_type": "markdown",
   "metadata": {},
   "source": [
    "The comparing can be done by comparing the 'is_hfd' column entry with the assigned cluster. This task can be performed by either using our eyes since the human brain is incredibly and unbeatable good at pattern recognition; or by an cross table. "
   ]
  },
  {
   "cell_type": "code",
   "execution_count": null,
   "metadata": {},
   "outputs": [],
   "source": [
    "kmeans_res = pd.DataFrame(kmeans.labels_, index=is_hfd.index)\n",
    "\n",
    "results_kmeans = pd.concat([is_hfd, kmeans_res], axis=1)\n",
    "results_kmeans.columns = ['is_hfd', 'cluster']\n",
    "results_kmeans"
   ]
  },
  {
   "cell_type": "markdown",
   "metadata": {},
   "source": [
    "If we compare the resulting cluster assignment with two clusters with the diet labels, it is easy to see that the kmeans algorithm separates the mice strains accordingly to the diet."
   ]
  },
  {
   "cell_type": "code",
   "execution_count": null,
   "metadata": {},
   "outputs": [],
   "source": [
    "count_table = pd.crosstab(results_kmeans.iloc[:,0]==True, results_kmeans.iloc[:,1]==1)\n",
    "count_table"
   ]
  },
  {
   "cell_type": "markdown",
   "metadata": {},
   "source": [
    "Using a crosstable the results get even clearer. Only two datapoints were not assigned the \"right\" diet cluster. Maybe if the kmeans algorithm is rerun the results will be slighty different."
   ]
  },
  {
   "cell_type": "markdown",
   "metadata": {},
   "source": [
    "### 3.3 Optional: with k=2, take the centroids, and transform them with the same PCA that you had trained earlier. Mark them on the PC1 vs PC2 plot."
   ]
  },
  {
   "cell_type": "code",
   "execution_count": null,
   "metadata": {},
   "outputs": [],
   "source": [
    "pca_kmeans = pca.fit_transform(kmeans.cluster_centers_)\n",
    "pca_kmeans_data =  pd.DataFrame(pca_kmeans, index = None)\n",
    "pca_kmeans_data"
   ]
  },
  {
   "cell_type": "code",
   "execution_count": null,
   "metadata": {},
   "outputs": [],
   "source": [
    "#Plot the two centroids as red dots in the PCA1/PCA2 regression-plot\n",
    "\n",
    "plt.title('Scatterplot of PC1 and PC2 with two possible cluster centroids as red dots', fontsize= 15)\n",
    "\n",
    "rplot = sns.regplot(x = pca_data[0], y = pca_data[1], fit_reg = False)\n",
    "plt.scatter(pca_kmeans_data[0][0], pca_kmeans_data[0][1], color=\"red\");\n",
    "plt.scatter(pca_kmeans_data[1][0], pca_kmeans_data[1][1], color=\"red\");"
   ]
  },
  {
   "cell_type": "markdown",
   "metadata": {},
   "source": [
    "It is fun to see that everytime the clusters are computed they are located at slighty different positions. Sometimes one can seem a little bit off, but still it is clearly visible that there is one centroid for the HFD and one for the CD data."
   ]
  },
  {
   "cell_type": "markdown",
   "metadata": {},
   "source": [
    "### 3.4 Train a 2-means clustering on every second sample and predict on the other half of the samples\n",
    "Since our CD and HFD samples come in two big batches, you can just use `::2` and `1::2` to split them. What do you find?"
   ]
  },
  {
   "cell_type": "code",
   "execution_count": null,
   "metadata": {},
   "outputs": [],
   "source": [
    "trainingdata = data[::2]\n",
    "testdata = data[1::2]\n",
    "\n",
    "kmeans_task2 = KMeans(n_clusters=2).fit(trainingdata)\n",
    "kmeans_task2.labels_"
   ]
  },
  {
   "cell_type": "code",
   "execution_count": null,
   "metadata": {},
   "outputs": [],
   "source": [
    "kmeans_task2.predict(testdata)"
   ]
  },
  {
   "cell_type": "markdown",
   "metadata": {},
   "source": [
    "What we find is further proove for the mighty power of kmeans. \n",
    "Since we split the data evenly by two, in each, the training and the test data, the first half should be cluster 0, the second half cluster 1."
   ]
  }
 ],
 "metadata": {
  "kernelspec": {
   "display_name": "Python 3",
   "language": "python",
   "name": "python3"
  },
  "language_info": {
   "codemirror_mode": {
    "name": "ipython",
    "version": 3
   },
   "file_extension": ".py",
   "mimetype": "text/x-python",
   "name": "python",
   "nbconvert_exporter": "python",
   "pygments_lexer": "ipython3",
   "version": "3.6.5"
  }
 },
 "nbformat": 4,
 "nbformat_minor": 2
}
